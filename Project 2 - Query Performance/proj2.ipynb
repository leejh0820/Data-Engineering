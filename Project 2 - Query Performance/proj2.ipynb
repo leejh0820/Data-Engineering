{
 "cells": [
  {
   "cell_type": "code",
   "execution_count": 1,
   "metadata": {
    "deletable": false,
    "editable": false
   },
   "outputs": [],
   "source": [
    "# Initialize Otter\n",
    "import otter\n",
    "grader = otter.Notebook(\"proj2.ipynb\")"
   ]
  },
  {
   "cell_type": "markdown",
   "metadata": {},
   "source": [
    "# Project 2: Query Performance\n",
    "## Due Date: Thursday, October 5th, 5:00 PM\n",
    "\n",
    "## Assignment Details\n",
    "In this project, we will explore how the database system optimizes query execution and how users can futher tune the performance of their queries.\n",
    "\n",
    "This project works with the Lahman's Baseball Database, an open source collection of baseball statistics from 1871 to 2020. It contains a variety of data, like batting statistics, team stats, managerial records, Hall of Fame records, and much more.\n",
    "\n",
    "You may find this project's queries to be simpler than in Project 1. However, although the queries may not be as complex, we still expect you to spend ample time thinking through the effects of each of the methods, as reasoning about the tradeoff between different approaches is the goal of this assignment.\n",
    "\n",
    "**Note:** If at any point during the project, the internal state of the database or its tables have been modified in an undesirable way (i.e. a modification not resulting from the instructions of a question), restart your kernel and clear output and simply re-run the notebook as normal. This will shutdown you current connection to the database, which will prevent the issue of multiple connections to the database at any given point, and when re-running the notebook you will create a fresh database based on the provided Postgres dump.\n",
    "\n",
    "## Logistics & Scoring Breakdown\n",
    "\n",
    "- Each coding question has **both public tests and hidden tests**. Roughly 50% of your coding grade will be made up of your score on the public tests released to you, while the remaining 50% will be made up of unreleased hidden tests.\n",
    "- Public tests for multiple choice questions are for sanity check only (e.g. you are answering in the correct format). Partial credit will be awarded.\n",
    "- Free-response questions will be manually graded. Please answer thoughtfully and concisely in complete sentences, drawing from knowledge in lectures and from your inspection of query plans.\n",
    "\n",
    "This is an **individual project**. However, you’re welcome to collaborate with any other student in the class as long as it’s within the academic honesty guidelines.\n",
    "\n",
    "\n",
    "| Question    | 0 | 1 | 2              | 3    | 4    | 5              | 6              | 7    | 8              | 9        | 10        |\n",
    "| ----------- | - | - | -------------- | ---- | ---- | -------------- | -------------- | ---- | -------------- | -------- | --------- |\n",
    "| No Subparts | 1 |   |                |      |      |                |                |      |                |          | 6         |\n",
    "| a           |   | 1 | 1              | 1    | 1    | 2              | 2              | 2    | 1              | 1        |           |\n",
    "| b           |   | 3 | 3              | 1    | 1    | 1              | 2              | 1    | 1              | 1        |           |\n",
    "| c           |   |   | 1              | m: 2 | 1    | 1              | 1              | m: 3 | 1              | 2 (m: 2) |           |\n",
    "| d           |   |   | 4 (m: 2, a: 2) | m: 2 | m: 3 | 4 (m: 2, a: 2) | 1              |      | 4 (m: 2, a: 2) |          |           |\n",
    "| e           |   |   |                |      |      |                | 4 (m: 2, a: 2) |      |                |          |           |\n",
    "| **Total**       | 1 | 4 | 9              | 6    | 6    | 8              | 10             | 6    | 7              | 4        | manual: 6 |\n",
    "\n",
    "\n",
    "**Grand Total:** 67 points (manual: 26, autograded: 41)"
   ]
  },
  {
   "cell_type": "code",
   "execution_count": 2,
   "metadata": {},
   "outputs": [],
   "source": [
    "# Run this cell to set up imports\n",
    "import numpy as np\n",
    "import pandas as pd"
   ]
  },
  {
   "cell_type": "markdown",
   "metadata": {},
   "source": [
    "## Getting Connected\n",
    "Similar to Project 1, we will be using the `JupySQL` library to connect this notebook to a PostgreSQL database server on your JupyterHub account. Run the following cell to initiate the connection."
   ]
  },
  {
   "cell_type": "code",
   "execution_count": 3,
   "metadata": {},
   "outputs": [],
   "source": [
    "%reload_ext sql\n",
    "%sql postgresql://jovyan@127.0.0.1:5432/postgres"
   ]
  },
  {
   "cell_type": "code",
   "execution_count": 4,
   "metadata": {},
   "outputs": [
    {
     "data": {
      "text/html": [
       "<span style=\"None\">displaylimit: Value None will be treated as 0 (no limit)</span>"
      ],
      "text/plain": [
       "displaylimit: Value None will be treated as 0 (no limit)"
      ]
     },
     "metadata": {},
     "output_type": "display_data"
    }
   ],
   "source": [
    "# See full display\n",
    "%config SqlMagic.displaylimit = None"
   ]
  },
  {
   "cell_type": "markdown",
   "metadata": {},
   "source": [
    "## Setting up the Database\n",
    "The following cell will create the `baseball` database (if needed), unzip the Postgres dump of the Lahman's Baseball Database, populate the `baseball` database with the desired tables and data, and finally display all databases associated with the Postgres instance. After running the cell, you should see the `baseball` database in the generated list of databases outputted by `%sql \\l`.\n",
    "\n",
    "**Note:** If you run into the **role does not exist**/**database does not exist** error the first time you run this cell, feel free to ignore it. It does not affect data import."
   ]
  },
  {
   "cell_type": "code",
   "execution_count": 5,
   "metadata": {},
   "outputs": [
    {
     "name": "stdout",
     "output_type": "stream",
     "text": [
      "Archive:  data/baseball.zip\n"
     ]
    }
   ],
   "source": [
    "!unzip -u data/baseball.zip -d data/"
   ]
  },
  {
   "cell_type": "code",
   "execution_count": 6,
   "metadata": {
    "scrolled": true
   },
   "outputs": [
    {
     "name": "stdout",
     "output_type": "stream",
     "text": [
      " pg_terminate_backend \n",
      "----------------------\n",
      "(0 rows)\n",
      "\n",
      "DROP DATABASE\n",
      "CREATE DATABASE\n",
      "SET\n",
      "SET\n",
      "SET\n",
      "SET\n",
      "SET\n",
      " set_config \n",
      "------------\n",
      " \n",
      "(1 row)\n",
      "\n",
      "SET\n",
      "SET\n",
      "SET\n",
      "SET\n",
      "SET\n",
      "SET\n",
      "CREATE TABLE\n",
      "ALTER TABLE\n",
      "CREATE TABLE\n",
      "ALTER TABLE\n",
      "CREATE TABLE\n",
      "ALTER TABLE\n",
      "CREATE TABLE\n",
      "ALTER TABLE\n",
      "CREATE TABLE\n",
      "ALTER TABLE\n",
      "CREATE TABLE\n",
      "ALTER TABLE\n",
      "CREATE TABLE\n",
      "ALTER TABLE\n",
      "CREATE TABLE\n",
      "ALTER TABLE\n",
      "CREATE TABLE\n",
      "ALTER TABLE\n",
      "CREATE TABLE\n",
      "ALTER TABLE\n",
      "CREATE TABLE\n",
      "ALTER TABLE\n",
      "CREATE TABLE\n",
      "ALTER TABLE\n",
      "CREATE TABLE\n",
      "ALTER TABLE\n",
      "CREATE TABLE\n",
      "ALTER TABLE\n",
      "CREATE TABLE\n",
      "ALTER TABLE\n",
      "CREATE TABLE\n",
      "ALTER TABLE\n",
      "CREATE TABLE\n",
      "ALTER TABLE\n",
      "CREATE TABLE\n",
      "ALTER TABLE\n",
      "CREATE TABLE\n",
      "ALTER TABLE\n",
      "CREATE TABLE\n",
      "ALTER TABLE\n",
      "CREATE TABLE\n",
      "ALTER TABLE\n",
      "CREATE TABLE\n",
      "ALTER TABLE\n",
      "CREATE TABLE\n",
      "ALTER TABLE\n",
      "CREATE TABLE\n",
      "ALTER TABLE\n",
      "CREATE TABLE\n",
      "ALTER TABLE\n",
      "CREATE TABLE\n",
      "ALTER TABLE\n",
      "CREATE TABLE\n",
      "ALTER TABLE\n",
      "COPY 5219\n",
      "COPY 104256\n",
      "COPY 179\n",
      "COPY 6236\n",
      "COPY 425\n",
      "COPY 6879\n",
      "COPY 104324\n",
      "COPY 13943\n",
      "COPY 17350\n",
      "COPY 138838\n",
      "COPY 12028\n",
      "COPY 31955\n",
      "COPY 13110\n",
      "COPY 4191\n",
      "COPY 3040\n",
      "COPY 3469\n",
      "COPY 93\n",
      "COPY 252\n",
      "COPY 19370\n",
      "COPY 45806\n",
      "COPY 5445\n",
      "COPY 26428\n",
      "COPY 1207\n",
      "COPY 325\n",
      "COPY 2865\n",
      "COPY 120\n",
      "COPY 52\n",
      "ALTER TABLE\n",
      "ALTER TABLE\n",
      "ALTER TABLE\n",
      "ALTER TABLE\n",
      "ALTER TABLE\n",
      "ALTER TABLE\n",
      "ALTER TABLE\n",
      "ALTER TABLE\n",
      "ALTER TABLE\n",
      "ALTER TABLE\n",
      "ALTER TABLE\n",
      "ALTER TABLE\n",
      "ALTER TABLE\n",
      "ALTER TABLE\n",
      "ALTER TABLE\n",
      "ALTER TABLE\n",
      "ALTER TABLE\n",
      "ALTER TABLE\n",
      "ALTER TABLE\n",
      "ALTER TABLE\n",
      "ALTER TABLE\n",
      "ALTER TABLE\n",
      "ALTER TABLE\n",
      "ALTER TABLE\n",
      "ALTER TABLE\n",
      "ALTER TABLE\n",
      "SET\n"
     ]
    },
    {
     "data": {
      "text/html": [
       "<span style=\"None\">Running query in &#x27;postgresql://jovyan@127.0.0.1:5432/postgres&#x27;</span>"
      ],
      "text/plain": [
       "Running query in 'postgresql://jovyan@127.0.0.1:5432/postgres'"
      ]
     },
     "metadata": {},
     "output_type": "display_data"
    },
    {
     "data": {
      "text/html": [
       "<table>\n",
       "    <thead>\n",
       "        <tr>\n",
       "            <th>Name</th>\n",
       "            <th>Owner</th>\n",
       "            <th>Encoding</th>\n",
       "            <th>Collate</th>\n",
       "            <th>Ctype</th>\n",
       "            <th>Access privileges</th>\n",
       "        </tr>\n",
       "    </thead>\n",
       "    <tbody>\n",
       "        <tr>\n",
       "            <td>baseball</td>\n",
       "            <td>jovyan</td>\n",
       "            <td>UTF8</td>\n",
       "            <td>en_US.utf8</td>\n",
       "            <td>en_US.utf8</td>\n",
       "            <td>None</td>\n",
       "        </tr>\n",
       "        <tr>\n",
       "            <td>imdb</td>\n",
       "            <td>jovyan</td>\n",
       "            <td>UTF8</td>\n",
       "            <td>en_US.utf8</td>\n",
       "            <td>en_US.utf8</td>\n",
       "            <td>None</td>\n",
       "        </tr>\n",
       "        <tr>\n",
       "            <td>imdb_lecture</td>\n",
       "            <td>jovyan</td>\n",
       "            <td>UTF8</td>\n",
       "            <td>en_US.utf8</td>\n",
       "            <td>en_US.utf8</td>\n",
       "            <td>None</td>\n",
       "        </tr>\n",
       "        <tr>\n",
       "            <td>jovyan</td>\n",
       "            <td>jovyan</td>\n",
       "            <td>UTF8</td>\n",
       "            <td>en_US.utf8</td>\n",
       "            <td>en_US.utf8</td>\n",
       "            <td>None</td>\n",
       "        </tr>\n",
       "        <tr>\n",
       "            <td>postgres</td>\n",
       "            <td>jovyan</td>\n",
       "            <td>UTF8</td>\n",
       "            <td>en_US.utf8</td>\n",
       "            <td>en_US.utf8</td>\n",
       "            <td>None</td>\n",
       "        </tr>\n",
       "        <tr>\n",
       "            <td>template0</td>\n",
       "            <td>jovyan</td>\n",
       "            <td>UTF8</td>\n",
       "            <td>en_US.utf8</td>\n",
       "            <td>en_US.utf8</td>\n",
       "            <td>=c/jovyan<br>jovyan=CTc/jovyan</td>\n",
       "        </tr>\n",
       "        <tr>\n",
       "            <td>template1</td>\n",
       "            <td>jovyan</td>\n",
       "            <td>UTF8</td>\n",
       "            <td>en_US.utf8</td>\n",
       "            <td>en_US.utf8</td>\n",
       "            <td>=c/jovyan<br>jovyan=CTc/jovyan</td>\n",
       "        </tr>\n",
       "    </tbody>\n",
       "</table>"
      ],
      "text/plain": [
       "+--------------+--------+----------+------------+------------+-------------------+\n",
       "|     Name     | Owner  | Encoding |  Collate   |   Ctype    | Access privileges |\n",
       "+--------------+--------+----------+------------+------------+-------------------+\n",
       "|   baseball   | jovyan |   UTF8   | en_US.utf8 | en_US.utf8 |        None       |\n",
       "|     imdb     | jovyan |   UTF8   | en_US.utf8 | en_US.utf8 |        None       |\n",
       "| imdb_lecture | jovyan |   UTF8   | en_US.utf8 | en_US.utf8 |        None       |\n",
       "|    jovyan    | jovyan |   UTF8   | en_US.utf8 | en_US.utf8 |        None       |\n",
       "|   postgres   | jovyan |   UTF8   | en_US.utf8 | en_US.utf8 |        None       |\n",
       "|  template0   | jovyan |   UTF8   | en_US.utf8 | en_US.utf8 |     =c/jovyan     |\n",
       "|              |        |          |            |            | jovyan=CTc/jovyan |\n",
       "|  template1   | jovyan |   UTF8   | en_US.utf8 | en_US.utf8 |     =c/jovyan     |\n",
       "|              |        |          |            |            | jovyan=CTc/jovyan |\n",
       "+--------------+--------+----------+------------+------------+-------------------+"
      ]
     },
     "execution_count": 6,
     "metadata": {},
     "output_type": "execute_result"
    }
   ],
   "source": [
    "!psql postgresql://jovyan@127.0.0.1:5432/baseball -c 'SELECT pg_terminate_backend(pg_stat_activity.pid) FROM pg_stat_activity WHERE datname = current_database()  AND pid <> pg_backend_pid();'\n",
    "!psql -h localhost -c 'DROP DATABASE IF EXISTS baseball'\n",
    "!psql -h localhost -c 'CREATE DATABASE baseball'\n",
    "!psql -h localhost -d baseball -f data/baseball.sql\n",
    "!psql -h localhost -c 'SET max_parallel_workers_per_gather = 0;'\n",
    "%sql \\l"
   ]
  },
  {
   "cell_type": "markdown",
   "metadata": {},
   "source": [
    "Now, run the following cell to connect to the `baseball` database. There should be no errors after running the following cell."
   ]
  },
  {
   "cell_type": "code",
   "execution_count": 7,
   "metadata": {},
   "outputs": [
    {
     "data": {
      "text/html": [
       "<span style=\"None\">Connecting and switching to connection postgresql://jovyan@127.0.0.1:5432/baseball</span>"
      ],
      "text/plain": [
       "Connecting and switching to connection postgresql://jovyan@127.0.0.1:5432/baseball"
      ]
     },
     "metadata": {},
     "output_type": "display_data"
    }
   ],
   "source": [
    "%sql postgresql://jovyan@127.0.0.1:5432/baseball"
   ]
  },
  {
   "cell_type": "markdown",
   "metadata": {},
   "source": [
    "To ensure that the connection to the database has been established, let's try grabbing the first 5 rows from the `halloffame` table."
   ]
  },
  {
   "cell_type": "code",
   "execution_count": 8,
   "metadata": {},
   "outputs": [
    {
     "data": {
      "text/html": [
       "<span style=\"None\">Running query in &#x27;postgresql://jovyan@127.0.0.1:5432/baseball&#x27;</span>"
      ],
      "text/plain": [
       "Running query in 'postgresql://jovyan@127.0.0.1:5432/baseball'"
      ]
     },
     "metadata": {},
     "output_type": "display_data"
    },
    {
     "data": {
      "text/html": [
       "<span style=\"color: green\">5 rows affected.</span>"
      ],
      "text/plain": [
       "5 rows affected."
      ]
     },
     "metadata": {},
     "output_type": "display_data"
    },
    {
     "data": {
      "text/html": [
       "<table>\n",
       "    <thead>\n",
       "        <tr>\n",
       "            <th>playerid</th>\n",
       "            <th>yearid</th>\n",
       "            <th>votedby</th>\n",
       "            <th>ballots</th>\n",
       "            <th>needed</th>\n",
       "            <th>votes</th>\n",
       "            <th>inducted</th>\n",
       "            <th>category</th>\n",
       "            <th>needed_note</th>\n",
       "        </tr>\n",
       "    </thead>\n",
       "    <tbody>\n",
       "        <tr>\n",
       "            <td>cobbty01</td>\n",
       "            <td>1936</td>\n",
       "            <td>BBWAA</td>\n",
       "            <td>226</td>\n",
       "            <td>170</td>\n",
       "            <td>222</td>\n",
       "            <td>Y</td>\n",
       "            <td>Player</td>\n",
       "            <td>None</td>\n",
       "        </tr>\n",
       "        <tr>\n",
       "            <td>ruthba01</td>\n",
       "            <td>1936</td>\n",
       "            <td>BBWAA</td>\n",
       "            <td>226</td>\n",
       "            <td>170</td>\n",
       "            <td>215</td>\n",
       "            <td>Y</td>\n",
       "            <td>Player</td>\n",
       "            <td>None</td>\n",
       "        </tr>\n",
       "        <tr>\n",
       "            <td>wagneho01</td>\n",
       "            <td>1936</td>\n",
       "            <td>BBWAA</td>\n",
       "            <td>226</td>\n",
       "            <td>170</td>\n",
       "            <td>215</td>\n",
       "            <td>Y</td>\n",
       "            <td>Player</td>\n",
       "            <td>None</td>\n",
       "        </tr>\n",
       "        <tr>\n",
       "            <td>mathech01</td>\n",
       "            <td>1936</td>\n",
       "            <td>BBWAA</td>\n",
       "            <td>226</td>\n",
       "            <td>170</td>\n",
       "            <td>205</td>\n",
       "            <td>Y</td>\n",
       "            <td>Player</td>\n",
       "            <td>None</td>\n",
       "        </tr>\n",
       "        <tr>\n",
       "            <td>johnswa01</td>\n",
       "            <td>1936</td>\n",
       "            <td>BBWAA</td>\n",
       "            <td>226</td>\n",
       "            <td>170</td>\n",
       "            <td>189</td>\n",
       "            <td>Y</td>\n",
       "            <td>Player</td>\n",
       "            <td>None</td>\n",
       "        </tr>\n",
       "    </tbody>\n",
       "</table>"
      ],
      "text/plain": [
       "+-----------+--------+---------+---------+--------+-------+----------+----------+-------------+\n",
       "|  playerid | yearid | votedby | ballots | needed | votes | inducted | category | needed_note |\n",
       "+-----------+--------+---------+---------+--------+-------+----------+----------+-------------+\n",
       "|  cobbty01 |  1936  |  BBWAA  |   226   |  170   |  222  |    Y     |  Player  |     None    |\n",
       "|  ruthba01 |  1936  |  BBWAA  |   226   |  170   |  215  |    Y     |  Player  |     None    |\n",
       "| wagneho01 |  1936  |  BBWAA  |   226   |  170   |  215  |    Y     |  Player  |     None    |\n",
       "| mathech01 |  1936  |  BBWAA  |   226   |  170   |  205  |    Y     |  Player  |     None    |\n",
       "| johnswa01 |  1936  |  BBWAA  |   226   |  170   |  189  |    Y     |  Player  |     None    |\n",
       "+-----------+--------+---------+---------+--------+-------+----------+----------+-------------+"
      ]
     },
     "execution_count": 8,
     "metadata": {},
     "output_type": "execute_result"
    }
   ],
   "source": [
    "%%sql\n",
    "SELECT * FROM halloffame LIMIT 5"
   ]
  },
  {
   "cell_type": "markdown",
   "metadata": {},
   "source": [
    "## Connect to the grader"
   ]
  },
  {
   "cell_type": "markdown",
   "metadata": {},
   "source": [
    "Run the following cell for grading purposes."
   ]
  },
  {
   "cell_type": "code",
   "execution_count": 9,
   "metadata": {},
   "outputs": [],
   "source": [
    "# Just run the following cell, no further action is needed.\n",
    "from data101_utils import GradingUtil\n",
    "grading_util = GradingUtil(\"proj2\")\n",
    "grading_util.prepare_autograder()"
   ]
  },
  {
   "cell_type": "markdown",
   "metadata": {},
   "source": [
    "<hr style=\"border: 5px solid #003262;\" />\n",
    "<hr style=\"border: 1px solid #fdb515;\" />\n"
   ]
  },
  {
   "cell_type": "markdown",
   "metadata": {},
   "source": [
    "## Table Descriptions\n",
    "In its entirety the Lahman's Baseball Database contains 27 tables containing a variety of statistics for players, teams, games, schools, etc. For simplicity, this project will focus on a subset of the tables:\n",
    "* `appearances`: details on the positions each player appeared at\n",
    "* `batting`: batting statistics for each player\n",
    "* `collegeplaying`: list of players and the colleges they attended\n",
    "* `halloffame`: Hall of Fame voting data\n",
    "* `people`: player information (name, date of birth, and biographical info)\n",
    "* `salaries`: player salary data\n",
    "* `schools`: list of colleges that players attended\n",
    "\n",
    "As a reminder from Project 1, `%sql \\d <table_name>` is helpful for identifying the columns in a table."
   ]
  },
  {
   "cell_type": "markdown",
   "metadata": {},
   "source": [
    "<br><br>\n",
    "<hr style=\"border: 5px solid #003262;\" />\n",
    "<hr style=\"border: 1px solid #fdb515;\" />"
   ]
  },
  {
   "cell_type": "markdown",
   "metadata": {
    "deletable": false,
    "editable": false
   },
   "source": [
    "## Question 0: PostgreSQL Explain Analyze\n",
    "**Please read through this section carefully, as a vast majority of the project will require you to inspect query plans via interpreting the output of the explain analyze command.**\n",
    "\n",
    "To inspect the query plan for a given query, create a variable storing the query as a string and invoke a `psql` shell command to `explain analyze` the query: \n",
    "\n",
    "`your_query_str = \"__REPLACE_ME_WITH_QUERY__\"`\n",
    "\n",
    "`!psql -h localhost -d baseball -c \"explain analyze $your_query_str\"`\n",
    "\n",
    "Take a look at the following sample query plan.\n",
    "\n",
    "![title](data/sample_query.png)\n",
    "\n",
    "It is highly recommended to read through [this article](https://www.cybertec-postgresql.com/en/how-to-interpret-postgresql-explain-analyze-output/) and the postgreSQL [documentation 14.1.2](https://www.postgresql.org/docs/current/using-explain.html#USING-EXPLAIN-ANALYZE) to see how you can interpret the output above. Everything before \"Tools to interpret Explain Analyze output\" is useful.\n",
    "\n",
    "\n",
    "<div class=\"alert alert-block alert-info\">\n",
    "Here are some key things to note for all question parts:\n",
    "<ul>\n",
    "<li>When we ask you to identify the <b>query cost</b>, we are looking for the <b>total cost</b>.</li>\n",
    "    <ul>\n",
    "    <li>There are two cost values: the first is the <b>startup cost</b> (cost to return the first row) and the second is the <b>total cost</b> (cost to return all rows).</li>\n",
    "    <li>The unit for the estimated query cost is an arbitrary estimation of disk I/O (1 is the cost for reading an 8kB page during a sequential scan).</li>\n",
    "        <li>Feel free to round the query cost / time to the nearest integer, but we'll accept anything more exact.</li>\n",
    "    </ul>\n",
    "<li>When we ask you to identify the <b>query time</b>, we are looking for the <b>execution time</b> (in ms).</li>\n",
    "    <ul>\n",
    "        <li>We recognize that the execution time may vary between different cell executions, so the autograder will tolerate a reasonable range.</li>\n",
    "    </ul>\n",
    "</ul>\n",
    "</div>\n",
    "\n",
    "Now, inspect the query plan above by following the below steps:\n",
    "\n",
    "1. Manually copy the entire query command (i.e., `SELECT ... `) from the screenshot into the cell below."
   ]
  },
  {
   "cell_type": "markdown",
   "metadata": {},
   "source": [
    "_Type your answer here, replacing this text._"
   ]
  },
  {
   "cell_type": "code",
   "execution_count": 10,
   "metadata": {
    "tags": []
   },
   "outputs": [
    {
     "data": {
      "text/html": [
       "<span style=\"None\">Running query in &#x27;postgresql://jovyan@127.0.0.1:5432/baseball&#x27;</span>"
      ],
      "text/plain": [
       "Running query in 'postgresql://jovyan@127.0.0.1:5432/baseball'"
      ]
     },
     "metadata": {},
     "output_type": "display_data"
    },
    {
     "data": {
      "text/html": [
       "<span style=\"color: green\">17350 rows affected.</span>"
      ],
      "text/plain": [
       "17350 rows affected."
      ]
     },
     "metadata": {},
     "output_type": "display_data"
    }
   ],
   "source": [
    "%%sql --save query_0 result_0 <<\n",
    "SELECT * FROM people AS p INNER JOIN collegeplaying AS cp ON p.playerid = cp.playerid"
   ]
  },
  {
   "cell_type": "code",
   "execution_count": 11,
   "metadata": {
    "tags": []
   },
   "outputs": [
    {
     "data": {
      "text/html": [
       "<div>\n",
       "<style scoped>\n",
       "    .dataframe tbody tr th:only-of-type {\n",
       "        vertical-align: middle;\n",
       "    }\n",
       "\n",
       "    .dataframe tbody tr th {\n",
       "        vertical-align: top;\n",
       "    }\n",
       "\n",
       "    .dataframe thead th {\n",
       "        text-align: right;\n",
       "    }\n",
       "</style>\n",
       "<table border=\"1\" class=\"dataframe\">\n",
       "  <thead>\n",
       "    <tr style=\"text-align: right;\">\n",
       "      <th></th>\n",
       "      <th>playerid</th>\n",
       "      <th>birthyear</th>\n",
       "      <th>birthmonth</th>\n",
       "      <th>birthday</th>\n",
       "      <th>birthcountry</th>\n",
       "      <th>birthstate</th>\n",
       "      <th>birthcity</th>\n",
       "      <th>deathyear</th>\n",
       "      <th>deathmonth</th>\n",
       "      <th>deathday</th>\n",
       "      <th>...</th>\n",
       "      <th>height</th>\n",
       "      <th>bats</th>\n",
       "      <th>throws</th>\n",
       "      <th>debut</th>\n",
       "      <th>finalgame</th>\n",
       "      <th>retroid</th>\n",
       "      <th>bbrefid</th>\n",
       "      <th>playerid</th>\n",
       "      <th>schoolid</th>\n",
       "      <th>yearid</th>\n",
       "    </tr>\n",
       "  </thead>\n",
       "  <tbody>\n",
       "    <tr>\n",
       "      <th>0</th>\n",
       "      <td>aardsda01</td>\n",
       "      <td>1981</td>\n",
       "      <td>12.0</td>\n",
       "      <td>27.0</td>\n",
       "      <td>USA</td>\n",
       "      <td>CO</td>\n",
       "      <td>Denver</td>\n",
       "      <td>NaN</td>\n",
       "      <td>NaN</td>\n",
       "      <td>NaN</td>\n",
       "      <td>...</td>\n",
       "      <td>75.0</td>\n",
       "      <td>R</td>\n",
       "      <td>R</td>\n",
       "      <td>2004-04-06</td>\n",
       "      <td>2015-08-23</td>\n",
       "      <td>aardd001</td>\n",
       "      <td>aardsda01</td>\n",
       "      <td>aardsda01</td>\n",
       "      <td>pennst</td>\n",
       "      <td>2001</td>\n",
       "    </tr>\n",
       "    <tr>\n",
       "      <th>1</th>\n",
       "      <td>aardsda01</td>\n",
       "      <td>1981</td>\n",
       "      <td>12.0</td>\n",
       "      <td>27.0</td>\n",
       "      <td>USA</td>\n",
       "      <td>CO</td>\n",
       "      <td>Denver</td>\n",
       "      <td>NaN</td>\n",
       "      <td>NaN</td>\n",
       "      <td>NaN</td>\n",
       "      <td>...</td>\n",
       "      <td>75.0</td>\n",
       "      <td>R</td>\n",
       "      <td>R</td>\n",
       "      <td>2004-04-06</td>\n",
       "      <td>2015-08-23</td>\n",
       "      <td>aardd001</td>\n",
       "      <td>aardsda01</td>\n",
       "      <td>aardsda01</td>\n",
       "      <td>rice</td>\n",
       "      <td>2002</td>\n",
       "    </tr>\n",
       "    <tr>\n",
       "      <th>2</th>\n",
       "      <td>aardsda01</td>\n",
       "      <td>1981</td>\n",
       "      <td>12.0</td>\n",
       "      <td>27.0</td>\n",
       "      <td>USA</td>\n",
       "      <td>CO</td>\n",
       "      <td>Denver</td>\n",
       "      <td>NaN</td>\n",
       "      <td>NaN</td>\n",
       "      <td>NaN</td>\n",
       "      <td>...</td>\n",
       "      <td>75.0</td>\n",
       "      <td>R</td>\n",
       "      <td>R</td>\n",
       "      <td>2004-04-06</td>\n",
       "      <td>2015-08-23</td>\n",
       "      <td>aardd001</td>\n",
       "      <td>aardsda01</td>\n",
       "      <td>aardsda01</td>\n",
       "      <td>rice</td>\n",
       "      <td>2003</td>\n",
       "    </tr>\n",
       "  </tbody>\n",
       "</table>\n",
       "<p>3 rows × 27 columns</p>\n",
       "</div>"
      ],
      "text/plain": [
       "    playerid  birthyear  birthmonth  birthday birthcountry birthstate  \\\n",
       "0  aardsda01       1981        12.0      27.0          USA         CO   \n",
       "1  aardsda01       1981        12.0      27.0          USA         CO   \n",
       "2  aardsda01       1981        12.0      27.0          USA         CO   \n",
       "\n",
       "  birthcity  deathyear  deathmonth  deathday  ... height bats throws  \\\n",
       "0    Denver        NaN         NaN       NaN  ...   75.0    R      R   \n",
       "1    Denver        NaN         NaN       NaN  ...   75.0    R      R   \n",
       "2    Denver        NaN         NaN       NaN  ...   75.0    R      R   \n",
       "\n",
       "        debut   finalgame   retroid    bbrefid   playerid schoolid yearid  \n",
       "0  2004-04-06  2015-08-23  aardd001  aardsda01  aardsda01   pennst   2001  \n",
       "1  2004-04-06  2015-08-23  aardd001  aardsda01  aardsda01     rice   2002  \n",
       "2  2004-04-06  2015-08-23  aardd001  aardsda01  aardsda01     rice   2003  \n",
       "\n",
       "[3 rows x 27 columns]"
      ]
     },
     "execution_count": 11,
     "metadata": {},
     "output_type": "execute_result"
    }
   ],
   "source": [
    "# Do not delete/edit this cell!\n",
    "# You must run this cell before running the autograder.\n",
    "query_0 = %sqlcmd snippets query_0\n",
    "grading_util.save_results(\"result_0\", query_0, result_0);\n",
    "result_0.DataFrame().head(3)"
   ]
  },
  {
   "cell_type": "code",
   "execution_count": 12,
   "metadata": {
    "tags": []
   },
   "outputs": [
    {
     "data": {
      "text/html": [
       "<span style=\"None\">Running query in &#x27;postgresql://jovyan@127.0.0.1:5432/baseball&#x27;</span>"
      ],
      "text/plain": [
       "Running query in 'postgresql://jovyan@127.0.0.1:5432/baseball'"
      ]
     },
     "metadata": {},
     "output_type": "display_data"
    },
    {
     "data": {
      "text/html": [
       "<span style=\"color: green\">7 rows affected.</span>"
      ],
      "text/plain": [
       "7 rows affected."
      ]
     },
     "metadata": {},
     "output_type": "display_data"
    },
    {
     "data": {
      "text/html": [
       "<table>\n",
       "    <thead>\n",
       "        <tr>\n",
       "            <th>QUERY PLAN</th>\n",
       "        </tr>\n",
       "    </thead>\n",
       "    <tbody>\n",
       "        <tr>\n",
       "            <td>Merge Join  (cost=0.57..3636.67 rows=17350 width=1788) (actual time=0.045..16.062 rows=17350 loops=1)</td>\n",
       "        </tr>\n",
       "        <tr>\n",
       "            <td>&nbsp;&nbsp;Merge Cond: ((p.playerid)::text = (cp.playerid)::text)</td>\n",
       "        </tr>\n",
       "        <tr>\n",
       "            <td>&nbsp;&nbsp;->  Index Scan using master_pkey on people p  (cost=0.29..2298.84 rows=19370 width=1698) (actual time=0.021..2.925 rows=19368 loops=1)</td>\n",
       "        </tr>\n",
       "        <tr>\n",
       "            <td>&nbsp;&nbsp;->  Index Only Scan using collegeplaying_pkey on collegeplaying cp  (cost=0.29..1072.54 rows=17350 width=90) (actual time=0.018..3.777 rows=17350 loops=1)</td>\n",
       "        </tr>\n",
       "        <tr>\n",
       "            <td>&nbsp;&nbsp;&nbsp;&nbsp;&nbsp;&nbsp;&nbsp;&nbsp;Heap Fetches: 17350</td>\n",
       "        </tr>\n",
       "        <tr>\n",
       "            <td>Planning Time: 0.123 ms</td>\n",
       "        </tr>\n",
       "        <tr>\n",
       "            <td>Execution Time: 16.581 ms</td>\n",
       "        </tr>\n",
       "    </tbody>\n",
       "</table>"
      ],
      "text/plain": [
       "+--------------------------------------------------------------------------------------------------------------------------------------------------------------+\n",
       "|                                                                          QUERY PLAN                                                                          |\n",
       "+--------------------------------------------------------------------------------------------------------------------------------------------------------------+\n",
       "|                            Merge Join  (cost=0.57..3636.67 rows=17350 width=1788) (actual time=0.045..16.062 rows=17350 loops=1)                             |\n",
       "|                                                     Merge Cond: ((p.playerid)::text = (cp.playerid)::text)                                                   |\n",
       "|             ->  Index Scan using master_pkey on people p  (cost=0.29..2298.84 rows=19370 width=1698) (actual time=0.021..2.925 rows=19368 loops=1)           |\n",
       "|   ->  Index Only Scan using collegeplaying_pkey on collegeplaying cp  (cost=0.29..1072.54 rows=17350 width=90) (actual time=0.018..3.777 rows=17350 loops=1) |\n",
       "|                                                                         Heap Fetches: 17350                                                                  |\n",
       "|                                                                   Planning Time: 0.123 ms                                                                    |\n",
       "|                                                                  Execution Time: 16.581 ms                                                                   |\n",
       "+--------------------------------------------------------------------------------------------------------------------------------------------------------------+"
      ]
     },
     "execution_count": 12,
     "metadata": {},
     "output_type": "execute_result"
    }
   ],
   "source": [
    "%sql EXPLAIN ANALYZE {{query_0}}"
   ]
  },
  {
   "cell_type": "code",
   "execution_count": 13,
   "metadata": {
    "tags": []
   },
   "outputs": [],
   "source": [
    "sample_query_cost =1193.88\n",
    "sample_query_timing = 23.370"
   ]
  },
  {
   "cell_type": "code",
   "execution_count": 14,
   "metadata": {
    "deletable": false,
    "editable": false
   },
   "outputs": [
    {
     "data": {
      "text/html": [
       "<p><strong><pre style='display: inline;'>q0</pre></strong> passed! 🍀</p>"
      ],
      "text/plain": [
       "q0 results: All test cases passed!"
      ]
     },
     "execution_count": 14,
     "metadata": {},
     "output_type": "execute_result"
    }
   ],
   "source": [
    "grader.check(\"q0\")"
   ]
  },
  {
   "cell_type": "markdown",
   "metadata": {},
   "source": [
    "<br/><br/><br/>\n",
    "\n",
    "<hr style=\"border: 5px solid #003262;\" />\n",
    "<hr style=\"border: 1px solid #fdb515;\" />\n",
    "\n",
    "# Question 1: Queries and Views, Part 1\n",
    "\n",
    "In Questions 1 and 2, you will compare and contrast writing queries with subqueries and views.\n",
    "\n",
    "## Question 1a\n",
    "Write a query that finds `namefirst`, `namelast`, `playerid` and `yearid` of all people who were successfully inducted into the Hall of Fame. **Note**: Your query should **NOT** use any sub-queries."
   ]
  },
  {
   "cell_type": "code",
   "execution_count": 15,
   "metadata": {
    "scrolled": true,
    "tags": []
   },
   "outputs": [
    {
     "data": {
      "text/html": [
       "<span style=\"None\">Running query in &#x27;postgresql://jovyan@127.0.0.1:5432/baseball&#x27;</span>"
      ],
      "text/plain": [
       "Running query in 'postgresql://jovyan@127.0.0.1:5432/baseball'"
      ]
     },
     "metadata": {},
     "output_type": "display_data"
    },
    {
     "data": {
      "text/html": [
       "<span style=\"color: green\">323 rows affected.</span>"
      ],
      "text/plain": [
       "323 rows affected."
      ]
     },
     "metadata": {},
     "output_type": "display_data"
    }
   ],
   "source": [
    "%%sql --save query_1a result_1a <<\n",
    "SELECT p.namefirst, p.namelast, p.playerid, h.yearid\n",
    "FROM people AS p\n",
    "INNER JOIN halloffame AS h ON p.playerid = h.playerid\n",
    "WHERE h.inducted = 'Y'"
   ]
  },
  {
   "cell_type": "code",
   "execution_count": 16,
   "metadata": {
    "tags": []
   },
   "outputs": [
    {
     "data": {
      "text/html": [
       "<div>\n",
       "<style scoped>\n",
       "    .dataframe tbody tr th:only-of-type {\n",
       "        vertical-align: middle;\n",
       "    }\n",
       "\n",
       "    .dataframe tbody tr th {\n",
       "        vertical-align: top;\n",
       "    }\n",
       "\n",
       "    .dataframe thead th {\n",
       "        text-align: right;\n",
       "    }\n",
       "</style>\n",
       "<table border=\"1\" class=\"dataframe\">\n",
       "  <thead>\n",
       "    <tr style=\"text-align: right;\">\n",
       "      <th></th>\n",
       "      <th>namefirst</th>\n",
       "      <th>namelast</th>\n",
       "      <th>playerid</th>\n",
       "      <th>yearid</th>\n",
       "    </tr>\n",
       "  </thead>\n",
       "  <tbody>\n",
       "    <tr>\n",
       "      <th>0</th>\n",
       "      <td>Ty</td>\n",
       "      <td>Cobb</td>\n",
       "      <td>cobbty01</td>\n",
       "      <td>1936</td>\n",
       "    </tr>\n",
       "    <tr>\n",
       "      <th>1</th>\n",
       "      <td>Babe</td>\n",
       "      <td>Ruth</td>\n",
       "      <td>ruthba01</td>\n",
       "      <td>1936</td>\n",
       "    </tr>\n",
       "    <tr>\n",
       "      <th>2</th>\n",
       "      <td>Honus</td>\n",
       "      <td>Wagner</td>\n",
       "      <td>wagneho01</td>\n",
       "      <td>1936</td>\n",
       "    </tr>\n",
       "  </tbody>\n",
       "</table>\n",
       "</div>"
      ],
      "text/plain": [
       "  namefirst namelast   playerid  yearid\n",
       "0        Ty     Cobb   cobbty01    1936\n",
       "1      Babe     Ruth   ruthba01    1936\n",
       "2     Honus   Wagner  wagneho01    1936"
      ]
     },
     "execution_count": 16,
     "metadata": {},
     "output_type": "execute_result"
    }
   ],
   "source": [
    "# Do not delete/edit this cell!\n",
    "# You must run this cell before running the autograder.\n",
    "query_1a = %sqlcmd snippets query_1a\n",
    "grading_util.save_results(\"result_1a\", query_1a, result_1a)\n",
    "result_1a.DataFrame().head(3)"
   ]
  },
  {
   "cell_type": "code",
   "execution_count": 17,
   "metadata": {
    "deletable": false,
    "editable": false
   },
   "outputs": [
    {
     "data": {
      "text/html": [
       "<p><strong><pre style='display: inline;'>q1a</pre></strong> passed! 🎉</p>"
      ],
      "text/plain": [
       "q1a results: All test cases passed!"
      ]
     },
     "execution_count": 17,
     "metadata": {},
     "output_type": "execute_result"
    }
   ],
   "source": [
    "grader.check(\"q1a\")"
   ]
  },
  {
   "cell_type": "markdown",
   "metadata": {
    "deletable": false,
    "editable": false
   },
   "source": [
    "<br><br>\n",
    "\n",
    "---\n",
    "\n",
    "## Question 1b\n",
    "In this question, we will compare the query you wrote in `Question 1a` against the provided query below in `Question 1bi` by inspecting both query plans.\n",
    "\n",
    "#### Question 1bi: \n",
    "Inspect the query plan for `provided_query` and the query you wrote in `Question 1a` by running the cells below."
   ]
  },
  {
   "cell_type": "code",
   "execution_count": 18,
   "metadata": {
    "deletable": false,
    "editable": false
   },
   "outputs": [
    {
     "data": {
      "text/html": [
       "<span style=\"None\">Running query in &#x27;postgresql://jovyan@127.0.0.1:5432/baseball&#x27;</span>"
      ],
      "text/plain": [
       "Running query in 'postgresql://jovyan@127.0.0.1:5432/baseball'"
      ]
     },
     "metadata": {},
     "output_type": "display_data"
    },
    {
     "data": {
      "text/html": [
       "<span style=\"color: green\">323 rows affected.</span>"
      ],
      "text/plain": [
       "323 rows affected."
      ]
     },
     "metadata": {},
     "output_type": "display_data"
    }
   ],
   "source": [
    "%%sql --save provided_query result_provided <<\n",
    "-- just run this cell\n",
    "SELECT namefirst, namelast, p.playerid, yearid\n",
    "FROM people AS p, (SELECT * FROM halloffame WHERE inducted = 'Y') AS hof \n",
    "WHERE p.playerid = hof.playerid;"
   ]
  },
  {
   "cell_type": "code",
   "execution_count": 19,
   "metadata": {
    "deletable": false,
    "editable": false,
    "scrolled": true
   },
   "outputs": [
    {
     "data": {
      "text/html": [
       "<span style=\"None\">Running query in &#x27;postgresql://jovyan@127.0.0.1:5432/baseball&#x27;</span>"
      ],
      "text/plain": [
       "Running query in 'postgresql://jovyan@127.0.0.1:5432/baseball'"
      ]
     },
     "metadata": {},
     "output_type": "display_data"
    },
    {
     "data": {
      "text/html": [
       "<span style=\"color: green\">8 rows affected.</span>"
      ],
      "text/plain": [
       "8 rows affected."
      ]
     },
     "metadata": {},
     "output_type": "display_data"
    },
    {
     "data": {
      "text/html": [
       "<table>\n",
       "    <thead>\n",
       "        <tr>\n",
       "            <th>QUERY PLAN</th>\n",
       "        </tr>\n",
       "    </thead>\n",
       "    <tbody>\n",
       "        <tr>\n",
       "            <td>Nested Loop  (cost=0.29..262.79 rows=21 width=278) (actual time=0.033..1.826 rows=323 loops=1)</td>\n",
       "        </tr>\n",
       "        <tr>\n",
       "            <td>&nbsp;&nbsp;->  Seq Scan on halloffame  (cost=0.00..96.39 rows=21 width=42) (actual time=0.013..0.500 rows=323 loops=1)</td>\n",
       "        </tr>\n",
       "        <tr>\n",
       "            <td>&nbsp;&nbsp;&nbsp;&nbsp;&nbsp;&nbsp;&nbsp;&nbsp;Filter: ((inducted)::text = 'Y'::text)</td>\n",
       "        </tr>\n",
       "        <tr>\n",
       "            <td>&nbsp;&nbsp;&nbsp;&nbsp;&nbsp;&nbsp;&nbsp;&nbsp;Rows Removed by Filter: 3868</td>\n",
       "        </tr>\n",
       "        <tr>\n",
       "            <td>&nbsp;&nbsp;->  Index Scan using master_pkey on people p  (cost=0.29..7.92 rows=1 width=274) (actual time=0.004..0.004 rows=1 loops=323)</td>\n",
       "        </tr>\n",
       "        <tr>\n",
       "            <td>&nbsp;&nbsp;&nbsp;&nbsp;&nbsp;&nbsp;&nbsp;&nbsp;Index Cond: ((playerid)::text = (halloffame.playerid)::text)</td>\n",
       "        </tr>\n",
       "        <tr>\n",
       "            <td>Planning Time: 0.134 ms</td>\n",
       "        </tr>\n",
       "        <tr>\n",
       "            <td>Execution Time: 1.858 ms</td>\n",
       "        </tr>\n",
       "    </tbody>\n",
       "</table>"
      ],
      "text/plain": [
       "+--------------------------------------------------------------------------------------------------------------------------------+\n",
       "|                                                           QUERY PLAN                                                           |\n",
       "+--------------------------------------------------------------------------------------------------------------------------------+\n",
       "|                 Nested Loop  (cost=0.29..262.79 rows=21 width=278) (actual time=0.033..1.826 rows=323 loops=1)                 |\n",
       "|           ->  Seq Scan on halloffame  (cost=0.00..96.39 rows=21 width=42) (actual time=0.013..0.500 rows=323 loops=1)          |\n",
       "|                                                 Filter: ((inducted)::text = 'Y'::text)                                         |\n",
       "|                                                      Rows Removed by Filter: 3868                                              |\n",
       "|   ->  Index Scan using master_pkey on people p  (cost=0.29..7.92 rows=1 width=274) (actual time=0.004..0.004 rows=1 loops=323) |\n",
       "|                                      Index Cond: ((playerid)::text = (halloffame.playerid)::text)                              |\n",
       "|                                                    Planning Time: 0.134 ms                                                     |\n",
       "|                                                    Execution Time: 1.858 ms                                                    |\n",
       "+--------------------------------------------------------------------------------------------------------------------------------+"
      ]
     },
     "execution_count": 19,
     "metadata": {},
     "output_type": "execute_result"
    }
   ],
   "source": [
    "# just run this cell \n",
    "provided_query = %sqlcmd snippets provided_query\n",
    "%sql EXPLAIN ANALYZE {{provided_query.strip(';')}}"
   ]
  },
  {
   "cell_type": "code",
   "execution_count": 20,
   "metadata": {
    "deletable": false,
    "editable": false
   },
   "outputs": [
    {
     "data": {
      "text/html": [
       "<span style=\"None\">Running query in &#x27;postgresql://jovyan@127.0.0.1:5432/baseball&#x27;</span>"
      ],
      "text/plain": [
       "Running query in 'postgresql://jovyan@127.0.0.1:5432/baseball'"
      ]
     },
     "metadata": {},
     "output_type": "display_data"
    },
    {
     "data": {
      "text/html": [
       "<span style=\"color: green\">8 rows affected.</span>"
      ],
      "text/plain": [
       "8 rows affected."
      ]
     },
     "metadata": {},
     "output_type": "display_data"
    },
    {
     "data": {
      "text/html": [
       "<table>\n",
       "    <thead>\n",
       "        <tr>\n",
       "            <th>QUERY PLAN</th>\n",
       "        </tr>\n",
       "    </thead>\n",
       "    <tbody>\n",
       "        <tr>\n",
       "            <td>Nested Loop  (cost=0.29..262.79 rows=21 width=278) (actual time=0.031..1.822 rows=323 loops=1)</td>\n",
       "        </tr>\n",
       "        <tr>\n",
       "            <td>&nbsp;&nbsp;->  Seq Scan on halloffame h  (cost=0.00..96.39 rows=21 width=42) (actual time=0.012..0.515 rows=323 loops=1)</td>\n",
       "        </tr>\n",
       "        <tr>\n",
       "            <td>&nbsp;&nbsp;&nbsp;&nbsp;&nbsp;&nbsp;&nbsp;&nbsp;Filter: ((inducted)::text = 'Y'::text)</td>\n",
       "        </tr>\n",
       "        <tr>\n",
       "            <td>&nbsp;&nbsp;&nbsp;&nbsp;&nbsp;&nbsp;&nbsp;&nbsp;Rows Removed by Filter: 3868</td>\n",
       "        </tr>\n",
       "        <tr>\n",
       "            <td>&nbsp;&nbsp;->  Index Scan using master_pkey on people p  (cost=0.29..7.92 rows=1 width=274) (actual time=0.004..0.004 rows=1 loops=323)</td>\n",
       "        </tr>\n",
       "        <tr>\n",
       "            <td>&nbsp;&nbsp;&nbsp;&nbsp;&nbsp;&nbsp;&nbsp;&nbsp;Index Cond: ((playerid)::text = (h.playerid)::text)</td>\n",
       "        </tr>\n",
       "        <tr>\n",
       "            <td>Planning Time: 0.117 ms</td>\n",
       "        </tr>\n",
       "        <tr>\n",
       "            <td>Execution Time: 1.853 ms</td>\n",
       "        </tr>\n",
       "    </tbody>\n",
       "</table>"
      ],
      "text/plain": [
       "+--------------------------------------------------------------------------------------------------------------------------------+\n",
       "|                                                           QUERY PLAN                                                           |\n",
       "+--------------------------------------------------------------------------------------------------------------------------------+\n",
       "|                 Nested Loop  (cost=0.29..262.79 rows=21 width=278) (actual time=0.031..1.822 rows=323 loops=1)                 |\n",
       "|          ->  Seq Scan on halloffame h  (cost=0.00..96.39 rows=21 width=42) (actual time=0.012..0.515 rows=323 loops=1)         |\n",
       "|                                                 Filter: ((inducted)::text = 'Y'::text)                                         |\n",
       "|                                                      Rows Removed by Filter: 3868                                              |\n",
       "|   ->  Index Scan using master_pkey on people p  (cost=0.29..7.92 rows=1 width=274) (actual time=0.004..0.004 rows=1 loops=323) |\n",
       "|                                          Index Cond: ((playerid)::text = (h.playerid)::text)                                   |\n",
       "|                                                    Planning Time: 0.117 ms                                                     |\n",
       "|                                                    Execution Time: 1.853 ms                                                    |\n",
       "+--------------------------------------------------------------------------------------------------------------------------------+"
      ]
     },
     "execution_count": 20,
     "metadata": {},
     "output_type": "execute_result"
    }
   ],
   "source": [
    "# just run this cell\n",
    "%sql EXPLAIN ANALYZE {{query_1a}}"
   ]
  },
  {
   "cell_type": "markdown",
   "metadata": {
    "deletable": false,
    "editable": false
   },
   "source": [
    "Record the **execution time** and **cost** for each query."
   ]
  },
  {
   "cell_type": "code",
   "execution_count": 21,
   "metadata": {
    "tags": []
   },
   "outputs": [],
   "source": [
    "provided_query_cost = 959.06\n",
    "provided_query_timing = 51.473\n",
    "your_query_cost = 959.06\n",
    "your_query_timing = 51.414"
   ]
  },
  {
   "cell_type": "code",
   "execution_count": 22,
   "metadata": {
    "deletable": false,
    "editable": false
   },
   "outputs": [
    {
     "data": {
      "text/html": [
       "<p><strong><pre style='display: inline;'>q1bi</pre></strong> passed! 🌈</p>"
      ],
      "text/plain": [
       "q1bi results: All test cases passed!"
      ]
     },
     "execution_count": 22,
     "metadata": {},
     "output_type": "execute_result"
    }
   ],
   "source": [
    "grader.check(\"q1bi\")"
   ]
  },
  {
   "cell_type": "markdown",
   "metadata": {
    "deletable": false,
    "editable": false
   },
   "source": [
    "# #### Question 1bii:\n",
    "Given your findings from inspecting the query plans of the two queries, answer the following question. Assign the variable `q1b_part2` to a list of all of the below statements that are true.\n",
    "\n",
    "\n",
    "Consider the following statements:\n",
    "<br>\n",
    "A. Both the queries have the same cost\n",
    "<br>\n",
    "B. The provided query has a faster execution time because it makes use of a subquery.\n",
    "<br>\n",
    "C. The query you wrote has a faster execution time because it does not make use a subquery.\n",
    "<br>\n",
    "D. The provided query has less cost because it makes use of a subquery.\n",
    "<br>\n",
    "E. The query you wrote has less cost because it does not make use a subquery.\n",
    "<br>\n",
    "F. The queries have the same output.\n",
    "<br>\n",
    "G. The queries do not have the same output.\n",
    "    \n",
    "**Note:** Your answer should look like `q1b_part2 = ['A', 'B']`"
   ]
  },
  {
   "cell_type": "code",
   "execution_count": 23,
   "metadata": {
    "tags": []
   },
   "outputs": [],
   "source": [
    "q1b_part2 = ['A', 'C', 'F']"
   ]
  },
  {
   "cell_type": "code",
   "execution_count": 24,
   "metadata": {
    "deletable": false,
    "editable": false
   },
   "outputs": [
    {
     "data": {
      "text/html": [
       "<p><strong><pre style='display: inline;'>q1bii</pre></strong> passed! 🎉</p>"
      ],
      "text/plain": [
       "q1bii results: All test cases passed!"
      ]
     },
     "execution_count": 24,
     "metadata": {},
     "output_type": "execute_result"
    }
   ],
   "source": [
    "grader.check(\"q1bii\")"
   ]
  },
  {
   "cell_type": "markdown",
   "metadata": {},
   "source": [
    "<br/><br/><br/>\n",
    "\n",
    "<hr style=\"border: 5px solid #003262;\" />\n",
    "<hr style=\"border: 1px solid #fdb515;\" />\n",
    "\n",
    "\n",
    "# Question 2: Queries and Views, Part 2\n",
    "\n",
    "In this question, you will continue analyzing queries with/without views and materialized views.\n",
    "* Question 2a: Write a query that computes people in a Hall of Fame.\n",
    "* Question 2 Tutorial: Use this query to create a view called `inducted_hof_ca` and a materialized view, `inducted_hof_ca_mat`.\n",
    "* Question 2b: Write three queries that achieve the same result:\n",
    "  * Question 2bi: One that uses no views.\n",
    "  * Question 2bii: One that uses the `inducted_hof_ca` view.\n",
    "  * Question 2ciii: One that uses the `inducted_hof_ca_mat` materialized view.\n",
    "* Question 2c: Record the performance of these three queries.\n",
    "* Question 2d: Analyze and discuss using queries with different types of views."
   ]
  },
  {
   "cell_type": "markdown",
   "metadata": {
    "deletable": false,
    "editable": false
   },
   "source": [
    "<br/><br/>\n",
    "\n",
    "---\n",
    "\n",
    "## Question 2a\n",
    "\n",
    "Write a query that returns the people who were successfully inducted into the Hall of Fame and played in college at a school located in California. For each player, return their `namefirst`, `namelast`, `playerid`, `schoolid`, and `yearid` ordered by the `yearid` and then the `playerid`. \n",
    "\n",
    "**Note**: For this query, `yearid` refers to player's year of induction into the Hall of Fame."
   ]
  },
  {
   "cell_type": "code",
   "execution_count": 25,
   "metadata": {
    "tags": []
   },
   "outputs": [
    {
     "data": {
      "text/html": [
       "<span style=\"None\">Running query in &#x27;postgresql://jovyan@127.0.0.1:5432/baseball&#x27;</span>"
      ],
      "text/plain": [
       "Running query in 'postgresql://jovyan@127.0.0.1:5432/baseball'"
      ]
     },
     "metadata": {},
     "output_type": "display_data"
    },
    {
     "data": {
      "text/html": [
       "<span style=\"color: green\">23 rows affected.</span>"
      ],
      "text/plain": [
       "23 rows affected."
      ]
     },
     "metadata": {},
     "output_type": "display_data"
    }
   ],
   "source": [
    "%%sql --save query_2a result_2a <<\n",
    "SELECT p.namefirst, p.namelast, p.playerid, s.schoolid, h.yearid\n",
    "FROM people AS p\n",
    "INNER JOIN halloffame AS h ON p.playerid = h.playerid\n",
    "INNER JOIN collegeplaying AS c ON p.playerid = c.playerid\n",
    "INNER JOIN schools AS s ON c.schoolid = s.schoolid\n",
    "WHERE h.inducted  = 'Y' AND s.schoolstate = 'CA'\n",
    "ORDER BY h.yearid, p.playerid\n",
    ";"
   ]
  },
  {
   "cell_type": "code",
   "execution_count": 26,
   "metadata": {
    "tags": []
   },
   "outputs": [
    {
     "data": {
      "text/html": [
       "<table>\n",
       "    <thead>\n",
       "        <tr>\n",
       "            <th>namefirst</th>\n",
       "            <th>namelast</th>\n",
       "            <th>playerid</th>\n",
       "            <th>schoolid</th>\n",
       "            <th>yearid</th>\n",
       "        </tr>\n",
       "    </thead>\n",
       "    <tbody>\n",
       "        <tr>\n",
       "            <td>Jackie</td>\n",
       "            <td>Robinson</td>\n",
       "            <td>robinja02</td>\n",
       "            <td>ucla</td>\n",
       "            <td>1962</td>\n",
       "        </tr>\n",
       "        <tr>\n",
       "            <td>Harry</td>\n",
       "            <td>Hooper</td>\n",
       "            <td>hoopeha01</td>\n",
       "            <td>stmarysca</td>\n",
       "            <td>1971</td>\n",
       "        </tr>\n",
       "        <tr>\n",
       "            <td>Joe</td>\n",
       "            <td>Morgan</td>\n",
       "            <td>morgajo02</td>\n",
       "            <td>camerri</td>\n",
       "            <td>1990</td>\n",
       "        </tr>\n",
       "        <tr>\n",
       "            <td>Tom</td>\n",
       "            <td>Seaver</td>\n",
       "            <td>seaveto01</td>\n",
       "            <td>cafrecc</td>\n",
       "            <td>1992</td>\n",
       "        </tr>\n",
       "        <tr>\n",
       "            <td>Tom</td>\n",
       "            <td>Seaver</td>\n",
       "            <td>seaveto01</td>\n",
       "            <td>usc</td>\n",
       "            <td>1992</td>\n",
       "        </tr>\n",
       "        <tr>\n",
       "            <td>Ozzie</td>\n",
       "            <td>Smith</td>\n",
       "            <td>smithoz01</td>\n",
       "            <td>calpoly</td>\n",
       "            <td>2002</td>\n",
       "        </tr>\n",
       "        <tr>\n",
       "            <td>Ozzie</td>\n",
       "            <td>Smith</td>\n",
       "            <td>smithoz01</td>\n",
       "            <td>calpoly</td>\n",
       "            <td>2002</td>\n",
       "        </tr>\n",
       "        <tr>\n",
       "            <td>Ozzie</td>\n",
       "            <td>Smith</td>\n",
       "            <td>smithoz01</td>\n",
       "            <td>calpoly</td>\n",
       "            <td>2002</td>\n",
       "        </tr>\n",
       "        <tr>\n",
       "            <td>Ozzie</td>\n",
       "            <td>Smith</td>\n",
       "            <td>smithoz01</td>\n",
       "            <td>calpoly</td>\n",
       "            <td>2002</td>\n",
       "        </tr>\n",
       "        <tr>\n",
       "            <td>Tony</td>\n",
       "            <td>Gwynn</td>\n",
       "            <td>gwynnto01</td>\n",
       "            <td>sandiegost</td>\n",
       "            <td>2007</td>\n",
       "        </tr>\n",
       "        <tr>\n",
       "            <td>Tony</td>\n",
       "            <td>Gwynn</td>\n",
       "            <td>gwynnto01</td>\n",
       "            <td>sandiegost</td>\n",
       "            <td>2007</td>\n",
       "        </tr>\n",
       "        <tr>\n",
       "            <td>Tony</td>\n",
       "            <td>Gwynn</td>\n",
       "            <td>gwynnto01</td>\n",
       "            <td>sandiegost</td>\n",
       "            <td>2007</td>\n",
       "        </tr>\n",
       "        <tr>\n",
       "            <td>Dick</td>\n",
       "            <td>Williams</td>\n",
       "            <td>willidi02</td>\n",
       "            <td>capasad</td>\n",
       "            <td>2008</td>\n",
       "        </tr>\n",
       "        <tr>\n",
       "            <td>Doug</td>\n",
       "            <td>Harvey</td>\n",
       "            <td>harvedo99</td>\n",
       "            <td>sandiegost</td>\n",
       "            <td>2010</td>\n",
       "        </tr>\n",
       "        <tr>\n",
       "            <td>Doug</td>\n",
       "            <td>Harvey</td>\n",
       "            <td>harvedo99</td>\n",
       "            <td>sandiegost</td>\n",
       "            <td>2010</td>\n",
       "        </tr>\n",
       "        <tr>\n",
       "            <td>Pat</td>\n",
       "            <td>Gillick</td>\n",
       "            <td>gillipa99</td>\n",
       "            <td>calavco</td>\n",
       "            <td>2011</td>\n",
       "        </tr>\n",
       "        <tr>\n",
       "            <td>Pat</td>\n",
       "            <td>Gillick</td>\n",
       "            <td>gillipa99</td>\n",
       "            <td>usc</td>\n",
       "            <td>2011</td>\n",
       "        </tr>\n",
       "        <tr>\n",
       "            <td>Pat</td>\n",
       "            <td>Gillick</td>\n",
       "            <td>gillipa99</td>\n",
       "            <td>usc</td>\n",
       "            <td>2011</td>\n",
       "        </tr>\n",
       "        <tr>\n",
       "            <td>Randy</td>\n",
       "            <td>Johnson</td>\n",
       "            <td>johnsra05</td>\n",
       "            <td>usc</td>\n",
       "            <td>2015</td>\n",
       "        </tr>\n",
       "        <tr>\n",
       "            <td>Randy</td>\n",
       "            <td>Johnson</td>\n",
       "            <td>johnsra05</td>\n",
       "            <td>usc</td>\n",
       "            <td>2015</td>\n",
       "        </tr>\n",
       "        <tr>\n",
       "            <td>Randy</td>\n",
       "            <td>Johnson</td>\n",
       "            <td>johnsra05</td>\n",
       "            <td>usc</td>\n",
       "            <td>2015</td>\n",
       "        </tr>\n",
       "        <tr>\n",
       "            <td>Trevor</td>\n",
       "            <td>Hoffman</td>\n",
       "            <td>hoffmtr01</td>\n",
       "            <td>cacypre</td>\n",
       "            <td>2018</td>\n",
       "        </tr>\n",
       "        <tr>\n",
       "            <td>Trevor</td>\n",
       "            <td>Hoffman</td>\n",
       "            <td>hoffmtr01</td>\n",
       "            <td>cacypre</td>\n",
       "            <td>2018</td>\n",
       "        </tr>\n",
       "    </tbody>\n",
       "</table>"
      ],
      "text/plain": [
       "+-----------+----------+-----------+------------+--------+\n",
       "| namefirst | namelast |  playerid |  schoolid  | yearid |\n",
       "+-----------+----------+-----------+------------+--------+\n",
       "|   Jackie  | Robinson | robinja02 |    ucla    |  1962  |\n",
       "|   Harry   |  Hooper  | hoopeha01 | stmarysca  |  1971  |\n",
       "|    Joe    |  Morgan  | morgajo02 |  camerri   |  1990  |\n",
       "|    Tom    |  Seaver  | seaveto01 |  cafrecc   |  1992  |\n",
       "|    Tom    |  Seaver  | seaveto01 |    usc     |  1992  |\n",
       "|   Ozzie   |  Smith   | smithoz01 |  calpoly   |  2002  |\n",
       "|   Ozzie   |  Smith   | smithoz01 |  calpoly   |  2002  |\n",
       "|   Ozzie   |  Smith   | smithoz01 |  calpoly   |  2002  |\n",
       "|   Ozzie   |  Smith   | smithoz01 |  calpoly   |  2002  |\n",
       "|    Tony   |  Gwynn   | gwynnto01 | sandiegost |  2007  |\n",
       "|    Tony   |  Gwynn   | gwynnto01 | sandiegost |  2007  |\n",
       "|    Tony   |  Gwynn   | gwynnto01 | sandiegost |  2007  |\n",
       "|    Dick   | Williams | willidi02 |  capasad   |  2008  |\n",
       "|    Doug   |  Harvey  | harvedo99 | sandiegost |  2010  |\n",
       "|    Doug   |  Harvey  | harvedo99 | sandiegost |  2010  |\n",
       "|    Pat    | Gillick  | gillipa99 |  calavco   |  2011  |\n",
       "|    Pat    | Gillick  | gillipa99 |    usc     |  2011  |\n",
       "|    Pat    | Gillick  | gillipa99 |    usc     |  2011  |\n",
       "|   Randy   | Johnson  | johnsra05 |    usc     |  2015  |\n",
       "|   Randy   | Johnson  | johnsra05 |    usc     |  2015  |\n",
       "|   Randy   | Johnson  | johnsra05 |    usc     |  2015  |\n",
       "|   Trevor  | Hoffman  | hoffmtr01 |  cacypre   |  2018  |\n",
       "|   Trevor  | Hoffman  | hoffmtr01 |  cacypre   |  2018  |\n",
       "+-----------+----------+-----------+------------+--------+"
      ]
     },
     "execution_count": 26,
     "metadata": {},
     "output_type": "execute_result"
    }
   ],
   "source": [
    "# Do not delete/edit this cell!\n",
    "# You must run this cell before running the autograder.\n",
    "query_2a = %sqlcmd snippets query_2a\n",
    "grading_util.save_results(\"result_2a\", query_2a, result_2a)\n",
    "result_2a"
   ]
  },
  {
   "cell_type": "code",
   "execution_count": 27,
   "metadata": {
    "deletable": false,
    "editable": false
   },
   "outputs": [
    {
     "data": {
      "text/html": [
       "<p><strong><pre style='display: inline;'>q2a</pre></strong> passed! ✨</p>"
      ],
      "text/plain": [
       "q2a results: All test cases passed!"
      ]
     },
     "execution_count": 27,
     "metadata": {},
     "output_type": "execute_result"
    }
   ],
   "source": [
    "grader.check(\"q2a\")"
   ]
  },
  {
   "cell_type": "markdown",
   "metadata": {},
   "source": [
    "<br/><br/>\n",
    "\n",
    "---\n",
    "\n",
    "## Question 2 Tutorial"
   ]
  },
  {
   "cell_type": "markdown",
   "metadata": {},
   "source": [
    "We are now going to use the query you wrote in the previous part to generate a view, called `inducted_hof_ca`, and a materialized view, `inducted_hof_ca_mat`.\n",
    "\n",
    "Run the below cells. You do not need to do anything more for this part. \n",
    "\n",
    "(Note: the semicolon strip is to avoid executing an empty query with double-semicolons, which causes an error.)"
   ]
  },
  {
   "cell_type": "code",
   "execution_count": 28,
   "metadata": {},
   "outputs": [
    {
     "data": {
      "text/html": [
       "<span style=\"None\">Running query in &#x27;postgresql://jovyan@127.0.0.1:5432/baseball&#x27;</span>"
      ],
      "text/plain": [
       "Running query in 'postgresql://jovyan@127.0.0.1:5432/baseball'"
      ]
     },
     "metadata": {},
     "output_type": "display_data"
    },
    {
     "data": {
      "text/html": [
       "<span style=\"color: green\">23 rows affected.</span>"
      ],
      "text/plain": [
       "23 rows affected."
      ]
     },
     "metadata": {},
     "output_type": "display_data"
    },
    {
     "data": {
      "text/html": [
       "<table>\n",
       "    <thead>\n",
       "        <tr>\n",
       "            <th>namefirst</th>\n",
       "            <th>namelast</th>\n",
       "            <th>playerid</th>\n",
       "            <th>schoolid</th>\n",
       "            <th>yearid</th>\n",
       "        </tr>\n",
       "    </thead>\n",
       "    <tbody>\n",
       "        <tr>\n",
       "            <td>Jackie</td>\n",
       "            <td>Robinson</td>\n",
       "            <td>robinja02</td>\n",
       "            <td>ucla</td>\n",
       "            <td>1962</td>\n",
       "        </tr>\n",
       "        <tr>\n",
       "            <td>Harry</td>\n",
       "            <td>Hooper</td>\n",
       "            <td>hoopeha01</td>\n",
       "            <td>stmarysca</td>\n",
       "            <td>1971</td>\n",
       "        </tr>\n",
       "        <tr>\n",
       "            <td>Joe</td>\n",
       "            <td>Morgan</td>\n",
       "            <td>morgajo02</td>\n",
       "            <td>camerri</td>\n",
       "            <td>1990</td>\n",
       "        </tr>\n",
       "        <tr>\n",
       "            <td>Tom</td>\n",
       "            <td>Seaver</td>\n",
       "            <td>seaveto01</td>\n",
       "            <td>cafrecc</td>\n",
       "            <td>1992</td>\n",
       "        </tr>\n",
       "        <tr>\n",
       "            <td>Tom</td>\n",
       "            <td>Seaver</td>\n",
       "            <td>seaveto01</td>\n",
       "            <td>usc</td>\n",
       "            <td>1992</td>\n",
       "        </tr>\n",
       "        <tr>\n",
       "            <td>Ozzie</td>\n",
       "            <td>Smith</td>\n",
       "            <td>smithoz01</td>\n",
       "            <td>calpoly</td>\n",
       "            <td>2002</td>\n",
       "        </tr>\n",
       "        <tr>\n",
       "            <td>Ozzie</td>\n",
       "            <td>Smith</td>\n",
       "            <td>smithoz01</td>\n",
       "            <td>calpoly</td>\n",
       "            <td>2002</td>\n",
       "        </tr>\n",
       "        <tr>\n",
       "            <td>Ozzie</td>\n",
       "            <td>Smith</td>\n",
       "            <td>smithoz01</td>\n",
       "            <td>calpoly</td>\n",
       "            <td>2002</td>\n",
       "        </tr>\n",
       "        <tr>\n",
       "            <td>Ozzie</td>\n",
       "            <td>Smith</td>\n",
       "            <td>smithoz01</td>\n",
       "            <td>calpoly</td>\n",
       "            <td>2002</td>\n",
       "        </tr>\n",
       "        <tr>\n",
       "            <td>Tony</td>\n",
       "            <td>Gwynn</td>\n",
       "            <td>gwynnto01</td>\n",
       "            <td>sandiegost</td>\n",
       "            <td>2007</td>\n",
       "        </tr>\n",
       "        <tr>\n",
       "            <td>Tony</td>\n",
       "            <td>Gwynn</td>\n",
       "            <td>gwynnto01</td>\n",
       "            <td>sandiegost</td>\n",
       "            <td>2007</td>\n",
       "        </tr>\n",
       "        <tr>\n",
       "            <td>Tony</td>\n",
       "            <td>Gwynn</td>\n",
       "            <td>gwynnto01</td>\n",
       "            <td>sandiegost</td>\n",
       "            <td>2007</td>\n",
       "        </tr>\n",
       "        <tr>\n",
       "            <td>Dick</td>\n",
       "            <td>Williams</td>\n",
       "            <td>willidi02</td>\n",
       "            <td>capasad</td>\n",
       "            <td>2008</td>\n",
       "        </tr>\n",
       "        <tr>\n",
       "            <td>Doug</td>\n",
       "            <td>Harvey</td>\n",
       "            <td>harvedo99</td>\n",
       "            <td>sandiegost</td>\n",
       "            <td>2010</td>\n",
       "        </tr>\n",
       "        <tr>\n",
       "            <td>Doug</td>\n",
       "            <td>Harvey</td>\n",
       "            <td>harvedo99</td>\n",
       "            <td>sandiegost</td>\n",
       "            <td>2010</td>\n",
       "        </tr>\n",
       "        <tr>\n",
       "            <td>Pat</td>\n",
       "            <td>Gillick</td>\n",
       "            <td>gillipa99</td>\n",
       "            <td>calavco</td>\n",
       "            <td>2011</td>\n",
       "        </tr>\n",
       "        <tr>\n",
       "            <td>Pat</td>\n",
       "            <td>Gillick</td>\n",
       "            <td>gillipa99</td>\n",
       "            <td>usc</td>\n",
       "            <td>2011</td>\n",
       "        </tr>\n",
       "        <tr>\n",
       "            <td>Pat</td>\n",
       "            <td>Gillick</td>\n",
       "            <td>gillipa99</td>\n",
       "            <td>usc</td>\n",
       "            <td>2011</td>\n",
       "        </tr>\n",
       "        <tr>\n",
       "            <td>Randy</td>\n",
       "            <td>Johnson</td>\n",
       "            <td>johnsra05</td>\n",
       "            <td>usc</td>\n",
       "            <td>2015</td>\n",
       "        </tr>\n",
       "        <tr>\n",
       "            <td>Randy</td>\n",
       "            <td>Johnson</td>\n",
       "            <td>johnsra05</td>\n",
       "            <td>usc</td>\n",
       "            <td>2015</td>\n",
       "        </tr>\n",
       "        <tr>\n",
       "            <td>Randy</td>\n",
       "            <td>Johnson</td>\n",
       "            <td>johnsra05</td>\n",
       "            <td>usc</td>\n",
       "            <td>2015</td>\n",
       "        </tr>\n",
       "        <tr>\n",
       "            <td>Trevor</td>\n",
       "            <td>Hoffman</td>\n",
       "            <td>hoffmtr01</td>\n",
       "            <td>cacypre</td>\n",
       "            <td>2018</td>\n",
       "        </tr>\n",
       "        <tr>\n",
       "            <td>Trevor</td>\n",
       "            <td>Hoffman</td>\n",
       "            <td>hoffmtr01</td>\n",
       "            <td>cacypre</td>\n",
       "            <td>2018</td>\n",
       "        </tr>\n",
       "    </tbody>\n",
       "</table>"
      ],
      "text/plain": [
       "+-----------+----------+-----------+------------+--------+\n",
       "| namefirst | namelast |  playerid |  schoolid  | yearid |\n",
       "+-----------+----------+-----------+------------+--------+\n",
       "|   Jackie  | Robinson | robinja02 |    ucla    |  1962  |\n",
       "|   Harry   |  Hooper  | hoopeha01 | stmarysca  |  1971  |\n",
       "|    Joe    |  Morgan  | morgajo02 |  camerri   |  1990  |\n",
       "|    Tom    |  Seaver  | seaveto01 |  cafrecc   |  1992  |\n",
       "|    Tom    |  Seaver  | seaveto01 |    usc     |  1992  |\n",
       "|   Ozzie   |  Smith   | smithoz01 |  calpoly   |  2002  |\n",
       "|   Ozzie   |  Smith   | smithoz01 |  calpoly   |  2002  |\n",
       "|   Ozzie   |  Smith   | smithoz01 |  calpoly   |  2002  |\n",
       "|   Ozzie   |  Smith   | smithoz01 |  calpoly   |  2002  |\n",
       "|    Tony   |  Gwynn   | gwynnto01 | sandiegost |  2007  |\n",
       "|    Tony   |  Gwynn   | gwynnto01 | sandiegost |  2007  |\n",
       "|    Tony   |  Gwynn   | gwynnto01 | sandiegost |  2007  |\n",
       "|    Dick   | Williams | willidi02 |  capasad   |  2008  |\n",
       "|    Doug   |  Harvey  | harvedo99 | sandiegost |  2010  |\n",
       "|    Doug   |  Harvey  | harvedo99 | sandiegost |  2010  |\n",
       "|    Pat    | Gillick  | gillipa99 |  calavco   |  2011  |\n",
       "|    Pat    | Gillick  | gillipa99 |    usc     |  2011  |\n",
       "|    Pat    | Gillick  | gillipa99 |    usc     |  2011  |\n",
       "|   Randy   | Johnson  | johnsra05 |    usc     |  2015  |\n",
       "|   Randy   | Johnson  | johnsra05 |    usc     |  2015  |\n",
       "|   Randy   | Johnson  | johnsra05 |    usc     |  2015  |\n",
       "|   Trevor  | Hoffman  | hoffmtr01 |  cacypre   |  2018  |\n",
       "|   Trevor  | Hoffman  | hoffmtr01 |  cacypre   |  2018  |\n",
       "+-----------+----------+-----------+------------+--------+"
      ]
     },
     "execution_count": 28,
     "metadata": {},
     "output_type": "execute_result"
    }
   ],
   "source": [
    "%%sql\n",
    "/* just run this cell */\n",
    "DROP VIEW IF EXISTS inducted_hof_ca;\n",
    "CREATE VIEW inducted_hof_ca AS {{query_2a.strip(';')}};\n",
    "SELECT * FROM inducted_hof_ca;"
   ]
  },
  {
   "cell_type": "code",
   "execution_count": 29,
   "metadata": {},
   "outputs": [
    {
     "data": {
      "text/html": [
       "<span style=\"None\">Running query in &#x27;postgresql://jovyan@127.0.0.1:5432/baseball&#x27;</span>"
      ],
      "text/plain": [
       "Running query in 'postgresql://jovyan@127.0.0.1:5432/baseball'"
      ]
     },
     "metadata": {},
     "output_type": "display_data"
    },
    {
     "data": {
      "text/html": [
       "<span style=\"color: green\">23 rows affected.</span>"
      ],
      "text/plain": [
       "23 rows affected."
      ]
     },
     "metadata": {},
     "output_type": "display_data"
    },
    {
     "data": {
      "text/html": [
       "<span style=\"color: green\">23 rows affected.</span>"
      ],
      "text/plain": [
       "23 rows affected."
      ]
     },
     "metadata": {},
     "output_type": "display_data"
    },
    {
     "data": {
      "text/html": [
       "<table>\n",
       "    <thead>\n",
       "        <tr>\n",
       "            <th>namefirst</th>\n",
       "            <th>namelast</th>\n",
       "            <th>playerid</th>\n",
       "            <th>schoolid</th>\n",
       "            <th>yearid</th>\n",
       "        </tr>\n",
       "    </thead>\n",
       "    <tbody>\n",
       "        <tr>\n",
       "            <td>Jackie</td>\n",
       "            <td>Robinson</td>\n",
       "            <td>robinja02</td>\n",
       "            <td>ucla</td>\n",
       "            <td>1962</td>\n",
       "        </tr>\n",
       "        <tr>\n",
       "            <td>Harry</td>\n",
       "            <td>Hooper</td>\n",
       "            <td>hoopeha01</td>\n",
       "            <td>stmarysca</td>\n",
       "            <td>1971</td>\n",
       "        </tr>\n",
       "        <tr>\n",
       "            <td>Joe</td>\n",
       "            <td>Morgan</td>\n",
       "            <td>morgajo02</td>\n",
       "            <td>camerri</td>\n",
       "            <td>1990</td>\n",
       "        </tr>\n",
       "        <tr>\n",
       "            <td>Tom</td>\n",
       "            <td>Seaver</td>\n",
       "            <td>seaveto01</td>\n",
       "            <td>cafrecc</td>\n",
       "            <td>1992</td>\n",
       "        </tr>\n",
       "        <tr>\n",
       "            <td>Tom</td>\n",
       "            <td>Seaver</td>\n",
       "            <td>seaveto01</td>\n",
       "            <td>usc</td>\n",
       "            <td>1992</td>\n",
       "        </tr>\n",
       "        <tr>\n",
       "            <td>Ozzie</td>\n",
       "            <td>Smith</td>\n",
       "            <td>smithoz01</td>\n",
       "            <td>calpoly</td>\n",
       "            <td>2002</td>\n",
       "        </tr>\n",
       "        <tr>\n",
       "            <td>Ozzie</td>\n",
       "            <td>Smith</td>\n",
       "            <td>smithoz01</td>\n",
       "            <td>calpoly</td>\n",
       "            <td>2002</td>\n",
       "        </tr>\n",
       "        <tr>\n",
       "            <td>Ozzie</td>\n",
       "            <td>Smith</td>\n",
       "            <td>smithoz01</td>\n",
       "            <td>calpoly</td>\n",
       "            <td>2002</td>\n",
       "        </tr>\n",
       "        <tr>\n",
       "            <td>Ozzie</td>\n",
       "            <td>Smith</td>\n",
       "            <td>smithoz01</td>\n",
       "            <td>calpoly</td>\n",
       "            <td>2002</td>\n",
       "        </tr>\n",
       "        <tr>\n",
       "            <td>Tony</td>\n",
       "            <td>Gwynn</td>\n",
       "            <td>gwynnto01</td>\n",
       "            <td>sandiegost</td>\n",
       "            <td>2007</td>\n",
       "        </tr>\n",
       "        <tr>\n",
       "            <td>Tony</td>\n",
       "            <td>Gwynn</td>\n",
       "            <td>gwynnto01</td>\n",
       "            <td>sandiegost</td>\n",
       "            <td>2007</td>\n",
       "        </tr>\n",
       "        <tr>\n",
       "            <td>Tony</td>\n",
       "            <td>Gwynn</td>\n",
       "            <td>gwynnto01</td>\n",
       "            <td>sandiegost</td>\n",
       "            <td>2007</td>\n",
       "        </tr>\n",
       "        <tr>\n",
       "            <td>Dick</td>\n",
       "            <td>Williams</td>\n",
       "            <td>willidi02</td>\n",
       "            <td>capasad</td>\n",
       "            <td>2008</td>\n",
       "        </tr>\n",
       "        <tr>\n",
       "            <td>Doug</td>\n",
       "            <td>Harvey</td>\n",
       "            <td>harvedo99</td>\n",
       "            <td>sandiegost</td>\n",
       "            <td>2010</td>\n",
       "        </tr>\n",
       "        <tr>\n",
       "            <td>Doug</td>\n",
       "            <td>Harvey</td>\n",
       "            <td>harvedo99</td>\n",
       "            <td>sandiegost</td>\n",
       "            <td>2010</td>\n",
       "        </tr>\n",
       "        <tr>\n",
       "            <td>Pat</td>\n",
       "            <td>Gillick</td>\n",
       "            <td>gillipa99</td>\n",
       "            <td>calavco</td>\n",
       "            <td>2011</td>\n",
       "        </tr>\n",
       "        <tr>\n",
       "            <td>Pat</td>\n",
       "            <td>Gillick</td>\n",
       "            <td>gillipa99</td>\n",
       "            <td>usc</td>\n",
       "            <td>2011</td>\n",
       "        </tr>\n",
       "        <tr>\n",
       "            <td>Pat</td>\n",
       "            <td>Gillick</td>\n",
       "            <td>gillipa99</td>\n",
       "            <td>usc</td>\n",
       "            <td>2011</td>\n",
       "        </tr>\n",
       "        <tr>\n",
       "            <td>Randy</td>\n",
       "            <td>Johnson</td>\n",
       "            <td>johnsra05</td>\n",
       "            <td>usc</td>\n",
       "            <td>2015</td>\n",
       "        </tr>\n",
       "        <tr>\n",
       "            <td>Randy</td>\n",
       "            <td>Johnson</td>\n",
       "            <td>johnsra05</td>\n",
       "            <td>usc</td>\n",
       "            <td>2015</td>\n",
       "        </tr>\n",
       "        <tr>\n",
       "            <td>Randy</td>\n",
       "            <td>Johnson</td>\n",
       "            <td>johnsra05</td>\n",
       "            <td>usc</td>\n",
       "            <td>2015</td>\n",
       "        </tr>\n",
       "        <tr>\n",
       "            <td>Trevor</td>\n",
       "            <td>Hoffman</td>\n",
       "            <td>hoffmtr01</td>\n",
       "            <td>cacypre</td>\n",
       "            <td>2018</td>\n",
       "        </tr>\n",
       "        <tr>\n",
       "            <td>Trevor</td>\n",
       "            <td>Hoffman</td>\n",
       "            <td>hoffmtr01</td>\n",
       "            <td>cacypre</td>\n",
       "            <td>2018</td>\n",
       "        </tr>\n",
       "    </tbody>\n",
       "</table>"
      ],
      "text/plain": [
       "+-----------+----------+-----------+------------+--------+\n",
       "| namefirst | namelast |  playerid |  schoolid  | yearid |\n",
       "+-----------+----------+-----------+------------+--------+\n",
       "|   Jackie  | Robinson | robinja02 |    ucla    |  1962  |\n",
       "|   Harry   |  Hooper  | hoopeha01 | stmarysca  |  1971  |\n",
       "|    Joe    |  Morgan  | morgajo02 |  camerri   |  1990  |\n",
       "|    Tom    |  Seaver  | seaveto01 |  cafrecc   |  1992  |\n",
       "|    Tom    |  Seaver  | seaveto01 |    usc     |  1992  |\n",
       "|   Ozzie   |  Smith   | smithoz01 |  calpoly   |  2002  |\n",
       "|   Ozzie   |  Smith   | smithoz01 |  calpoly   |  2002  |\n",
       "|   Ozzie   |  Smith   | smithoz01 |  calpoly   |  2002  |\n",
       "|   Ozzie   |  Smith   | smithoz01 |  calpoly   |  2002  |\n",
       "|    Tony   |  Gwynn   | gwynnto01 | sandiegost |  2007  |\n",
       "|    Tony   |  Gwynn   | gwynnto01 | sandiegost |  2007  |\n",
       "|    Tony   |  Gwynn   | gwynnto01 | sandiegost |  2007  |\n",
       "|    Dick   | Williams | willidi02 |  capasad   |  2008  |\n",
       "|    Doug   |  Harvey  | harvedo99 | sandiegost |  2010  |\n",
       "|    Doug   |  Harvey  | harvedo99 | sandiegost |  2010  |\n",
       "|    Pat    | Gillick  | gillipa99 |  calavco   |  2011  |\n",
       "|    Pat    | Gillick  | gillipa99 |    usc     |  2011  |\n",
       "|    Pat    | Gillick  | gillipa99 |    usc     |  2011  |\n",
       "|   Randy   | Johnson  | johnsra05 |    usc     |  2015  |\n",
       "|   Randy   | Johnson  | johnsra05 |    usc     |  2015  |\n",
       "|   Randy   | Johnson  | johnsra05 |    usc     |  2015  |\n",
       "|   Trevor  | Hoffman  | hoffmtr01 |  cacypre   |  2018  |\n",
       "|   Trevor  | Hoffman  | hoffmtr01 |  cacypre   |  2018  |\n",
       "+-----------+----------+-----------+------------+--------+"
      ]
     },
     "execution_count": 29,
     "metadata": {},
     "output_type": "execute_result"
    }
   ],
   "source": [
    "%%sql\n",
    "/* just run this cell */\n",
    "DROP MATERIALIZED VIEW IF EXISTS inducted_hof_ca_mat;\n",
    "CREATE MATERIALIZED VIEW inducted_hof_ca_mat AS {{query_2a.strip(';')}};\n",
    "SELECT * FROM inducted_hof_ca_mat;"
   ]
  },
  {
   "cell_type": "markdown",
   "metadata": {},
   "source": [
    "<br/><br/>\n",
    "\n",
    "---\n",
    "### Question 2b\n",
    "\n",
    "For this question, we want to compute the count of players who were inducted into the Hall of Fame and played baseball at a college in California for each `schoolid` and `yearid` combination ordered by ascending `yearid`.\n",
    "\n",
    "You should write three queries that accomplish this task, but with different strategies:\n",
    "* Question 2bi: Use the `inducted_hof_ca` view;\n",
    "* Question 2bii Use the `inducted_hof_ca_mat` view; and\n",
    "* Question 2biii: Do not use `inducted_hof_ca` view, `inducted_hof_ca_mat` materialized view, any common table expressions (CTEs), nor any subqueries."
   ]
  },
  {
   "cell_type": "markdown",
   "metadata": {
    "deletable": false,
    "editable": false
   },
   "source": [
    "### Question 2bi\n",
    "\n",
    "Write a query to accomplish the task above using the `inducted_hof_ca` view. Assign your result to `result_2b_view`."
   ]
  },
  {
   "cell_type": "code",
   "execution_count": 30,
   "metadata": {
    "tags": []
   },
   "outputs": [
    {
     "data": {
      "text/html": [
       "<span style=\"None\">Running query in &#x27;postgresql://jovyan@127.0.0.1:5432/baseball&#x27;</span>"
      ],
      "text/plain": [
       "Running query in 'postgresql://jovyan@127.0.0.1:5432/baseball'"
      ]
     },
     "metadata": {},
     "output_type": "display_data"
    },
    {
     "data": {
      "text/html": [
       "<span style=\"color: green\">13 rows affected.</span>"
      ],
      "text/plain": [
       "13 rows affected."
      ]
     },
     "metadata": {},
     "output_type": "display_data"
    }
   ],
   "source": [
    "%%sql --save query_2b_view result_2b_view <<\n",
    "SELECT schoolid, yearid, count(*)\n",
    "FROM inducted_hof_ca\n",
    "GROUP BY schoolid, yearid\n",
    "ORDER BY yearid ASC"
   ]
  },
  {
   "cell_type": "code",
   "execution_count": 31,
   "metadata": {
    "tags": []
   },
   "outputs": [
    {
     "data": {
      "text/html": [
       "<table>\n",
       "    <thead>\n",
       "        <tr>\n",
       "            <th>schoolid</th>\n",
       "            <th>yearid</th>\n",
       "            <th>count</th>\n",
       "        </tr>\n",
       "    </thead>\n",
       "    <tbody>\n",
       "        <tr>\n",
       "            <td>ucla</td>\n",
       "            <td>1962</td>\n",
       "            <td>1</td>\n",
       "        </tr>\n",
       "        <tr>\n",
       "            <td>stmarysca</td>\n",
       "            <td>1971</td>\n",
       "            <td>1</td>\n",
       "        </tr>\n",
       "        <tr>\n",
       "            <td>camerri</td>\n",
       "            <td>1990</td>\n",
       "            <td>1</td>\n",
       "        </tr>\n",
       "        <tr>\n",
       "            <td>cafrecc</td>\n",
       "            <td>1992</td>\n",
       "            <td>1</td>\n",
       "        </tr>\n",
       "        <tr>\n",
       "            <td>usc</td>\n",
       "            <td>1992</td>\n",
       "            <td>1</td>\n",
       "        </tr>\n",
       "        <tr>\n",
       "            <td>calpoly</td>\n",
       "            <td>2002</td>\n",
       "            <td>4</td>\n",
       "        </tr>\n",
       "        <tr>\n",
       "            <td>sandiegost</td>\n",
       "            <td>2007</td>\n",
       "            <td>3</td>\n",
       "        </tr>\n",
       "        <tr>\n",
       "            <td>capasad</td>\n",
       "            <td>2008</td>\n",
       "            <td>1</td>\n",
       "        </tr>\n",
       "        <tr>\n",
       "            <td>sandiegost</td>\n",
       "            <td>2010</td>\n",
       "            <td>2</td>\n",
       "        </tr>\n",
       "        <tr>\n",
       "            <td>calavco</td>\n",
       "            <td>2011</td>\n",
       "            <td>1</td>\n",
       "        </tr>\n",
       "        <tr>\n",
       "            <td>usc</td>\n",
       "            <td>2011</td>\n",
       "            <td>2</td>\n",
       "        </tr>\n",
       "        <tr>\n",
       "            <td>usc</td>\n",
       "            <td>2015</td>\n",
       "            <td>3</td>\n",
       "        </tr>\n",
       "        <tr>\n",
       "            <td>cacypre</td>\n",
       "            <td>2018</td>\n",
       "            <td>2</td>\n",
       "        </tr>\n",
       "    </tbody>\n",
       "</table>"
      ],
      "text/plain": [
       "+------------+--------+-------+\n",
       "|  schoolid  | yearid | count |\n",
       "+------------+--------+-------+\n",
       "|    ucla    |  1962  |   1   |\n",
       "| stmarysca  |  1971  |   1   |\n",
       "|  camerri   |  1990  |   1   |\n",
       "|  cafrecc   |  1992  |   1   |\n",
       "|    usc     |  1992  |   1   |\n",
       "|  calpoly   |  2002  |   4   |\n",
       "| sandiegost |  2007  |   3   |\n",
       "|  capasad   |  2008  |   1   |\n",
       "| sandiegost |  2010  |   2   |\n",
       "|  calavco   |  2011  |   1   |\n",
       "|    usc     |  2011  |   2   |\n",
       "|    usc     |  2015  |   3   |\n",
       "|  cacypre   |  2018  |   2   |\n",
       "+------------+--------+-------+"
      ]
     },
     "execution_count": 31,
     "metadata": {},
     "output_type": "execute_result"
    }
   ],
   "source": [
    "# Do not delete/edit this cell!\n",
    "# You must run this cell before running the autograder.\n",
    "query_2b_view = %sqlcmd snippets query_2b_view\n",
    "grading_util.save_results(\"result_2b_view\", query_2b_view, result_2b_view)\n",
    "result_2b_view"
   ]
  },
  {
   "cell_type": "code",
   "execution_count": 32,
   "metadata": {
    "deletable": false,
    "editable": false
   },
   "outputs": [
    {
     "data": {
      "text/html": [
       "<p><strong><pre style='display: inline;'>q2bi</pre></strong> passed! ✨</p>"
      ],
      "text/plain": [
       "q2bi results: All test cases passed!"
      ]
     },
     "execution_count": 32,
     "metadata": {},
     "output_type": "execute_result"
    }
   ],
   "source": [
    "grader.check(\"q2bi\")"
   ]
  },
  {
   "cell_type": "markdown",
   "metadata": {
    "deletable": false,
    "editable": false
   },
   "source": [
    "<br/><br/>\n",
    "\n",
    "#### Question 2bii:\n",
    "\n",
    "Now, write the query a second time to use the materialized view `inducted_hof_ca_mat`. Assign your result to `result_2b_mat`."
   ]
  },
  {
   "cell_type": "code",
   "execution_count": 33,
   "metadata": {
    "scrolled": true,
    "tags": []
   },
   "outputs": [
    {
     "data": {
      "text/html": [
       "<span style=\"None\">Running query in &#x27;postgresql://jovyan@127.0.0.1:5432/baseball&#x27;</span>"
      ],
      "text/plain": [
       "Running query in 'postgresql://jovyan@127.0.0.1:5432/baseball'"
      ]
     },
     "metadata": {},
     "output_type": "display_data"
    },
    {
     "data": {
      "text/html": [
       "<span style=\"color: green\">13 rows affected.</span>"
      ],
      "text/plain": [
       "13 rows affected."
      ]
     },
     "metadata": {},
     "output_type": "display_data"
    }
   ],
   "source": [
    "%%sql --save query_2b_mat result_2b_mat <<\n",
    "SELECT schoolid, yearid, COUNT(playerid) AS player_count\n",
    "FROM inducted_hof_ca_mat\n",
    "GROUP BY schoolid, yearid\n",
    "ORDER BY yearid ASC;"
   ]
  },
  {
   "cell_type": "code",
   "execution_count": 34,
   "metadata": {
    "tags": []
   },
   "outputs": [
    {
     "data": {
      "text/html": [
       "<table>\n",
       "    <thead>\n",
       "        <tr>\n",
       "            <th>schoolid</th>\n",
       "            <th>yearid</th>\n",
       "            <th>player_count</th>\n",
       "        </tr>\n",
       "    </thead>\n",
       "    <tbody>\n",
       "        <tr>\n",
       "            <td>ucla</td>\n",
       "            <td>1962</td>\n",
       "            <td>1</td>\n",
       "        </tr>\n",
       "        <tr>\n",
       "            <td>stmarysca</td>\n",
       "            <td>1971</td>\n",
       "            <td>1</td>\n",
       "        </tr>\n",
       "        <tr>\n",
       "            <td>camerri</td>\n",
       "            <td>1990</td>\n",
       "            <td>1</td>\n",
       "        </tr>\n",
       "        <tr>\n",
       "            <td>cafrecc</td>\n",
       "            <td>1992</td>\n",
       "            <td>1</td>\n",
       "        </tr>\n",
       "        <tr>\n",
       "            <td>usc</td>\n",
       "            <td>1992</td>\n",
       "            <td>1</td>\n",
       "        </tr>\n",
       "        <tr>\n",
       "            <td>calpoly</td>\n",
       "            <td>2002</td>\n",
       "            <td>4</td>\n",
       "        </tr>\n",
       "        <tr>\n",
       "            <td>sandiegost</td>\n",
       "            <td>2007</td>\n",
       "            <td>3</td>\n",
       "        </tr>\n",
       "        <tr>\n",
       "            <td>capasad</td>\n",
       "            <td>2008</td>\n",
       "            <td>1</td>\n",
       "        </tr>\n",
       "        <tr>\n",
       "            <td>sandiegost</td>\n",
       "            <td>2010</td>\n",
       "            <td>2</td>\n",
       "        </tr>\n",
       "        <tr>\n",
       "            <td>calavco</td>\n",
       "            <td>2011</td>\n",
       "            <td>1</td>\n",
       "        </tr>\n",
       "        <tr>\n",
       "            <td>usc</td>\n",
       "            <td>2011</td>\n",
       "            <td>2</td>\n",
       "        </tr>\n",
       "        <tr>\n",
       "            <td>usc</td>\n",
       "            <td>2015</td>\n",
       "            <td>3</td>\n",
       "        </tr>\n",
       "        <tr>\n",
       "            <td>cacypre</td>\n",
       "            <td>2018</td>\n",
       "            <td>2</td>\n",
       "        </tr>\n",
       "    </tbody>\n",
       "</table>"
      ],
      "text/plain": [
       "+------------+--------+--------------+\n",
       "|  schoolid  | yearid | player_count |\n",
       "+------------+--------+--------------+\n",
       "|    ucla    |  1962  |      1       |\n",
       "| stmarysca  |  1971  |      1       |\n",
       "|  camerri   |  1990  |      1       |\n",
       "|  cafrecc   |  1992  |      1       |\n",
       "|    usc     |  1992  |      1       |\n",
       "|  calpoly   |  2002  |      4       |\n",
       "| sandiegost |  2007  |      3       |\n",
       "|  capasad   |  2008  |      1       |\n",
       "| sandiegost |  2010  |      2       |\n",
       "|  calavco   |  2011  |      1       |\n",
       "|    usc     |  2011  |      2       |\n",
       "|    usc     |  2015  |      3       |\n",
       "|  cacypre   |  2018  |      2       |\n",
       "+------------+--------+--------------+"
      ]
     },
     "execution_count": 34,
     "metadata": {},
     "output_type": "execute_result"
    }
   ],
   "source": [
    "# Do not delete/edit this cell!\n",
    "# You must run this cell before running the autograder.\n",
    "query_2b_mat = %sqlcmd snippets query_2b_mat\n",
    "grading_util.save_results(\"result_2b_mat\", query_2b_mat, result_2b_mat)\n",
    "result_2b_mat"
   ]
  },
  {
   "cell_type": "code",
   "execution_count": 35,
   "metadata": {
    "deletable": false,
    "editable": false
   },
   "outputs": [
    {
     "data": {
      "text/html": [
       "<p><strong><pre style='display: inline;'>q2bii</pre></strong> passed! 🙌</p>"
      ],
      "text/plain": [
       "q2bii results: All test cases passed!"
      ]
     },
     "execution_count": 35,
     "metadata": {},
     "output_type": "execute_result"
    }
   ],
   "source": [
    "grader.check(\"q2bii\")"
   ]
  },
  {
   "cell_type": "markdown",
   "metadata": {
    "deletable": false,
    "editable": false
   },
   "source": [
    "<br/><br/>\n",
    "\n",
    "#### Question 2biii:\n",
    "\n",
    "Finally, write the query a third time to **not** use the `inducted_hof_ca` view, nor the `inducted_hof_ca_mat` materialized view, nor any common table expressions (CTEs), nor any subqueries. Save your result in `result_2b_no_view`."
   ]
  },
  {
   "cell_type": "code",
   "execution_count": 36,
   "metadata": {
    "tags": []
   },
   "outputs": [
    {
     "data": {
      "text/html": [
       "<span style=\"None\">Running query in &#x27;postgresql://jovyan@127.0.0.1:5432/baseball&#x27;</span>"
      ],
      "text/plain": [
       "Running query in 'postgresql://jovyan@127.0.0.1:5432/baseball'"
      ]
     },
     "metadata": {},
     "output_type": "display_data"
    },
    {
     "data": {
      "text/html": [
       "<span style=\"color: green\">13 rows affected.</span>"
      ],
      "text/plain": [
       "13 rows affected."
      ]
     },
     "metadata": {},
     "output_type": "display_data"
    }
   ],
   "source": [
    "%%sql --save query_2b_no_view result_2b_no_view <<\n",
    "SELECT s.schoolid, h.yearid, count(*)\n",
    "FROM people AS p\n",
    "INNER JOIN halloffame AS h ON p.playerid = h.playerid\n",
    "INNER JOIN collegeplaying AS c ON p.playerid = c.playerid\n",
    "INNER JOIN schools AS s ON c.schoolid = s.schoolid\n",
    "WHERE h.inducted = 'Y' AND s.schoolstate = 'CA'\n",
    "GROUP BY s.schoolid, h.yearid\n",
    "ORDER BY h.yearid ASC"
   ]
  },
  {
   "cell_type": "code",
   "execution_count": 37,
   "metadata": {
    "tags": []
   },
   "outputs": [
    {
     "data": {
      "text/html": [
       "<table>\n",
       "    <thead>\n",
       "        <tr>\n",
       "            <th>schoolid</th>\n",
       "            <th>yearid</th>\n",
       "            <th>count</th>\n",
       "        </tr>\n",
       "    </thead>\n",
       "    <tbody>\n",
       "        <tr>\n",
       "            <td>ucla</td>\n",
       "            <td>1962</td>\n",
       "            <td>1</td>\n",
       "        </tr>\n",
       "        <tr>\n",
       "            <td>stmarysca</td>\n",
       "            <td>1971</td>\n",
       "            <td>1</td>\n",
       "        </tr>\n",
       "        <tr>\n",
       "            <td>camerri</td>\n",
       "            <td>1990</td>\n",
       "            <td>1</td>\n",
       "        </tr>\n",
       "        <tr>\n",
       "            <td>cafrecc</td>\n",
       "            <td>1992</td>\n",
       "            <td>1</td>\n",
       "        </tr>\n",
       "        <tr>\n",
       "            <td>usc</td>\n",
       "            <td>1992</td>\n",
       "            <td>1</td>\n",
       "        </tr>\n",
       "        <tr>\n",
       "            <td>calpoly</td>\n",
       "            <td>2002</td>\n",
       "            <td>4</td>\n",
       "        </tr>\n",
       "        <tr>\n",
       "            <td>sandiegost</td>\n",
       "            <td>2007</td>\n",
       "            <td>3</td>\n",
       "        </tr>\n",
       "        <tr>\n",
       "            <td>capasad</td>\n",
       "            <td>2008</td>\n",
       "            <td>1</td>\n",
       "        </tr>\n",
       "        <tr>\n",
       "            <td>sandiegost</td>\n",
       "            <td>2010</td>\n",
       "            <td>2</td>\n",
       "        </tr>\n",
       "        <tr>\n",
       "            <td>calavco</td>\n",
       "            <td>2011</td>\n",
       "            <td>1</td>\n",
       "        </tr>\n",
       "        <tr>\n",
       "            <td>usc</td>\n",
       "            <td>2011</td>\n",
       "            <td>2</td>\n",
       "        </tr>\n",
       "        <tr>\n",
       "            <td>usc</td>\n",
       "            <td>2015</td>\n",
       "            <td>3</td>\n",
       "        </tr>\n",
       "        <tr>\n",
       "            <td>cacypre</td>\n",
       "            <td>2018</td>\n",
       "            <td>2</td>\n",
       "        </tr>\n",
       "    </tbody>\n",
       "</table>"
      ],
      "text/plain": [
       "+------------+--------+-------+\n",
       "|  schoolid  | yearid | count |\n",
       "+------------+--------+-------+\n",
       "|    ucla    |  1962  |   1   |\n",
       "| stmarysca  |  1971  |   1   |\n",
       "|  camerri   |  1990  |   1   |\n",
       "|  cafrecc   |  1992  |   1   |\n",
       "|    usc     |  1992  |   1   |\n",
       "|  calpoly   |  2002  |   4   |\n",
       "| sandiegost |  2007  |   3   |\n",
       "|  capasad   |  2008  |   1   |\n",
       "| sandiegost |  2010  |   2   |\n",
       "|  calavco   |  2011  |   1   |\n",
       "|    usc     |  2011  |   2   |\n",
       "|    usc     |  2015  |   3   |\n",
       "|  cacypre   |  2018  |   2   |\n",
       "+------------+--------+-------+"
      ]
     },
     "execution_count": 37,
     "metadata": {},
     "output_type": "execute_result"
    }
   ],
   "source": [
    "# Do not delete/edit this cell!\n",
    "# You must run this cell before running the autograder.\n",
    "query_2b_no_view = %sqlcmd snippets query_2b_no_view\n",
    "grading_util.save_results(\"result_2b_no_view\", query_2b_no_view, result_2b_no_view)\n",
    "result_2b_no_view"
   ]
  },
  {
   "cell_type": "code",
   "execution_count": 38,
   "metadata": {
    "deletable": false,
    "editable": false
   },
   "outputs": [
    {
     "data": {
      "text/html": [
       "<p><strong><pre style='display: inline;'>q2biii</pre></strong> passed! 🍀</p>"
      ],
      "text/plain": [
       "q2biii results: All test cases passed!"
      ]
     },
     "execution_count": 38,
     "metadata": {},
     "output_type": "execute_result"
    }
   ],
   "source": [
    "grader.check(\"q2biii\")"
   ]
  },
  {
   "cell_type": "markdown",
   "metadata": {
    "deletable": false,
    "editable": false
   },
   "source": [
    "<br/><br/>\n",
    "\n",
    "---\n",
    "\n",
    "### Question 2c\n",
    "Inspect the query plans for the three queries you wrote above by running the following cells."
   ]
  },
  {
   "cell_type": "code",
   "execution_count": 39,
   "metadata": {
    "deletable": false,
    "editable": false
   },
   "outputs": [
    {
     "data": {
      "text/html": [
       "<span style=\"None\">Running query in &#x27;postgresql://jovyan@127.0.0.1:5432/baseball&#x27;</span>"
      ],
      "text/plain": [
       "Running query in 'postgresql://jovyan@127.0.0.1:5432/baseball'"
      ]
     },
     "metadata": {},
     "output_type": "display_data"
    },
    {
     "data": {
      "text/html": [
       "<span style=\"color: green\">27 rows affected.</span>"
      ],
      "text/plain": [
       "27 rows affected."
      ]
     },
     "metadata": {},
     "output_type": "display_data"
    },
    {
     "data": {
      "text/html": [
       "<table>\n",
       "    <thead>\n",
       "        <tr>\n",
       "            <th>QUERY PLAN</th>\n",
       "        </tr>\n",
       "    </thead>\n",
       "    <tbody>\n",
       "        <tr>\n",
       "            <td>GroupAggregate  (cost=325.73..325.75 rows=1 width=60) (actual time=3.398..3.407 rows=13 loops=1)</td>\n",
       "        </tr>\n",
       "        <tr>\n",
       "            <td>&nbsp;&nbsp;Group Key: inducted_hof_ca.yearid, inducted_hof_ca.schoolid</td>\n",
       "        </tr>\n",
       "        <tr>\n",
       "            <td>&nbsp;&nbsp;->  Sort  (cost=325.73..325.74 rows=1 width=52) (actual time=3.392..3.394 rows=23 loops=1)</td>\n",
       "        </tr>\n",
       "        <tr>\n",
       "            <td>&nbsp;&nbsp;&nbsp;&nbsp;&nbsp;&nbsp;&nbsp;&nbsp;Sort Key: inducted_hof_ca.yearid, inducted_hof_ca.schoolid</td>\n",
       "        </tr>\n",
       "        <tr>\n",
       "            <td>&nbsp;&nbsp;&nbsp;&nbsp;&nbsp;&nbsp;&nbsp;&nbsp;Sort Method: quicksort  Memory: 26kB</td>\n",
       "        </tr>\n",
       "        <tr>\n",
       "            <td>&nbsp;&nbsp;&nbsp;&nbsp;&nbsp;&nbsp;&nbsp;&nbsp;->  Subquery Scan on inducted_hof_ca  (cost=325.71..325.72 rows=1 width=52) (actual time=3.378..3.384 rows=23 loops=1)</td>\n",
       "        </tr>\n",
       "        <tr>\n",
       "            <td>&nbsp;&nbsp;&nbsp;&nbsp;&nbsp;&nbsp;&nbsp;&nbsp;&nbsp;&nbsp;&nbsp;&nbsp;&nbsp;&nbsp;->  Sort  (cost=325.71..325.71 rows=1 width=326) (actual time=3.376..3.378 rows=23 loops=1)</td>\n",
       "        </tr>\n",
       "        <tr>\n",
       "            <td>&nbsp;&nbsp;&nbsp;&nbsp;&nbsp;&nbsp;&nbsp;&nbsp;&nbsp;&nbsp;&nbsp;&nbsp;&nbsp;&nbsp;&nbsp;&nbsp;&nbsp;&nbsp;&nbsp;&nbsp;Sort Key: h.yearid, p.playerid</td>\n",
       "        </tr>\n",
       "        <tr>\n",
       "            <td>&nbsp;&nbsp;&nbsp;&nbsp;&nbsp;&nbsp;&nbsp;&nbsp;&nbsp;&nbsp;&nbsp;&nbsp;&nbsp;&nbsp;&nbsp;&nbsp;&nbsp;&nbsp;&nbsp;&nbsp;Sort Method: quicksort  Memory: 26kB</td>\n",
       "        </tr>\n",
       "        <tr>\n",
       "            <td>&nbsp;&nbsp;&nbsp;&nbsp;&nbsp;&nbsp;&nbsp;&nbsp;&nbsp;&nbsp;&nbsp;&nbsp;&nbsp;&nbsp;&nbsp;&nbsp;&nbsp;&nbsp;&nbsp;&nbsp;->  Nested Loop  (cost=0.85..325.70 rows=1 width=326) (actual time=1.152..3.362 rows=23 loops=1)</td>\n",
       "        </tr>\n",
       "        <tr>\n",
       "            <td>&nbsp;&nbsp;&nbsp;&nbsp;&nbsp;&nbsp;&nbsp;&nbsp;&nbsp;&nbsp;&nbsp;&nbsp;&nbsp;&nbsp;&nbsp;&nbsp;&nbsp;&nbsp;&nbsp;&nbsp;&nbsp;&nbsp;&nbsp;&nbsp;&nbsp;&nbsp;->  Nested Loop  (cost=0.57..319.95 rows=19 width=90) (actual time=0.094..3.017 rows=137 loops=1)</td>\n",
       "        </tr>\n",
       "        <tr>\n",
       "            <td>&nbsp;&nbsp;&nbsp;&nbsp;&nbsp;&nbsp;&nbsp;&nbsp;&nbsp;&nbsp;&nbsp;&nbsp;&nbsp;&nbsp;&nbsp;&nbsp;&nbsp;&nbsp;&nbsp;&nbsp;&nbsp;&nbsp;&nbsp;&nbsp;&nbsp;&nbsp;&nbsp;&nbsp;&nbsp;&nbsp;&nbsp;&nbsp;->  Nested Loop  (cost=0.29..262.79 rows=21 width=80) (actual time=0.049..1.865 rows=323 loops=1)</td>\n",
       "        </tr>\n",
       "        <tr>\n",
       "            <td>&nbsp;&nbsp;&nbsp;&nbsp;&nbsp;&nbsp;&nbsp;&nbsp;&nbsp;&nbsp;&nbsp;&nbsp;&nbsp;&nbsp;&nbsp;&nbsp;&nbsp;&nbsp;&nbsp;&nbsp;&nbsp;&nbsp;&nbsp;&nbsp;&nbsp;&nbsp;&nbsp;&nbsp;&nbsp;&nbsp;&nbsp;&nbsp;&nbsp;&nbsp;&nbsp;&nbsp;&nbsp;&nbsp;->  Seq Scan on halloffame h  (cost=0.00..96.39 rows=21 width=42) (actual time=0.025..0.537 rows=323 loops=1)</td>\n",
       "        </tr>\n",
       "        <tr>\n",
       "            <td>&nbsp;&nbsp;&nbsp;&nbsp;&nbsp;&nbsp;&nbsp;&nbsp;&nbsp;&nbsp;&nbsp;&nbsp;&nbsp;&nbsp;&nbsp;&nbsp;&nbsp;&nbsp;&nbsp;&nbsp;&nbsp;&nbsp;&nbsp;&nbsp;&nbsp;&nbsp;&nbsp;&nbsp;&nbsp;&nbsp;&nbsp;&nbsp;&nbsp;&nbsp;&nbsp;&nbsp;&nbsp;&nbsp;&nbsp;&nbsp;&nbsp;&nbsp;&nbsp;&nbsp;Filter: ((inducted)::text = 'Y'::text)</td>\n",
       "        </tr>\n",
       "        <tr>\n",
       "            <td>&nbsp;&nbsp;&nbsp;&nbsp;&nbsp;&nbsp;&nbsp;&nbsp;&nbsp;&nbsp;&nbsp;&nbsp;&nbsp;&nbsp;&nbsp;&nbsp;&nbsp;&nbsp;&nbsp;&nbsp;&nbsp;&nbsp;&nbsp;&nbsp;&nbsp;&nbsp;&nbsp;&nbsp;&nbsp;&nbsp;&nbsp;&nbsp;&nbsp;&nbsp;&nbsp;&nbsp;&nbsp;&nbsp;&nbsp;&nbsp;&nbsp;&nbsp;&nbsp;&nbsp;Rows Removed by Filter: 3868</td>\n",
       "        </tr>\n",
       "        <tr>\n",
       "            <td>&nbsp;&nbsp;&nbsp;&nbsp;&nbsp;&nbsp;&nbsp;&nbsp;&nbsp;&nbsp;&nbsp;&nbsp;&nbsp;&nbsp;&nbsp;&nbsp;&nbsp;&nbsp;&nbsp;&nbsp;&nbsp;&nbsp;&nbsp;&nbsp;&nbsp;&nbsp;&nbsp;&nbsp;&nbsp;&nbsp;&nbsp;&nbsp;&nbsp;&nbsp;&nbsp;&nbsp;&nbsp;&nbsp;->  Index Only Scan using master_pkey on people p  (cost=0.29..7.92 rows=1 width=38) (actual time=0.004..0.004 rows=1 loops=323)</td>\n",
       "        </tr>\n",
       "        <tr>\n",
       "            <td>&nbsp;&nbsp;&nbsp;&nbsp;&nbsp;&nbsp;&nbsp;&nbsp;&nbsp;&nbsp;&nbsp;&nbsp;&nbsp;&nbsp;&nbsp;&nbsp;&nbsp;&nbsp;&nbsp;&nbsp;&nbsp;&nbsp;&nbsp;&nbsp;&nbsp;&nbsp;&nbsp;&nbsp;&nbsp;&nbsp;&nbsp;&nbsp;&nbsp;&nbsp;&nbsp;&nbsp;&nbsp;&nbsp;&nbsp;&nbsp;&nbsp;&nbsp;&nbsp;&nbsp;Index Cond: (playerid = (h.playerid)::text)</td>\n",
       "        </tr>\n",
       "        <tr>\n",
       "            <td>&nbsp;&nbsp;&nbsp;&nbsp;&nbsp;&nbsp;&nbsp;&nbsp;&nbsp;&nbsp;&nbsp;&nbsp;&nbsp;&nbsp;&nbsp;&nbsp;&nbsp;&nbsp;&nbsp;&nbsp;&nbsp;&nbsp;&nbsp;&nbsp;&nbsp;&nbsp;&nbsp;&nbsp;&nbsp;&nbsp;&nbsp;&nbsp;&nbsp;&nbsp;&nbsp;&nbsp;&nbsp;&nbsp;&nbsp;&nbsp;&nbsp;&nbsp;&nbsp;&nbsp;Heap Fetches: 323</td>\n",
       "        </tr>\n",
       "        <tr>\n",
       "            <td>&nbsp;&nbsp;&nbsp;&nbsp;&nbsp;&nbsp;&nbsp;&nbsp;&nbsp;&nbsp;&nbsp;&nbsp;&nbsp;&nbsp;&nbsp;&nbsp;&nbsp;&nbsp;&nbsp;&nbsp;&nbsp;&nbsp;&nbsp;&nbsp;&nbsp;&nbsp;&nbsp;&nbsp;&nbsp;&nbsp;&nbsp;&nbsp;->  Index Only Scan using collegeplaying_pkey on collegeplaying c  (cost=0.29..1.85 rows=87 width=86) (actual time=0.003..0.003 rows=0 loops=323)</td>\n",
       "        </tr>\n",
       "        <tr>\n",
       "            <td>&nbsp;&nbsp;&nbsp;&nbsp;&nbsp;&nbsp;&nbsp;&nbsp;&nbsp;&nbsp;&nbsp;&nbsp;&nbsp;&nbsp;&nbsp;&nbsp;&nbsp;&nbsp;&nbsp;&nbsp;&nbsp;&nbsp;&nbsp;&nbsp;&nbsp;&nbsp;&nbsp;&nbsp;&nbsp;&nbsp;&nbsp;&nbsp;&nbsp;&nbsp;&nbsp;&nbsp;&nbsp;&nbsp;Index Cond: (playerid = (p.playerid)::text)</td>\n",
       "        </tr>\n",
       "        <tr>\n",
       "            <td>&nbsp;&nbsp;&nbsp;&nbsp;&nbsp;&nbsp;&nbsp;&nbsp;&nbsp;&nbsp;&nbsp;&nbsp;&nbsp;&nbsp;&nbsp;&nbsp;&nbsp;&nbsp;&nbsp;&nbsp;&nbsp;&nbsp;&nbsp;&nbsp;&nbsp;&nbsp;&nbsp;&nbsp;&nbsp;&nbsp;&nbsp;&nbsp;&nbsp;&nbsp;&nbsp;&nbsp;&nbsp;&nbsp;Heap Fetches: 137</td>\n",
       "        </tr>\n",
       "        <tr>\n",
       "            <td>&nbsp;&nbsp;&nbsp;&nbsp;&nbsp;&nbsp;&nbsp;&nbsp;&nbsp;&nbsp;&nbsp;&nbsp;&nbsp;&nbsp;&nbsp;&nbsp;&nbsp;&nbsp;&nbsp;&nbsp;&nbsp;&nbsp;&nbsp;&nbsp;&nbsp;&nbsp;->  Index Scan using schools_pkey on schools s  (cost=0.28..0.30 rows=1 width=48) (actual time=0.002..0.002 rows=0 loops=137)</td>\n",
       "        </tr>\n",
       "        <tr>\n",
       "            <td>&nbsp;&nbsp;&nbsp;&nbsp;&nbsp;&nbsp;&nbsp;&nbsp;&nbsp;&nbsp;&nbsp;&nbsp;&nbsp;&nbsp;&nbsp;&nbsp;&nbsp;&nbsp;&nbsp;&nbsp;&nbsp;&nbsp;&nbsp;&nbsp;&nbsp;&nbsp;&nbsp;&nbsp;&nbsp;&nbsp;&nbsp;&nbsp;Index Cond: ((schoolid)::text = (c.schoolid)::text)</td>\n",
       "        </tr>\n",
       "        <tr>\n",
       "            <td>&nbsp;&nbsp;&nbsp;&nbsp;&nbsp;&nbsp;&nbsp;&nbsp;&nbsp;&nbsp;&nbsp;&nbsp;&nbsp;&nbsp;&nbsp;&nbsp;&nbsp;&nbsp;&nbsp;&nbsp;&nbsp;&nbsp;&nbsp;&nbsp;&nbsp;&nbsp;&nbsp;&nbsp;&nbsp;&nbsp;&nbsp;&nbsp;Filter: ((schoolstate)::text = 'CA'::text)</td>\n",
       "        </tr>\n",
       "        <tr>\n",
       "            <td>&nbsp;&nbsp;&nbsp;&nbsp;&nbsp;&nbsp;&nbsp;&nbsp;&nbsp;&nbsp;&nbsp;&nbsp;&nbsp;&nbsp;&nbsp;&nbsp;&nbsp;&nbsp;&nbsp;&nbsp;&nbsp;&nbsp;&nbsp;&nbsp;&nbsp;&nbsp;&nbsp;&nbsp;&nbsp;&nbsp;&nbsp;&nbsp;Rows Removed by Filter: 1</td>\n",
       "        </tr>\n",
       "        <tr>\n",
       "            <td>Planning Time: 0.415 ms</td>\n",
       "        </tr>\n",
       "        <tr>\n",
       "            <td>Execution Time: 3.458 ms</td>\n",
       "        </tr>\n",
       "    </tbody>\n",
       "</table>"
      ],
      "text/plain": [
       "+-----------------------------------------------------------------------------------------------------------------------------------------------------------------------------------+\n",
       "|                                                                                     QUERY PLAN                                                                                    |\n",
       "+-----------------------------------------------------------------------------------------------------------------------------------------------------------------------------------+\n",
       "|                                          GroupAggregate  (cost=325.73..325.75 rows=1 width=60) (actual time=3.398..3.407 rows=13 loops=1)                                         |\n",
       "|                                                             Group Key: inducted_hof_ca.yearid, inducted_hof_ca.schoolid                                                           |\n",
       "|                                              ->  Sort  (cost=325.73..325.74 rows=1 width=52) (actual time=3.392..3.394 rows=23 loops=1)                                           |\n",
       "|                                                                 Sort Key: inducted_hof_ca.yearid, inducted_hof_ca.schoolid                                                        |\n",
       "|                                                                            Sort Method: quicksort  Memory: 26kB                                                                   |\n",
       "|                                   ->  Subquery Scan on inducted_hof_ca  (cost=325.71..325.72 rows=1 width=52) (actual time=3.378..3.384 rows=23 loops=1)                          |\n",
       "|                                                   ->  Sort  (cost=325.71..325.71 rows=1 width=326) (actual time=3.376..3.378 rows=23 loops=1)                                     |\n",
       "|                                                                                     Sort Key: h.yearid, p.playerid                                                                |\n",
       "|                                                                                  Sort Method: quicksort  Memory: 26kB                                                             |\n",
       "|                                                    ->  Nested Loop  (cost=0.85..325.70 rows=1 width=326) (actual time=1.152..3.362 rows=23 loops=1)                               |\n",
       "|                                                      ->  Nested Loop  (cost=0.57..319.95 rows=19 width=90) (actual time=0.094..3.017 rows=137 loops=1)                            |\n",
       "|                                                         ->  Nested Loop  (cost=0.29..262.79 rows=21 width=80) (actual time=0.049..1.865 rows=323 loops=1)                         |\n",
       "|                                                      ->  Seq Scan on halloffame h  (cost=0.00..96.39 rows=21 width=42) (actual time=0.025..0.537 rows=323 loops=1)                |\n",
       "|                                                                                             Filter: ((inducted)::text = 'Y'::text)                                                |\n",
       "|                                                                                                  Rows Removed by Filter: 3868                                                     |\n",
       "|                                             ->  Index Only Scan using master_pkey on people p  (cost=0.29..7.92 rows=1 width=38) (actual time=0.004..0.004 rows=1 loops=323)      |\n",
       "|                                                                                          Index Cond: (playerid = (h.playerid)::text)                                              |\n",
       "|                                                                                                       Heap Fetches: 323                                                           |\n",
       "|                                 ->  Index Only Scan using collegeplaying_pkey on collegeplaying c  (cost=0.29..1.85 rows=87 width=86) (actual time=0.003..0.003 rows=0 loops=323) |\n",
       "|                                                                                       Index Cond: (playerid = (p.playerid)::text)                                                 |\n",
       "|                                                                                                    Heap Fetches: 137                                                              |\n",
       "|                                        ->  Index Scan using schools_pkey on schools s  (cost=0.28..0.30 rows=1 width=48) (actual time=0.002..0.002 rows=0 loops=137)              |\n",
       "|                                                                                Index Cond: ((schoolid)::text = (c.schoolid)::text)                                                |\n",
       "|                                                                                     Filter: ((schoolstate)::text = 'CA'::text)                                                    |\n",
       "|                                                                                             Rows Removed by Filter: 1                                                             |\n",
       "|                                                                              Planning Time: 0.415 ms                                                                              |\n",
       "|                                                                              Execution Time: 3.458 ms                                                                             |\n",
       "+-----------------------------------------------------------------------------------------------------------------------------------------------------------------------------------+"
      ]
     },
     "execution_count": 39,
     "metadata": {},
     "output_type": "execute_result"
    }
   ],
   "source": [
    "# just run this cell\n",
    "%sql EXPLAIN ANALYZE {{query_2b_view}}"
   ]
  },
  {
   "cell_type": "code",
   "execution_count": 40,
   "metadata": {
    "deletable": false,
    "editable": false
   },
   "outputs": [
    {
     "data": {
      "text/html": [
       "<span style=\"None\">Running query in &#x27;postgresql://jovyan@127.0.0.1:5432/baseball&#x27;</span>"
      ],
      "text/plain": [
       "Running query in 'postgresql://jovyan@127.0.0.1:5432/baseball'"
      ]
     },
     "metadata": {},
     "output_type": "display_data"
    },
    {
     "data": {
      "text/html": [
       "<span style=\"color: green\">9 rows affected.</span>"
      ],
      "text/plain": [
       "9 rows affected."
      ]
     },
     "metadata": {},
     "output_type": "display_data"
    },
    {
     "data": {
      "text/html": [
       "<table>\n",
       "    <thead>\n",
       "        <tr>\n",
       "            <th>QUERY PLAN</th>\n",
       "        </tr>\n",
       "    </thead>\n",
       "    <tbody>\n",
       "        <tr>\n",
       "            <td>Sort  (cost=23.67..24.17 rows=200 width=60) (actual time=0.033..0.034 rows=13 loops=1)</td>\n",
       "        </tr>\n",
       "        <tr>\n",
       "            <td>&nbsp;&nbsp;Sort Key: yearid</td>\n",
       "        </tr>\n",
       "        <tr>\n",
       "            <td>&nbsp;&nbsp;Sort Method: quicksort  Memory: 25kB</td>\n",
       "        </tr>\n",
       "        <tr>\n",
       "            <td>&nbsp;&nbsp;->  HashAggregate  (cost=14.03..16.02 rows=200 width=60) (actual time=0.023..0.026 rows=13 loops=1)</td>\n",
       "        </tr>\n",
       "        <tr>\n",
       "            <td>&nbsp;&nbsp;&nbsp;&nbsp;&nbsp;&nbsp;&nbsp;&nbsp;Group Key: yearid, schoolid</td>\n",
       "        </tr>\n",
       "        <tr>\n",
       "            <td>&nbsp;&nbsp;&nbsp;&nbsp;&nbsp;&nbsp;&nbsp;&nbsp;Batches: 1  Memory Usage: 40kB</td>\n",
       "        </tr>\n",
       "        <tr>\n",
       "            <td>&nbsp;&nbsp;&nbsp;&nbsp;&nbsp;&nbsp;&nbsp;&nbsp;->  Seq Scan on inducted_hof_ca_mat  (cost=0.00..12.30 rows=230 width=90) (actual time=0.006..0.007 rows=23 loops=1)</td>\n",
       "        </tr>\n",
       "        <tr>\n",
       "            <td>Planning Time: 0.075 ms</td>\n",
       "        </tr>\n",
       "        <tr>\n",
       "            <td>Execution Time: 0.062 ms</td>\n",
       "        </tr>\n",
       "    </tbody>\n",
       "</table>"
      ],
      "text/plain": [
       "+------------------------------------------------------------------------------------------------------------------------------+\n",
       "|                                                          QUERY PLAN                                                          |\n",
       "+------------------------------------------------------------------------------------------------------------------------------+\n",
       "|                    Sort  (cost=23.67..24.17 rows=200 width=60) (actual time=0.033..0.034 rows=13 loops=1)                    |\n",
       "|                                                        Sort Key: yearid                                                      |\n",
       "|                                              Sort Method: quicksort  Memory: 25kB                                            |\n",
       "|              ->  HashAggregate  (cost=14.03..16.02 rows=200 width=60) (actual time=0.023..0.026 rows=13 loops=1)             |\n",
       "|                                                     Group Key: yearid, schoolid                                              |\n",
       "|                                                    Batches: 1  Memory Usage: 40kB                                            |\n",
       "|         ->  Seq Scan on inducted_hof_ca_mat  (cost=0.00..12.30 rows=230 width=90) (actual time=0.006..0.007 rows=23 loops=1) |\n",
       "|                                                   Planning Time: 0.075 ms                                                    |\n",
       "|                                                   Execution Time: 0.062 ms                                                   |\n",
       "+------------------------------------------------------------------------------------------------------------------------------+"
      ]
     },
     "execution_count": 40,
     "metadata": {},
     "output_type": "execute_result"
    }
   ],
   "source": [
    "# just run this cell\n",
    "%sql EXPLAIN ANALYZE {{query_2b_mat}}"
   ]
  },
  {
   "cell_type": "code",
   "execution_count": 41,
   "metadata": {
    "deletable": false,
    "editable": false
   },
   "outputs": [
    {
     "data": {
      "text/html": [
       "<span style=\"None\">Running query in &#x27;postgresql://jovyan@127.0.0.1:5432/baseball&#x27;</span>"
      ],
      "text/plain": [
       "Running query in 'postgresql://jovyan@127.0.0.1:5432/baseball'"
      ]
     },
     "metadata": {},
     "output_type": "display_data"
    },
    {
     "data": {
      "text/html": [
       "<span style=\"color: green\">23 rows affected.</span>"
      ],
      "text/plain": [
       "23 rows affected."
      ]
     },
     "metadata": {},
     "output_type": "display_data"
    },
    {
     "data": {
      "text/html": [
       "<table>\n",
       "    <thead>\n",
       "        <tr>\n",
       "            <th>QUERY PLAN</th>\n",
       "        </tr>\n",
       "    </thead>\n",
       "    <tbody>\n",
       "        <tr>\n",
       "            <td>GroupAggregate  (cost=325.71..325.73 rows=1 width=60) (actual time=3.318..3.339 rows=13 loops=1)</td>\n",
       "        </tr>\n",
       "        <tr>\n",
       "            <td>&nbsp;&nbsp;Group Key: h.yearid, s.schoolid</td>\n",
       "        </tr>\n",
       "        <tr>\n",
       "            <td>&nbsp;&nbsp;->  Sort  (cost=325.71..325.71 rows=1 width=52) (actual time=3.312..3.315 rows=23 loops=1)</td>\n",
       "        </tr>\n",
       "        <tr>\n",
       "            <td>&nbsp;&nbsp;&nbsp;&nbsp;&nbsp;&nbsp;&nbsp;&nbsp;Sort Key: h.yearid, s.schoolid</td>\n",
       "        </tr>\n",
       "        <tr>\n",
       "            <td>&nbsp;&nbsp;&nbsp;&nbsp;&nbsp;&nbsp;&nbsp;&nbsp;Sort Method: quicksort  Memory: 26kB</td>\n",
       "        </tr>\n",
       "        <tr>\n",
       "            <td>&nbsp;&nbsp;&nbsp;&nbsp;&nbsp;&nbsp;&nbsp;&nbsp;->  Nested Loop  (cost=0.85..325.70 rows=1 width=52) (actual time=1.134..3.298 rows=23 loops=1)</td>\n",
       "        </tr>\n",
       "        <tr>\n",
       "            <td>&nbsp;&nbsp;&nbsp;&nbsp;&nbsp;&nbsp;&nbsp;&nbsp;&nbsp;&nbsp;&nbsp;&nbsp;&nbsp;&nbsp;->  Nested Loop  (cost=0.57..319.95 rows=19 width=52) (actual time=0.090..2.936 rows=137 loops=1)</td>\n",
       "        </tr>\n",
       "        <tr>\n",
       "            <td>&nbsp;&nbsp;&nbsp;&nbsp;&nbsp;&nbsp;&nbsp;&nbsp;&nbsp;&nbsp;&nbsp;&nbsp;&nbsp;&nbsp;&nbsp;&nbsp;&nbsp;&nbsp;&nbsp;&nbsp;->  Nested Loop  (cost=0.29..262.79 rows=21 width=80) (actual time=0.034..1.794 rows=323 loops=1)</td>\n",
       "        </tr>\n",
       "        <tr>\n",
       "            <td>&nbsp;&nbsp;&nbsp;&nbsp;&nbsp;&nbsp;&nbsp;&nbsp;&nbsp;&nbsp;&nbsp;&nbsp;&nbsp;&nbsp;&nbsp;&nbsp;&nbsp;&nbsp;&nbsp;&nbsp;&nbsp;&nbsp;&nbsp;&nbsp;&nbsp;&nbsp;->  Seq Scan on halloffame h  (cost=0.00..96.39 rows=21 width=42) (actual time=0.014..0.508 rows=323 loops=1)</td>\n",
       "        </tr>\n",
       "        <tr>\n",
       "            <td>&nbsp;&nbsp;&nbsp;&nbsp;&nbsp;&nbsp;&nbsp;&nbsp;&nbsp;&nbsp;&nbsp;&nbsp;&nbsp;&nbsp;&nbsp;&nbsp;&nbsp;&nbsp;&nbsp;&nbsp;&nbsp;&nbsp;&nbsp;&nbsp;&nbsp;&nbsp;&nbsp;&nbsp;&nbsp;&nbsp;&nbsp;&nbsp;Filter: ((inducted)::text = 'Y'::text)</td>\n",
       "        </tr>\n",
       "        <tr>\n",
       "            <td>&nbsp;&nbsp;&nbsp;&nbsp;&nbsp;&nbsp;&nbsp;&nbsp;&nbsp;&nbsp;&nbsp;&nbsp;&nbsp;&nbsp;&nbsp;&nbsp;&nbsp;&nbsp;&nbsp;&nbsp;&nbsp;&nbsp;&nbsp;&nbsp;&nbsp;&nbsp;&nbsp;&nbsp;&nbsp;&nbsp;&nbsp;&nbsp;Rows Removed by Filter: 3868</td>\n",
       "        </tr>\n",
       "        <tr>\n",
       "            <td>&nbsp;&nbsp;&nbsp;&nbsp;&nbsp;&nbsp;&nbsp;&nbsp;&nbsp;&nbsp;&nbsp;&nbsp;&nbsp;&nbsp;&nbsp;&nbsp;&nbsp;&nbsp;&nbsp;&nbsp;&nbsp;&nbsp;&nbsp;&nbsp;&nbsp;&nbsp;->  Index Only Scan using master_pkey on people p  (cost=0.29..7.92 rows=1 width=38) (actual time=0.004..0.004 rows=1 loops=323)</td>\n",
       "        </tr>\n",
       "        <tr>\n",
       "            <td>&nbsp;&nbsp;&nbsp;&nbsp;&nbsp;&nbsp;&nbsp;&nbsp;&nbsp;&nbsp;&nbsp;&nbsp;&nbsp;&nbsp;&nbsp;&nbsp;&nbsp;&nbsp;&nbsp;&nbsp;&nbsp;&nbsp;&nbsp;&nbsp;&nbsp;&nbsp;&nbsp;&nbsp;&nbsp;&nbsp;&nbsp;&nbsp;Index Cond: (playerid = (h.playerid)::text)</td>\n",
       "        </tr>\n",
       "        <tr>\n",
       "            <td>&nbsp;&nbsp;&nbsp;&nbsp;&nbsp;&nbsp;&nbsp;&nbsp;&nbsp;&nbsp;&nbsp;&nbsp;&nbsp;&nbsp;&nbsp;&nbsp;&nbsp;&nbsp;&nbsp;&nbsp;&nbsp;&nbsp;&nbsp;&nbsp;&nbsp;&nbsp;&nbsp;&nbsp;&nbsp;&nbsp;&nbsp;&nbsp;Heap Fetches: 323</td>\n",
       "        </tr>\n",
       "        <tr>\n",
       "            <td>&nbsp;&nbsp;&nbsp;&nbsp;&nbsp;&nbsp;&nbsp;&nbsp;&nbsp;&nbsp;&nbsp;&nbsp;&nbsp;&nbsp;&nbsp;&nbsp;&nbsp;&nbsp;&nbsp;&nbsp;->  Index Only Scan using collegeplaying_pkey on collegeplaying c  (cost=0.29..1.85 rows=87 width=86) (actual time=0.003..0.003 rows=0 loops=323)</td>\n",
       "        </tr>\n",
       "        <tr>\n",
       "            <td>&nbsp;&nbsp;&nbsp;&nbsp;&nbsp;&nbsp;&nbsp;&nbsp;&nbsp;&nbsp;&nbsp;&nbsp;&nbsp;&nbsp;&nbsp;&nbsp;&nbsp;&nbsp;&nbsp;&nbsp;&nbsp;&nbsp;&nbsp;&nbsp;&nbsp;&nbsp;Index Cond: (playerid = (p.playerid)::text)</td>\n",
       "        </tr>\n",
       "        <tr>\n",
       "            <td>&nbsp;&nbsp;&nbsp;&nbsp;&nbsp;&nbsp;&nbsp;&nbsp;&nbsp;&nbsp;&nbsp;&nbsp;&nbsp;&nbsp;&nbsp;&nbsp;&nbsp;&nbsp;&nbsp;&nbsp;&nbsp;&nbsp;&nbsp;&nbsp;&nbsp;&nbsp;Heap Fetches: 137</td>\n",
       "        </tr>\n",
       "        <tr>\n",
       "            <td>&nbsp;&nbsp;&nbsp;&nbsp;&nbsp;&nbsp;&nbsp;&nbsp;&nbsp;&nbsp;&nbsp;&nbsp;&nbsp;&nbsp;->  Index Scan using schools_pkey on schools s  (cost=0.28..0.30 rows=1 width=48) (actual time=0.002..0.002 rows=0 loops=137)</td>\n",
       "        </tr>\n",
       "        <tr>\n",
       "            <td>&nbsp;&nbsp;&nbsp;&nbsp;&nbsp;&nbsp;&nbsp;&nbsp;&nbsp;&nbsp;&nbsp;&nbsp;&nbsp;&nbsp;&nbsp;&nbsp;&nbsp;&nbsp;&nbsp;&nbsp;Index Cond: ((schoolid)::text = (c.schoolid)::text)</td>\n",
       "        </tr>\n",
       "        <tr>\n",
       "            <td>&nbsp;&nbsp;&nbsp;&nbsp;&nbsp;&nbsp;&nbsp;&nbsp;&nbsp;&nbsp;&nbsp;&nbsp;&nbsp;&nbsp;&nbsp;&nbsp;&nbsp;&nbsp;&nbsp;&nbsp;Filter: ((schoolstate)::text = 'CA'::text)</td>\n",
       "        </tr>\n",
       "        <tr>\n",
       "            <td>&nbsp;&nbsp;&nbsp;&nbsp;&nbsp;&nbsp;&nbsp;&nbsp;&nbsp;&nbsp;&nbsp;&nbsp;&nbsp;&nbsp;&nbsp;&nbsp;&nbsp;&nbsp;&nbsp;&nbsp;Rows Removed by Filter: 1</td>\n",
       "        </tr>\n",
       "        <tr>\n",
       "            <td>Planning Time: 0.397 ms</td>\n",
       "        </tr>\n",
       "        <tr>\n",
       "            <td>Execution Time: 3.389 ms</td>\n",
       "        </tr>\n",
       "    </tbody>\n",
       "</table>"
      ],
      "text/plain": [
       "+-----------------------------------------------------------------------------------------------------------------------------------------------------------------------+\n",
       "|                                                                               QUERY PLAN                                                                              |\n",
       "+-----------------------------------------------------------------------------------------------------------------------------------------------------------------------+\n",
       "|                                    GroupAggregate  (cost=325.71..325.73 rows=1 width=60) (actual time=3.318..3.339 rows=13 loops=1)                                   |\n",
       "|                                                                     Group Key: h.yearid, s.schoolid                                                                   |\n",
       "|                                        ->  Sort  (cost=325.71..325.71 rows=1 width=52) (actual time=3.312..3.315 rows=23 loops=1)                                     |\n",
       "|                                                                         Sort Key: h.yearid, s.schoolid                                                                |\n",
       "|                                                                      Sort Method: quicksort  Memory: 26kB                                                             |\n",
       "|                                        ->  Nested Loop  (cost=0.85..325.70 rows=1 width=52) (actual time=1.134..3.298 rows=23 loops=1)                                |\n",
       "|                                          ->  Nested Loop  (cost=0.57..319.95 rows=19 width=52) (actual time=0.090..2.936 rows=137 loops=1)                            |\n",
       "|                                             ->  Nested Loop  (cost=0.29..262.79 rows=21 width=80) (actual time=0.034..1.794 rows=323 loops=1)                         |\n",
       "|                                          ->  Seq Scan on halloffame h  (cost=0.00..96.39 rows=21 width=42) (actual time=0.014..0.508 rows=323 loops=1)                |\n",
       "|                                                                                 Filter: ((inducted)::text = 'Y'::text)                                                |\n",
       "|                                                                                      Rows Removed by Filter: 3868                                                     |\n",
       "|                                 ->  Index Only Scan using master_pkey on people p  (cost=0.29..7.92 rows=1 width=38) (actual time=0.004..0.004 rows=1 loops=323)      |\n",
       "|                                                                              Index Cond: (playerid = (h.playerid)::text)                                              |\n",
       "|                                                                                           Heap Fetches: 323                                                           |\n",
       "|                     ->  Index Only Scan using collegeplaying_pkey on collegeplaying c  (cost=0.29..1.85 rows=87 width=86) (actual time=0.003..0.003 rows=0 loops=323) |\n",
       "|                                                                           Index Cond: (playerid = (p.playerid)::text)                                                 |\n",
       "|                                                                                        Heap Fetches: 137                                                              |\n",
       "|                            ->  Index Scan using schools_pkey on schools s  (cost=0.28..0.30 rows=1 width=48) (actual time=0.002..0.002 rows=0 loops=137)              |\n",
       "|                                                                    Index Cond: ((schoolid)::text = (c.schoolid)::text)                                                |\n",
       "|                                                                         Filter: ((schoolstate)::text = 'CA'::text)                                                    |\n",
       "|                                                                                 Rows Removed by Filter: 1                                                             |\n",
       "|                                                                        Planning Time: 0.397 ms                                                                        |\n",
       "|                                                                        Execution Time: 3.389 ms                                                                       |\n",
       "+-----------------------------------------------------------------------------------------------------------------------------------------------------------------------+"
      ]
     },
     "execution_count": 41,
     "metadata": {},
     "output_type": "execute_result"
    }
   ],
   "source": [
    "# just run this cell\n",
    "%sql EXPLAIN ANALYZE {{query_2b_no_view}}"
   ]
  },
  {
   "cell_type": "markdown",
   "metadata": {
    "deletable": false,
    "editable": false
   },
   "source": [
    "Then, record the execution time and cost for each query."
   ]
  },
  {
   "cell_type": "code",
   "execution_count": 42,
   "metadata": {
    "tags": []
   },
   "outputs": [],
   "source": [
    "with_view_cost = 520.69\n",
    "with_view_timing = 4.361\n",
    "with_materialized_view_cost = 24.17\n",
    "with_materialized_view_timing = 0.064\n",
    "without_view_cost = 519.45\n",
    "without_view_timing = 4.393"
   ]
  },
  {
   "cell_type": "code",
   "execution_count": 43,
   "metadata": {
    "deletable": false,
    "editable": false
   },
   "outputs": [
    {
     "data": {
      "text/html": [
       "<p><strong><pre style='display: inline;'>q2c</pre></strong> passed! 💯</p>"
      ],
      "text/plain": [
       "q2c results: All test cases passed!"
      ]
     },
     "execution_count": 43,
     "metadata": {},
     "output_type": "execute_result"
    }
   ],
   "source": [
    "grader.check(\"q2c\")"
   ]
  },
  {
   "cell_type": "markdown",
   "metadata": {
    "deletable": false,
    "editable": false
   },
   "source": [
    "<br/><br/>\n",
    "\n",
    "---\n",
    "\n",
    "## Question 2d\n",
    "\n",
    "Given your findings from inspecting the query plans in this Question, as well as your understanding of views and materialized views from lectures, discuss the takeaways of using views and materialized views.\n",
    "\n",
    "### Question 2di\n",
    "\n",
    "Assign the variable `q2di` to a list of all of the below statements that are true.\n",
    "\n",
    "A. Views will reduce the execution time and the cost of a query.<br/>\n",
    "B. Views will reduce the execution time of a query, but not the cost.<br/>\n",
    "C. Views will reduce the cost of a query, but not the execution time.<br/>\n",
    "D. Materialized views reduce the execution time and the cost of a query.<br/>\n",
    "E. Materialized views reduce the execution time, but not cost of a query<br/>\n",
    "F. Materialized views reduce the cost of a query, but not the execution time.<br/>\n",
    "G. Materialized views will result in the same query plan as a query using views.<br/>\n",
    "H. Materialized views and views take the same time to create.<br/>\n",
    "I. Materialized views take less time to create than a view.<br/>\n",
    "J. Materialized views take more time to create than a view.<br/>\n",
    "    \n",
    "*Note:* Your answer should look like `q2di = ['A', 'B']`"
   ]
  },
  {
   "cell_type": "code",
   "execution_count": 44,
   "metadata": {
    "tags": []
   },
   "outputs": [],
   "source": [
    "q2di = ['D', 'J']"
   ]
  },
  {
   "cell_type": "code",
   "execution_count": 45,
   "metadata": {
    "deletable": false,
    "editable": false
   },
   "outputs": [
    {
     "data": {
      "text/html": [
       "<p><strong><pre style='display: inline;'>q2di</pre></strong> passed! ✨</p>"
      ],
      "text/plain": [
       "q2di results: All test cases passed!"
      ]
     },
     "execution_count": 45,
     "metadata": {},
     "output_type": "execute_result"
    }
   ],
   "source": [
    "grader.check(\"q2di\")"
   ]
  },
  {
   "cell_type": "markdown",
   "metadata": {
    "deletable": false,
    "editable": false
   },
   "source": [
    "<!-- BEGIN QUESTION -->\n",
    "\n",
    "#### Question 2dii:\n",
    "\n",
    "Explain your answer to the previous part (Question 2di) based on your knowledge from lectures and details from the query plans. Your explanation should also include why you didn't choose certain options. Please answer in maximum 5 sentences."
   ]
  },
  {
   "cell_type": "markdown",
   "metadata": {},
   "source": [
    "The primary distinction between a View and a Materialized View is that the latter stores its output on disk, while the former does not. As a result, options 'A', 'B', and 'C' can be dismissed since a view, not being stored on disk, doesn't alter the cost or runtime of a query. In contrast, a materialized view enhances performance by reducing both cost and runtime, as it provides pre-computed data from the disk, eliminating the need to fetch data from scratch. This understanding negates options 'E' and 'F'. Furthermore, since creating a materialized view involves disk I/O operations, it inherently takes longer than creating a regular view, validating option 'J'."
   ]
  },
  {
   "cell_type": "markdown",
   "metadata": {
    "deletable": false,
    "editable": false
   },
   "source": [
    "<!-- END QUESTION -->\n",
    "\n",
    "<br><br>\n",
    "\n",
    "<hr style=\"border: 5px solid #003262;\" />\n",
    "<hr style=\"border: 1px solid #fdb515;\" />\n",
    "\n",
    "# Question 3: Predicate Pushdown\n",
    "In this question, we will explore the impact of predicates (i.e., filters) on a query's execution, particularly inspecting when the optimizer applies predicates.\n",
    "\n",
    "* Question 3a: Compute a query with all rows.\n",
    "* Question 3b: Add a simple filter.\n",
    "* Question 3c: Analyze the tradeoffs to cost.\n",
    "* Question 3d: Analyze the tradeoffs to execution time."
   ]
  },
  {
   "cell_type": "markdown",
   "metadata": {
    "deletable": false,
    "editable": false
   },
   "source": [
    "\n",
    "## Question 3a:\n",
    "Recall the `inducted_hof_ca` view created in `Question 2`. Inspect the query plan for a query that that gets all rows from the view, and record the execution time and cost using an `EXPLAIN ANALYZE` command."
   ]
  },
  {
   "cell_type": "code",
   "execution_count": 46,
   "metadata": {
    "tags": []
   },
   "outputs": [
    {
     "data": {
      "text/html": [
       "<span style=\"None\">Running query in &#x27;postgresql://jovyan@127.0.0.1:5432/baseball&#x27;</span>"
      ],
      "text/plain": [
       "Running query in 'postgresql://jovyan@127.0.0.1:5432/baseball'"
      ]
     },
     "metadata": {},
     "output_type": "display_data"
    },
    {
     "data": {
      "text/html": [
       "<span style=\"color: green\">20 rows affected.</span>"
      ],
      "text/plain": [
       "20 rows affected."
      ]
     },
     "metadata": {},
     "output_type": "display_data"
    },
    {
     "data": {
      "text/html": [
       "<table>\n",
       "    <thead>\n",
       "        <tr>\n",
       "            <th>QUERY PLAN</th>\n",
       "        </tr>\n",
       "    </thead>\n",
       "    <tbody>\n",
       "        <tr>\n",
       "            <td>Sort  (cost=325.71..325.71 rows=1 width=326) (actual time=3.390..3.393 rows=23 loops=1)</td>\n",
       "        </tr>\n",
       "        <tr>\n",
       "            <td>&nbsp;&nbsp;Sort Key: h.yearid, p.playerid</td>\n",
       "        </tr>\n",
       "        <tr>\n",
       "            <td>&nbsp;&nbsp;Sort Method: quicksort  Memory: 26kB</td>\n",
       "        </tr>\n",
       "        <tr>\n",
       "            <td>&nbsp;&nbsp;->  Nested Loop  (cost=0.85..325.70 rows=1 width=326) (actual time=1.157..3.374 rows=23 loops=1)</td>\n",
       "        </tr>\n",
       "        <tr>\n",
       "            <td>&nbsp;&nbsp;&nbsp;&nbsp;&nbsp;&nbsp;&nbsp;&nbsp;->  Nested Loop  (cost=0.57..319.95 rows=19 width=326) (actual time=0.094..3.032 rows=137 loops=1)</td>\n",
       "        </tr>\n",
       "        <tr>\n",
       "            <td>&nbsp;&nbsp;&nbsp;&nbsp;&nbsp;&nbsp;&nbsp;&nbsp;&nbsp;&nbsp;&nbsp;&nbsp;&nbsp;&nbsp;->  Nested Loop  (cost=0.29..262.79 rows=21 width=316) (actual time=0.047..1.901 rows=323 loops=1)</td>\n",
       "        </tr>\n",
       "        <tr>\n",
       "            <td>&nbsp;&nbsp;&nbsp;&nbsp;&nbsp;&nbsp;&nbsp;&nbsp;&nbsp;&nbsp;&nbsp;&nbsp;&nbsp;&nbsp;&nbsp;&nbsp;&nbsp;&nbsp;&nbsp;&nbsp;->  Seq Scan on halloffame h  (cost=0.00..96.39 rows=21 width=42) (actual time=0.013..0.545 rows=323 loops=1)</td>\n",
       "        </tr>\n",
       "        <tr>\n",
       "            <td>&nbsp;&nbsp;&nbsp;&nbsp;&nbsp;&nbsp;&nbsp;&nbsp;&nbsp;&nbsp;&nbsp;&nbsp;&nbsp;&nbsp;&nbsp;&nbsp;&nbsp;&nbsp;&nbsp;&nbsp;&nbsp;&nbsp;&nbsp;&nbsp;&nbsp;&nbsp;Filter: ((inducted)::text = 'Y'::text)</td>\n",
       "        </tr>\n",
       "        <tr>\n",
       "            <td>&nbsp;&nbsp;&nbsp;&nbsp;&nbsp;&nbsp;&nbsp;&nbsp;&nbsp;&nbsp;&nbsp;&nbsp;&nbsp;&nbsp;&nbsp;&nbsp;&nbsp;&nbsp;&nbsp;&nbsp;&nbsp;&nbsp;&nbsp;&nbsp;&nbsp;&nbsp;Rows Removed by Filter: 3868</td>\n",
       "        </tr>\n",
       "        <tr>\n",
       "            <td>&nbsp;&nbsp;&nbsp;&nbsp;&nbsp;&nbsp;&nbsp;&nbsp;&nbsp;&nbsp;&nbsp;&nbsp;&nbsp;&nbsp;&nbsp;&nbsp;&nbsp;&nbsp;&nbsp;&nbsp;->  Index Scan using master_pkey on people p  (cost=0.29..7.92 rows=1 width=274) (actual time=0.004..0.004 rows=1 loops=323)</td>\n",
       "        </tr>\n",
       "        <tr>\n",
       "            <td>&nbsp;&nbsp;&nbsp;&nbsp;&nbsp;&nbsp;&nbsp;&nbsp;&nbsp;&nbsp;&nbsp;&nbsp;&nbsp;&nbsp;&nbsp;&nbsp;&nbsp;&nbsp;&nbsp;&nbsp;&nbsp;&nbsp;&nbsp;&nbsp;&nbsp;&nbsp;Index Cond: ((playerid)::text = (h.playerid)::text)</td>\n",
       "        </tr>\n",
       "        <tr>\n",
       "            <td>&nbsp;&nbsp;&nbsp;&nbsp;&nbsp;&nbsp;&nbsp;&nbsp;&nbsp;&nbsp;&nbsp;&nbsp;&nbsp;&nbsp;->  Index Only Scan using collegeplaying_pkey on collegeplaying c  (cost=0.29..1.85 rows=87 width=86) (actual time=0.003..0.003 rows=0 loops=323)</td>\n",
       "        </tr>\n",
       "        <tr>\n",
       "            <td>&nbsp;&nbsp;&nbsp;&nbsp;&nbsp;&nbsp;&nbsp;&nbsp;&nbsp;&nbsp;&nbsp;&nbsp;&nbsp;&nbsp;&nbsp;&nbsp;&nbsp;&nbsp;&nbsp;&nbsp;Index Cond: (playerid = (p.playerid)::text)</td>\n",
       "        </tr>\n",
       "        <tr>\n",
       "            <td>&nbsp;&nbsp;&nbsp;&nbsp;&nbsp;&nbsp;&nbsp;&nbsp;&nbsp;&nbsp;&nbsp;&nbsp;&nbsp;&nbsp;&nbsp;&nbsp;&nbsp;&nbsp;&nbsp;&nbsp;Heap Fetches: 137</td>\n",
       "        </tr>\n",
       "        <tr>\n",
       "            <td>&nbsp;&nbsp;&nbsp;&nbsp;&nbsp;&nbsp;&nbsp;&nbsp;->  Index Scan using schools_pkey on schools s  (cost=0.28..0.30 rows=1 width=48) (actual time=0.002..0.002 rows=0 loops=137)</td>\n",
       "        </tr>\n",
       "        <tr>\n",
       "            <td>&nbsp;&nbsp;&nbsp;&nbsp;&nbsp;&nbsp;&nbsp;&nbsp;&nbsp;&nbsp;&nbsp;&nbsp;&nbsp;&nbsp;Index Cond: ((schoolid)::text = (c.schoolid)::text)</td>\n",
       "        </tr>\n",
       "        <tr>\n",
       "            <td>&nbsp;&nbsp;&nbsp;&nbsp;&nbsp;&nbsp;&nbsp;&nbsp;&nbsp;&nbsp;&nbsp;&nbsp;&nbsp;&nbsp;Filter: ((schoolstate)::text = 'CA'::text)</td>\n",
       "        </tr>\n",
       "        <tr>\n",
       "            <td>&nbsp;&nbsp;&nbsp;&nbsp;&nbsp;&nbsp;&nbsp;&nbsp;&nbsp;&nbsp;&nbsp;&nbsp;&nbsp;&nbsp;Rows Removed by Filter: 1</td>\n",
       "        </tr>\n",
       "        <tr>\n",
       "            <td>Planning Time: 0.445 ms</td>\n",
       "        </tr>\n",
       "        <tr>\n",
       "            <td>Execution Time: 3.437 ms</td>\n",
       "        </tr>\n",
       "    </tbody>\n",
       "</table>"
      ],
      "text/plain": [
       "+-----------------------------------------------------------------------------------------------------------------------------------------------------------------+\n",
       "|                                                                            QUERY PLAN                                                                           |\n",
       "+-----------------------------------------------------------------------------------------------------------------------------------------------------------------+\n",
       "|                                     Sort  (cost=325.71..325.71 rows=1 width=326) (actual time=3.390..3.393 rows=23 loops=1)                                     |\n",
       "|                                                                   Sort Key: h.yearid, p.playerid                                                                |\n",
       "|                                                                Sort Method: quicksort  Memory: 26kB                                                             |\n",
       "|                                  ->  Nested Loop  (cost=0.85..325.70 rows=1 width=326) (actual time=1.157..3.374 rows=23 loops=1)                               |\n",
       "|                                    ->  Nested Loop  (cost=0.57..319.95 rows=19 width=326) (actual time=0.094..3.032 rows=137 loops=1)                           |\n",
       "|                                       ->  Nested Loop  (cost=0.29..262.79 rows=21 width=316) (actual time=0.047..1.901 rows=323 loops=1)                        |\n",
       "|                                    ->  Seq Scan on halloffame h  (cost=0.00..96.39 rows=21 width=42) (actual time=0.013..0.545 rows=323 loops=1)                |\n",
       "|                                                                           Filter: ((inducted)::text = 'Y'::text)                                                |\n",
       "|                                                                                Rows Removed by Filter: 3868                                                     |\n",
       "|                             ->  Index Scan using master_pkey on people p  (cost=0.29..7.92 rows=1 width=274) (actual time=0.004..0.004 rows=1 loops=323)        |\n",
       "|                                                                    Index Cond: ((playerid)::text = (h.playerid)::text)                                          |\n",
       "|               ->  Index Only Scan using collegeplaying_pkey on collegeplaying c  (cost=0.29..1.85 rows=87 width=86) (actual time=0.003..0.003 rows=0 loops=323) |\n",
       "|                                                                     Index Cond: (playerid = (p.playerid)::text)                                                 |\n",
       "|                                                                                  Heap Fetches: 137                                                              |\n",
       "|                      ->  Index Scan using schools_pkey on schools s  (cost=0.28..0.30 rows=1 width=48) (actual time=0.002..0.002 rows=0 loops=137)              |\n",
       "|                                                              Index Cond: ((schoolid)::text = (c.schoolid)::text)                                                |\n",
       "|                                                                   Filter: ((schoolstate)::text = 'CA'::text)                                                    |\n",
       "|                                                                           Rows Removed by Filter: 1                                                             |\n",
       "|                                                                     Planning Time: 0.445 ms                                                                     |\n",
       "|                                                                     Execution Time: 3.437 ms                                                                    |\n",
       "+-----------------------------------------------------------------------------------------------------------------------------------------------------------------+"
      ]
     },
     "execution_count": 46,
     "metadata": {},
     "output_type": "execute_result"
    }
   ],
   "source": [
    "%%sql\n",
    "EXPLAIN ANALYZE SELECT * FROM inducted_hof_ca;"
   ]
  },
  {
   "cell_type": "code",
   "execution_count": 47,
   "metadata": {
    "tags": []
   },
   "outputs": [],
   "source": [
    "query_view_cost = 528.30\n",
    "query_view_timing = 4.451"
   ]
  },
  {
   "cell_type": "code",
   "execution_count": 48,
   "metadata": {
    "deletable": false,
    "editable": false
   },
   "outputs": [
    {
     "data": {
      "text/html": [
       "<p><strong><pre style='display: inline;'>q3a</pre></strong> passed! 🚀</p>"
      ],
      "text/plain": [
       "q3a results: All test cases passed!"
      ]
     },
     "execution_count": 48,
     "metadata": {},
     "output_type": "execute_result"
    }
   ],
   "source": [
    "grader.check(\"q3a\")"
   ]
  },
  {
   "cell_type": "markdown",
   "metadata": {
    "deletable": false,
    "editable": false
   },
   "source": [
    "<br><br>\n",
    "\n",
    "---\n",
    "\n",
    "## Question 3b:\n",
    "Now, add a filter to only return rows from `inducted_hof_ca` where the year is later than 2010. Inspect the query plan and record the execution time and cost."
   ]
  },
  {
   "cell_type": "code",
   "execution_count": 49,
   "metadata": {
    "tags": []
   },
   "outputs": [
    {
     "data": {
      "text/html": [
       "<span style=\"None\">Running query in &#x27;postgresql://jovyan@127.0.0.1:5432/baseball&#x27;</span>"
      ],
      "text/plain": [
       "Running query in 'postgresql://jovyan@127.0.0.1:5432/baseball'"
      ]
     },
     "metadata": {},
     "output_type": "display_data"
    },
    {
     "data": {
      "text/html": [
       "<span style=\"color: green\">20 rows affected.</span>"
      ],
      "text/plain": [
       "20 rows affected."
      ]
     },
     "metadata": {},
     "output_type": "display_data"
    },
    {
     "data": {
      "text/html": [
       "<table>\n",
       "    <thead>\n",
       "        <tr>\n",
       "            <th>QUERY PLAN</th>\n",
       "        </tr>\n",
       "    </thead>\n",
       "    <tbody>\n",
       "        <tr>\n",
       "            <td>Sort  (cost=185.88..185.89 rows=1 width=326) (actual time=0.839..0.841 rows=8 loops=1)</td>\n",
       "        </tr>\n",
       "        <tr>\n",
       "            <td>&nbsp;&nbsp;Sort Key: h.yearid, p.playerid</td>\n",
       "        </tr>\n",
       "        <tr>\n",
       "            <td>&nbsp;&nbsp;Sort Method: quicksort  Memory: 25kB</td>\n",
       "        </tr>\n",
       "        <tr>\n",
       "            <td>&nbsp;&nbsp;->  Nested Loop  (cost=0.85..185.87 rows=1 width=326) (actual time=0.438..0.828 rows=8 loops=1)</td>\n",
       "        </tr>\n",
       "        <tr>\n",
       "            <td>&nbsp;&nbsp;&nbsp;&nbsp;&nbsp;&nbsp;&nbsp;&nbsp;->  Nested Loop  (cost=0.57..184.05 rows=6 width=326) (actual time=0.429..0.744 rows=27 loops=1)</td>\n",
       "        </tr>\n",
       "        <tr>\n",
       "            <td>&nbsp;&nbsp;&nbsp;&nbsp;&nbsp;&nbsp;&nbsp;&nbsp;&nbsp;&nbsp;&nbsp;&nbsp;&nbsp;&nbsp;->  Nested Loop  (cost=0.29..165.00 rows=7 width=316) (actual time=0.385..0.579 rows=31 loops=1)</td>\n",
       "        </tr>\n",
       "        <tr>\n",
       "            <td>&nbsp;&nbsp;&nbsp;&nbsp;&nbsp;&nbsp;&nbsp;&nbsp;&nbsp;&nbsp;&nbsp;&nbsp;&nbsp;&nbsp;&nbsp;&nbsp;&nbsp;&nbsp;&nbsp;&nbsp;->  Seq Scan on halloffame h  (cost=0.00..106.86 rows=7 width=42) (actual time=0.370..0.408 rows=31 loops=1)</td>\n",
       "        </tr>\n",
       "        <tr>\n",
       "            <td>&nbsp;&nbsp;&nbsp;&nbsp;&nbsp;&nbsp;&nbsp;&nbsp;&nbsp;&nbsp;&nbsp;&nbsp;&nbsp;&nbsp;&nbsp;&nbsp;&nbsp;&nbsp;&nbsp;&nbsp;&nbsp;&nbsp;&nbsp;&nbsp;&nbsp;&nbsp;Filter: ((yearid > 2010) AND ((inducted)::text = 'Y'::text))</td>\n",
       "        </tr>\n",
       "        <tr>\n",
       "            <td>&nbsp;&nbsp;&nbsp;&nbsp;&nbsp;&nbsp;&nbsp;&nbsp;&nbsp;&nbsp;&nbsp;&nbsp;&nbsp;&nbsp;&nbsp;&nbsp;&nbsp;&nbsp;&nbsp;&nbsp;&nbsp;&nbsp;&nbsp;&nbsp;&nbsp;&nbsp;Rows Removed by Filter: 4160</td>\n",
       "        </tr>\n",
       "        <tr>\n",
       "            <td>&nbsp;&nbsp;&nbsp;&nbsp;&nbsp;&nbsp;&nbsp;&nbsp;&nbsp;&nbsp;&nbsp;&nbsp;&nbsp;&nbsp;&nbsp;&nbsp;&nbsp;&nbsp;&nbsp;&nbsp;->  Index Scan using master_pkey on people p  (cost=0.29..8.30 rows=1 width=274) (actual time=0.005..0.005 rows=1 loops=31)</td>\n",
       "        </tr>\n",
       "        <tr>\n",
       "            <td>&nbsp;&nbsp;&nbsp;&nbsp;&nbsp;&nbsp;&nbsp;&nbsp;&nbsp;&nbsp;&nbsp;&nbsp;&nbsp;&nbsp;&nbsp;&nbsp;&nbsp;&nbsp;&nbsp;&nbsp;&nbsp;&nbsp;&nbsp;&nbsp;&nbsp;&nbsp;Index Cond: ((playerid)::text = (h.playerid)::text)</td>\n",
       "        </tr>\n",
       "        <tr>\n",
       "            <td>&nbsp;&nbsp;&nbsp;&nbsp;&nbsp;&nbsp;&nbsp;&nbsp;&nbsp;&nbsp;&nbsp;&nbsp;&nbsp;&nbsp;->  Index Only Scan using collegeplaying_pkey on collegeplaying c  (cost=0.29..1.85 rows=87 width=86) (actual time=0.005..0.005 rows=1 loops=31)</td>\n",
       "        </tr>\n",
       "        <tr>\n",
       "            <td>&nbsp;&nbsp;&nbsp;&nbsp;&nbsp;&nbsp;&nbsp;&nbsp;&nbsp;&nbsp;&nbsp;&nbsp;&nbsp;&nbsp;&nbsp;&nbsp;&nbsp;&nbsp;&nbsp;&nbsp;Index Cond: (playerid = (p.playerid)::text)</td>\n",
       "        </tr>\n",
       "        <tr>\n",
       "            <td>&nbsp;&nbsp;&nbsp;&nbsp;&nbsp;&nbsp;&nbsp;&nbsp;&nbsp;&nbsp;&nbsp;&nbsp;&nbsp;&nbsp;&nbsp;&nbsp;&nbsp;&nbsp;&nbsp;&nbsp;Heap Fetches: 27</td>\n",
       "        </tr>\n",
       "        <tr>\n",
       "            <td>&nbsp;&nbsp;&nbsp;&nbsp;&nbsp;&nbsp;&nbsp;&nbsp;->  Index Scan using schools_pkey on schools s  (cost=0.28..0.30 rows=1 width=48) (actual time=0.003..0.003 rows=0 loops=27)</td>\n",
       "        </tr>\n",
       "        <tr>\n",
       "            <td>&nbsp;&nbsp;&nbsp;&nbsp;&nbsp;&nbsp;&nbsp;&nbsp;&nbsp;&nbsp;&nbsp;&nbsp;&nbsp;&nbsp;Index Cond: ((schoolid)::text = (c.schoolid)::text)</td>\n",
       "        </tr>\n",
       "        <tr>\n",
       "            <td>&nbsp;&nbsp;&nbsp;&nbsp;&nbsp;&nbsp;&nbsp;&nbsp;&nbsp;&nbsp;&nbsp;&nbsp;&nbsp;&nbsp;Filter: ((schoolstate)::text = 'CA'::text)</td>\n",
       "        </tr>\n",
       "        <tr>\n",
       "            <td>&nbsp;&nbsp;&nbsp;&nbsp;&nbsp;&nbsp;&nbsp;&nbsp;&nbsp;&nbsp;&nbsp;&nbsp;&nbsp;&nbsp;Rows Removed by Filter: 1</td>\n",
       "        </tr>\n",
       "        <tr>\n",
       "            <td>Planning Time: 0.522 ms</td>\n",
       "        </tr>\n",
       "        <tr>\n",
       "            <td>Execution Time: 0.884 ms</td>\n",
       "        </tr>\n",
       "    </tbody>\n",
       "</table>"
      ],
      "text/plain": [
       "+----------------------------------------------------------------------------------------------------------------------------------------------------------------+\n",
       "|                                                                           QUERY PLAN                                                                           |\n",
       "+----------------------------------------------------------------------------------------------------------------------------------------------------------------+\n",
       "|                                     Sort  (cost=185.88..185.89 rows=1 width=326) (actual time=0.839..0.841 rows=8 loops=1)                                     |\n",
       "|                                                                  Sort Key: h.yearid, p.playerid                                                                |\n",
       "|                                                               Sort Method: quicksort  Memory: 25kB                                                             |\n",
       "|                                 ->  Nested Loop  (cost=0.85..185.87 rows=1 width=326) (actual time=0.438..0.828 rows=8 loops=1)                                |\n",
       "|                                    ->  Nested Loop  (cost=0.57..184.05 rows=6 width=326) (actual time=0.429..0.744 rows=27 loops=1)                            |\n",
       "|                                       ->  Nested Loop  (cost=0.29..165.00 rows=7 width=316) (actual time=0.385..0.579 rows=31 loops=1)                         |\n",
       "|                                    ->  Seq Scan on halloffame h  (cost=0.00..106.86 rows=7 width=42) (actual time=0.370..0.408 rows=31 loops=1)                |\n",
       "|                                                               Filter: ((yearid > 2010) AND ((inducted)::text = 'Y'::text))                                     |\n",
       "|                                                                               Rows Removed by Filter: 4160                                                     |\n",
       "|                            ->  Index Scan using master_pkey on people p  (cost=0.29..8.30 rows=1 width=274) (actual time=0.005..0.005 rows=1 loops=31)         |\n",
       "|                                                                   Index Cond: ((playerid)::text = (h.playerid)::text)                                          |\n",
       "|               ->  Index Only Scan using collegeplaying_pkey on collegeplaying c  (cost=0.29..1.85 rows=87 width=86) (actual time=0.005..0.005 rows=1 loops=31) |\n",
       "|                                                                    Index Cond: (playerid = (p.playerid)::text)                                                 |\n",
       "|                                                                                  Heap Fetches: 27                                                              |\n",
       "|                      ->  Index Scan using schools_pkey on schools s  (cost=0.28..0.30 rows=1 width=48) (actual time=0.003..0.003 rows=0 loops=27)              |\n",
       "|                                                             Index Cond: ((schoolid)::text = (c.schoolid)::text)                                                |\n",
       "|                                                                  Filter: ((schoolstate)::text = 'CA'::text)                                                    |\n",
       "|                                                                          Rows Removed by Filter: 1                                                             |\n",
       "|                                                                    Planning Time: 0.522 ms                                                                     |\n",
       "|                                                                    Execution Time: 0.884 ms                                                                    |\n",
       "+----------------------------------------------------------------------------------------------------------------------------------------------------------------+"
      ]
     },
     "execution_count": 49,
     "metadata": {},
     "output_type": "execute_result"
    }
   ],
   "source": [
    "%%sql\n",
    "EXPLAIN ANALYZE SELECT * FROM inducted_hof_ca WHERE yearid > 2010;"
   ]
  },
  {
   "cell_type": "code",
   "execution_count": 50,
   "metadata": {
    "tags": []
   },
   "outputs": [],
   "source": [
    "query_view_with_filter_cost = 209.85\n",
    "query_view_with_filter_timing = 0.735"
   ]
  },
  {
   "cell_type": "code",
   "execution_count": 51,
   "metadata": {
    "deletable": false,
    "editable": false
   },
   "outputs": [
    {
     "data": {
      "text/html": [
       "<p><strong><pre style='display: inline;'>q3b</pre></strong> passed! 🚀</p>"
      ],
      "text/plain": [
       "q3b results: All test cases passed!"
      ]
     },
     "execution_count": 51,
     "metadata": {},
     "output_type": "execute_result"
    }
   ],
   "source": [
    "grader.check(\"q3b\")"
   ]
  },
  {
   "cell_type": "markdown",
   "metadata": {
    "deletable": false,
    "editable": false
   },
   "source": [
    "<!-- BEGIN QUESTION -->\n",
    "\n",
    "## Question 3c:\n",
    "Given your findings from inspecting the query plans of queries from Questions 3a and 3b, fill in the blank and **justify your answer**. Explain your answer based on your knowledge from lectures, and details from the query plans (your explanation should include why you didn't choose other options). Your response should be no longer than 3 sentences.\n",
    "\n",
    "**Note:** Your answer should be formatted as follows: `A because ...`\n",
    "\n",
    "**Adding a filter ___ the cost.**\n",
    "<br>\n",
    "A. increased\n",
    "<br>\n",
    "B. decreased\n",
    "<br>\n",
    "C. did not change"
   ]
  },
  {
   "cell_type": "markdown",
   "metadata": {},
   "source": [
    "B. decreased because the cost of executing the query with the filter (209.85) is significantly lower than the cost without the filter (528.30). The filter effectively narrows down the number of rows to be processed, leading to a more efficient query execution."
   ]
  },
  {
   "cell_type": "markdown",
   "metadata": {
    "deletable": false,
    "editable": false
   },
   "source": [
    "<!-- END QUESTION -->\n",
    "\n",
    "<!-- BEGIN QUESTION -->\n",
    "\n",
    "<br><br>\n",
    "\n",
    "---\n",
    "\n",
    "## Question 3d:\n",
    "Given your findings from inspecting the query plans of queries from Questions 3a and 3b, fill in the blank and **justify your answer**. Explain your answer based on your knowledge from lectures, and details from the query plans (your explanation should include why you didn't choose other options). Your response should be no longer than 3 sentences.\n",
    "\n",
    "**Note:** Your answer should be formatted as follows: `A because ...`\n",
    "\n",
    "**Adding a filter ___ the execution time.**\n",
    "<br>\n",
    "A. increased\n",
    "<br>\n",
    "B. decreased\n",
    "<br>\n",
    "C. did not change"
   ]
  },
  {
   "cell_type": "markdown",
   "metadata": {},
   "source": [
    "B. decreased because the execution time with the filter (0.735 ms) is notably shorter than the execution time without the filter (4.451 ms). By adding the filter, the database processes fewer rows, leading to a faster query execution."
   ]
  },
  {
   "cell_type": "markdown",
   "metadata": {
    "deletable": false,
    "editable": false
   },
   "source": [
    "<!-- END QUESTION -->\n",
    "\n",
    "<br><br>\n",
    "\n",
    "<hr style=\"border: 5px solid #003262;\" />\n",
    "<hr style=\"border: 1px solid #fdb515;\" />\n",
    "\n",
    "# Question 4: Join Approaches\n",
    "\n",
    "In this question, we'll explore different join approaches (Nested Loop Join, Merge Join, Hash Join) and discuss how the query optimizer picks the best approach."
   ]
  },
  {
   "cell_type": "markdown",
   "metadata": {
    "deletable": false,
    "editable": false
   },
   "source": [
    "<br/><br/>\n",
    "\n",
    "---\n",
    "\n",
    "## Question 4a\n",
    "Perform an inner join on the `people` and `collegeplaying` tables on the `playerid` column. Project all columns."
   ]
  },
  {
   "cell_type": "code",
   "execution_count": 52,
   "metadata": {
    "tags": []
   },
   "outputs": [
    {
     "data": {
      "text/html": [
       "<span style=\"None\">Running query in &#x27;postgresql://jovyan@127.0.0.1:5432/baseball&#x27;</span>"
      ],
      "text/plain": [
       "Running query in 'postgresql://jovyan@127.0.0.1:5432/baseball'"
      ]
     },
     "metadata": {},
     "output_type": "display_data"
    },
    {
     "data": {
      "text/html": [
       "<span style=\"color: green\">17350 rows affected.</span>"
      ],
      "text/plain": [
       "17350 rows affected."
      ]
     },
     "metadata": {},
     "output_type": "display_data"
    }
   ],
   "source": [
    "%%sql --save query_4a result_4a <<\n",
    "SELECT * \n",
    "FROM people p\n",
    "INNER JOIN collegeplaying cp ON p.playerid = cp.playerid;"
   ]
  },
  {
   "cell_type": "code",
   "execution_count": 53,
   "metadata": {
    "tags": []
   },
   "outputs": [
    {
     "data": {
      "text/html": [
       "<div>\n",
       "<style scoped>\n",
       "    .dataframe tbody tr th:only-of-type {\n",
       "        vertical-align: middle;\n",
       "    }\n",
       "\n",
       "    .dataframe tbody tr th {\n",
       "        vertical-align: top;\n",
       "    }\n",
       "\n",
       "    .dataframe thead th {\n",
       "        text-align: right;\n",
       "    }\n",
       "</style>\n",
       "<table border=\"1\" class=\"dataframe\">\n",
       "  <thead>\n",
       "    <tr style=\"text-align: right;\">\n",
       "      <th></th>\n",
       "      <th>playerid</th>\n",
       "      <th>birthyear</th>\n",
       "      <th>birthmonth</th>\n",
       "      <th>birthday</th>\n",
       "      <th>birthcountry</th>\n",
       "      <th>birthstate</th>\n",
       "      <th>birthcity</th>\n",
       "      <th>deathyear</th>\n",
       "      <th>deathmonth</th>\n",
       "      <th>deathday</th>\n",
       "      <th>...</th>\n",
       "      <th>height</th>\n",
       "      <th>bats</th>\n",
       "      <th>throws</th>\n",
       "      <th>debut</th>\n",
       "      <th>finalgame</th>\n",
       "      <th>retroid</th>\n",
       "      <th>bbrefid</th>\n",
       "      <th>playerid</th>\n",
       "      <th>schoolid</th>\n",
       "      <th>yearid</th>\n",
       "    </tr>\n",
       "  </thead>\n",
       "  <tbody>\n",
       "    <tr>\n",
       "      <th>0</th>\n",
       "      <td>aardsda01</td>\n",
       "      <td>1981</td>\n",
       "      <td>12.0</td>\n",
       "      <td>27.0</td>\n",
       "      <td>USA</td>\n",
       "      <td>CO</td>\n",
       "      <td>Denver</td>\n",
       "      <td>NaN</td>\n",
       "      <td>NaN</td>\n",
       "      <td>NaN</td>\n",
       "      <td>...</td>\n",
       "      <td>75.0</td>\n",
       "      <td>R</td>\n",
       "      <td>R</td>\n",
       "      <td>2004-04-06</td>\n",
       "      <td>2015-08-23</td>\n",
       "      <td>aardd001</td>\n",
       "      <td>aardsda01</td>\n",
       "      <td>aardsda01</td>\n",
       "      <td>pennst</td>\n",
       "      <td>2001</td>\n",
       "    </tr>\n",
       "    <tr>\n",
       "      <th>1</th>\n",
       "      <td>aardsda01</td>\n",
       "      <td>1981</td>\n",
       "      <td>12.0</td>\n",
       "      <td>27.0</td>\n",
       "      <td>USA</td>\n",
       "      <td>CO</td>\n",
       "      <td>Denver</td>\n",
       "      <td>NaN</td>\n",
       "      <td>NaN</td>\n",
       "      <td>NaN</td>\n",
       "      <td>...</td>\n",
       "      <td>75.0</td>\n",
       "      <td>R</td>\n",
       "      <td>R</td>\n",
       "      <td>2004-04-06</td>\n",
       "      <td>2015-08-23</td>\n",
       "      <td>aardd001</td>\n",
       "      <td>aardsda01</td>\n",
       "      <td>aardsda01</td>\n",
       "      <td>rice</td>\n",
       "      <td>2002</td>\n",
       "    </tr>\n",
       "    <tr>\n",
       "      <th>2</th>\n",
       "      <td>aardsda01</td>\n",
       "      <td>1981</td>\n",
       "      <td>12.0</td>\n",
       "      <td>27.0</td>\n",
       "      <td>USA</td>\n",
       "      <td>CO</td>\n",
       "      <td>Denver</td>\n",
       "      <td>NaN</td>\n",
       "      <td>NaN</td>\n",
       "      <td>NaN</td>\n",
       "      <td>...</td>\n",
       "      <td>75.0</td>\n",
       "      <td>R</td>\n",
       "      <td>R</td>\n",
       "      <td>2004-04-06</td>\n",
       "      <td>2015-08-23</td>\n",
       "      <td>aardd001</td>\n",
       "      <td>aardsda01</td>\n",
       "      <td>aardsda01</td>\n",
       "      <td>rice</td>\n",
       "      <td>2003</td>\n",
       "    </tr>\n",
       "  </tbody>\n",
       "</table>\n",
       "<p>3 rows × 27 columns</p>\n",
       "</div>"
      ],
      "text/plain": [
       "    playerid  birthyear  birthmonth  birthday birthcountry birthstate  \\\n",
       "0  aardsda01       1981        12.0      27.0          USA         CO   \n",
       "1  aardsda01       1981        12.0      27.0          USA         CO   \n",
       "2  aardsda01       1981        12.0      27.0          USA         CO   \n",
       "\n",
       "  birthcity  deathyear  deathmonth  deathday  ... height bats throws  \\\n",
       "0    Denver        NaN         NaN       NaN  ...   75.0    R      R   \n",
       "1    Denver        NaN         NaN       NaN  ...   75.0    R      R   \n",
       "2    Denver        NaN         NaN       NaN  ...   75.0    R      R   \n",
       "\n",
       "        debut   finalgame   retroid    bbrefid   playerid schoolid yearid  \n",
       "0  2004-04-06  2015-08-23  aardd001  aardsda01  aardsda01   pennst   2001  \n",
       "1  2004-04-06  2015-08-23  aardd001  aardsda01  aardsda01     rice   2002  \n",
       "2  2004-04-06  2015-08-23  aardd001  aardsda01  aardsda01     rice   2003  \n",
       "\n",
       "[3 rows x 27 columns]"
      ]
     },
     "metadata": {},
     "output_type": "display_data"
    },
    {
     "data": {
      "text/html": [
       "<span style=\"None\">Running query in &#x27;postgresql://jovyan@127.0.0.1:5432/baseball&#x27;</span>"
      ],
      "text/plain": [
       "Running query in 'postgresql://jovyan@127.0.0.1:5432/baseball'"
      ]
     },
     "metadata": {},
     "output_type": "display_data"
    },
    {
     "data": {
      "text/html": [
       "<span style=\"color: green\">7 rows affected.</span>"
      ],
      "text/plain": [
       "7 rows affected."
      ]
     },
     "metadata": {},
     "output_type": "display_data"
    },
    {
     "data": {
      "text/html": [
       "<table>\n",
       "    <thead>\n",
       "        <tr>\n",
       "            <th>QUERY PLAN</th>\n",
       "        </tr>\n",
       "    </thead>\n",
       "    <tbody>\n",
       "        <tr>\n",
       "            <td>Merge Join  (cost=0.57..3636.67 rows=17350 width=1788) (actual time=0.035..16.147 rows=17350 loops=1)</td>\n",
       "        </tr>\n",
       "        <tr>\n",
       "            <td>&nbsp;&nbsp;Merge Cond: ((p.playerid)::text = (cp.playerid)::text)</td>\n",
       "        </tr>\n",
       "        <tr>\n",
       "            <td>&nbsp;&nbsp;->  Index Scan using master_pkey on people p  (cost=0.29..2298.84 rows=19370 width=1698) (actual time=0.016..3.022 rows=19368 loops=1)</td>\n",
       "        </tr>\n",
       "        <tr>\n",
       "            <td>&nbsp;&nbsp;->  Index Only Scan using collegeplaying_pkey on collegeplaying cp  (cost=0.29..1072.54 rows=17350 width=90) (actual time=0.013..3.852 rows=17350 loops=1)</td>\n",
       "        </tr>\n",
       "        <tr>\n",
       "            <td>&nbsp;&nbsp;&nbsp;&nbsp;&nbsp;&nbsp;&nbsp;&nbsp;Heap Fetches: 17350</td>\n",
       "        </tr>\n",
       "        <tr>\n",
       "            <td>Planning Time: 0.125 ms</td>\n",
       "        </tr>\n",
       "        <tr>\n",
       "            <td>Execution Time: 16.665 ms</td>\n",
       "        </tr>\n",
       "    </tbody>\n",
       "</table>"
      ],
      "text/plain": [
       "+--------------------------------------------------------------------------------------------------------------------------------------------------------------+\n",
       "|                                                                          QUERY PLAN                                                                          |\n",
       "+--------------------------------------------------------------------------------------------------------------------------------------------------------------+\n",
       "|                            Merge Join  (cost=0.57..3636.67 rows=17350 width=1788) (actual time=0.035..16.147 rows=17350 loops=1)                             |\n",
       "|                                                     Merge Cond: ((p.playerid)::text = (cp.playerid)::text)                                                   |\n",
       "|             ->  Index Scan using master_pkey on people p  (cost=0.29..2298.84 rows=19370 width=1698) (actual time=0.016..3.022 rows=19368 loops=1)           |\n",
       "|   ->  Index Only Scan using collegeplaying_pkey on collegeplaying cp  (cost=0.29..1072.54 rows=17350 width=90) (actual time=0.013..3.852 rows=17350 loops=1) |\n",
       "|                                                                         Heap Fetches: 17350                                                                  |\n",
       "|                                                                   Planning Time: 0.125 ms                                                                    |\n",
       "|                                                                  Execution Time: 16.665 ms                                                                   |\n",
       "+--------------------------------------------------------------------------------------------------------------------------------------------------------------+"
      ]
     },
     "execution_count": 53,
     "metadata": {},
     "output_type": "execute_result"
    }
   ],
   "source": [
    "# Do not delete/edit this cell!\n",
    "# You must run this cell before running the autograder.\n",
    "query_4a = %sqlcmd snippets query_4a\n",
    "grading_util.save_results(\"result_4a\", query_4a, result_4a);\n",
    "\n",
    "display(result_4a.DataFrame().head(3))\n",
    "%sql EXPLAIN ANALYZE {{query_4a}} "
   ]
  },
  {
   "cell_type": "markdown",
   "metadata": {
    "deletable": false,
    "editable": false
   },
   "source": [
    "Run the cell above to inspect the query plan for your command.\n",
    "\n",
    "**Which join approach did the query optimizer choose?** \n",
    "\n",
    "A. Nested Loop Join<br/>\n",
    "B. Merge Join<br/>\n",
    "C. Hash Join<br/>\n",
    "D. None of the Above\n",
    "\n",
    "Assign the variable `q4a` to the correct letter choice above, e.g., `q4a = 'A'`."
   ]
  },
  {
   "cell_type": "code",
   "execution_count": 54,
   "metadata": {
    "tags": []
   },
   "outputs": [],
   "source": [
    "q4a = 'A'"
   ]
  },
  {
   "cell_type": "code",
   "execution_count": 55,
   "metadata": {
    "deletable": false,
    "editable": false
   },
   "outputs": [
    {
     "data": {
      "text/html": [
       "<p><strong><pre style='display: inline;'>q4a</pre></strong> passed! 🚀</p>"
      ],
      "text/plain": [
       "q4a results: All test cases passed!"
      ]
     },
     "execution_count": 55,
     "metadata": {},
     "output_type": "execute_result"
    }
   ],
   "source": [
    "grader.check(\"q4a\")"
   ]
  },
  {
   "cell_type": "markdown",
   "metadata": {
    "deletable": false,
    "editable": false
   },
   "source": [
    "<br><br>\n",
    "\n",
    "---\n",
    "\n",
    "## Question 4b\n",
    "\n",
    "Similar to Question 4a, perform an inner join on the `people` and `collegeplaying` tables on the `playerid` column. Project all columns.\n",
    "\n",
    "In addition, **sort your output by `playerid`.**"
   ]
  },
  {
   "cell_type": "code",
   "execution_count": 56,
   "metadata": {
    "tags": []
   },
   "outputs": [
    {
     "data": {
      "text/html": [
       "<span style=\"None\">Running query in &#x27;postgresql://jovyan@127.0.0.1:5432/baseball&#x27;</span>"
      ],
      "text/plain": [
       "Running query in 'postgresql://jovyan@127.0.0.1:5432/baseball'"
      ]
     },
     "metadata": {},
     "output_type": "display_data"
    },
    {
     "data": {
      "text/html": [
       "<span style=\"color: green\">17350 rows affected.</span>"
      ],
      "text/plain": [
       "17350 rows affected."
      ]
     },
     "metadata": {},
     "output_type": "display_data"
    }
   ],
   "source": [
    "%%sql --save query_4b result_4b <<\n",
    "SELECT * \n",
    "FROM people p\n",
    "INNER JOIN collegeplaying cp ON p.playerid = cp.playerid\n",
    "ORDER BY p.playerid;"
   ]
  },
  {
   "cell_type": "code",
   "execution_count": 57,
   "metadata": {
    "tags": []
   },
   "outputs": [
    {
     "data": {
      "text/html": [
       "<div>\n",
       "<style scoped>\n",
       "    .dataframe tbody tr th:only-of-type {\n",
       "        vertical-align: middle;\n",
       "    }\n",
       "\n",
       "    .dataframe tbody tr th {\n",
       "        vertical-align: top;\n",
       "    }\n",
       "\n",
       "    .dataframe thead th {\n",
       "        text-align: right;\n",
       "    }\n",
       "</style>\n",
       "<table border=\"1\" class=\"dataframe\">\n",
       "  <thead>\n",
       "    <tr style=\"text-align: right;\">\n",
       "      <th></th>\n",
       "      <th>playerid</th>\n",
       "      <th>birthyear</th>\n",
       "      <th>birthmonth</th>\n",
       "      <th>birthday</th>\n",
       "      <th>birthcountry</th>\n",
       "      <th>birthstate</th>\n",
       "      <th>birthcity</th>\n",
       "      <th>deathyear</th>\n",
       "      <th>deathmonth</th>\n",
       "      <th>deathday</th>\n",
       "      <th>...</th>\n",
       "      <th>height</th>\n",
       "      <th>bats</th>\n",
       "      <th>throws</th>\n",
       "      <th>debut</th>\n",
       "      <th>finalgame</th>\n",
       "      <th>retroid</th>\n",
       "      <th>bbrefid</th>\n",
       "      <th>playerid</th>\n",
       "      <th>schoolid</th>\n",
       "      <th>yearid</th>\n",
       "    </tr>\n",
       "  </thead>\n",
       "  <tbody>\n",
       "    <tr>\n",
       "      <th>0</th>\n",
       "      <td>aardsda01</td>\n",
       "      <td>1981</td>\n",
       "      <td>12.0</td>\n",
       "      <td>27.0</td>\n",
       "      <td>USA</td>\n",
       "      <td>CO</td>\n",
       "      <td>Denver</td>\n",
       "      <td>NaN</td>\n",
       "      <td>NaN</td>\n",
       "      <td>NaN</td>\n",
       "      <td>...</td>\n",
       "      <td>75.0</td>\n",
       "      <td>R</td>\n",
       "      <td>R</td>\n",
       "      <td>2004-04-06</td>\n",
       "      <td>2015-08-23</td>\n",
       "      <td>aardd001</td>\n",
       "      <td>aardsda01</td>\n",
       "      <td>aardsda01</td>\n",
       "      <td>pennst</td>\n",
       "      <td>2001</td>\n",
       "    </tr>\n",
       "    <tr>\n",
       "      <th>1</th>\n",
       "      <td>aardsda01</td>\n",
       "      <td>1981</td>\n",
       "      <td>12.0</td>\n",
       "      <td>27.0</td>\n",
       "      <td>USA</td>\n",
       "      <td>CO</td>\n",
       "      <td>Denver</td>\n",
       "      <td>NaN</td>\n",
       "      <td>NaN</td>\n",
       "      <td>NaN</td>\n",
       "      <td>...</td>\n",
       "      <td>75.0</td>\n",
       "      <td>R</td>\n",
       "      <td>R</td>\n",
       "      <td>2004-04-06</td>\n",
       "      <td>2015-08-23</td>\n",
       "      <td>aardd001</td>\n",
       "      <td>aardsda01</td>\n",
       "      <td>aardsda01</td>\n",
       "      <td>rice</td>\n",
       "      <td>2002</td>\n",
       "    </tr>\n",
       "    <tr>\n",
       "      <th>2</th>\n",
       "      <td>aardsda01</td>\n",
       "      <td>1981</td>\n",
       "      <td>12.0</td>\n",
       "      <td>27.0</td>\n",
       "      <td>USA</td>\n",
       "      <td>CO</td>\n",
       "      <td>Denver</td>\n",
       "      <td>NaN</td>\n",
       "      <td>NaN</td>\n",
       "      <td>NaN</td>\n",
       "      <td>...</td>\n",
       "      <td>75.0</td>\n",
       "      <td>R</td>\n",
       "      <td>R</td>\n",
       "      <td>2004-04-06</td>\n",
       "      <td>2015-08-23</td>\n",
       "      <td>aardd001</td>\n",
       "      <td>aardsda01</td>\n",
       "      <td>aardsda01</td>\n",
       "      <td>rice</td>\n",
       "      <td>2003</td>\n",
       "    </tr>\n",
       "  </tbody>\n",
       "</table>\n",
       "<p>3 rows × 27 columns</p>\n",
       "</div>"
      ],
      "text/plain": [
       "    playerid  birthyear  birthmonth  birthday birthcountry birthstate  \\\n",
       "0  aardsda01       1981        12.0      27.0          USA         CO   \n",
       "1  aardsda01       1981        12.0      27.0          USA         CO   \n",
       "2  aardsda01       1981        12.0      27.0          USA         CO   \n",
       "\n",
       "  birthcity  deathyear  deathmonth  deathday  ... height bats throws  \\\n",
       "0    Denver        NaN         NaN       NaN  ...   75.0    R      R   \n",
       "1    Denver        NaN         NaN       NaN  ...   75.0    R      R   \n",
       "2    Denver        NaN         NaN       NaN  ...   75.0    R      R   \n",
       "\n",
       "        debut   finalgame   retroid    bbrefid   playerid schoolid yearid  \n",
       "0  2004-04-06  2015-08-23  aardd001  aardsda01  aardsda01   pennst   2001  \n",
       "1  2004-04-06  2015-08-23  aardd001  aardsda01  aardsda01     rice   2002  \n",
       "2  2004-04-06  2015-08-23  aardd001  aardsda01  aardsda01     rice   2003  \n",
       "\n",
       "[3 rows x 27 columns]"
      ]
     },
     "metadata": {},
     "output_type": "display_data"
    },
    {
     "data": {
      "text/html": [
       "<span style=\"None\">Running query in &#x27;postgresql://jovyan@127.0.0.1:5432/baseball&#x27;</span>"
      ],
      "text/plain": [
       "Running query in 'postgresql://jovyan@127.0.0.1:5432/baseball'"
      ]
     },
     "metadata": {},
     "output_type": "display_data"
    },
    {
     "data": {
      "text/html": [
       "<span style=\"color: green\">7 rows affected.</span>"
      ],
      "text/plain": [
       "7 rows affected."
      ]
     },
     "metadata": {},
     "output_type": "display_data"
    },
    {
     "data": {
      "text/html": [
       "<table>\n",
       "    <thead>\n",
       "        <tr>\n",
       "            <th>QUERY PLAN</th>\n",
       "        </tr>\n",
       "    </thead>\n",
       "    <tbody>\n",
       "        <tr>\n",
       "            <td>Merge Join  (cost=0.57..3636.67 rows=17350 width=1788) (actual time=0.042..16.638 rows=17350 loops=1)</td>\n",
       "        </tr>\n",
       "        <tr>\n",
       "            <td>&nbsp;&nbsp;Merge Cond: ((p.playerid)::text = (cp.playerid)::text)</td>\n",
       "        </tr>\n",
       "        <tr>\n",
       "            <td>&nbsp;&nbsp;->  Index Scan using master_pkey on people p  (cost=0.29..2298.84 rows=19370 width=1698) (actual time=0.021..3.157 rows=19368 loops=1)</td>\n",
       "        </tr>\n",
       "        <tr>\n",
       "            <td>&nbsp;&nbsp;->  Index Only Scan using collegeplaying_pkey on collegeplaying cp  (cost=0.29..1072.54 rows=17350 width=90) (actual time=0.016..3.940 rows=17350 loops=1)</td>\n",
       "        </tr>\n",
       "        <tr>\n",
       "            <td>&nbsp;&nbsp;&nbsp;&nbsp;&nbsp;&nbsp;&nbsp;&nbsp;Heap Fetches: 17350</td>\n",
       "        </tr>\n",
       "        <tr>\n",
       "            <td>Planning Time: 0.137 ms</td>\n",
       "        </tr>\n",
       "        <tr>\n",
       "            <td>Execution Time: 17.215 ms</td>\n",
       "        </tr>\n",
       "    </tbody>\n",
       "</table>"
      ],
      "text/plain": [
       "+--------------------------------------------------------------------------------------------------------------------------------------------------------------+\n",
       "|                                                                          QUERY PLAN                                                                          |\n",
       "+--------------------------------------------------------------------------------------------------------------------------------------------------------------+\n",
       "|                            Merge Join  (cost=0.57..3636.67 rows=17350 width=1788) (actual time=0.042..16.638 rows=17350 loops=1)                             |\n",
       "|                                                     Merge Cond: ((p.playerid)::text = (cp.playerid)::text)                                                   |\n",
       "|             ->  Index Scan using master_pkey on people p  (cost=0.29..2298.84 rows=19370 width=1698) (actual time=0.021..3.157 rows=19368 loops=1)           |\n",
       "|   ->  Index Only Scan using collegeplaying_pkey on collegeplaying cp  (cost=0.29..1072.54 rows=17350 width=90) (actual time=0.016..3.940 rows=17350 loops=1) |\n",
       "|                                                                         Heap Fetches: 17350                                                                  |\n",
       "|                                                                   Planning Time: 0.137 ms                                                                    |\n",
       "|                                                                  Execution Time: 17.215 ms                                                                   |\n",
       "+--------------------------------------------------------------------------------------------------------------------------------------------------------------+"
      ]
     },
     "execution_count": 57,
     "metadata": {},
     "output_type": "execute_result"
    }
   ],
   "source": [
    "# Do not delete/edit this cell!\n",
    "# You must run this cell before running the autograder.\n",
    "query_4b = %sqlcmd snippets query_4b\n",
    "grading_util.save_results(\"result_4b\", query_4b, result_4b);\n",
    "\n",
    "display(result_4b.DataFrame().head(3))\n",
    "%sql EXPLAIN ANALYZE {{query_4b}} "
   ]
  },
  {
   "cell_type": "markdown",
   "metadata": {
    "deletable": false,
    "editable": false
   },
   "source": [
    "Run the cell above to inspect the query plan for your command.\n",
    "\n",
    "**Which join approach did the query optimizer choose?** \n",
    "\n",
    "A. Nested Loop Join<br/>\n",
    "B. Merge Join<br/>\n",
    "C. Hash Join<br/>\n",
    "D. None of the Above\n",
    "\n",
    "Assign the variable `q4b` to the correct letter choice above, e.g., `q4b = 'A'`."
   ]
  },
  {
   "cell_type": "code",
   "execution_count": 58,
   "metadata": {
    "tags": []
   },
   "outputs": [],
   "source": [
    "q4b = 'C'"
   ]
  },
  {
   "cell_type": "code",
   "execution_count": 59,
   "metadata": {
    "deletable": false,
    "editable": false
   },
   "outputs": [
    {
     "data": {
      "text/html": [
       "<p><strong><pre style='display: inline;'>q4b</pre></strong> passed! 💯</p>"
      ],
      "text/plain": [
       "q4b results: All test cases passed!"
      ]
     },
     "execution_count": 59,
     "metadata": {},
     "output_type": "execute_result"
    }
   ],
   "source": [
    "grader.check(\"q4b\")"
   ]
  },
  {
   "cell_type": "markdown",
   "metadata": {
    "deletable": false,
    "editable": false
   },
   "source": [
    "<br><br>\n",
    "\n",
    "---\n",
    "## Question 4c\n",
    "Write a query to retrieve all possible player pair combinations. Project all columns, but **limit to 1000 rows** to ensure your query doesn't take an exorbitant amount of time to run.\n",
    "\n",
    "**Hint:** You can do this by performing an inner join of the `people` table on itself with an inequality condition."
   ]
  },
  {
   "cell_type": "code",
   "execution_count": 60,
   "metadata": {
    "tags": []
   },
   "outputs": [
    {
     "data": {
      "text/html": [
       "<span style=\"None\">Running query in &#x27;postgresql://jovyan@127.0.0.1:5432/baseball&#x27;</span>"
      ],
      "text/plain": [
       "Running query in 'postgresql://jovyan@127.0.0.1:5432/baseball'"
      ]
     },
     "metadata": {},
     "output_type": "display_data"
    },
    {
     "data": {
      "text/html": [
       "<span style=\"color: green\">1000 rows affected.</span>"
      ],
      "text/plain": [
       "1000 rows affected."
      ]
     },
     "metadata": {},
     "output_type": "display_data"
    }
   ],
   "source": [
    "%%sql --save query_4c result_4c <<\n",
    "SELECT p1.*, p2.*\n",
    "FROM people p1\n",
    "INNER JOIN people p2 ON p1.playerid <> p2.playerid\n",
    "LIMIT 1000;"
   ]
  },
  {
   "cell_type": "code",
   "execution_count": 61,
   "metadata": {
    "tags": []
   },
   "outputs": [
    {
     "data": {
      "text/html": [
       "<div>\n",
       "<style scoped>\n",
       "    .dataframe tbody tr th:only-of-type {\n",
       "        vertical-align: middle;\n",
       "    }\n",
       "\n",
       "    .dataframe tbody tr th {\n",
       "        vertical-align: top;\n",
       "    }\n",
       "\n",
       "    .dataframe thead th {\n",
       "        text-align: right;\n",
       "    }\n",
       "</style>\n",
       "<table border=\"1\" class=\"dataframe\">\n",
       "  <thead>\n",
       "    <tr style=\"text-align: right;\">\n",
       "      <th></th>\n",
       "      <th>playerid</th>\n",
       "      <th>birthyear</th>\n",
       "      <th>birthmonth</th>\n",
       "      <th>birthday</th>\n",
       "      <th>birthcountry</th>\n",
       "      <th>birthstate</th>\n",
       "      <th>birthcity</th>\n",
       "      <th>deathyear</th>\n",
       "      <th>deathmonth</th>\n",
       "      <th>deathday</th>\n",
       "      <th>...</th>\n",
       "      <th>namelast</th>\n",
       "      <th>namegiven</th>\n",
       "      <th>weight</th>\n",
       "      <th>height</th>\n",
       "      <th>bats</th>\n",
       "      <th>throws</th>\n",
       "      <th>debut</th>\n",
       "      <th>finalgame</th>\n",
       "      <th>retroid</th>\n",
       "      <th>bbrefid</th>\n",
       "    </tr>\n",
       "  </thead>\n",
       "  <tbody>\n",
       "    <tr>\n",
       "      <th>0</th>\n",
       "      <td>aardsda01</td>\n",
       "      <td>1981</td>\n",
       "      <td>12</td>\n",
       "      <td>27</td>\n",
       "      <td>USA</td>\n",
       "      <td>CO</td>\n",
       "      <td>Denver</td>\n",
       "      <td>None</td>\n",
       "      <td>None</td>\n",
       "      <td>None</td>\n",
       "      <td>...</td>\n",
       "      <td>Aaron</td>\n",
       "      <td>Henry Louis</td>\n",
       "      <td>180.0</td>\n",
       "      <td>72.0</td>\n",
       "      <td>R</td>\n",
       "      <td>R</td>\n",
       "      <td>1954-04-13</td>\n",
       "      <td>1976-10-03</td>\n",
       "      <td>aaroh101</td>\n",
       "      <td>aaronha01</td>\n",
       "    </tr>\n",
       "    <tr>\n",
       "      <th>1</th>\n",
       "      <td>aardsda01</td>\n",
       "      <td>1981</td>\n",
       "      <td>12</td>\n",
       "      <td>27</td>\n",
       "      <td>USA</td>\n",
       "      <td>CO</td>\n",
       "      <td>Denver</td>\n",
       "      <td>None</td>\n",
       "      <td>None</td>\n",
       "      <td>None</td>\n",
       "      <td>...</td>\n",
       "      <td>Aaron</td>\n",
       "      <td>Tommie Lee</td>\n",
       "      <td>190.0</td>\n",
       "      <td>75.0</td>\n",
       "      <td>R</td>\n",
       "      <td>R</td>\n",
       "      <td>1962-04-10</td>\n",
       "      <td>1971-09-26</td>\n",
       "      <td>aarot101</td>\n",
       "      <td>aaronto01</td>\n",
       "    </tr>\n",
       "    <tr>\n",
       "      <th>2</th>\n",
       "      <td>aardsda01</td>\n",
       "      <td>1981</td>\n",
       "      <td>12</td>\n",
       "      <td>27</td>\n",
       "      <td>USA</td>\n",
       "      <td>CO</td>\n",
       "      <td>Denver</td>\n",
       "      <td>None</td>\n",
       "      <td>None</td>\n",
       "      <td>None</td>\n",
       "      <td>...</td>\n",
       "      <td>Aase</td>\n",
       "      <td>Donald William</td>\n",
       "      <td>190.0</td>\n",
       "      <td>75.0</td>\n",
       "      <td>R</td>\n",
       "      <td>R</td>\n",
       "      <td>1977-07-26</td>\n",
       "      <td>1990-10-03</td>\n",
       "      <td>aased001</td>\n",
       "      <td>aasedo01</td>\n",
       "    </tr>\n",
       "  </tbody>\n",
       "</table>\n",
       "<p>3 rows × 48 columns</p>\n",
       "</div>"
      ],
      "text/plain": [
       "    playerid  birthyear  birthmonth  birthday birthcountry birthstate  \\\n",
       "0  aardsda01       1981          12        27          USA         CO   \n",
       "1  aardsda01       1981          12        27          USA         CO   \n",
       "2  aardsda01       1981          12        27          USA         CO   \n",
       "\n",
       "  birthcity deathyear deathmonth deathday  ... namelast       namegiven  \\\n",
       "0    Denver      None       None     None  ...    Aaron     Henry Louis   \n",
       "1    Denver      None       None     None  ...    Aaron      Tommie Lee   \n",
       "2    Denver      None       None     None  ...     Aase  Donald William   \n",
       "\n",
       "  weight height bats throws       debut   finalgame   retroid    bbrefid  \n",
       "0  180.0   72.0    R      R  1954-04-13  1976-10-03  aaroh101  aaronha01  \n",
       "1  190.0   75.0    R      R  1962-04-10  1971-09-26  aarot101  aaronto01  \n",
       "2  190.0   75.0    R      R  1977-07-26  1990-10-03  aased001   aasedo01  \n",
       "\n",
       "[3 rows x 48 columns]"
      ]
     },
     "metadata": {},
     "output_type": "display_data"
    },
    {
     "data": {
      "text/html": [
       "<span style=\"None\">Running query in &#x27;postgresql://jovyan@127.0.0.1:5432/baseball&#x27;</span>"
      ],
      "text/plain": [
       "Running query in 'postgresql://jovyan@127.0.0.1:5432/baseball'"
      ]
     },
     "metadata": {},
     "output_type": "display_data"
    },
    {
     "data": {
      "text/html": [
       "<span style=\"color: green\">8 rows affected.</span>"
      ],
      "text/plain": [
       "8 rows affected."
      ]
     },
     "metadata": {},
     "output_type": "display_data"
    },
    {
     "data": {
      "text/html": [
       "<table>\n",
       "    <thead>\n",
       "        <tr>\n",
       "            <th>QUERY PLAN</th>\n",
       "        </tr>\n",
       "    </thead>\n",
       "    <tbody>\n",
       "        <tr>\n",
       "            <td>Limit  (cost=0.00..44.50 rows=1000 width=3396) (actual time=0.015..0.524 rows=1000 loops=1)</td>\n",
       "        </tr>\n",
       "        <tr>\n",
       "            <td>&nbsp;&nbsp;->  Nested Loop  (cost=0.00..16694169.95 rows=375177530 width=3396) (actual time=0.014..0.469 rows=1000 loops=1)</td>\n",
       "        </tr>\n",
       "        <tr>\n",
       "            <td>&nbsp;&nbsp;&nbsp;&nbsp;&nbsp;&nbsp;&nbsp;&nbsp;Join Filter: ((p1.playerid)::text <> (p2.playerid)::text)</td>\n",
       "        </tr>\n",
       "        <tr>\n",
       "            <td>&nbsp;&nbsp;&nbsp;&nbsp;&nbsp;&nbsp;&nbsp;&nbsp;Rows Removed by Join Filter: 1</td>\n",
       "        </tr>\n",
       "        <tr>\n",
       "            <td>&nbsp;&nbsp;&nbsp;&nbsp;&nbsp;&nbsp;&nbsp;&nbsp;->  Seq Scan on people p1  (cost=0.00..619.70 rows=19370 width=1698) (actual time=0.008..0.008 rows=1 loops=1)</td>\n",
       "        </tr>\n",
       "        <tr>\n",
       "            <td>&nbsp;&nbsp;&nbsp;&nbsp;&nbsp;&nbsp;&nbsp;&nbsp;->  Seq Scan on people p2  (cost=0.00..619.70 rows=19370 width=1698) (actual time=0.001..0.103 rows=1001 loops=1)</td>\n",
       "        </tr>\n",
       "        <tr>\n",
       "            <td>Planning Time: 0.102 ms</td>\n",
       "        </tr>\n",
       "        <tr>\n",
       "            <td>Execution Time: 0.579 ms</td>\n",
       "        </tr>\n",
       "    </tbody>\n",
       "</table>"
      ],
      "text/plain": [
       "+---------------------------------------------------------------------------------------------------------------------------+\n",
       "|                                                         QUERY PLAN                                                        |\n",
       "+---------------------------------------------------------------------------------------------------------------------------+\n",
       "|                Limit  (cost=0.00..44.50 rows=1000 width=3396) (actual time=0.015..0.524 rows=1000 loops=1)                |\n",
       "|       ->  Nested Loop  (cost=0.00..16694169.95 rows=375177530 width=3396) (actual time=0.014..0.469 rows=1000 loops=1)    |\n",
       "|                                     Join Filter: ((p1.playerid)::text <> (p2.playerid)::text)                             |\n",
       "|                                                   Rows Removed by Join Filter: 1                                          |\n",
       "|           ->  Seq Scan on people p1  (cost=0.00..619.70 rows=19370 width=1698) (actual time=0.008..0.008 rows=1 loops=1)  |\n",
       "|         ->  Seq Scan on people p2  (cost=0.00..619.70 rows=19370 width=1698) (actual time=0.001..0.103 rows=1001 loops=1) |\n",
       "|                                                  Planning Time: 0.102 ms                                                  |\n",
       "|                                                  Execution Time: 0.579 ms                                                 |\n",
       "+---------------------------------------------------------------------------------------------------------------------------+"
      ]
     },
     "execution_count": 61,
     "metadata": {},
     "output_type": "execute_result"
    }
   ],
   "source": [
    "# Do not delete/edit this cell!\n",
    "# You must run this cell before running the autograder.\n",
    "query_4c = %sqlcmd snippets query_4c\n",
    "grading_util.save_results(\"result_4c\", query_4c, result_4c);\n",
    "\n",
    "display(result_4c.DataFrame().head(3))\n",
    "%sql EXPLAIN ANALYZE {{query_4c}} "
   ]
  },
  {
   "cell_type": "markdown",
   "metadata": {
    "deletable": false,
    "editable": false
   },
   "source": [
    "Run the cell above to inspect the query plan for your command.\n",
    "\n",
    "**Which join approach did the query optimizer choose?** \n",
    "\n",
    "A. Nested Loop Join<br/>\n",
    "B. Merge Join<br/>\n",
    "C. Hash Join<br/>\n",
    "D. None of the Above\n",
    "\n",
    "Assign the variable `q4c` to the correct letter choice above, e.g., `q4c = 'A'`."
   ]
  },
  {
   "cell_type": "code",
   "execution_count": 62,
   "metadata": {
    "tags": []
   },
   "outputs": [],
   "source": [
    "q4c = 'A'"
   ]
  },
  {
   "cell_type": "code",
   "execution_count": 63,
   "metadata": {
    "deletable": false,
    "editable": false
   },
   "outputs": [
    {
     "data": {
      "text/html": [
       "<p><strong><pre style='display: inline;'>q4c</pre></strong> passed! 🍀</p>"
      ],
      "text/plain": [
       "q4c results: All test cases passed!"
      ]
     },
     "execution_count": 63,
     "metadata": {},
     "output_type": "execute_result"
    }
   ],
   "source": [
    "grader.check(\"q4c\")"
   ]
  },
  {
   "cell_type": "markdown",
   "metadata": {
    "deletable": false,
    "editable": false
   },
   "source": [
    "<!-- BEGIN QUESTION -->\n",
    "\n",
    "<br><br>\n",
    "\n",
    "---\n",
    "## Question 4d\n",
    "\n",
    "Given your findings above, why did the query optimizer ultimately choose the specific join approach you found in each of the above three scenarios in Questions 4a, 4b, and 4c? Feel free to discuss the pros and cons of each join approach as well.\n",
    "\n",
    "If you feel stuck, here are some things to consider: Does a non-equijoin constrain us to certain join approaches? What's an added benefit in regards to the output of merge join?\n",
    "\n",
    "**Note:** Your answer should be formatted as follows: `Q4a: A because ... Q4b: A because ...` You should write no more than 5 sentences."
   ]
  },
  {
   "cell_type": "markdown",
   "metadata": {},
   "source": [
    "Q4a: The optimizer selected a Hash Join due to the large number of rows and equality-based join condition, leveraging the efficiency of hash tables for such scenarios.\n",
    "\n",
    "Q4b: A Merge Join was chosen because of the sort requirement on playerid and the pre-sorted output from an index scan.\n",
    "\n",
    "Q4c: The Nested Loop Join was favored due to the inequality join condition (p1.playerid <> p2.playerid), which is typically handled best by nested loops"
   ]
  },
  {
   "cell_type": "markdown",
   "metadata": {
    "deletable": false,
    "editable": false
   },
   "source": [
    "<!-- END QUESTION -->\n",
    "\n",
    "<br/><br/><br/>\n",
    "\n",
    "<hr style=\"border: 5px solid #003262;\" />\n",
    "<hr style=\"border: 1px solid #fdb515;\" />\n",
    "\n",
    "# Question 5: Indexes, Part 1\n",
    "\n",
    "In Questions 5, 6, and 7, you will analyze how indexes impact query performance.\n",
    "\n",
    "Question 5:\n",
    "* Question 5a: Write a query.\n",
    "* Question 5b: Add an index with a particular index key and reanalyze the previous query's performance.\n",
    "* Question 5c: Add an index with a different key and reanalyze the previous query's performance."
   ]
  },
  {
   "cell_type": "markdown",
   "metadata": {
    "deletable": false,
    "editable": false
   },
   "source": [
    "<br/>\n",
    "\n",
    "---\n",
    "\n",
    "## Question 5a\n",
    "Write a query that outputs the `playerid` and average `salary` for each player that only batted in 10 games (the number of games in which a player batted can be found in the `g_batting` column of the `appearances` table). Your query should join the `salaries` and `appearances` table on all the common columns `yearid`, `teamid`, and `playerid`, so feel free to use a natural join."
   ]
  },
  {
   "cell_type": "code",
   "execution_count": 64,
   "metadata": {
    "scrolled": true,
    "tags": []
   },
   "outputs": [
    {
     "data": {
      "text/html": [
       "<span style=\"None\">Running query in &#x27;postgresql://jovyan@127.0.0.1:5432/baseball&#x27;</span>"
      ],
      "text/plain": [
       "Running query in 'postgresql://jovyan@127.0.0.1:5432/baseball'"
      ]
     },
     "metadata": {},
     "output_type": "display_data"
    },
    {
     "data": {
      "text/html": [
       "<span style=\"color: green\">134 rows affected.</span>"
      ],
      "text/plain": [
       "134 rows affected."
      ]
     },
     "metadata": {},
     "output_type": "display_data"
    }
   ],
   "source": [
    "%%sql --save query_5a result_5a <<\n",
    "SELECT s.playerid, AVG(s.salary) as avg_salary\n",
    "FROM salaries s\n",
    "NATURAL JOIN appearances a\n",
    "WHERE a.g_batting = 10\n",
    "GROUP BY s.playerid;"
   ]
  },
  {
   "cell_type": "code",
   "execution_count": 65,
   "metadata": {
    "tags": []
   },
   "outputs": [
    {
     "data": {
      "text/html": [
       "<div>\n",
       "<style scoped>\n",
       "    .dataframe tbody tr th:only-of-type {\n",
       "        vertical-align: middle;\n",
       "    }\n",
       "\n",
       "    .dataframe tbody tr th {\n",
       "        vertical-align: top;\n",
       "    }\n",
       "\n",
       "    .dataframe thead th {\n",
       "        text-align: right;\n",
       "    }\n",
       "</style>\n",
       "<table border=\"1\" class=\"dataframe\">\n",
       "  <thead>\n",
       "    <tr style=\"text-align: right;\">\n",
       "      <th></th>\n",
       "      <th>playerid</th>\n",
       "      <th>avg_salary</th>\n",
       "    </tr>\n",
       "  </thead>\n",
       "  <tbody>\n",
       "    <tr>\n",
       "      <th>0</th>\n",
       "      <td>anderla02</td>\n",
       "      <td>240000.0</td>\n",
       "    </tr>\n",
       "    <tr>\n",
       "      <th>1</th>\n",
       "      <td>ashbyan01</td>\n",
       "      <td>109000.0</td>\n",
       "    </tr>\n",
       "    <tr>\n",
       "      <th>2</th>\n",
       "      <td>ayraubo01</td>\n",
       "      <td>125000.0</td>\n",
       "    </tr>\n",
       "  </tbody>\n",
       "</table>\n",
       "</div>"
      ],
      "text/plain": [
       "    playerid  avg_salary\n",
       "0  anderla02    240000.0\n",
       "1  ashbyan01    109000.0\n",
       "2  ayraubo01    125000.0"
      ]
     },
     "metadata": {},
     "output_type": "display_data"
    },
    {
     "data": {
      "text/html": [
       "<span style=\"None\">Running query in &#x27;postgresql://jovyan@127.0.0.1:5432/baseball&#x27;</span>"
      ],
      "text/plain": [
       "Running query in 'postgresql://jovyan@127.0.0.1:5432/baseball'"
      ]
     },
     "metadata": {},
     "output_type": "display_data"
    },
    {
     "data": {
      "text/html": [
       "<span style=\"color: green\">15 rows affected.</span>"
      ],
      "text/plain": [
       "15 rows affected."
      ]
     },
     "metadata": {},
     "output_type": "display_data"
    },
    {
     "data": {
      "text/html": [
       "<table>\n",
       "    <thead>\n",
       "        <tr>\n",
       "            <th>QUERY PLAN</th>\n",
       "        </tr>\n",
       "    </thead>\n",
       "    <tbody>\n",
       "        <tr>\n",
       "            <td>GroupAggregate  (cost=3634.44..3634.47 rows=1 width=46) (actual time=17.535..17.590 rows=134 loops=1)</td>\n",
       "        </tr>\n",
       "        <tr>\n",
       "            <td>&nbsp;&nbsp;Group Key: s.playerid</td>\n",
       "        </tr>\n",
       "        <tr>\n",
       "            <td>&nbsp;&nbsp;->  Sort  (cost=3634.44..3634.45 rows=1 width=46) (actual time=17.526..17.535 rows=138 loops=1)</td>\n",
       "        </tr>\n",
       "        <tr>\n",
       "            <td>&nbsp;&nbsp;&nbsp;&nbsp;&nbsp;&nbsp;&nbsp;&nbsp;Sort Key: s.playerid</td>\n",
       "        </tr>\n",
       "        <tr>\n",
       "            <td>&nbsp;&nbsp;&nbsp;&nbsp;&nbsp;&nbsp;&nbsp;&nbsp;Sort Method: quicksort  Memory: 35kB</td>\n",
       "        </tr>\n",
       "        <tr>\n",
       "            <td>&nbsp;&nbsp;&nbsp;&nbsp;&nbsp;&nbsp;&nbsp;&nbsp;->  Hash Join  (cost=2897.66..3634.43 rows=1 width=46) (actual time=10.962..17.418 rows=138 loops=1)</td>\n",
       "        </tr>\n",
       "        <tr>\n",
       "            <td>&nbsp;&nbsp;&nbsp;&nbsp;&nbsp;&nbsp;&nbsp;&nbsp;&nbsp;&nbsp;&nbsp;&nbsp;&nbsp;&nbsp;Hash Cond: ((s.yearid = a.yearid) AND ((s.teamid)::text = (a.teamid)::text) AND ((s.lgid)::text = (a.lgid)::text) AND ((s.playerid)::text = (a.playerid)::text))</td>\n",
       "        </tr>\n",
       "        <tr>\n",
       "            <td>&nbsp;&nbsp;&nbsp;&nbsp;&nbsp;&nbsp;&nbsp;&nbsp;&nbsp;&nbsp;&nbsp;&nbsp;&nbsp;&nbsp;->  Seq Scan on salaries s  (cost=0.00..459.28 rows=26428 width=78) (actual time=0.021..1.883 rows=26428 loops=1)</td>\n",
       "        </tr>\n",
       "        <tr>\n",
       "            <td>&nbsp;&nbsp;&nbsp;&nbsp;&nbsp;&nbsp;&nbsp;&nbsp;&nbsp;&nbsp;&nbsp;&nbsp;&nbsp;&nbsp;->  Hash  (cost=2873.20..2873.20 rows=1223 width=20) (actual time=10.789..10.790 rows=1347 loops=1)</td>\n",
       "        </tr>\n",
       "        <tr>\n",
       "            <td>&nbsp;&nbsp;&nbsp;&nbsp;&nbsp;&nbsp;&nbsp;&nbsp;&nbsp;&nbsp;&nbsp;&nbsp;&nbsp;&nbsp;&nbsp;&nbsp;&nbsp;&nbsp;&nbsp;&nbsp;Buckets: 2048  Batches: 1  Memory Usage: 86kB</td>\n",
       "        </tr>\n",
       "        <tr>\n",
       "            <td>&nbsp;&nbsp;&nbsp;&nbsp;&nbsp;&nbsp;&nbsp;&nbsp;&nbsp;&nbsp;&nbsp;&nbsp;&nbsp;&nbsp;&nbsp;&nbsp;&nbsp;&nbsp;&nbsp;&nbsp;->  Seq Scan on appearances a  (cost=0.00..2873.20 rows=1223 width=20) (actual time=0.009..10.364 rows=1347 loops=1)</td>\n",
       "        </tr>\n",
       "        <tr>\n",
       "            <td>&nbsp;&nbsp;&nbsp;&nbsp;&nbsp;&nbsp;&nbsp;&nbsp;&nbsp;&nbsp;&nbsp;&nbsp;&nbsp;&nbsp;&nbsp;&nbsp;&nbsp;&nbsp;&nbsp;&nbsp;&nbsp;&nbsp;&nbsp;&nbsp;&nbsp;&nbsp;Filter: (g_batting = 10)</td>\n",
       "        </tr>\n",
       "        <tr>\n",
       "            <td>&nbsp;&nbsp;&nbsp;&nbsp;&nbsp;&nbsp;&nbsp;&nbsp;&nbsp;&nbsp;&nbsp;&nbsp;&nbsp;&nbsp;&nbsp;&nbsp;&nbsp;&nbsp;&nbsp;&nbsp;&nbsp;&nbsp;&nbsp;&nbsp;&nbsp;&nbsp;Rows Removed by Filter: 102909</td>\n",
       "        </tr>\n",
       "        <tr>\n",
       "            <td>Planning Time: 0.282 ms</td>\n",
       "        </tr>\n",
       "        <tr>\n",
       "            <td>Execution Time: 17.643 ms</td>\n",
       "        </tr>\n",
       "    </tbody>\n",
       "</table>"
      ],
      "text/plain": [
       "+--------------------------------------------------------------------------------------------------------------------------------------------------------------------------------+\n",
       "|                                                                                   QUERY PLAN                                                                                   |\n",
       "+--------------------------------------------------------------------------------------------------------------------------------------------------------------------------------+\n",
       "|                                     GroupAggregate  (cost=3634.44..3634.47 rows=1 width=46) (actual time=17.535..17.590 rows=134 loops=1)                                      |\n",
       "|                                                                              Group Key: s.playerid                                                                             |\n",
       "|                                         ->  Sort  (cost=3634.44..3634.45 rows=1 width=46) (actual time=17.526..17.535 rows=138 loops=1)                                        |\n",
       "|                                                                                  Sort Key: s.playerid                                                                          |\n",
       "|                                                                          Sort Method: quicksort  Memory: 35kB                                                                  |\n",
       "|                                          ->  Hash Join  (cost=2897.66..3634.43 rows=1 width=46) (actual time=10.962..17.418 rows=138 loops=1)                                  |\n",
       "|               Hash Cond: ((s.yearid = a.yearid) AND ((s.teamid)::text = (a.teamid)::text) AND ((s.lgid)::text = (a.lgid)::text) AND ((s.playerid)::text = (a.playerid)::text)) |\n",
       "|                                      ->  Seq Scan on salaries s  (cost=0.00..459.28 rows=26428 width=78) (actual time=0.021..1.883 rows=26428 loops=1)                         |\n",
       "|                                             ->  Hash  (cost=2873.20..2873.20 rows=1223 width=20) (actual time=10.789..10.790 rows=1347 loops=1)                                |\n",
       "|                                                                           Buckets: 2048  Batches: 1  Memory Usage: 86kB                                                        |\n",
       "|                                        ->  Seq Scan on appearances a  (cost=0.00..2873.20 rows=1223 width=20) (actual time=0.009..10.364 rows=1347 loops=1)                    |\n",
       "|                                                                                         Filter: (g_batting = 10)                                                               |\n",
       "|                                                                                      Rows Removed by Filter: 102909                                                            |\n",
       "|                                                                            Planning Time: 0.282 ms                                                                             |\n",
       "|                                                                           Execution Time: 17.643 ms                                                                            |\n",
       "+--------------------------------------------------------------------------------------------------------------------------------------------------------------------------------+"
      ]
     },
     "execution_count": 65,
     "metadata": {},
     "output_type": "execute_result"
    }
   ],
   "source": [
    "# Do not delete/edit this cell!\n",
    "# You must run this cell before running the autograder.\n",
    "query_5a = %sqlcmd snippets query_5a\n",
    "grading_util.save_results(\"result_5a\", query_5a, result_5a);\n",
    "\n",
    "display(result_5a.DataFrame().head(3))\n",
    "%sql EXPLAIN ANALYZE {{query_5a}} "
   ]
  },
  {
   "cell_type": "markdown",
   "metadata": {
    "deletable": false,
    "editable": false
   },
   "source": [
    "Inspect the query plan above and record the execution time and cost."
   ]
  },
  {
   "cell_type": "code",
   "execution_count": 66,
   "metadata": {
    "tags": []
   },
   "outputs": [],
   "source": [
    "result_5a_cost = 3636.29\n",
    "result_5a_timing = 24.188"
   ]
  },
  {
   "cell_type": "code",
   "execution_count": 67,
   "metadata": {
    "deletable": false,
    "editable": false
   },
   "outputs": [
    {
     "data": {
      "text/html": [
       "<p><strong><pre style='display: inline;'>q5a</pre></strong> passed! 🌟</p>"
      ],
      "text/plain": [
       "q5a results: All test cases passed!"
      ]
     },
     "execution_count": 67,
     "metadata": {},
     "output_type": "execute_result"
    }
   ],
   "source": [
    "grader.check(\"q5a\")"
   ]
  },
  {
   "cell_type": "markdown",
   "metadata": {
    "deletable": false,
    "editable": false
   },
   "source": [
    "<br><br>\n",
    "\n",
    "---\n",
    "## Question 5b\n",
    "\n",
    "Add an index with name `g_batting_idx` on the `g_batting` column of the `appearances` table."
   ]
  },
  {
   "cell_type": "code",
   "execution_count": 68,
   "metadata": {
    "tags": []
   },
   "outputs": [
    {
     "data": {
      "text/html": [
       "<span style=\"None\">Running query in &#x27;postgresql://jovyan@127.0.0.1:5432/baseball&#x27;</span>"
      ],
      "text/plain": [
       "Running query in 'postgresql://jovyan@127.0.0.1:5432/baseball'"
      ]
     },
     "metadata": {},
     "output_type": "display_data"
    },
    {
     "data": {
      "text/html": [
       "<table>\n",
       "    <thead>\n",
       "        <tr>\n",
       "        </tr>\n",
       "    </thead>\n",
       "    <tbody>\n",
       "    </tbody>\n",
       "</table>"
      ],
      "text/plain": [
       "++\n",
       "||\n",
       "++\n",
       "++"
      ]
     },
     "execution_count": 68,
     "metadata": {},
     "output_type": "execute_result"
    }
   ],
   "source": [
    "%%sql\n",
    "DROP INDEX IF EXISTS g_batting_idx;\n",
    "CREATE INDEX g_batting_idx ON appearances(g_batting);"
   ]
  },
  {
   "cell_type": "markdown",
   "metadata": {
    "deletable": false,
    "editable": false
   },
   "source": [
    "Now, re-inspect the query plan of the query from `Question 5a` and record its execution time and cost."
   ]
  },
  {
   "cell_type": "code",
   "execution_count": 69,
   "metadata": {
    "deletable": false,
    "editable": false
   },
   "outputs": [
    {
     "data": {
      "text/html": [
       "<span style=\"None\">Running query in &#x27;postgresql://jovyan@127.0.0.1:5432/baseball&#x27;</span>"
      ],
      "text/plain": [
       "Running query in 'postgresql://jovyan@127.0.0.1:5432/baseball'"
      ]
     },
     "metadata": {},
     "output_type": "display_data"
    },
    {
     "data": {
      "text/html": [
       "<span style=\"color: green\">17 rows affected.</span>"
      ],
      "text/plain": [
       "17 rows affected."
      ]
     },
     "metadata": {},
     "output_type": "display_data"
    },
    {
     "data": {
      "text/html": [
       "<table>\n",
       "    <thead>\n",
       "        <tr>\n",
       "            <th>QUERY PLAN</th>\n",
       "        </tr>\n",
       "    </thead>\n",
       "    <tbody>\n",
       "        <tr>\n",
       "            <td>GroupAggregate  (cost=2338.44..2338.46 rows=1 width=46) (actual time=8.515..8.582 rows=134 loops=1)</td>\n",
       "        </tr>\n",
       "        <tr>\n",
       "            <td>&nbsp;&nbsp;Group Key: s.playerid</td>\n",
       "        </tr>\n",
       "        <tr>\n",
       "            <td>&nbsp;&nbsp;->  Sort  (cost=2338.44..2338.44 rows=1 width=46) (actual time=8.505..8.513 rows=138 loops=1)</td>\n",
       "        </tr>\n",
       "        <tr>\n",
       "            <td>&nbsp;&nbsp;&nbsp;&nbsp;&nbsp;&nbsp;&nbsp;&nbsp;Sort Key: s.playerid</td>\n",
       "        </tr>\n",
       "        <tr>\n",
       "            <td>&nbsp;&nbsp;&nbsp;&nbsp;&nbsp;&nbsp;&nbsp;&nbsp;Sort Method: quicksort  Memory: 35kB</td>\n",
       "        </tr>\n",
       "        <tr>\n",
       "            <td>&nbsp;&nbsp;&nbsp;&nbsp;&nbsp;&nbsp;&nbsp;&nbsp;->  Hash Join  (cost=1601.65..2338.43 rows=1 width=46) (actual time=1.921..8.381 rows=138 loops=1)</td>\n",
       "        </tr>\n",
       "        <tr>\n",
       "            <td>&nbsp;&nbsp;&nbsp;&nbsp;&nbsp;&nbsp;&nbsp;&nbsp;&nbsp;&nbsp;&nbsp;&nbsp;&nbsp;&nbsp;Hash Cond: ((s.yearid = a.yearid) AND ((s.teamid)::text = (a.teamid)::text) AND ((s.lgid)::text = (a.lgid)::text) AND ((s.playerid)::text = (a.playerid)::text))</td>\n",
       "        </tr>\n",
       "        <tr>\n",
       "            <td>&nbsp;&nbsp;&nbsp;&nbsp;&nbsp;&nbsp;&nbsp;&nbsp;&nbsp;&nbsp;&nbsp;&nbsp;&nbsp;&nbsp;->  Seq Scan on salaries s  (cost=0.00..459.28 rows=26428 width=78) (actual time=0.009..1.883 rows=26428 loops=1)</td>\n",
       "        </tr>\n",
       "        <tr>\n",
       "            <td>&nbsp;&nbsp;&nbsp;&nbsp;&nbsp;&nbsp;&nbsp;&nbsp;&nbsp;&nbsp;&nbsp;&nbsp;&nbsp;&nbsp;->  Hash  (cost=1577.19..1577.19 rows=1223 width=20) (actual time=1.783..1.785 rows=1347 loops=1)</td>\n",
       "        </tr>\n",
       "        <tr>\n",
       "            <td>&nbsp;&nbsp;&nbsp;&nbsp;&nbsp;&nbsp;&nbsp;&nbsp;&nbsp;&nbsp;&nbsp;&nbsp;&nbsp;&nbsp;&nbsp;&nbsp;&nbsp;&nbsp;&nbsp;&nbsp;Buckets: 2048  Batches: 1  Memory Usage: 86kB</td>\n",
       "        </tr>\n",
       "        <tr>\n",
       "            <td>&nbsp;&nbsp;&nbsp;&nbsp;&nbsp;&nbsp;&nbsp;&nbsp;&nbsp;&nbsp;&nbsp;&nbsp;&nbsp;&nbsp;&nbsp;&nbsp;&nbsp;&nbsp;&nbsp;&nbsp;->  Bitmap Heap Scan on appearances a  (cost=17.77..1577.19 rows=1223 width=20) (actual time=0.261..1.471 rows=1347 loops=1)</td>\n",
       "        </tr>\n",
       "        <tr>\n",
       "            <td>&nbsp;&nbsp;&nbsp;&nbsp;&nbsp;&nbsp;&nbsp;&nbsp;&nbsp;&nbsp;&nbsp;&nbsp;&nbsp;&nbsp;&nbsp;&nbsp;&nbsp;&nbsp;&nbsp;&nbsp;&nbsp;&nbsp;&nbsp;&nbsp;&nbsp;&nbsp;Recheck Cond: (g_batting = 10)</td>\n",
       "        </tr>\n",
       "        <tr>\n",
       "            <td>&nbsp;&nbsp;&nbsp;&nbsp;&nbsp;&nbsp;&nbsp;&nbsp;&nbsp;&nbsp;&nbsp;&nbsp;&nbsp;&nbsp;&nbsp;&nbsp;&nbsp;&nbsp;&nbsp;&nbsp;&nbsp;&nbsp;&nbsp;&nbsp;&nbsp;&nbsp;Heap Blocks: exact=899</td>\n",
       "        </tr>\n",
       "        <tr>\n",
       "            <td>&nbsp;&nbsp;&nbsp;&nbsp;&nbsp;&nbsp;&nbsp;&nbsp;&nbsp;&nbsp;&nbsp;&nbsp;&nbsp;&nbsp;&nbsp;&nbsp;&nbsp;&nbsp;&nbsp;&nbsp;&nbsp;&nbsp;&nbsp;&nbsp;&nbsp;&nbsp;->  Bitmap Index Scan on g_batting_idx  (cost=0.00..17.46 rows=1223 width=0) (actual time=0.147..0.147 rows=1347 loops=1)</td>\n",
       "        </tr>\n",
       "        <tr>\n",
       "            <td>&nbsp;&nbsp;&nbsp;&nbsp;&nbsp;&nbsp;&nbsp;&nbsp;&nbsp;&nbsp;&nbsp;&nbsp;&nbsp;&nbsp;&nbsp;&nbsp;&nbsp;&nbsp;&nbsp;&nbsp;&nbsp;&nbsp;&nbsp;&nbsp;&nbsp;&nbsp;&nbsp;&nbsp;&nbsp;&nbsp;&nbsp;&nbsp;Index Cond: (g_batting = 10)</td>\n",
       "        </tr>\n",
       "        <tr>\n",
       "            <td>Planning Time: 0.447 ms</td>\n",
       "        </tr>\n",
       "        <tr>\n",
       "            <td>Execution Time: 8.647 ms</td>\n",
       "        </tr>\n",
       "    </tbody>\n",
       "</table>"
      ],
      "text/plain": [
       "+--------------------------------------------------------------------------------------------------------------------------------------------------------------------------------+\n",
       "|                                                                                   QUERY PLAN                                                                                   |\n",
       "+--------------------------------------------------------------------------------------------------------------------------------------------------------------------------------+\n",
       "|                                      GroupAggregate  (cost=2338.44..2338.46 rows=1 width=46) (actual time=8.515..8.582 rows=134 loops=1)                                       |\n",
       "|                                                                              Group Key: s.playerid                                                                             |\n",
       "|                                          ->  Sort  (cost=2338.44..2338.44 rows=1 width=46) (actual time=8.505..8.513 rows=138 loops=1)                                         |\n",
       "|                                                                                  Sort Key: s.playerid                                                                          |\n",
       "|                                                                          Sort Method: quicksort  Memory: 35kB                                                                  |\n",
       "|                                           ->  Hash Join  (cost=1601.65..2338.43 rows=1 width=46) (actual time=1.921..8.381 rows=138 loops=1)                                   |\n",
       "|               Hash Cond: ((s.yearid = a.yearid) AND ((s.teamid)::text = (a.teamid)::text) AND ((s.lgid)::text = (a.lgid)::text) AND ((s.playerid)::text = (a.playerid)::text)) |\n",
       "|                                      ->  Seq Scan on salaries s  (cost=0.00..459.28 rows=26428 width=78) (actual time=0.009..1.883 rows=26428 loops=1)                         |\n",
       "|                                              ->  Hash  (cost=1577.19..1577.19 rows=1223 width=20) (actual time=1.783..1.785 rows=1347 loops=1)                                 |\n",
       "|                                                                           Buckets: 2048  Batches: 1  Memory Usage: 86kB                                                        |\n",
       "|                                    ->  Bitmap Heap Scan on appearances a  (cost=17.77..1577.19 rows=1223 width=20) (actual time=0.261..1.471 rows=1347 loops=1)                |\n",
       "|                                                                                      Recheck Cond: (g_batting = 10)                                                            |\n",
       "|                                                                                          Heap Blocks: exact=899                                                                |\n",
       "|                                        ->  Bitmap Index Scan on g_batting_idx  (cost=0.00..17.46 rows=1223 width=0) (actual time=0.147..0.147 rows=1347 loops=1)               |\n",
       "|                                                                                          Index Cond: (g_batting = 10)                                                          |\n",
       "|                                                                            Planning Time: 0.447 ms                                                                             |\n",
       "|                                                                            Execution Time: 8.647 ms                                                                            |\n",
       "+--------------------------------------------------------------------------------------------------------------------------------------------------------------------------------+"
      ]
     },
     "execution_count": 69,
     "metadata": {},
     "output_type": "execute_result"
    }
   ],
   "source": [
    "# just run this cell\n",
    "%sql EXPLAIN ANALYZE {{query_5a}} "
   ]
  },
  {
   "cell_type": "code",
   "execution_count": 70,
   "metadata": {
    "tags": []
   },
   "outputs": [],
   "source": [
    "result_5b_cost =  2369.05\n",
    "result_5b_timing = 15.711"
   ]
  },
  {
   "cell_type": "code",
   "execution_count": 71,
   "metadata": {
    "deletable": false,
    "editable": false
   },
   "outputs": [
    {
     "data": {
      "text/html": [
       "<p><strong><pre style='display: inline;'>q5b</pre></strong> passed! 💯</p>"
      ],
      "text/plain": [
       "q5b results: All test cases passed!"
      ]
     },
     "execution_count": 71,
     "metadata": {},
     "output_type": "execute_result"
    }
   ],
   "source": [
    "grader.check(\"q5b\")"
   ]
  },
  {
   "cell_type": "markdown",
   "metadata": {},
   "source": [
    "In the following question, we will explore adding a different index and evaluating the query from `Question 4a`. To avoid any interference by the `g_batting_idx` index, **drop the index before moving onto the next question.**"
   ]
  },
  {
   "cell_type": "code",
   "execution_count": 72,
   "metadata": {},
   "outputs": [
    {
     "data": {
      "text/html": [
       "<span style=\"None\">Running query in &#x27;postgresql://jovyan@127.0.0.1:5432/baseball&#x27;</span>"
      ],
      "text/plain": [
       "Running query in 'postgresql://jovyan@127.0.0.1:5432/baseball'"
      ]
     },
     "metadata": {},
     "output_type": "display_data"
    },
    {
     "data": {
      "text/html": [
       "<table>\n",
       "    <thead>\n",
       "        <tr>\n",
       "        </tr>\n",
       "    </thead>\n",
       "    <tbody>\n",
       "    </tbody>\n",
       "</table>"
      ],
      "text/plain": [
       "++\n",
       "||\n",
       "++\n",
       "++"
      ]
     },
     "execution_count": 72,
     "metadata": {},
     "output_type": "execute_result"
    }
   ],
   "source": [
    "# you must run this cell!!!\n",
    "%sql DROP INDEX IF EXISTS g_batting_idx;"
   ]
  },
  {
   "cell_type": "markdown",
   "metadata": {
    "deletable": false,
    "editable": false
   },
   "source": [
    "<br><br>\n",
    "\n",
    "---\n",
    "## Question 5c\n",
    "\n",
    "Write a query to add an index with name `salary_idx` on the `salary` column of the `salaries` table. Make sure to drop the previous index in `Question 5b` first!"
   ]
  },
  {
   "cell_type": "code",
   "execution_count": 73,
   "metadata": {
    "tags": []
   },
   "outputs": [
    {
     "data": {
      "text/html": [
       "<span style=\"None\">Running query in &#x27;postgresql://jovyan@127.0.0.1:5432/baseball&#x27;</span>"
      ],
      "text/plain": [
       "Running query in 'postgresql://jovyan@127.0.0.1:5432/baseball'"
      ]
     },
     "metadata": {},
     "output_type": "display_data"
    },
    {
     "data": {
      "text/html": [
       "<table>\n",
       "    <thead>\n",
       "        <tr>\n",
       "        </tr>\n",
       "    </thead>\n",
       "    <tbody>\n",
       "    </tbody>\n",
       "</table>"
      ],
      "text/plain": [
       "++\n",
       "||\n",
       "++\n",
       "++"
      ]
     },
     "execution_count": 73,
     "metadata": {},
     "output_type": "execute_result"
    }
   ],
   "source": [
    "%%sql\n",
    "DROP INDEX IF EXISTS g_batting_idx;\n",
    "DROP INDEX IF EXISTS salary_idx;\n",
    "CREATE INDEX salary_idx ON salaries(salary);"
   ]
  },
  {
   "cell_type": "markdown",
   "metadata": {
    "deletable": false,
    "editable": false
   },
   "source": [
    "Now, re-inspect the query plan of the query from `Question 5a` and record its execution time and cost."
   ]
  },
  {
   "cell_type": "code",
   "execution_count": 74,
   "metadata": {
    "deletable": false,
    "editable": false
   },
   "outputs": [
    {
     "data": {
      "text/html": [
       "<span style=\"None\">Running query in &#x27;postgresql://jovyan@127.0.0.1:5432/baseball&#x27;</span>"
      ],
      "text/plain": [
       "Running query in 'postgresql://jovyan@127.0.0.1:5432/baseball'"
      ]
     },
     "metadata": {},
     "output_type": "display_data"
    },
    {
     "data": {
      "text/html": [
       "<span style=\"color: green\">15 rows affected.</span>"
      ],
      "text/plain": [
       "15 rows affected."
      ]
     },
     "metadata": {},
     "output_type": "display_data"
    },
    {
     "data": {
      "text/html": [
       "<table>\n",
       "    <thead>\n",
       "        <tr>\n",
       "            <th>QUERY PLAN</th>\n",
       "        </tr>\n",
       "    </thead>\n",
       "    <tbody>\n",
       "        <tr>\n",
       "            <td>GroupAggregate  (cost=3634.44..3634.47 rows=1 width=46) (actual time=17.639..17.694 rows=134 loops=1)</td>\n",
       "        </tr>\n",
       "        <tr>\n",
       "            <td>&nbsp;&nbsp;Group Key: s.playerid</td>\n",
       "        </tr>\n",
       "        <tr>\n",
       "            <td>&nbsp;&nbsp;->  Sort  (cost=3634.44..3634.45 rows=1 width=46) (actual time=17.630..17.637 rows=138 loops=1)</td>\n",
       "        </tr>\n",
       "        <tr>\n",
       "            <td>&nbsp;&nbsp;&nbsp;&nbsp;&nbsp;&nbsp;&nbsp;&nbsp;Sort Key: s.playerid</td>\n",
       "        </tr>\n",
       "        <tr>\n",
       "            <td>&nbsp;&nbsp;&nbsp;&nbsp;&nbsp;&nbsp;&nbsp;&nbsp;Sort Method: quicksort  Memory: 35kB</td>\n",
       "        </tr>\n",
       "        <tr>\n",
       "            <td>&nbsp;&nbsp;&nbsp;&nbsp;&nbsp;&nbsp;&nbsp;&nbsp;->  Hash Join  (cost=2897.66..3634.43 rows=1 width=46) (actual time=10.781..17.519 rows=138 loops=1)</td>\n",
       "        </tr>\n",
       "        <tr>\n",
       "            <td>&nbsp;&nbsp;&nbsp;&nbsp;&nbsp;&nbsp;&nbsp;&nbsp;&nbsp;&nbsp;&nbsp;&nbsp;&nbsp;&nbsp;Hash Cond: ((s.yearid = a.yearid) AND ((s.teamid)::text = (a.teamid)::text) AND ((s.lgid)::text = (a.lgid)::text) AND ((s.playerid)::text = (a.playerid)::text))</td>\n",
       "        </tr>\n",
       "        <tr>\n",
       "            <td>&nbsp;&nbsp;&nbsp;&nbsp;&nbsp;&nbsp;&nbsp;&nbsp;&nbsp;&nbsp;&nbsp;&nbsp;&nbsp;&nbsp;->  Seq Scan on salaries s  (cost=0.00..459.28 rows=26428 width=78) (actual time=0.007..1.959 rows=26428 loops=1)</td>\n",
       "        </tr>\n",
       "        <tr>\n",
       "            <td>&nbsp;&nbsp;&nbsp;&nbsp;&nbsp;&nbsp;&nbsp;&nbsp;&nbsp;&nbsp;&nbsp;&nbsp;&nbsp;&nbsp;->  Hash  (cost=2873.20..2873.20 rows=1223 width=20) (actual time=10.619..10.620 rows=1347 loops=1)</td>\n",
       "        </tr>\n",
       "        <tr>\n",
       "            <td>&nbsp;&nbsp;&nbsp;&nbsp;&nbsp;&nbsp;&nbsp;&nbsp;&nbsp;&nbsp;&nbsp;&nbsp;&nbsp;&nbsp;&nbsp;&nbsp;&nbsp;&nbsp;&nbsp;&nbsp;Buckets: 2048  Batches: 1  Memory Usage: 86kB</td>\n",
       "        </tr>\n",
       "        <tr>\n",
       "            <td>&nbsp;&nbsp;&nbsp;&nbsp;&nbsp;&nbsp;&nbsp;&nbsp;&nbsp;&nbsp;&nbsp;&nbsp;&nbsp;&nbsp;&nbsp;&nbsp;&nbsp;&nbsp;&nbsp;&nbsp;->  Seq Scan on appearances a  (cost=0.00..2873.20 rows=1223 width=20) (actual time=0.007..10.231 rows=1347 loops=1)</td>\n",
       "        </tr>\n",
       "        <tr>\n",
       "            <td>&nbsp;&nbsp;&nbsp;&nbsp;&nbsp;&nbsp;&nbsp;&nbsp;&nbsp;&nbsp;&nbsp;&nbsp;&nbsp;&nbsp;&nbsp;&nbsp;&nbsp;&nbsp;&nbsp;&nbsp;&nbsp;&nbsp;&nbsp;&nbsp;&nbsp;&nbsp;Filter: (g_batting = 10)</td>\n",
       "        </tr>\n",
       "        <tr>\n",
       "            <td>&nbsp;&nbsp;&nbsp;&nbsp;&nbsp;&nbsp;&nbsp;&nbsp;&nbsp;&nbsp;&nbsp;&nbsp;&nbsp;&nbsp;&nbsp;&nbsp;&nbsp;&nbsp;&nbsp;&nbsp;&nbsp;&nbsp;&nbsp;&nbsp;&nbsp;&nbsp;Rows Removed by Filter: 102909</td>\n",
       "        </tr>\n",
       "        <tr>\n",
       "            <td>Planning Time: 0.383 ms</td>\n",
       "        </tr>\n",
       "        <tr>\n",
       "            <td>Execution Time: 17.736 ms</td>\n",
       "        </tr>\n",
       "    </tbody>\n",
       "</table>"
      ],
      "text/plain": [
       "+--------------------------------------------------------------------------------------------------------------------------------------------------------------------------------+\n",
       "|                                                                                   QUERY PLAN                                                                                   |\n",
       "+--------------------------------------------------------------------------------------------------------------------------------------------------------------------------------+\n",
       "|                                     GroupAggregate  (cost=3634.44..3634.47 rows=1 width=46) (actual time=17.639..17.694 rows=134 loops=1)                                      |\n",
       "|                                                                              Group Key: s.playerid                                                                             |\n",
       "|                                         ->  Sort  (cost=3634.44..3634.45 rows=1 width=46) (actual time=17.630..17.637 rows=138 loops=1)                                        |\n",
       "|                                                                                  Sort Key: s.playerid                                                                          |\n",
       "|                                                                          Sort Method: quicksort  Memory: 35kB                                                                  |\n",
       "|                                          ->  Hash Join  (cost=2897.66..3634.43 rows=1 width=46) (actual time=10.781..17.519 rows=138 loops=1)                                  |\n",
       "|               Hash Cond: ((s.yearid = a.yearid) AND ((s.teamid)::text = (a.teamid)::text) AND ((s.lgid)::text = (a.lgid)::text) AND ((s.playerid)::text = (a.playerid)::text)) |\n",
       "|                                      ->  Seq Scan on salaries s  (cost=0.00..459.28 rows=26428 width=78) (actual time=0.007..1.959 rows=26428 loops=1)                         |\n",
       "|                                             ->  Hash  (cost=2873.20..2873.20 rows=1223 width=20) (actual time=10.619..10.620 rows=1347 loops=1)                                |\n",
       "|                                                                           Buckets: 2048  Batches: 1  Memory Usage: 86kB                                                        |\n",
       "|                                        ->  Seq Scan on appearances a  (cost=0.00..2873.20 rows=1223 width=20) (actual time=0.007..10.231 rows=1347 loops=1)                    |\n",
       "|                                                                                         Filter: (g_batting = 10)                                                               |\n",
       "|                                                                                      Rows Removed by Filter: 102909                                                            |\n",
       "|                                                                            Planning Time: 0.383 ms                                                                             |\n",
       "|                                                                           Execution Time: 17.736 ms                                                                            |\n",
       "+--------------------------------------------------------------------------------------------------------------------------------------------------------------------------------+"
      ]
     },
     "execution_count": 74,
     "metadata": {},
     "output_type": "execute_result"
    }
   ],
   "source": [
    "# just run this cell\n",
    "%sql EXPLAIN ANALYZE {{query_5a}} "
   ]
  },
  {
   "cell_type": "code",
   "execution_count": 75,
   "metadata": {
    "tags": []
   },
   "outputs": [],
   "source": [
    "result_5c_cost = 3636.29\n",
    "result_5c_timing = 28.652"
   ]
  },
  {
   "cell_type": "code",
   "execution_count": 76,
   "metadata": {
    "deletable": false,
    "editable": false
   },
   "outputs": [
    {
     "data": {
      "text/html": [
       "<p><strong><pre style='display: inline;'>q5c</pre></strong> passed! 🌟</p>"
      ],
      "text/plain": [
       "q5c results: All test cases passed!"
      ]
     },
     "execution_count": 76,
     "metadata": {},
     "output_type": "execute_result"
    }
   ],
   "source": [
    "grader.check(\"q5c\")"
   ]
  },
  {
   "cell_type": "markdown",
   "metadata": {
    "deletable": false,
    "editable": false
   },
   "source": [
    "<br><br>\n",
    "\n",
    "---\n",
    "\n",
    "## Question 5d\n",
    "\n",
    "Given your findings from inspecting the query plans with no indexes (Question 5a), an index on `g_batting` (Question 5b), and an index on `salary` (Question 5c), assign the variable `q5d` to a list of all of the below statements that are true.\n",
    "\n",
    "A. Adding the `g_batting` index did not have a significant impact on the query execution time and cost.<br/>\n",
    "B. Adding the `g_batting` index did have a significant impact on the query execution time, but not the cost.<br/>\n",
    "C. Adding the `g_batting` index did have a significant impact on the query cost, but not the execution time.<br/>\n",
    "D. Adding the `g_batting` index did have a significant impact on the query cost and execution time.<br/>\n",
    "E. Adding the `salary` index did not have a significant impact on the query execution time and cost.<br/>\n",
    "F. Adding the `salary` index did have a significant impact on the query execution time, but not the cost.<br/>\n",
    "G. Adding the `salary` index did have a significant impact on the query cost, but not the execution time.<br/>\n",
    "H. Adding the `salary` index did have a significant impact on the query cost and execution time.\n",
    "\n",
    "**Note:** Your answer should be formatted as a list of single-character strings, e.g., `q5d = ['A', 'B']`"
   ]
  },
  {
   "cell_type": "code",
   "execution_count": 77,
   "metadata": {
    "tags": []
   },
   "outputs": [],
   "source": [
    "q5d = ['D', 'E']"
   ]
  },
  {
   "cell_type": "code",
   "execution_count": 78,
   "metadata": {
    "deletable": false,
    "editable": false
   },
   "outputs": [
    {
     "data": {
      "text/html": [
       "<p><strong><pre style='display: inline;'>q5d</pre></strong> passed! 🌈</p>"
      ],
      "text/plain": [
       "q5d results: All test cases passed!"
      ]
     },
     "execution_count": 78,
     "metadata": {},
     "output_type": "execute_result"
    }
   ],
   "source": [
    "grader.check(\"q5d\")"
   ]
  },
  {
   "cell_type": "markdown",
   "metadata": {
    "deletable": false,
    "editable": false
   },
   "source": [
    "<!-- BEGIN QUESTION -->\n",
    "\n",
    "### Question 5di Justification\n",
    "\n",
    "Explain your answer to `Question 5d` above based on your knowledge from lectures, and details from inspecting the query plans (your explanation should include why you didn't choose certain options). Your answer should be no longer than 3 sentences."
   ]
  },
  {
   "cell_type": "markdown",
   "metadata": {},
   "source": [
    "The g_batting index notably improved the query's efficiency by enabling a Bitmap Index Scan, eliminating the need for a full scan on the appearances table. In contrast, the salary index didn't enhance the query's performance, as the plan still used a sequential scan on the salaries table, with metrics similar to those without the index."
   ]
  },
  {
   "cell_type": "markdown",
   "metadata": {
    "deletable": false,
    "editable": false
   },
   "source": [
    "<!-- END QUESTION -->\n",
    "\n",
    "<br/><br/><br/>\n",
    "\n",
    "<hr style=\"border: 5px solid #003262;\" />\n",
    "<hr style=\"border: 1px solid #fdb515;\" />\n",
    "\n",
    "# Question 6: Indexes, Part 2\n",
    "\n",
    "Continue the analysis on how indexes impact query performance.\n",
    "\n",
    "Question 6:\n",
    "* Question 6a: Write a query that uses an **and** boolean operator. Record query performance.\n",
    "* Question 6b: Write a query that uses an **or** boolean operator. Record query performances.\n",
    "* Question 6c: Add an index and rerun queries in Questions 6a, 6b. Record query performance.\n",
    "* Question 6d: Add a multi-attribute index and rerun queries 6a, 6b. Record query performance.\n",
    "* Question 6e: Analyze query performance; compare and contrast."
   ]
  },
  {
   "cell_type": "markdown",
   "metadata": {},
   "source": [
    "Before continuing, make sure to drop all existing indexes from previous questions."
   ]
  },
  {
   "cell_type": "code",
   "execution_count": 79,
   "metadata": {},
   "outputs": [
    {
     "data": {
      "text/html": [
       "<span style=\"None\">Running query in &#x27;postgresql://jovyan@127.0.0.1:5432/baseball&#x27;</span>"
      ],
      "text/plain": [
       "Running query in 'postgresql://jovyan@127.0.0.1:5432/baseball'"
      ]
     },
     "metadata": {},
     "output_type": "display_data"
    },
    {
     "data": {
      "text/html": [
       "<span style=\"None\">Running query in &#x27;postgresql://jovyan@127.0.0.1:5432/baseball&#x27;</span>"
      ],
      "text/plain": [
       "Running query in 'postgresql://jovyan@127.0.0.1:5432/baseball'"
      ]
     },
     "metadata": {},
     "output_type": "display_data"
    },
    {
     "data": {
      "text/html": [
       "<table>\n",
       "    <thead>\n",
       "        <tr>\n",
       "        </tr>\n",
       "    </thead>\n",
       "    <tbody>\n",
       "    </tbody>\n",
       "</table>"
      ],
      "text/plain": [
       "++\n",
       "||\n",
       "++\n",
       "++"
      ]
     },
     "execution_count": 79,
     "metadata": {},
     "output_type": "execute_result"
    }
   ],
   "source": [
    "# you must run this cell!!!\n",
    "%sql DROP INDEX IF EXISTS g_batting_idx;\n",
    "%sql DROP INDEX IF EXISTS salary_idx;"
   ]
  },
  {
   "cell_type": "markdown",
   "metadata": {
    "deletable": false,
    "editable": false
   },
   "source": [
    "<br><br>\n",
    "\n",
    "---\n",
    "\n",
    "## Question 6a\n",
    "\n",
    "Write a query that finds the `playerid`, `yearid`, and `salary` for each player that had played 10 games **and** batted in 10 games (the number of games in which a player played can be found in the `g_all` column of the `appearances` table). Your query should join the `salaries` and `appearances` table on all the common columns `yearid`, `teamid`, and `playerid`, so feel free to use a natural join."
   ]
  },
  {
   "cell_type": "code",
   "execution_count": 80,
   "metadata": {
    "tags": []
   },
   "outputs": [
    {
     "data": {
      "text/html": [
       "<span style=\"None\">Running query in &#x27;postgresql://jovyan@127.0.0.1:5432/baseball&#x27;</span>"
      ],
      "text/plain": [
       "Running query in 'postgresql://jovyan@127.0.0.1:5432/baseball'"
      ]
     },
     "metadata": {},
     "output_type": "display_data"
    },
    {
     "data": {
      "text/html": [
       "<span style=\"color: green\">120 rows affected.</span>"
      ],
      "text/plain": [
       "120 rows affected."
      ]
     },
     "metadata": {},
     "output_type": "display_data"
    }
   ],
   "source": [
    "%%sql --save query_6a result_6a <<\n",
    "SELECT s.playerid, s.yearid, s.salary\n",
    "FROM salaries s\n",
    "NATURAL JOIN appearances a\n",
    "WHERE a.g_all = 10 AND a.g_batting = 10;"
   ]
  },
  {
   "cell_type": "code",
   "execution_count": 81,
   "metadata": {
    "tags": []
   },
   "outputs": [
    {
     "data": {
      "text/html": [
       "<div>\n",
       "<style scoped>\n",
       "    .dataframe tbody tr th:only-of-type {\n",
       "        vertical-align: middle;\n",
       "    }\n",
       "\n",
       "    .dataframe tbody tr th {\n",
       "        vertical-align: top;\n",
       "    }\n",
       "\n",
       "    .dataframe thead th {\n",
       "        text-align: right;\n",
       "    }\n",
       "</style>\n",
       "<table border=\"1\" class=\"dataframe\">\n",
       "  <thead>\n",
       "    <tr style=\"text-align: right;\">\n",
       "      <th></th>\n",
       "      <th>playerid</th>\n",
       "      <th>yearid</th>\n",
       "      <th>salary</th>\n",
       "    </tr>\n",
       "  </thead>\n",
       "  <tbody>\n",
       "    <tr>\n",
       "      <th>0</th>\n",
       "      <td>wiggial01</td>\n",
       "      <td>1985</td>\n",
       "      <td>512500.0</td>\n",
       "    </tr>\n",
       "    <tr>\n",
       "      <th>1</th>\n",
       "      <td>anderla02</td>\n",
       "      <td>1986</td>\n",
       "      <td>240000.0</td>\n",
       "    </tr>\n",
       "    <tr>\n",
       "      <th>2</th>\n",
       "      <td>lakest01</td>\n",
       "      <td>1986</td>\n",
       "      <td>60000.0</td>\n",
       "    </tr>\n",
       "  </tbody>\n",
       "</table>\n",
       "</div>"
      ],
      "text/plain": [
       "    playerid  yearid    salary\n",
       "0  wiggial01    1985  512500.0\n",
       "1  anderla02    1986  240000.0\n",
       "2   lakest01    1986   60000.0"
      ]
     },
     "execution_count": 81,
     "metadata": {},
     "output_type": "execute_result"
    }
   ],
   "source": [
    "# Do not delete/edit this cell!\n",
    "# You must run this cell before running the autograder.\n",
    "query_6a = %sqlcmd snippets query_6a\n",
    "grading_util.save_results(\"result_6a\", query_6a, result_6a);\n",
    "\n",
    "result_6a.DataFrame().head(3)"
   ]
  },
  {
   "cell_type": "code",
   "execution_count": 82,
   "metadata": {
    "deletable": false,
    "editable": false
   },
   "outputs": [
    {
     "data": {
      "text/html": [
       "<p><strong><pre style='display: inline;'>q6a</pre></strong> passed! 💯</p>"
      ],
      "text/plain": [
       "q6a results: All test cases passed!"
      ]
     },
     "execution_count": 82,
     "metadata": {},
     "output_type": "execute_result"
    }
   ],
   "source": [
    "grader.check(\"q6a\")"
   ]
  },
  {
   "cell_type": "markdown",
   "metadata": {
    "deletable": false,
    "editable": false
   },
   "source": [
    "Inspect the query plan and record the execution time and cost."
   ]
  },
  {
   "cell_type": "code",
   "execution_count": 83,
   "metadata": {
    "deletable": false,
    "editable": false
   },
   "outputs": [
    {
     "data": {
      "text/html": [
       "<span style=\"None\">Running query in &#x27;postgresql://jovyan@127.0.0.1:5432/baseball&#x27;</span>"
      ],
      "text/plain": [
       "Running query in 'postgresql://jovyan@127.0.0.1:5432/baseball'"
      ]
     },
     "metadata": {},
     "output_type": "display_data"
    },
    {
     "data": {
      "text/html": [
       "<span style=\"color: green\">8 rows affected.</span>"
      ],
      "text/plain": [
       "8 rows affected."
      ]
     },
     "metadata": {},
     "output_type": "display_data"
    },
    {
     "data": {
      "text/html": [
       "<table>\n",
       "    <thead>\n",
       "        <tr>\n",
       "            <th>QUERY PLAN</th>\n",
       "        </tr>\n",
       "    </thead>\n",
       "    <tbody>\n",
       "        <tr>\n",
       "            <td>Nested Loop  (cost=0.29..3271.15 rows=1 width=21) (actual time=6.397..11.531 rows=120 loops=1)</td>\n",
       "        </tr>\n",
       "        <tr>\n",
       "            <td>&nbsp;&nbsp;->  Seq Scan on appearances a  (cost=0.00..3133.84 rows=17 width=20) (actual time=0.012..9.115 rows=1289 loops=1)</td>\n",
       "        </tr>\n",
       "        <tr>\n",
       "            <td>&nbsp;&nbsp;&nbsp;&nbsp;&nbsp;&nbsp;&nbsp;&nbsp;Filter: ((g_all = 10) AND (g_batting = 10))</td>\n",
       "        </tr>\n",
       "        <tr>\n",
       "            <td>&nbsp;&nbsp;&nbsp;&nbsp;&nbsp;&nbsp;&nbsp;&nbsp;Rows Removed by Filter: 102967</td>\n",
       "        </tr>\n",
       "        <tr>\n",
       "            <td>&nbsp;&nbsp;->  Index Scan using salaries_pkey on salaries s  (cost=0.29..8.08 rows=1 width=28) (actual time=0.002..0.002 rows=0 loops=1289)</td>\n",
       "        </tr>\n",
       "        <tr>\n",
       "            <td>&nbsp;&nbsp;&nbsp;&nbsp;&nbsp;&nbsp;&nbsp;&nbsp;Index Cond: ((yearid = a.yearid) AND ((teamid)::text = (a.teamid)::text) AND ((lgid)::text = (a.lgid)::text) AND ((playerid)::text = (a.playerid)::text))</td>\n",
       "        </tr>\n",
       "        <tr>\n",
       "            <td>Planning Time: 0.980 ms</td>\n",
       "        </tr>\n",
       "        <tr>\n",
       "            <td>Execution Time: 11.564 ms</td>\n",
       "        </tr>\n",
       "    </tbody>\n",
       "</table>"
      ],
      "text/plain": [
       "+-------------------------------------------------------------------------------------------------------------------------------------------------------------------+\n",
       "|                                                                             QUERY PLAN                                                                            |\n",
       "+-------------------------------------------------------------------------------------------------------------------------------------------------------------------+\n",
       "|                                   Nested Loop  (cost=0.29..3271.15 rows=1 width=21) (actual time=6.397..11.531 rows=120 loops=1)                                  |\n",
       "|                          ->  Seq Scan on appearances a  (cost=0.00..3133.84 rows=17 width=20) (actual time=0.012..9.115 rows=1289 loops=1)                        |\n",
       "|                                                                Filter: ((g_all = 10) AND (g_batting = 10))                                                        |\n",
       "|                                                                       Rows Removed by Filter: 102967                                                              |\n",
       "|                   ->  Index Scan using salaries_pkey on salaries s  (cost=0.29..8.08 rows=1 width=28) (actual time=0.002..0.002 rows=0 loops=1289)                |\n",
       "|         Index Cond: ((yearid = a.yearid) AND ((teamid)::text = (a.teamid)::text) AND ((lgid)::text = (a.lgid)::text) AND ((playerid)::text = (a.playerid)::text)) |\n",
       "|                                                                      Planning Time: 0.980 ms                                                                      |\n",
       "|                                                                     Execution Time: 11.564 ms                                                                     |\n",
       "+-------------------------------------------------------------------------------------------------------------------------------------------------------------------+"
      ]
     },
     "execution_count": 83,
     "metadata": {},
     "output_type": "execute_result"
    }
   ],
   "source": [
    "%sql EXPLAIN ANALYZE {{query_6a}} "
   ]
  },
  {
   "cell_type": "code",
   "execution_count": 84,
   "metadata": {
    "tags": []
   },
   "outputs": [],
   "source": [
    "result_6a_cost = 3287.78\n",
    "result_6a_timing = 22.796"
   ]
  },
  {
   "cell_type": "code",
   "execution_count": 85,
   "metadata": {
    "deletable": false,
    "editable": false
   },
   "outputs": [
    {
     "data": {
      "text/html": [
       "<p><strong><pre style='display: inline;'>6a_cost</pre></strong> passed! 🌈</p>"
      ],
      "text/plain": [
       "6a_cost results: All test cases passed!"
      ]
     },
     "execution_count": 85,
     "metadata": {},
     "output_type": "execute_result"
    }
   ],
   "source": [
    "grader.check(\"6a_cost\")"
   ]
  },
  {
   "cell_type": "markdown",
   "metadata": {
    "deletable": false,
    "editable": false
   },
   "source": [
    "## Question 6b\n",
    "Write a query that finds the `playerid`, `yearid`, and `salary` for each player that had played 10 games __or__ batted in 10 games. Your query should join the `salaries` and `appearances` table on all the common columns `yearid`, `teamid`, and `playerid`, so feel free to use a natural join."
   ]
  },
  {
   "cell_type": "code",
   "execution_count": 86,
   "metadata": {
    "tags": []
   },
   "outputs": [
    {
     "data": {
      "text/html": [
       "<span style=\"None\">Running query in &#x27;postgresql://jovyan@127.0.0.1:5432/baseball&#x27;</span>"
      ],
      "text/plain": [
       "Running query in 'postgresql://jovyan@127.0.0.1:5432/baseball'"
      ]
     },
     "metadata": {},
     "output_type": "display_data"
    },
    {
     "data": {
      "text/html": [
       "<span style=\"color: green\">216 rows affected.</span>"
      ],
      "text/plain": [
       "216 rows affected."
      ]
     },
     "metadata": {},
     "output_type": "display_data"
    }
   ],
   "source": [
    "%%sql --save query_6b result_6b <<\n",
    "SELECT s.playerid, s.yearid, s.salary\n",
    "FROM salaries s\n",
    "NATURAL JOIN appearances a\n",
    "WHERE a.g_all = 10 OR a.g_batting = 10;"
   ]
  },
  {
   "cell_type": "code",
   "execution_count": 87,
   "metadata": {
    "tags": []
   },
   "outputs": [
    {
     "data": {
      "text/html": [
       "<div>\n",
       "<style scoped>\n",
       "    .dataframe tbody tr th:only-of-type {\n",
       "        vertical-align: middle;\n",
       "    }\n",
       "\n",
       "    .dataframe tbody tr th {\n",
       "        vertical-align: top;\n",
       "    }\n",
       "\n",
       "    .dataframe thead th {\n",
       "        text-align: right;\n",
       "    }\n",
       "</style>\n",
       "<table border=\"1\" class=\"dataframe\">\n",
       "  <thead>\n",
       "    <tr style=\"text-align: right;\">\n",
       "      <th></th>\n",
       "      <th>playerid</th>\n",
       "      <th>yearid</th>\n",
       "      <th>salary</th>\n",
       "    </tr>\n",
       "  </thead>\n",
       "  <tbody>\n",
       "    <tr>\n",
       "      <th>0</th>\n",
       "      <td>wiggial01</td>\n",
       "      <td>1985</td>\n",
       "      <td>512500.0</td>\n",
       "    </tr>\n",
       "    <tr>\n",
       "      <th>1</th>\n",
       "      <td>forscke01</td>\n",
       "      <td>1986</td>\n",
       "      <td>100000.0</td>\n",
       "    </tr>\n",
       "    <tr>\n",
       "      <th>2</th>\n",
       "      <td>carltst01</td>\n",
       "      <td>1986</td>\n",
       "      <td>60000.0</td>\n",
       "    </tr>\n",
       "  </tbody>\n",
       "</table>\n",
       "</div>"
      ],
      "text/plain": [
       "    playerid  yearid    salary\n",
       "0  wiggial01    1985  512500.0\n",
       "1  forscke01    1986  100000.0\n",
       "2  carltst01    1986   60000.0"
      ]
     },
     "execution_count": 87,
     "metadata": {},
     "output_type": "execute_result"
    }
   ],
   "source": [
    "# Do not delete/edit this cell!\n",
    "# You must run this cell before running the autograder.\n",
    "query_6b = %sqlcmd snippets query_6b\n",
    "grading_util.save_results(\"result_6b\", query_6b, result_6b);\n",
    "result_6b.DataFrame().head(3)"
   ]
  },
  {
   "cell_type": "code",
   "execution_count": 88,
   "metadata": {
    "deletable": false,
    "editable": false
   },
   "outputs": [
    {
     "data": {
      "text/html": [
       "<p><strong><pre style='display: inline;'>q6b</pre></strong> passed! 🙌</p>"
      ],
      "text/plain": [
       "q6b results: All test cases passed!"
      ]
     },
     "execution_count": 88,
     "metadata": {},
     "output_type": "execute_result"
    }
   ],
   "source": [
    "grader.check(\"q6b\")"
   ]
  },
  {
   "cell_type": "markdown",
   "metadata": {
    "deletable": false,
    "editable": false
   },
   "source": [
    "Inspect the query plan and record the execution time and cost."
   ]
  },
  {
   "cell_type": "code",
   "execution_count": 89,
   "metadata": {
    "deletable": false,
    "editable": false
   },
   "outputs": [
    {
     "data": {
      "text/html": [
       "<span style=\"None\">Running query in &#x27;postgresql://jovyan@127.0.0.1:5432/baseball&#x27;</span>"
      ],
      "text/plain": [
       "Running query in 'postgresql://jovyan@127.0.0.1:5432/baseball'"
      ]
     },
     "metadata": {},
     "output_type": "display_data"
    },
    {
     "data": {
      "text/html": [
       "<span style=\"color: green\">10 rows affected.</span>"
      ],
      "text/plain": [
       "10 rows affected."
      ]
     },
     "metadata": {},
     "output_type": "display_data"
    },
    {
     "data": {
      "text/html": [
       "<table>\n",
       "    <thead>\n",
       "        <tr>\n",
       "            <th>QUERY PLAN</th>\n",
       "        </tr>\n",
       "    </thead>\n",
       "    <tbody>\n",
       "        <tr>\n",
       "            <td>Hash Join  (cost=3186.82..3923.59 rows=1 width=21) (actual time=10.298..16.666 rows=216 loops=1)</td>\n",
       "        </tr>\n",
       "        <tr>\n",
       "            <td>&nbsp;&nbsp;Hash Cond: ((s.yearid = a.yearid) AND ((s.teamid)::text = (a.teamid)::text) AND ((s.lgid)::text = (a.lgid)::text) AND ((s.playerid)::text = (a.playerid)::text))</td>\n",
       "        </tr>\n",
       "        <tr>\n",
       "            <td>&nbsp;&nbsp;->  Seq Scan on salaries s  (cost=0.00..459.28 rows=26428 width=28) (actual time=0.008..1.764 rows=26428 loops=1)</td>\n",
       "        </tr>\n",
       "        <tr>\n",
       "            <td>&nbsp;&nbsp;->  Hash  (cost=3133.84..3133.84 rows=2649 width=20) (actual time=10.139..10.141 rows=1655 loops=1)</td>\n",
       "        </tr>\n",
       "        <tr>\n",
       "            <td>&nbsp;&nbsp;&nbsp;&nbsp;&nbsp;&nbsp;&nbsp;&nbsp;Buckets: 4096  Batches: 1  Memory Usage: 118kB</td>\n",
       "        </tr>\n",
       "        <tr>\n",
       "            <td>&nbsp;&nbsp;&nbsp;&nbsp;&nbsp;&nbsp;&nbsp;&nbsp;->  Seq Scan on appearances a  (cost=0.00..3133.84 rows=2649 width=20) (actual time=0.007..9.715 rows=1655 loops=1)</td>\n",
       "        </tr>\n",
       "        <tr>\n",
       "            <td>&nbsp;&nbsp;&nbsp;&nbsp;&nbsp;&nbsp;&nbsp;&nbsp;&nbsp;&nbsp;&nbsp;&nbsp;&nbsp;&nbsp;Filter: ((g_all = 10) OR (g_batting = 10))</td>\n",
       "        </tr>\n",
       "        <tr>\n",
       "            <td>&nbsp;&nbsp;&nbsp;&nbsp;&nbsp;&nbsp;&nbsp;&nbsp;&nbsp;&nbsp;&nbsp;&nbsp;&nbsp;&nbsp;Rows Removed by Filter: 102601</td>\n",
       "        </tr>\n",
       "        <tr>\n",
       "            <td>Planning Time: 0.715 ms</td>\n",
       "        </tr>\n",
       "        <tr>\n",
       "            <td>Execution Time: 16.704 ms</td>\n",
       "        </tr>\n",
       "    </tbody>\n",
       "</table>"
      ],
      "text/plain": [
       "+--------------------------------------------------------------------------------------------------------------------------------------------------------------------+\n",
       "|                                                                             QUERY PLAN                                                                             |\n",
       "+--------------------------------------------------------------------------------------------------------------------------------------------------------------------+\n",
       "|                                  Hash Join  (cost=3186.82..3923.59 rows=1 width=21) (actual time=10.298..16.666 rows=216 loops=1)                                  |\n",
       "|   Hash Cond: ((s.yearid = a.yearid) AND ((s.teamid)::text = (a.teamid)::text) AND ((s.lgid)::text = (a.lgid)::text) AND ((s.playerid)::text = (a.playerid)::text)) |\n",
       "|                          ->  Seq Scan on salaries s  (cost=0.00..459.28 rows=26428 width=28) (actual time=0.008..1.764 rows=26428 loops=1)                         |\n",
       "|                                 ->  Hash  (cost=3133.84..3133.84 rows=2649 width=20) (actual time=10.139..10.141 rows=1655 loops=1)                                |\n",
       "|                                                               Buckets: 4096  Batches: 1  Memory Usage: 118kB                                                       |\n",
       "|                            ->  Seq Scan on appearances a  (cost=0.00..3133.84 rows=2649 width=20) (actual time=0.007..9.715 rows=1655 loops=1)                     |\n",
       "|                                                                    Filter: ((g_all = 10) OR (g_batting = 10))                                                      |\n",
       "|                                                                          Rows Removed by Filter: 102601                                                            |\n",
       "|                                                                      Planning Time: 0.715 ms                                                                       |\n",
       "|                                                                     Execution Time: 16.704 ms                                                                      |\n",
       "+--------------------------------------------------------------------------------------------------------------------------------------------------------------------+"
      ]
     },
     "execution_count": 89,
     "metadata": {},
     "output_type": "execute_result"
    }
   ],
   "source": [
    "%sql EXPLAIN ANALYZE {{query_6b}} "
   ]
  },
  {
   "cell_type": "code",
   "execution_count": 90,
   "metadata": {
    "tags": []
   },
   "outputs": [],
   "source": [
    "result_6b_cost = 3927.21\n",
    "result_6b_timing = 33.210"
   ]
  },
  {
   "cell_type": "code",
   "execution_count": 91,
   "metadata": {
    "deletable": false,
    "editable": false
   },
   "outputs": [
    {
     "data": {
      "text/html": [
       "<p><strong><pre style='display: inline;'>6b_cost</pre></strong> passed! 🎉</p>"
      ],
      "text/plain": [
       "6b_cost results: All test cases passed!"
      ]
     },
     "execution_count": 91,
     "metadata": {},
     "output_type": "execute_result"
    }
   ],
   "source": [
    "grader.check(\"6b_cost\")"
   ]
  },
  {
   "cell_type": "markdown",
   "metadata": {
    "deletable": false,
    "editable": false
   },
   "source": [
    "## Question 6c\n",
    "Now, let's see the impact of adding an index on the `g_batting` column. Create an index on the `g_batting` column. Re-inspect the queries from `Question 6a` and `Question 6b` and record the respective execution costs and times."
   ]
  },
  {
   "cell_type": "code",
   "execution_count": 92,
   "metadata": {
    "tags": []
   },
   "outputs": [
    {
     "data": {
      "text/html": [
       "<span style=\"None\">Running query in &#x27;postgresql://jovyan@127.0.0.1:5432/baseball&#x27;</span>"
      ],
      "text/plain": [
       "Running query in 'postgresql://jovyan@127.0.0.1:5432/baseball'"
      ]
     },
     "metadata": {},
     "output_type": "display_data"
    },
    {
     "data": {
      "text/html": [
       "<table>\n",
       "    <thead>\n",
       "        <tr>\n",
       "        </tr>\n",
       "    </thead>\n",
       "    <tbody>\n",
       "    </tbody>\n",
       "</table>"
      ],
      "text/plain": [
       "++\n",
       "||\n",
       "++\n",
       "++"
      ]
     },
     "execution_count": 92,
     "metadata": {},
     "output_type": "execute_result"
    }
   ],
   "source": [
    "%%sql\n",
    "DROP INDEX IF EXISTS g_batting_idx;\n",
    "CREATE INDEX g_batting_idx ON appearances(g_batting);\n"
   ]
  },
  {
   "cell_type": "code",
   "execution_count": 93,
   "metadata": {
    "scrolled": true,
    "tags": []
   },
   "outputs": [
    {
     "data": {
      "text/html": [
       "<span style=\"None\">Running query in &#x27;postgresql://jovyan@127.0.0.1:5432/baseball&#x27;</span>"
      ],
      "text/plain": [
       "Running query in 'postgresql://jovyan@127.0.0.1:5432/baseball'"
      ]
     },
     "metadata": {},
     "output_type": "display_data"
    },
    {
     "data": {
      "text/html": [
       "<span style=\"color: green\">12 rows affected.</span>"
      ],
      "text/plain": [
       "12 rows affected."
      ]
     },
     "metadata": {},
     "output_type": "display_data"
    },
    {
     "data": {
      "text/html": [
       "<table>\n",
       "    <thead>\n",
       "        <tr>\n",
       "            <th>QUERY PLAN</th>\n",
       "        </tr>\n",
       "    </thead>\n",
       "    <tbody>\n",
       "        <tr>\n",
       "            <td>Nested Loop  (cost=17.76..1717.26 rows=1 width=21) (actual time=1.891..3.748 rows=120 loops=1)</td>\n",
       "        </tr>\n",
       "        <tr>\n",
       "            <td>&nbsp;&nbsp;->  Bitmap Heap Scan on appearances a  (cost=17.47..1579.95 rows=17 width=20) (actual time=0.204..1.301 rows=1289 loops=1)</td>\n",
       "        </tr>\n",
       "        <tr>\n",
       "            <td>&nbsp;&nbsp;&nbsp;&nbsp;&nbsp;&nbsp;&nbsp;&nbsp;Recheck Cond: (g_batting = 10)</td>\n",
       "        </tr>\n",
       "        <tr>\n",
       "            <td>&nbsp;&nbsp;&nbsp;&nbsp;&nbsp;&nbsp;&nbsp;&nbsp;Filter: (g_all = 10)</td>\n",
       "        </tr>\n",
       "        <tr>\n",
       "            <td>&nbsp;&nbsp;&nbsp;&nbsp;&nbsp;&nbsp;&nbsp;&nbsp;Rows Removed by Filter: 58</td>\n",
       "        </tr>\n",
       "        <tr>\n",
       "            <td>&nbsp;&nbsp;&nbsp;&nbsp;&nbsp;&nbsp;&nbsp;&nbsp;Heap Blocks: exact=899</td>\n",
       "        </tr>\n",
       "        <tr>\n",
       "            <td>&nbsp;&nbsp;&nbsp;&nbsp;&nbsp;&nbsp;&nbsp;&nbsp;->  Bitmap Index Scan on g_batting_idx  (cost=0.00..17.46 rows=1223 width=0) (actual time=0.112..0.112 rows=1347 loops=1)</td>\n",
       "        </tr>\n",
       "        <tr>\n",
       "            <td>&nbsp;&nbsp;&nbsp;&nbsp;&nbsp;&nbsp;&nbsp;&nbsp;&nbsp;&nbsp;&nbsp;&nbsp;&nbsp;&nbsp;Index Cond: (g_batting = 10)</td>\n",
       "        </tr>\n",
       "        <tr>\n",
       "            <td>&nbsp;&nbsp;->  Index Scan using salaries_pkey on salaries s  (cost=0.29..8.08 rows=1 width=28) (actual time=0.002..0.002 rows=0 loops=1289)</td>\n",
       "        </tr>\n",
       "        <tr>\n",
       "            <td>&nbsp;&nbsp;&nbsp;&nbsp;&nbsp;&nbsp;&nbsp;&nbsp;Index Cond: ((yearid = a.yearid) AND ((teamid)::text = (a.teamid)::text) AND ((lgid)::text = (a.lgid)::text) AND ((playerid)::text = (a.playerid)::text))</td>\n",
       "        </tr>\n",
       "        <tr>\n",
       "            <td>Planning Time: 0.853 ms</td>\n",
       "        </tr>\n",
       "        <tr>\n",
       "            <td>Execution Time: 3.783 ms</td>\n",
       "        </tr>\n",
       "    </tbody>\n",
       "</table>"
      ],
      "text/plain": [
       "+-------------------------------------------------------------------------------------------------------------------------------------------------------------------+\n",
       "|                                                                             QUERY PLAN                                                                            |\n",
       "+-------------------------------------------------------------------------------------------------------------------------------------------------------------------+\n",
       "|                                   Nested Loop  (cost=17.76..1717.26 rows=1 width=21) (actual time=1.891..3.748 rows=120 loops=1)                                  |\n",
       "|                      ->  Bitmap Heap Scan on appearances a  (cost=17.47..1579.95 rows=17 width=20) (actual time=0.204..1.301 rows=1289 loops=1)                   |\n",
       "|                                                                       Recheck Cond: (g_batting = 10)                                                              |\n",
       "|                                                                            Filter: (g_all = 10)                                                                   |\n",
       "|                                                                         Rows Removed by Filter: 58                                                                |\n",
       "|                                                                           Heap Blocks: exact=899                                                                  |\n",
       "|                         ->  Bitmap Index Scan on g_batting_idx  (cost=0.00..17.46 rows=1223 width=0) (actual time=0.112..0.112 rows=1347 loops=1)                 |\n",
       "|                                                                           Index Cond: (g_batting = 10)                                                            |\n",
       "|                   ->  Index Scan using salaries_pkey on salaries s  (cost=0.29..8.08 rows=1 width=28) (actual time=0.002..0.002 rows=0 loops=1289)                |\n",
       "|         Index Cond: ((yearid = a.yearid) AND ((teamid)::text = (a.teamid)::text) AND ((lgid)::text = (a.lgid)::text) AND ((playerid)::text = (a.playerid)::text)) |\n",
       "|                                                                      Planning Time: 0.853 ms                                                                      |\n",
       "|                                                                      Execution Time: 3.783 ms                                                                     |\n",
       "+-------------------------------------------------------------------------------------------------------------------------------------------------------------------+"
      ]
     },
     "execution_count": 93,
     "metadata": {},
     "output_type": "execute_result"
    }
   ],
   "source": [
    "# record the updated costs for Question 6a (\"and\" query)\n",
    "%sql EXPLAIN ANALYZE {{query_6a}} "
   ]
  },
  {
   "cell_type": "code",
   "execution_count": 94,
   "metadata": {
    "tags": []
   },
   "outputs": [],
   "source": [
    "result_6cand_index_cost = 1762.87\n",
    "result_6cand_index_timing = 6.437"
   ]
  },
  {
   "cell_type": "code",
   "execution_count": 95,
   "metadata": {
    "tags": []
   },
   "outputs": [
    {
     "data": {
      "text/html": [
       "<span style=\"None\">Running query in &#x27;postgresql://jovyan@127.0.0.1:5432/baseball&#x27;</span>"
      ],
      "text/plain": [
       "Running query in 'postgresql://jovyan@127.0.0.1:5432/baseball'"
      ]
     },
     "metadata": {},
     "output_type": "display_data"
    },
    {
     "data": {
      "text/html": [
       "<span style=\"color: green\">10 rows affected.</span>"
      ],
      "text/plain": [
       "10 rows affected."
      ]
     },
     "metadata": {},
     "output_type": "display_data"
    },
    {
     "data": {
      "text/html": [
       "<table>\n",
       "    <thead>\n",
       "        <tr>\n",
       "            <th>QUERY PLAN</th>\n",
       "        </tr>\n",
       "    </thead>\n",
       "    <tbody>\n",
       "        <tr>\n",
       "            <td>Hash Join  (cost=3186.82..3923.59 rows=1 width=21) (actual time=10.853..17.218 rows=216 loops=1)</td>\n",
       "        </tr>\n",
       "        <tr>\n",
       "            <td>&nbsp;&nbsp;Hash Cond: ((s.yearid = a.yearid) AND ((s.teamid)::text = (a.teamid)::text) AND ((s.lgid)::text = (a.lgid)::text) AND ((s.playerid)::text = (a.playerid)::text))</td>\n",
       "        </tr>\n",
       "        <tr>\n",
       "            <td>&nbsp;&nbsp;->  Seq Scan on salaries s  (cost=0.00..459.28 rows=26428 width=28) (actual time=0.005..1.756 rows=26428 loops=1)</td>\n",
       "        </tr>\n",
       "        <tr>\n",
       "            <td>&nbsp;&nbsp;->  Hash  (cost=3133.84..3133.84 rows=2649 width=20) (actual time=10.700..10.702 rows=1655 loops=1)</td>\n",
       "        </tr>\n",
       "        <tr>\n",
       "            <td>&nbsp;&nbsp;&nbsp;&nbsp;&nbsp;&nbsp;&nbsp;&nbsp;Buckets: 4096  Batches: 1  Memory Usage: 118kB</td>\n",
       "        </tr>\n",
       "        <tr>\n",
       "            <td>&nbsp;&nbsp;&nbsp;&nbsp;&nbsp;&nbsp;&nbsp;&nbsp;->  Seq Scan on appearances a  (cost=0.00..3133.84 rows=2649 width=20) (actual time=0.023..10.232 rows=1655 loops=1)</td>\n",
       "        </tr>\n",
       "        <tr>\n",
       "            <td>&nbsp;&nbsp;&nbsp;&nbsp;&nbsp;&nbsp;&nbsp;&nbsp;&nbsp;&nbsp;&nbsp;&nbsp;&nbsp;&nbsp;Filter: ((g_all = 10) OR (g_batting = 10))</td>\n",
       "        </tr>\n",
       "        <tr>\n",
       "            <td>&nbsp;&nbsp;&nbsp;&nbsp;&nbsp;&nbsp;&nbsp;&nbsp;&nbsp;&nbsp;&nbsp;&nbsp;&nbsp;&nbsp;Rows Removed by Filter: 102601</td>\n",
       "        </tr>\n",
       "        <tr>\n",
       "            <td>Planning Time: 0.657 ms</td>\n",
       "        </tr>\n",
       "        <tr>\n",
       "            <td>Execution Time: 17.254 ms</td>\n",
       "        </tr>\n",
       "    </tbody>\n",
       "</table>"
      ],
      "text/plain": [
       "+--------------------------------------------------------------------------------------------------------------------------------------------------------------------+\n",
       "|                                                                             QUERY PLAN                                                                             |\n",
       "+--------------------------------------------------------------------------------------------------------------------------------------------------------------------+\n",
       "|                                  Hash Join  (cost=3186.82..3923.59 rows=1 width=21) (actual time=10.853..17.218 rows=216 loops=1)                                  |\n",
       "|   Hash Cond: ((s.yearid = a.yearid) AND ((s.teamid)::text = (a.teamid)::text) AND ((s.lgid)::text = (a.lgid)::text) AND ((s.playerid)::text = (a.playerid)::text)) |\n",
       "|                          ->  Seq Scan on salaries s  (cost=0.00..459.28 rows=26428 width=28) (actual time=0.005..1.756 rows=26428 loops=1)                         |\n",
       "|                                 ->  Hash  (cost=3133.84..3133.84 rows=2649 width=20) (actual time=10.700..10.702 rows=1655 loops=1)                                |\n",
       "|                                                               Buckets: 4096  Batches: 1  Memory Usage: 118kB                                                       |\n",
       "|                            ->  Seq Scan on appearances a  (cost=0.00..3133.84 rows=2649 width=20) (actual time=0.023..10.232 rows=1655 loops=1)                    |\n",
       "|                                                                    Filter: ((g_all = 10) OR (g_batting = 10))                                                      |\n",
       "|                                                                          Rows Removed by Filter: 102601                                                            |\n",
       "|                                                                      Planning Time: 0.657 ms                                                                       |\n",
       "|                                                                     Execution Time: 17.254 ms                                                                      |\n",
       "+--------------------------------------------------------------------------------------------------------------------------------------------------------------------+"
      ]
     },
     "execution_count": 95,
     "metadata": {},
     "output_type": "execute_result"
    }
   ],
   "source": [
    "# record the updated costs for Question 6b (\"or\" query)\n",
    "%sql EXPLAIN ANALYZE {{query_6b}} "
   ]
  },
  {
   "cell_type": "code",
   "execution_count": 96,
   "metadata": {
    "scrolled": true,
    "tags": []
   },
   "outputs": [],
   "source": [
    "result_6cor_index_cost = 3927.21\n",
    "result_6cor_index_timing = 34.547"
   ]
  },
  {
   "cell_type": "code",
   "execution_count": 97,
   "metadata": {
    "deletable": false,
    "editable": false
   },
   "outputs": [
    {
     "data": {
      "text/html": [
       "<p><strong><pre style='display: inline;'>q6c</pre></strong> passed! 🙌</p>"
      ],
      "text/plain": [
       "q6c results: All test cases passed!"
      ]
     },
     "execution_count": 97,
     "metadata": {},
     "output_type": "execute_result"
    }
   ],
   "source": [
    "grader.check(\"q6c\")"
   ]
  },
  {
   "cell_type": "markdown",
   "metadata": {
    "deletable": false,
    "editable": false
   },
   "source": [
    "<br/><br/>\n",
    "\n",
    "---\n",
    "\n",
    "## Question 6d: Multiple-attribute index\n",
    "\n",
    "Now, create a multiple column index on `g_batting` and `g_all` called `g_batting_g_all_idx` and record the query execution time and cost for the \"or\" command in `Question 6b`."
   ]
  },
  {
   "cell_type": "markdown",
   "metadata": {
    "deletable": false,
    "editable": false
   },
   "source": [
    "Before continuing, make sure to drop all existing indexes from previous questions."
   ]
  },
  {
   "cell_type": "code",
   "execution_count": 98,
   "metadata": {
    "deletable": false,
    "editable": false
   },
   "outputs": [
    {
     "data": {
      "text/html": [
       "<span style=\"None\">Running query in &#x27;postgresql://jovyan@127.0.0.1:5432/baseball&#x27;</span>"
      ],
      "text/plain": [
       "Running query in 'postgresql://jovyan@127.0.0.1:5432/baseball'"
      ]
     },
     "metadata": {},
     "output_type": "display_data"
    },
    {
     "data": {
      "text/html": [
       "<span style=\"None\">Running query in &#x27;postgresql://jovyan@127.0.0.1:5432/baseball&#x27;</span>"
      ],
      "text/plain": [
       "Running query in 'postgresql://jovyan@127.0.0.1:5432/baseball'"
      ]
     },
     "metadata": {},
     "output_type": "display_data"
    },
    {
     "data": {
      "text/html": [
       "<table>\n",
       "    <thead>\n",
       "        <tr>\n",
       "        </tr>\n",
       "    </thead>\n",
       "    <tbody>\n",
       "    </tbody>\n",
       "</table>"
      ],
      "text/plain": [
       "++\n",
       "||\n",
       "++\n",
       "++"
      ]
     },
     "execution_count": 98,
     "metadata": {},
     "output_type": "execute_result"
    }
   ],
   "source": [
    "# you must run this cell!!!\n",
    "%sql DROP INDEX IF EXISTS g_batting_idx;\n",
    "%sql DROP INDEX IF EXISTS salary_idx;"
   ]
  },
  {
   "cell_type": "code",
   "execution_count": 99,
   "metadata": {
    "scrolled": true,
    "tags": []
   },
   "outputs": [
    {
     "data": {
      "text/html": [
       "<span style=\"None\">Running query in &#x27;postgresql://jovyan@127.0.0.1:5432/baseball&#x27;</span>"
      ],
      "text/plain": [
       "Running query in 'postgresql://jovyan@127.0.0.1:5432/baseball'"
      ]
     },
     "metadata": {},
     "output_type": "display_data"
    },
    {
     "data": {
      "text/html": [
       "<table>\n",
       "    <thead>\n",
       "        <tr>\n",
       "        </tr>\n",
       "    </thead>\n",
       "    <tbody>\n",
       "    </tbody>\n",
       "</table>"
      ],
      "text/plain": [
       "++\n",
       "||\n",
       "++\n",
       "++"
      ]
     },
     "execution_count": 99,
     "metadata": {},
     "output_type": "execute_result"
    }
   ],
   "source": [
    "%%sql \n",
    "DROP INDEX IF EXISTS g_batting_all_idx;\n",
    "CREATE INDEX g_batting_g_all_idx ON appearances(g_batting, g_all);"
   ]
  },
  {
   "cell_type": "code",
   "execution_count": 100,
   "metadata": {
    "scrolled": true,
    "tags": []
   },
   "outputs": [
    {
     "data": {
      "text/html": [
       "<span style=\"None\">Running query in &#x27;postgresql://jovyan@127.0.0.1:5432/baseball&#x27;</span>"
      ],
      "text/plain": [
       "Running query in 'postgresql://jovyan@127.0.0.1:5432/baseball'"
      ]
     },
     "metadata": {},
     "output_type": "display_data"
    },
    {
     "data": {
      "text/html": [
       "<span style=\"color: green\">15 rows affected.</span>"
      ],
      "text/plain": [
       "15 rows affected."
      ]
     },
     "metadata": {},
     "output_type": "display_data"
    },
    {
     "data": {
      "text/html": [
       "<table>\n",
       "    <thead>\n",
       "        <tr>\n",
       "            <th>QUERY PLAN</th>\n",
       "        </tr>\n",
       "    </thead>\n",
       "    <tbody>\n",
       "        <tr>\n",
       "            <td>Hash Join  (cost=2896.05..3632.83 rows=1 width=21) (actual time=2.806..9.209 rows=216 loops=1)</td>\n",
       "        </tr>\n",
       "        <tr>\n",
       "            <td>&nbsp;&nbsp;Hash Cond: ((s.yearid = a.yearid) AND ((s.teamid)::text = (a.teamid)::text) AND ((s.lgid)::text = (a.lgid)::text) AND ((s.playerid)::text = (a.playerid)::text))</td>\n",
       "        </tr>\n",
       "        <tr>\n",
       "            <td>&nbsp;&nbsp;->  Seq Scan on salaries s  (cost=0.00..459.28 rows=26428 width=28) (actual time=0.005..1.574 rows=26428 loops=1)</td>\n",
       "        </tr>\n",
       "        <tr>\n",
       "            <td>&nbsp;&nbsp;->  Hash  (cost=2843.07..2843.07 rows=2649 width=20) (actual time=2.632..2.635 rows=1655 loops=1)</td>\n",
       "        </tr>\n",
       "        <tr>\n",
       "            <td>&nbsp;&nbsp;&nbsp;&nbsp;&nbsp;&nbsp;&nbsp;&nbsp;Buckets: 4096  Batches: 1  Memory Usage: 118kB</td>\n",
       "        </tr>\n",
       "        <tr>\n",
       "            <td>&nbsp;&nbsp;&nbsp;&nbsp;&nbsp;&nbsp;&nbsp;&nbsp;->  Bitmap Heap Scan on appearances a  (cost=1181.00..2843.07 rows=2649 width=20) (actual time=0.925..2.237 rows=1655 loops=1)</td>\n",
       "        </tr>\n",
       "        <tr>\n",
       "            <td>&nbsp;&nbsp;&nbsp;&nbsp;&nbsp;&nbsp;&nbsp;&nbsp;&nbsp;&nbsp;&nbsp;&nbsp;&nbsp;&nbsp;Recheck Cond: ((g_all = 10) OR (g_batting = 10))</td>\n",
       "        </tr>\n",
       "        <tr>\n",
       "            <td>&nbsp;&nbsp;&nbsp;&nbsp;&nbsp;&nbsp;&nbsp;&nbsp;&nbsp;&nbsp;&nbsp;&nbsp;&nbsp;&nbsp;Heap Blocks: exact=1027</td>\n",
       "        </tr>\n",
       "        <tr>\n",
       "            <td>&nbsp;&nbsp;&nbsp;&nbsp;&nbsp;&nbsp;&nbsp;&nbsp;&nbsp;&nbsp;&nbsp;&nbsp;&nbsp;&nbsp;->  BitmapOr  (cost=1181.00..1181.00 rows=2665 width=0) (actual time=0.810..0.811 rows=0 loops=1)</td>\n",
       "        </tr>\n",
       "        <tr>\n",
       "            <td>&nbsp;&nbsp;&nbsp;&nbsp;&nbsp;&nbsp;&nbsp;&nbsp;&nbsp;&nbsp;&nbsp;&nbsp;&nbsp;&nbsp;&nbsp;&nbsp;&nbsp;&nbsp;&nbsp;&nbsp;->  Bitmap Index Scan on g_batting_g_all_idx  (cost=0.00..1162.21 rows=1442 width=0) (actual time=0.766..0.767 rows=1597 loops=1)</td>\n",
       "        </tr>\n",
       "        <tr>\n",
       "            <td>&nbsp;&nbsp;&nbsp;&nbsp;&nbsp;&nbsp;&nbsp;&nbsp;&nbsp;&nbsp;&nbsp;&nbsp;&nbsp;&nbsp;&nbsp;&nbsp;&nbsp;&nbsp;&nbsp;&nbsp;&nbsp;&nbsp;&nbsp;&nbsp;&nbsp;&nbsp;Index Cond: (g_all = 10)</td>\n",
       "        </tr>\n",
       "        <tr>\n",
       "            <td>&nbsp;&nbsp;&nbsp;&nbsp;&nbsp;&nbsp;&nbsp;&nbsp;&nbsp;&nbsp;&nbsp;&nbsp;&nbsp;&nbsp;&nbsp;&nbsp;&nbsp;&nbsp;&nbsp;&nbsp;->  Bitmap Index Scan on g_batting_g_all_idx  (cost=0.00..17.46 rows=1223 width=0) (actual time=0.042..0.042 rows=1347 loops=1)</td>\n",
       "        </tr>\n",
       "        <tr>\n",
       "            <td>&nbsp;&nbsp;&nbsp;&nbsp;&nbsp;&nbsp;&nbsp;&nbsp;&nbsp;&nbsp;&nbsp;&nbsp;&nbsp;&nbsp;&nbsp;&nbsp;&nbsp;&nbsp;&nbsp;&nbsp;&nbsp;&nbsp;&nbsp;&nbsp;&nbsp;&nbsp;Index Cond: (g_batting = 10)</td>\n",
       "        </tr>\n",
       "        <tr>\n",
       "            <td>Planning Time: 1.072 ms</td>\n",
       "        </tr>\n",
       "        <tr>\n",
       "            <td>Execution Time: 9.252 ms</td>\n",
       "        </tr>\n",
       "    </tbody>\n",
       "</table>"
      ],
      "text/plain": [
       "+--------------------------------------------------------------------------------------------------------------------------------------------------------------------+\n",
       "|                                                                             QUERY PLAN                                                                             |\n",
       "+--------------------------------------------------------------------------------------------------------------------------------------------------------------------+\n",
       "|                                   Hash Join  (cost=2896.05..3632.83 rows=1 width=21) (actual time=2.806..9.209 rows=216 loops=1)                                   |\n",
       "|   Hash Cond: ((s.yearid = a.yearid) AND ((s.teamid)::text = (a.teamid)::text) AND ((s.lgid)::text = (a.lgid)::text) AND ((s.playerid)::text = (a.playerid)::text)) |\n",
       "|                          ->  Seq Scan on salaries s  (cost=0.00..459.28 rows=26428 width=28) (actual time=0.005..1.574 rows=26428 loops=1)                         |\n",
       "|                                  ->  Hash  (cost=2843.07..2843.07 rows=2649 width=20) (actual time=2.632..2.635 rows=1655 loops=1)                                 |\n",
       "|                                                               Buckets: 4096  Batches: 1  Memory Usage: 118kB                                                       |\n",
       "|                       ->  Bitmap Heap Scan on appearances a  (cost=1181.00..2843.07 rows=2649 width=20) (actual time=0.925..2.237 rows=1655 loops=1)               |\n",
       "|                                                                 Recheck Cond: ((g_all = 10) OR (g_batting = 10))                                                   |\n",
       "|                                                                             Heap Blocks: exact=1027                                                                |\n",
       "|                                        ->  BitmapOr  (cost=1181.00..1181.00 rows=2665 width=0) (actual time=0.810..0.811 rows=0 loops=1)                           |\n",
       "|                           ->  Bitmap Index Scan on g_batting_g_all_idx  (cost=0.00..1162.21 rows=1442 width=0) (actual time=0.766..0.767 rows=1597 loops=1)        |\n",
       "|                                                                                   Index Cond: (g_all = 10)                                                         |\n",
       "|                            ->  Bitmap Index Scan on g_batting_g_all_idx  (cost=0.00..17.46 rows=1223 width=0) (actual time=0.042..0.042 rows=1347 loops=1)         |\n",
       "|                                                                                 Index Cond: (g_batting = 10)                                                       |\n",
       "|                                                                      Planning Time: 1.072 ms                                                                       |\n",
       "|                                                                      Execution Time: 9.252 ms                                                                      |\n",
       "+--------------------------------------------------------------------------------------------------------------------------------------------------------------------+"
      ]
     },
     "execution_count": 100,
     "metadata": {},
     "output_type": "execute_result"
    }
   ],
   "source": [
    "# record the updated costs for Question 6b (\"or\" query)\n",
    "%sql EXPLAIN ANALYZE {{query_6b}} "
   ]
  },
  {
   "cell_type": "code",
   "execution_count": 101,
   "metadata": {
    "tags": []
   },
   "outputs": [],
   "source": [
    "result_6d_multiple_col_index_cost = 3621.73\n",
    "result_6d_multiple_col_index_timing = 17.287"
   ]
  },
  {
   "cell_type": "code",
   "execution_count": 102,
   "metadata": {
    "deletable": false,
    "editable": false
   },
   "outputs": [
    {
     "data": {
      "text/html": [
       "<p><strong><pre style='display: inline;'>q6d</pre></strong> passed! 💯</p>"
      ],
      "text/plain": [
       "q6d results: All test cases passed!"
      ]
     },
     "execution_count": 102,
     "metadata": {},
     "output_type": "execute_result"
    }
   ],
   "source": [
    "grader.check(\"q6d\")"
   ]
  },
  {
   "cell_type": "markdown",
   "metadata": {
    "deletable": false,
    "editable": false
   },
   "source": [
    "<br/><br/>\n",
    "\n",
    "---\n",
    "\n",
    "## Question 6e\n",
    "Given your findings from inspecting the query plans from all parts of this `Question 6`, assign the variable `q6e` to a list of all below statements that are true.\n",
    "\n",
    "A. Adding an index on a column used in an AND predicate will reduce the query time, but not the execution cost.<br/>\n",
    "B. Adding an index on a column used in an AND predicate will reduce the query cost, but not the execution time.<br/>\n",
    "C. Adding an index on a column used in an AND predicate will reduce the query cost and the execution time.<br/>\n",
    "D. Adding an index on a column used in an OR predicate will reduce the query time, but not the execution cost.<br/>\n",
    "E. Adding an index on a column used in an OR predicate will reduce the query cost, but not the execution time.<br/>\n",
    "F. Adding an index on a column used in an OR predicate will reduce the query cost and the execution time.<br/>\n",
    "G. Adding a multicolumn index on columns in an OR predicate will reduce the query time, but not the execution cost.<br/>\n",
    "H. Adding a multicolumn index on columns in an OR predicate will reduce the query cost, but not the execution time.<br/>\n",
    "I. Adding a multicolumn index on columns in an OR predicate will reduce the query cost and the execution time.\n",
    "\n",
    "**Note:** Your answer should be formatted as a list of single-character strings, e.g., `q6e = ['A', 'B']`\n"
   ]
  },
  {
   "cell_type": "code",
   "execution_count": 103,
   "metadata": {
    "tags": []
   },
   "outputs": [],
   "source": [
    "q6e = ['C', 'G']"
   ]
  },
  {
   "cell_type": "code",
   "execution_count": null,
   "metadata": {
    "deletable": false,
    "editable": false
   },
   "outputs": [],
   "source": [
    "grader.check(\"q6e\")"
   ]
  },
  {
   "cell_type": "markdown",
   "metadata": {
    "deletable": false,
    "editable": false
   },
   "source": [
    "<!-- BEGIN QUESTION -->\n",
    "\n",
    "### Question 6ei Justification\n",
    "\n",
    "Explain your answer to `Question 6e` above based on your knowledge from lectures, and details from inspecting the query plans (your explanation should include why you didn't choose certain options). Your answer should be no longer than 3 sentences."
   ]
  },
  {
   "cell_type": "markdown",
   "metadata": {},
   "source": [
    "Adding an index on g_batting for an AND predicate reduces both execution time and cost due to efficient data retrieval in the B+ tree structure, eliminating options 'A' and 'B'. Indexing a column in an OR predicate doesn't guarantee efficiency since all records must be verified for the second condition, ruling out \"D\", \"E\", and \"F\". A multicolumn index on g_batting and g_all optimizes execution time, especially when the query involves the leftmost column, g_batting, making 'G' the correct choice."
   ]
  },
  {
   "cell_type": "markdown",
   "metadata": {
    "deletable": false,
    "editable": false
   },
   "source": [
    "<!-- END QUESTION -->\n",
    "\n",
    "<br/><br/><br/>\n",
    "\n",
    "<hr style=\"border: 5px solid #003262;\" />\n",
    "<hr style=\"border: 1px solid #fdb515;\" />\n",
    "\n",
    "# Question 7: Indexes, Part 3\n",
    "\n",
    "Continue the analysis on how indexes impact query performance. Now, use aggregators.\n",
    "\n",
    "Question 7:\n",
    "* Question 7a: Write two queries that use aggregators. Record query performance.\n",
    "* Question 7b: Add an index and rerun queries in Questions 7a. Record query performance.\n",
    "* Question 7c: Analyze query performance; compare and contrast."
   ]
  },
  {
   "cell_type": "markdown",
   "metadata": {},
   "source": [
    "Before continuing, make sure to drop all existing indexes from previous questions."
   ]
  },
  {
   "cell_type": "code",
   "execution_count": null,
   "metadata": {},
   "outputs": [],
   "source": [
    "# you must run this cell!!!\n",
    "%sql DROP INDEX IF EXISTS g_batting_idx;\n",
    "%sql DROP INDEX IF EXISTS salary_idx;\n",
    "%sql DROP INDEX IF EXISTS g_batting_all_idx;"
   ]
  },
  {
   "cell_type": "markdown",
   "metadata": {},
   "source": [
    "---\n",
    "\n",
    "## Question 7a\n",
    "\n",
    "Write 2 queries: one that finds the minimum salary from the salary table `Salaries` and one that finds the average. Inspect the queries' query plans and record their execution times and costs."
   ]
  },
  {
   "cell_type": "markdown",
   "metadata": {
    "deletable": false,
    "editable": false
   },
   "source": [
    "Minimum salary:"
   ]
  },
  {
   "cell_type": "code",
   "execution_count": null,
   "metadata": {
    "tags": []
   },
   "outputs": [],
   "source": [
    "%%sql --save query_7a_min result_7a_min << \n",
    "SELECT MIN(salary) AS min_salary\n",
    "FROM salaries;"
   ]
  },
  {
   "cell_type": "code",
   "execution_count": null,
   "metadata": {
    "tags": []
   },
   "outputs": [],
   "source": [
    "# Do not delete/edit this cell!\n",
    "# You must run this cell before running the autograder.\n",
    "query_7a_min = %sqlcmd snippets query_7a_min\n",
    "grading_util.save_results(\"result_7a_min\", query_7a_min, result_7a_min);\n",
    "\n",
    "display(result_7a_min)\n",
    "%sql EXPLAIN ANALYZE {{query_7a_min}} "
   ]
  },
  {
   "cell_type": "code",
   "execution_count": null,
   "metadata": {
    "tags": []
   },
   "outputs": [],
   "source": [
    "result_7a_min_query_cost = 525.36\n",
    "result_7a_min_query_timing = 3.472"
   ]
  },
  {
   "cell_type": "code",
   "execution_count": null,
   "metadata": {
    "deletable": false,
    "editable": false
   },
   "outputs": [],
   "source": [
    "grader.check(\"q7a_min\")"
   ]
  },
  {
   "cell_type": "markdown",
   "metadata": {
    "deletable": false,
    "editable": false
   },
   "source": [
    "Average salary:"
   ]
  },
  {
   "cell_type": "code",
   "execution_count": null,
   "metadata": {
    "tags": []
   },
   "outputs": [],
   "source": [
    "%%sql --save query_7a_avg result_7a_avg <<\n",
    "SELECT AVG(salary) AS avg_salary\n",
    "FROM salaries;"
   ]
  },
  {
   "cell_type": "code",
   "execution_count": null,
   "metadata": {
    "tags": []
   },
   "outputs": [],
   "source": [
    "# Do not delete/edit this cell!\n",
    "# You must run this cell before running the autograder.\n",
    "query_7a_avg = %sqlcmd snippets query_7a_avg\n",
    "grading_util.save_results(\"result_7a_avg\", query_7a_avg, result_7a_avg);\n",
    "\n",
    "display(result_7a_avg)\n",
    "%sql EXPLAIN ANALYZE {{query_7a_avg}} "
   ]
  },
  {
   "cell_type": "code",
   "execution_count": null,
   "metadata": {
    "tags": []
   },
   "outputs": [],
   "source": [
    "result_7a_avg_query_cost = 525.36\n",
    "result_7a_avg_query_timing = 7.777"
   ]
  },
  {
   "cell_type": "code",
   "execution_count": null,
   "metadata": {
    "deletable": false,
    "editable": false
   },
   "outputs": [],
   "source": [
    "grader.check(\"q7a_avg\")"
   ]
  },
  {
   "cell_type": "markdown",
   "metadata": {
    "deletable": false,
    "editable": false
   },
   "source": [
    "<br><br>\n",
    "\n",
    "---\n",
    "## Question 7b\n",
    "Create an index on the `salary` column in the `Salaries` table and re-inspect the query plans from the previous part and record the respective execution time and cost."
   ]
  },
  {
   "cell_type": "code",
   "execution_count": null,
   "metadata": {
    "tags": []
   },
   "outputs": [],
   "source": [
    "%%sql \n",
    "DROP INDEX IF EXISTS salary_idx;\n",
    "CREATE INDEX salary_idx ON salaries(salary);\n"
   ]
  },
  {
   "cell_type": "code",
   "execution_count": null,
   "metadata": {
    "tags": []
   },
   "outputs": [],
   "source": [
    "# record the updated costs for \"min\" query\n",
    "%sql EXPLAIN ANALYZE {{query_7a_min}} "
   ]
  },
  {
   "cell_type": "code",
   "execution_count": null,
   "metadata": {
    "tags": []
   },
   "outputs": [],
   "source": [
    "result_7b_min_query_cost = 0.33\n",
    "result_7b_min_query_timing = 0.104"
   ]
  },
  {
   "cell_type": "code",
   "execution_count": null,
   "metadata": {
    "tags": []
   },
   "outputs": [],
   "source": [
    "# record the updated costs for \"avg\" query\n",
    "%sql EXPLAIN ANALYZE {{query_7a_avg}} "
   ]
  },
  {
   "cell_type": "code",
   "execution_count": null,
   "metadata": {
    "tags": []
   },
   "outputs": [],
   "source": [
    "result_7b_avg_query_cost = 525.36\n",
    "result_7b_avg_query_timing = 7.356"
   ]
  },
  {
   "cell_type": "code",
   "execution_count": null,
   "metadata": {
    "deletable": false,
    "editable": false
   },
   "outputs": [],
   "source": [
    "grader.check(\"q7b\")"
   ]
  },
  {
   "cell_type": "markdown",
   "metadata": {
    "deletable": false,
    "editable": false
   },
   "source": [
    "<!-- BEGIN QUESTION -->\n",
    "\n",
    "<br><br>\n",
    "\n",
    "---\n",
    "\n",
    "## Question 7c\n",
    "Given your findings from `Question 7`, which of the following statements is true?\n",
    "<br> A. An index on the column being aggregated in a query will always provide a performance enhancement.\n",
    "<br> B. A query finding the MIN(salary) will always benefit from an index on salary, but a query finding MAX(salary) will not.\n",
    "<br> C. A query finding the COUNT(salary) will always benefit from an index on salary, but a query finding AVG(salary) will not.\n",
    "<br> D. Queries finding the MIN(salary) or MAX(salary) will always benefit from an index on salary, but queries finding AVG(salary) or COUNT(salary) will not.\n",
    "\n",
    "**Justify your answer.** Explain your answer based on your knowledge from lectures, and details of the query plans (your explanation should include why you didn't choose certain options). Your response should be no longer than 3 sentences.\n",
    " \n",
    "*Note:* Your answer should be formatted as follows: \"A because ... \" "
   ]
  },
  {
   "cell_type": "markdown",
   "metadata": {},
   "source": [
    "D because the query finding the MIN(salary) benefited from the index on the salary column, as evidenced by the shift from a sequential scan to an index-only scan, significantly reducing execution time and cost. However, the query finding AVG(salary) still relied on a sequential scan, showing no performance improvement with the index. This suggests that while MIN and MAX operations can leverage indexes for optimization, AVG and COUNT operations might not always benefit in the same way."
   ]
  },
  {
   "cell_type": "markdown",
   "metadata": {
    "deletable": false,
    "editable": false
   },
   "source": [
    "<!-- END QUESTION -->\n",
    "\n",
    "<br/><br/><br/>\n",
    "\n",
    "<hr style=\"border: 5px solid #003262;\" />\n",
    "<hr style=\"border: 1px solid #fdb515;\" />\n",
    "\n",
    "# Question 8: Clustered Indexes\n",
    "In this question, we will inspect the impact that clustering our data on an index can have on a query's performance.\n",
    "* Question 8a: query\n",
    "* Question 8b: cluster index on primary key\n",
    "* Question 8c: cluster index on different key\n",
    "* Question 8d: observe and analyze."
   ]
  },
  {
   "cell_type": "markdown",
   "metadata": {},
   "source": [
    "Before continuing, make sure to drop all existing indexes from previous questions."
   ]
  },
  {
   "cell_type": "code",
   "execution_count": null,
   "metadata": {},
   "outputs": [],
   "source": [
    "# you must run this cell!!!\n",
    "%sql DROP INDEX IF EXISTS g_batting_idx;\n",
    "%sql DROP INDEX IF EXISTS salary_idx;\n",
    "%sql DROP INDEX IF EXISTS g_batting_all_idx;"
   ]
  },
  {
   "cell_type": "markdown",
   "metadata": {
    "deletable": false,
    "editable": false
   },
   "source": [
    "---\n",
    "\n",
    "## Question 8a\n",
    "\n",
    "Write a query that finds the `playerid`, `yearid`, `teamid`, and `ab` for all players whose `ab` was above 500. Inspect the query plan and record the execution time and cost."
   ]
  },
  {
   "cell_type": "code",
   "execution_count": null,
   "metadata": {
    "tags": []
   },
   "outputs": [],
   "source": [
    "%%sql --save query_8a result_8a <<\n",
    "SELECT playerid, yearid, teamid, ab\n",
    "FROM batting\n",
    "WHERE ab > 500;"
   ]
  },
  {
   "cell_type": "code",
   "execution_count": null,
   "metadata": {
    "tags": []
   },
   "outputs": [],
   "source": [
    "# Do not delete/edit this cell!\n",
    "# You must run this cell before running the autograder.\n",
    "query_8a = %sqlcmd snippets query_8a\n",
    "grading_util.save_results(\"result_8a\", query_8a, result_8a);\n",
    "result_8a.DataFrame().head(3)"
   ]
  },
  {
   "cell_type": "code",
   "execution_count": null,
   "metadata": {
    "deletable": false,
    "editable": false
   },
   "outputs": [],
   "source": [
    "grader.check(\"q8a\")"
   ]
  },
  {
   "cell_type": "markdown",
   "metadata": {
    "deletable": false,
    "editable": false
   },
   "source": [
    "Inspect the query plan and record the execution time and cost."
   ]
  },
  {
   "cell_type": "code",
   "execution_count": null,
   "metadata": {
    "deletable": false,
    "editable": false
   },
   "outputs": [],
   "source": [
    "%sql EXPLAIN ANALYZE {{query_8a}} "
   ]
  },
  {
   "cell_type": "code",
   "execution_count": null,
   "metadata": {
    "tags": []
   },
   "outputs": [],
   "source": [
    "result_8a_cost = 2884.05\n",
    "result_8a_timing = 9.861"
   ]
  },
  {
   "cell_type": "code",
   "execution_count": null,
   "metadata": {
    "deletable": false,
    "editable": false
   },
   "outputs": [],
   "source": [
    "grader.check(\"8a_cost\")"
   ]
  },
  {
   "cell_type": "markdown",
   "metadata": {
    "deletable": false,
    "editable": false
   },
   "source": [
    "<br><br>\n",
    "\n",
    "---\n",
    "\n",
    "## Question 8b\n",
    "\n",
    "Cluster the `batting` table on its primary key (hint: use the psql meta-command `\\di` to find out what name of the primary key is). We are able to directly cluster on the primary key (without first creating a separate index) because Postgres automatically creates an index for it.\n",
    "\n",
    "Then, re-inspect the query plan for the query from `Question 8a` and record the execution time and cost."
   ]
  },
  {
   "cell_type": "code",
   "execution_count": null,
   "metadata": {
    "tags": []
   },
   "outputs": [],
   "source": [
    "%%sql\n",
    "CLUSTER batting USING batting_pkey;\n"
   ]
  },
  {
   "cell_type": "code",
   "execution_count": null,
   "metadata": {
    "tags": []
   },
   "outputs": [],
   "source": [
    "# check the updated costs for query in Question 8a\n",
    "%sql EXPLAIN ANALYZE {{query_8a}} "
   ]
  },
  {
   "cell_type": "code",
   "execution_count": null,
   "metadata": {
    "tags": []
   },
   "outputs": [],
   "source": [
    "result_8b_cost = 2878.05\n",
    "result_8b_timing = 20.692"
   ]
  },
  {
   "cell_type": "code",
   "execution_count": null,
   "metadata": {
    "deletable": false,
    "editable": false
   },
   "outputs": [],
   "source": [
    "grader.check(\"q8b\")"
   ]
  },
  {
   "cell_type": "markdown",
   "metadata": {},
   "source": [
    "<br><br>\n",
    "\n",
    "---\n",
    "\n",
    "## Question 8c\n",
    "\n",
    "Now, let's try clustering the table based on another index. Create an index on `ab` column called `ab_idx` in the `batting` table AND cluster the `batting` table with this new index. Now, re-inspect the query plan and record the execution time and cost."
   ]
  },
  {
   "cell_type": "code",
   "execution_count": null,
   "metadata": {
    "tags": []
   },
   "outputs": [],
   "source": [
    "%%sql --save query_8c result_8c <<\n",
    "CREATE INDEX ab_idx ON batting(ab);\n",
    "CLUSTER batting USING ab_idx;"
   ]
  },
  {
   "cell_type": "code",
   "execution_count": null,
   "metadata": {
    "scrolled": true,
    "tags": []
   },
   "outputs": [],
   "source": [
    "# Do not delete/edit this cell!\n",
    "# You must run this cell before running the autograder.\n",
    "query_8c = %sqlcmd snippets query_8c\n",
    "grading_util.save_results(\"result_8c\", query_8c, result_8c);\n",
    "\n",
    "# check the updated costs for query in Question 8a\n",
    "%sql EXPLAIN ANALYZE {{query_8a}} "
   ]
  },
  {
   "cell_type": "code",
   "execution_count": null,
   "metadata": {
    "tags": []
   },
   "outputs": [],
   "source": [
    "result_8c_cost = 1788.39\n",
    "result_8c_timing = 3.308"
   ]
  },
  {
   "cell_type": "code",
   "execution_count": null,
   "metadata": {
    "deletable": false,
    "editable": false
   },
   "outputs": [],
   "source": [
    "grader.check(\"q8c\")"
   ]
  },
  {
   "cell_type": "markdown",
   "metadata": {
    "deletable": false,
    "editable": false
   },
   "source": [
    "<br><br>\n",
    "\n",
    "---\n",
    "\n",
    "## Question 8d\n",
    "Given your findings from inspecting the query plans from Questions 8a, 8b, and 8c, assign the variable `q8d` to a list of all statements that are true.\n",
    "\n",
    "A. Clustering based on the `ab_idx` decreased the cost of the query.<br/>\n",
    "B. Clustering based on the `ab_idx` increased the cost of the query.<br/>\n",
    "C. Clustering based on the `ab_idx` increased the execution time of the query.<br/>\n",
    "D. Clustering based on the `ab_idx` decreased the execution time of the query.<br/>\n",
    "E. Clustering based on the `batting_pkey` decreased the cost of the query.<br/>\n",
    "F. Clustering based on the `batting_pkey` increased the cost of the query.<br/>\n",
    "G. Clustering based on the `batting_pkey` increased the execution time of the query.<br/>\n",
    "H. Clustering based on the `batting_pkey` decreased the execution time of the query.<br/>\n",
    "I. None of the above\n",
    "    \n",
    "**Note:** Your answer should be formatted as a list of single-character strings, e.g., `q8d = ['A', 'B']`.\n"
   ]
  },
  {
   "cell_type": "code",
   "execution_count": null,
   "metadata": {
    "tags": []
   },
   "outputs": [],
   "source": [
    "q8d = ['A', 'D']"
   ]
  },
  {
   "cell_type": "code",
   "execution_count": null,
   "metadata": {
    "deletable": false,
    "editable": false
   },
   "outputs": [],
   "source": [
    "grader.check(\"q8d\")"
   ]
  },
  {
   "cell_type": "markdown",
   "metadata": {
    "deletable": false,
    "editable": false
   },
   "source": [
    "<br><br>\n",
    "\n",
    "---\n",
    "\n",
    "### Question 8di Justification\n",
    "\n",
    "Explain your answer to `Question 8d` above based on your knowledge from lectures, and details from inspecting the query plans (your explanation should include why you didn't choose certain options). Your answer should be no longer than 3 sentences."
   ]
  },
  {
   "cell_type": "markdown",
   "metadata": {},
   "source": [
    "Clustering based on the ab_idx led to a notable reduction in both the query cost and execution time, primarily because the query's WHERE predicate is on the 'ab' column, which was indexed and clustered. This optimization made data retrieval more efficient. In contrast, clustering on the batting_pkey did not impact the query's cost or execution time since the WHERE predicate isn't based on the batting column, ruling out options E, F, G, H, and I."
   ]
  },
  {
   "cell_type": "markdown",
   "metadata": {},
   "source": [
    "<br/><br/><br/>\n",
    "\n",
    "<hr style=\"border: 5px solid #003262;\" />\n",
    "<hr style=\"border: 1px solid #fdb515;\" />\n",
    "\n",
    "# Question 9: Cost of Index Management\n",
    "Until now, we have seen the positive potential impact that indexes can have on query performance, but remember in real world technologies/applications, we will be routinely receiving new data (and in large quantities) which would trigger regular updates to our tables. In this section, we will dive into the cost of managing the indexes that we create.\n",
    "\n",
    "Before starting this question, be sure to delete any indexes by running the below cell."
   ]
  },
  {
   "cell_type": "code",
   "execution_count": null,
   "metadata": {},
   "outputs": [],
   "source": [
    "# you must run this cell!!!\n",
    "%sql DROP INDEX IF EXISTS g_batting_idx;\n",
    "%sql DROP INDEX IF EXISTS salary_idx;\n",
    "%sql DROP INDEX IF EXISTS g_batting_all_idx;\n",
    "%sql DROP INDEX IF EXISTS ab_idx;"
   ]
  },
  {
   "cell_type": "markdown",
   "metadata": {
    "deletable": false,
    "editable": false
   },
   "source": [
    "---\n",
    "\n",
    "## Question 9a\n",
    "\n",
    "Record the time it takes to insert 300,000 rows into the `salaries` table when no additional index is configured."
   ]
  },
  {
   "cell_type": "markdown",
   "metadata": {
    "deletable": false,
    "editable": false
   },
   "source": [
    "Run the following cell to setup a column to track which rows we added as part of these inserts."
   ]
  },
  {
   "cell_type": "code",
   "execution_count": null,
   "metadata": {
    "deletable": false,
    "editable": false
   },
   "outputs": [],
   "source": [
    "%sql ALTER TABLE salaries ADD added boolean DEFAULT False;"
   ]
  },
  {
   "cell_type": "markdown",
   "metadata": {
    "deletable": false,
    "editable": false
   },
   "source": [
    "Next, run the provided update script and record the **wall time**.\n",
    "\n",
    "**NOTE:** Running the below cell multiple times may result in an error, unless you first delete the rows with the cell given at the end of this subpart."
   ]
  },
  {
   "cell_type": "code",
   "execution_count": null,
   "metadata": {
    "deletable": false,
    "editable": false
   },
   "outputs": [],
   "source": [
    "%%time\n",
    "%%sql\n",
    "DO $$\n",
    " DECLARE counter INTEGER := 1;\n",
    " BEGIN\n",
    "     FOR counter IN 100001..400000 LOOP\n",
    "     INSERT INTO salaries (yearid, teamid, lgid, playerid, salary, added)\n",
    "         VALUES (2021, 'ATL', 'NL', 'p' || counter, RANDOM() * 1000000, true);\n",
    "     END LOOP;\n",
    "END;\n",
    "$$;"
   ]
  },
  {
   "cell_type": "code",
   "execution_count": null,
   "metadata": {
    "tags": []
   },
   "outputs": [],
   "source": [
    "result_9a_timing = 2.85"
   ]
  },
  {
   "cell_type": "code",
   "execution_count": null,
   "metadata": {
    "deletable": false,
    "editable": false
   },
   "outputs": [],
   "source": [
    "grader.check(\"q9a\")"
   ]
  },
  {
   "cell_type": "markdown",
   "metadata": {},
   "source": [
    "<br/><br/>\n",
    "\n",
    "**Before moving onto the next question**,  delete all the rows that were added to the table from the update script."
   ]
  },
  {
   "cell_type": "code",
   "execution_count": null,
   "metadata": {},
   "outputs": [],
   "source": [
    "%%sql\n",
    "/* just run this cell */\n",
    "DELETE FROM salaries\n",
    "WHERE added = 'true';"
   ]
  },
  {
   "cell_type": "markdown",
   "metadata": {
    "deletable": false,
    "editable": false
   },
   "source": [
    "<br><br>\n",
    "\n",
    "---\n",
    "\n",
    "## Question 9b\n",
    "\n",
    "Now, create an index on the `salary` column and record the **wall time** after executing the update script. Make sure to first run the previous cell to rollback any changes from the previous part!"
   ]
  },
  {
   "cell_type": "code",
   "execution_count": null,
   "metadata": {
    "tags": []
   },
   "outputs": [],
   "source": [
    "%%sql \n",
    "CREATE INDEX salary_idx ON salaries(salary);\n"
   ]
  },
  {
   "cell_type": "markdown",
   "metadata": {
    "deletable": false,
    "editable": false
   },
   "source": [
    "**NOTE:** Running the below cell multiple times may result in an error, unless you first delete the rows with the cell given at the end of last subpart."
   ]
  },
  {
   "cell_type": "code",
   "execution_count": null,
   "metadata": {
    "deletable": false,
    "editable": false,
    "scrolled": true
   },
   "outputs": [],
   "source": [
    "%%time\n",
    "%%sql\n",
    "DO $$\n",
    " DECLARE counter INTEGER := 1;\n",
    " BEGIN\n",
    "     FOR counter IN 100001..400000 LOOP\n",
    "     INSERT INTO salaries (yearid, teamid, lgid, playerid, salary, added)\n",
    "         VALUES (2021, 'ATL', 'NL', 'p' || counter, RANDOM() * 1000000, true);\n",
    "     END LOOP;\n",
    "END;\n",
    "$$;"
   ]
  },
  {
   "cell_type": "code",
   "execution_count": null,
   "metadata": {
    "tags": []
   },
   "outputs": [],
   "source": [
    "result_9b_timing = 4.93"
   ]
  },
  {
   "cell_type": "code",
   "execution_count": null,
   "metadata": {
    "deletable": false,
    "editable": false
   },
   "outputs": [],
   "source": [
    "grader.check(\"q9b\")"
   ]
  },
  {
   "cell_type": "markdown",
   "metadata": {
    "deletable": false,
    "editable": false
   },
   "source": [
    "<!-- BEGIN QUESTION -->\n",
    "\n",
    "<br><br>\n",
    "\n",
    "---\n",
    "\n",
    "## Question 9c:\n",
    "What difference did you notice when you added an index into the salaries table and re-timed the update? Why do you think it happened? Your answer should be no longer than 3 sentences."
   ]
  },
  {
   "cell_type": "markdown",
   "metadata": {},
   "source": [
    "After adding an index, the insertion time noticeably increased. This is likely because every new data insertion requires the database to maintain the order of the indexed values. For instance, if a new value needs to be placed between existing indexed data, the system must first insert the new data and then adjust subsequent indexed values accordingly, leading to additional time overhead."
   ]
  },
  {
   "cell_type": "markdown",
   "metadata": {
    "deletable": false,
    "editable": false
   },
   "source": [
    "<!-- END QUESTION -->\n",
    "\n",
    "<!-- BEGIN QUESTION -->\n",
    "\n",
    "<br/><br/><br/>\n",
    "\n",
    "<hr style=\"border: 5px solid #003262;\" />\n",
    "<hr style=\"border: 1px solid #fdb515;\" />\n",
    "\n",
    "# Question 10: Project Takeaways\n",
    "\n",
    "In this project, we explored how the database system optimizes query execution and how users can futher tune the performance of their queries.\n",
    "\n",
    "Familiarizing yourself with these optimization and tuning methods will make you a better data engineer. In this question, we'll ask you to recall and summarize these concepts. Who knows? Maybe one day it will help you during an interview or on a project.\n",
    "\n",
    "In the following answer cell,\n",
    "1. Name 3 methods you learned in this project. The method can be either the optimization done by the database system, or the fine tuning done by the user.\n",
    "2. For each method, summarize how and why it can optimize query performance. Feel free to discuss any drawbacks, if applicable.\n",
    "\n",
    "Your answer should be no longer than ten sentences. Each method identification/discussion is 2 points.\n"
   ]
  },
  {
   "cell_type": "markdown",
   "metadata": {},
   "source": [
    "Index Creation and Utilization: Through this project, I grasped the transformative impact of indexes on query performance. Without an index, the database performs a sequential scan, sifting through each row to find the desired data. However, with an indexed column, the data is organized in a B+tree structure, allowing for direct and efficient access to the required rows. This structured arrangement ensures that rows with similar index values are adjacent, drastically reducing query cost and execution time.\n",
    "\n",
    "Subqueries and Their Impact: I discovered that while subqueries can be powerful, they often come at a performance cost. Each subquery essentially reads datasets from the beginning, increasing the overall execution time. To optimize, it's beneficial to consider alternatives like using the 'WITH' clause or joining tables on essential columns. The key takeaway is the importance of minimizing the size of the datasets being worked on, as larger datasets inherently demand more resources.\n",
    "\n",
    "Understanding Predicate Effects on Indexing: The project highlighted the nuanced relationship between query predicates (\"OR\" vs. \"AND\") and index effectiveness. It's crucial to recognize that an index might not always optimize performance, especially in queries with \"OR\" predicates. Being aware of these intricacies ensures that we apply indexing judiciously, maximizing its benefits."
   ]
  },
  {
   "cell_type": "markdown",
   "metadata": {
    "deletable": false,
    "editable": false
   },
   "source": [
    "<!-- END QUESTION -->\n",
    "\n",
    "<hr style=\"border: 5px solid #003262;\" />\n",
    "<hr style=\"border: 1px solid #fdb515;\" />"
   ]
  },
  {
   "cell_type": "markdown",
   "metadata": {},
   "source": [
    "## Congratulations! You have finished Project 2.\n",
    "\n",
    "Run the following cell to zip and download the results of your queries. You will also need to run the export cell at the end of the notebook.\n",
    "\n",
    "**Please save your notebook before exporting (this is a good time to do it!)** Otherwise, we may not be able to register your written responses.\n",
    "\n",
    "**For submission on Gradescope, you will need to submit BOTH the `proj2.zip` file generated by the export cell and the `results.zip` file generated by the following cell.**\n",
    "\n",
    "**Common submission issues:** You MUST submit the generated zip files (not folders) to the autograder. However, Safari is known to automatically unzip files upon downloading. You can fix this by going into Safari preferences, and deselect the box with the text \"Open safe files after downloading\" under the \"General\" tab. If you experience issues with downloading via clicking on the link, you can also navigate to the project 2 directory within JupyterHub (remove `proj2.ipynb` from the url), and manually download the generated zip files. Please post on Ed if you encounter any other submission issues."
   ]
  },
  {
   "cell_type": "code",
   "execution_count": null,
   "metadata": {
    "scrolled": true
   },
   "outputs": [],
   "source": [
    "grading_util.prepare_submission_and_cleanup()  # builds results.zip"
   ]
  },
  {
   "cell_type": "code",
   "execution_count": null,
   "metadata": {},
   "outputs": [],
   "source": [
    "# Close SQL magic connection\n",
    "# You may disregard \"RunTimeError: Could not close connection\"\n",
    "# %sql --close postgresql://127.0.0.1:5432/baseball"
   ]
  },
  {
   "cell_type": "markdown",
   "metadata": {
    "deletable": false,
    "editable": false
   },
   "source": [
    "## Submission\n",
    "\n",
    "Make sure you have run all cells in your notebook in order before running the cell below, so that all images/graphs appear in the output. The cell below will generate a zip file for you to submit. **Please save before exporting!**"
   ]
  },
  {
   "cell_type": "code",
   "execution_count": null,
   "metadata": {
    "deletable": false,
    "editable": false
   },
   "outputs": [],
   "source": [
    "# Save your notebook first, then run this cell to export your submission.\n",
    "grader.export(run_tests=True, files=['results.zip'])"
   ]
  },
  {
   "cell_type": "markdown",
   "metadata": {},
   "source": [
    " "
   ]
  }
 ],
 "metadata": {
  "kernelspec": {
   "display_name": "Python 3 (ipykernel)",
   "language": "python",
   "name": "python3"
  },
  "language_info": {
   "codemirror_mode": {
    "name": "ipython",
    "version": 3
   },
   "file_extension": ".py",
   "mimetype": "text/x-python",
   "name": "python",
   "nbconvert_exporter": "python",
   "pygments_lexer": "ipython3",
   "version": "3.11.0"
  },
  "otter": {
   "OK_FORMAT": true,
   "tests": {
    "6a_cost": {
     "name": "6a_cost",
     "points": 1,
     "suites": [
      {
       "cases": [
        {
         "code": ">>> 0 <= result_6a_cost <= 10000 and 0 <= result_6a_timing <= 10000\nTrue",
         "hidden": false,
         "locked": false
        }
       ],
       "scored": true,
       "setup": "",
       "teardown": "",
       "type": "doctest"
      }
     ]
    },
    "6b_cost": {
     "name": "6b_cost",
     "points": 1,
     "suites": [
      {
       "cases": [
        {
         "code": ">>> 0 <= result_6b_cost <= 10000 and 0 <= result_6b_timing <= 10000\nTrue",
         "hidden": false,
         "locked": false
        }
       ],
       "scored": true,
       "setup": "",
       "teardown": "",
       "type": "doctest"
      }
     ]
    },
    "8a_cost": {
     "name": "8a_cost",
     "points": 1,
     "suites": [
      {
       "cases": [
        {
         "code": ">>> 0 <= result_8a_cost <= 10000 and 0 <= result_8a_timing <= 10000\nTrue",
         "hidden": false,
         "locked": false
        }
       ],
       "scored": true,
       "setup": "",
       "teardown": "",
       "type": "doctest"
      }
     ]
    },
    "q0": {
     "name": "q0",
     "points": 1,
     "suites": [
      {
       "cases": [
        {
         "code": ">>> 1193 <= sample_query_cost <= 1194 and 12 <= sample_query_timing <= 36\nTrue",
         "hidden": false,
         "locked": false
        }
       ],
       "scored": true,
       "setup": "",
       "teardown": "",
       "type": "doctest"
      }
     ]
    },
    "q1a": {
     "name": "q1a",
     "points": 1,
     "suites": [
      {
       "cases": [
        {
         "code": ">>> query_1a, result_1a_df = grading_util.load_results(\"result_1a\")\n>>> result_1a_df.sort_values(['playerid', 'yearid']).shape == (323, 4)\nTrue",
         "hidden": false,
         "locked": false
        }
       ],
       "scored": true,
       "setup": "",
       "teardown": "",
       "type": "doctest"
      }
     ]
    },
    "q1bi": {
     "name": "q1bi",
     "points": 1,
     "suites": [
      {
       "cases": [
        {
         "code": ">>> 900 <= your_query_cost <= 10000 and 0 <= your_query_timing <= 10000\nTrue",
         "hidden": false,
         "locked": false
        },
        {
         "code": ">>> 900 <= provided_query_cost <= 10000 and 0 <= provided_query_timing <= 10000\nTrue",
         "hidden": false,
         "locked": false
        }
       ],
       "scored": true,
       "setup": "",
       "teardown": "",
       "type": "doctest"
      }
     ]
    },
    "q1bii": {
     "name": "q1bii",
     "points": 2,
     "suites": [
      {
       "cases": [
        {
         "code": ">>> 0 < len(q1b_part2) < 7\nTrue",
         "hidden": false,
         "locked": false
        }
       ],
       "scored": true,
       "setup": "",
       "teardown": "",
       "type": "doctest"
      }
     ]
    },
    "q2a": {
     "name": "q2a",
     "points": 1,
     "suites": [
      {
       "cases": [
        {
         "code": ">>> query_2a, result_2a_df = grading_util.load_results(\"result_2a\")\n>>> result_2a_df.sort_values(['playerid', 'schoolid', 'yearid']).shape == (23, 5)\nTrue",
         "hidden": false,
         "locked": false
        }
       ],
       "scored": true,
       "setup": "",
       "teardown": "",
       "type": "doctest"
      }
     ]
    },
    "q2bi": {
     "name": "q2bi",
     "points": 1,
     "suites": [
      {
       "cases": [
        {
         "code": ">>> query_2b_view, result_2b_view_df = grading_util.load_results(\"result_2b_view\")\n>>> result_2b_view_df.shape == (13, 3)\nTrue",
         "hidden": false,
         "locked": false
        }
       ],
       "scored": true,
       "setup": "",
       "teardown": "",
       "type": "doctest"
      }
     ]
    },
    "q2bii": {
     "name": "q2bii",
     "points": 1,
     "suites": [
      {
       "cases": [
        {
         "code": ">>> query_2b_mat, result_2b_mat_df = grading_util.load_results(\"result_2b_mat\")\n>>> result_2b_mat_df.sort_values(['schoolid', 'yearid']).shape == (13, 3)\nTrue",
         "hidden": false,
         "locked": false
        }
       ],
       "scored": true,
       "setup": "",
       "teardown": "",
       "type": "doctest"
      }
     ]
    },
    "q2biii": {
     "name": "q2biii",
     "points": 1,
     "suites": [
      {
       "cases": [
        {
         "code": ">>> query_2b_no_view, result_2b_no_view_df = grading_util.load_results(\"result_2b_no_view\")\n>>> result_2b_no_view_df.shape == (13, 3)\nTrue",
         "hidden": false,
         "locked": false
        },
        {
         "code": ">>> query_2b_view, result_2b_view_df = grading_util.load_results(\"result_2b_view\")\n>>> query_2b_no_view, result_2b_no_view_df = grading_util.load_results(\"result_2b_no_view\")\n>>> np.sum(result_2b_view_df == result_2b_no_view_df).sum() == 39\nTrue",
         "hidden": false,
         "locked": false
        }
       ],
       "scored": true,
       "setup": "",
       "teardown": "",
       "type": "doctest"
      }
     ]
    },
    "q2c": {
     "name": "q2c",
     "points": 1,
     "suites": [
      {
       "cases": [
        {
         "code": ">>> 0 <= with_view_timing <= 10000 and 0 <= with_view_cost <= 10000\nTrue",
         "hidden": false,
         "locked": false
        },
        {
         "code": ">>> 0 <= without_view_timing <= 10000 and 0 <= without_view_cost <= 10000\nTrue",
         "hidden": false,
         "locked": false
        },
        {
         "code": ">>> 0 <= with_materialized_view_timing <= 10000 and 0 <= with_materialized_view_cost <= 10000\nTrue",
         "hidden": false,
         "locked": false
        }
       ],
       "scored": true,
       "setup": "",
       "teardown": "",
       "type": "doctest"
      }
     ]
    },
    "q2di": {
     "name": "q2di",
     "points": 2,
     "suites": [
      {
       "cases": [
        {
         "code": ">>> 0 < len(q2di) < 11\nTrue",
         "hidden": false,
         "locked": false
        }
       ],
       "scored": true,
       "setup": "",
       "teardown": "",
       "type": "doctest"
      }
     ]
    },
    "q3a": {
     "name": "q3a",
     "points": 1,
     "suites": [
      {
       "cases": [
        {
         "code": ">>> 0 <= query_view_cost <= 10000 and 0 <= query_view_timing <= 10000\nTrue",
         "hidden": false,
         "locked": false
        }
       ],
       "scored": true,
       "setup": "",
       "teardown": "",
       "type": "doctest"
      }
     ]
    },
    "q3b": {
     "name": "q3b",
     "points": 1,
     "suites": [
      {
       "cases": [
        {
         "code": ">>> 0 <= query_view_with_filter_cost <= 10000 and 0 <= query_view_with_filter_timing <= 10000\nTrue",
         "hidden": false,
         "locked": false
        }
       ],
       "scored": true,
       "setup": "",
       "teardown": "",
       "type": "doctest"
      }
     ]
    },
    "q4a": {
     "name": "q4a",
     "points": 1,
     "suites": [
      {
       "cases": [
        {
         "code": ">>> len(q4a) == 1\nTrue",
         "hidden": false,
         "locked": false
        },
        {
         "code": ">>> type(q4a) == str\nTrue",
         "hidden": false,
         "locked": false
        }
       ],
       "scored": true,
       "setup": "",
       "teardown": "",
       "type": "doctest"
      }
     ]
    },
    "q4b": {
     "name": "q4b",
     "points": 1,
     "suites": [
      {
       "cases": [
        {
         "code": ">>> len(q4b) == 1 \nTrue",
         "hidden": false,
         "locked": false
        },
        {
         "code": ">>> type(q4b) == str\nTrue",
         "hidden": false,
         "locked": false
        }
       ],
       "scored": true,
       "setup": "",
       "teardown": "",
       "type": "doctest"
      }
     ]
    },
    "q4c": {
     "name": "q4c",
     "points": 1,
     "suites": [
      {
       "cases": [
        {
         "code": ">>> len(q4c) == 1 \nTrue",
         "hidden": false,
         "locked": false
        },
        {
         "code": ">>> type(q4c) == str\nTrue",
         "hidden": false,
         "locked": false
        }
       ],
       "scored": true,
       "setup": "",
       "teardown": "",
       "type": "doctest"
      }
     ]
    },
    "q5a": {
     "name": "q5a",
     "points": 2,
     "suites": [
      {
       "cases": [
        {
         "code": ">>> query_5a, result_5a_df = grading_util.load_results(\"result_5a\")\n>>> result_5a_df.sort_values('playerid').shape == (134, 2)\nTrue",
         "hidden": false,
         "locked": false
        },
        {
         "code": ">>> 0 <= result_5a_cost <= 10000 and 0 <= result_5a_timing <= 10000\nTrue",
         "hidden": false,
         "locked": false
        }
       ],
       "scored": true,
       "setup": "",
       "teardown": "",
       "type": "doctest"
      }
     ]
    },
    "q5b": {
     "name": "q5b",
     "points": 1,
     "suites": [
      {
       "cases": [
        {
         "code": ">>> 0 <= result_5b_cost <= 10000 and 0 <= result_5b_timing <= 10000\nTrue",
         "hidden": false,
         "locked": false
        }
       ],
       "scored": true,
       "setup": "",
       "teardown": "",
       "type": "doctest"
      }
     ]
    },
    "q5c": {
     "name": "q5c",
     "points": 1,
     "suites": [
      {
       "cases": [
        {
         "code": ">>> 0 <= result_5c_cost <= 10000 and 0 <= result_5c_timing <= 10000\nTrue",
         "hidden": false,
         "locked": false
        }
       ],
       "scored": true,
       "setup": "",
       "teardown": "",
       "type": "doctest"
      }
     ]
    },
    "q5d": {
     "name": "q5d",
     "points": 2,
     "suites": [
      {
       "cases": [
        {
         "code": ">>> 0 < len(q5d) < 9\nTrue",
         "hidden": false,
         "locked": false
        }
       ],
       "scored": true,
       "setup": "",
       "teardown": "",
       "type": "doctest"
      }
     ]
    },
    "q6a": {
     "name": "q6a",
     "points": 1,
     "suites": [
      {
       "cases": [
        {
         "code": ">>> query_6a, result_6a_df = grading_util.load_results(\"result_6a\")\n>>> result_6a_df.sort_values(['playerid', 'yearid']).shape == (120, 3)\nTrue",
         "hidden": false,
         "locked": false
        }
       ],
       "scored": true,
       "setup": "",
       "teardown": "",
       "type": "doctest"
      }
     ]
    },
    "q6b": {
     "name": "q6b",
     "points": 1,
     "suites": [
      {
       "cases": [
        {
         "code": ">>> query_6b, result_6b_df = grading_util.load_results(\"result_6b\")\n>>> result_6b_df.sort_values(['playerid', 'yearid']).shape == (216, 3)\nTrue",
         "hidden": false,
         "locked": false
        }
       ],
       "scored": true,
       "setup": "",
       "teardown": "",
       "type": "doctest"
      }
     ]
    },
    "q6c": {
     "name": "q6c",
     "points": 1,
     "suites": [
      {
       "cases": [
        {
         "code": ">>> 0 <= result_6cand_index_cost <= 10000 and 0 <= result_6cand_index_timing <= 10000\nTrue",
         "hidden": false,
         "locked": false
        },
        {
         "code": ">>> 0 <= result_6cor_index_cost <= 10000 and 0 <= result_6cor_index_timing <= 10000\nTrue",
         "hidden": false,
         "locked": false
        }
       ],
       "scored": true,
       "setup": "",
       "teardown": "",
       "type": "doctest"
      }
     ]
    },
    "q6d": {
     "name": "q6d",
     "points": 1,
     "suites": [
      {
       "cases": [
        {
         "code": ">>> 0 <= result_6d_multiple_col_index_cost <= 10000 and 0 <= result_6d_multiple_col_index_timing <= 10000\nTrue",
         "hidden": false,
         "locked": false
        }
       ],
       "scored": true,
       "setup": "",
       "teardown": "",
       "type": "doctest"
      }
     ]
    },
    "q6e": {
     "name": "q6e",
     "points": 2,
     "suites": [
      {
       "cases": [
        {
         "code": ">>> 0 < len(q6e) < 10\nTrue",
         "hidden": false,
         "locked": false
        }
       ],
       "scored": true,
       "setup": "",
       "teardown": "",
       "type": "doctest"
      }
     ]
    },
    "q7a_avg": {
     "name": "q7a_avg",
     "points": 1,
     "suites": [
      {
       "cases": [
        {
         "code": ">>> 0 <= result_7a_avg_query_cost <= 10000 and 0 <= result_7a_avg_query_timing <= 10000\nTrue",
         "hidden": false,
         "locked": false
        }
       ],
       "scored": true,
       "setup": "",
       "teardown": "",
       "type": "doctest"
      }
     ]
    },
    "q7a_min": {
     "name": "q7a_min",
     "points": 1,
     "suites": [
      {
       "cases": [
        {
         "code": ">>> 0 <= result_7a_min_query_cost <= 10000 and 0 <= result_7a_min_query_timing <= 10000\nTrue",
         "hidden": false,
         "locked": false
        }
       ],
       "scored": true,
       "setup": "",
       "teardown": "",
       "type": "doctest"
      }
     ]
    },
    "q7b": {
     "name": "q7b",
     "points": 1,
     "suites": [
      {
       "cases": [
        {
         "code": ">>> 0 <= result_7b_min_query_cost <= 10000 and 0 <= result_7b_min_query_timing <= 10000\nTrue",
         "hidden": false,
         "locked": false
        },
        {
         "code": ">>> 0 <= result_7b_avg_query_cost <= 10000 and 0 <= result_7b_avg_query_timing <= 10000\nTrue",
         "hidden": false,
         "locked": false
        }
       ],
       "scored": true,
       "setup": "",
       "teardown": "",
       "type": "doctest"
      }
     ]
    },
    "q8a": {
     "name": "q8a",
     "points": 1,
     "suites": [
      {
       "cases": [
        {
         "code": ">>> query_8a, result_8a_df = grading_util.load_results(\"result_8a\")\n>>> result_8a_df.sort_values(['playerid', 'yearid', 'teamid']).iloc[:1000].shape == (1000, 4)\nTrue",
         "hidden": false,
         "locked": false
        }
       ],
       "scored": true,
       "setup": "",
       "teardown": "",
       "type": "doctest"
      }
     ]
    },
    "q8b": {
     "name": "q8b",
     "points": 1,
     "suites": [
      {
       "cases": [
        {
         "code": ">>> 0 <= result_8b_cost <= 10000 and 0 <= result_8b_timing <= 10000\nTrue",
         "hidden": false,
         "locked": false
        }
       ],
       "scored": true,
       "setup": "",
       "teardown": "",
       "type": "doctest"
      }
     ]
    },
    "q8c": {
     "name": "q8c",
     "points": 1,
     "suites": [
      {
       "cases": [
        {
         "code": ">>> 0 <= result_8c_cost <= 10000 and 0 <= result_8c_timing <= 10000\nTrue",
         "hidden": false,
         "locked": false
        }
       ],
       "scored": true,
       "setup": "",
       "teardown": "",
       "type": "doctest"
      }
     ]
    },
    "q8d": {
     "name": "q8d",
     "points": 2,
     "suites": [
      {
       "cases": [
        {
         "code": ">>> 0 < len(q8d) < 10\nTrue",
         "hidden": false,
         "locked": false
        }
       ],
       "scored": true,
       "setup": "",
       "teardown": "",
       "type": "doctest"
      }
     ]
    },
    "q9a": {
     "name": "q9a",
     "points": 1,
     "suites": [
      {
       "cases": [
        {
         "code": ">>> 0 <= result_9a_timing <= 10000\nTrue",
         "hidden": false,
         "locked": false
        }
       ],
       "scored": true,
       "setup": "",
       "teardown": "",
       "type": "doctest"
      }
     ]
    },
    "q9b": {
     "name": "q9b",
     "points": 1,
     "suites": [
      {
       "cases": [
        {
         "code": ">>> 0 <= result_9b_timing <= 10000\nTrue",
         "hidden": false,
         "locked": false
        }
       ],
       "scored": true,
       "setup": "",
       "teardown": "",
       "type": "doctest"
      }
     ]
    }
   }
  }
 },
 "nbformat": 4,
 "nbformat_minor": 4
}
