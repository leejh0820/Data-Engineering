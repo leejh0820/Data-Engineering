{
 "cells": [
  {
   "cell_type": "code",
   "execution_count": 1,
   "metadata": {
    "deletable": false,
    "editable": false
   },
   "outputs": [],
   "source": [
    "# Initialize Otter\n",
    "import otter\n",
    "grader = otter.Notebook(\"proj3.ipynb\")"
   ]
  },
  {
   "cell_type": "markdown",
   "metadata": {},
   "source": [
    "# Project 3: Data Transformation\n",
    "\n",
    "## Due Date: Thursday, October 26th, 5:00 PM\n",
    "\n",
    "## Assignment Details\n",
    "\n",
    "In this project, we'll be working with one month of data from sensors in buildings at UC Berkeley. This is a very typical real-world dataset—i.e. it's kind of a mess. The full dataset contains a giant `data` table of many billions of sensor readings over the course of a decade; we will look at a single month of that data. It also contains a variety of other tables that contextualize the readings.\n",
    "\n",
    "The **schema for the database** is shown below.\n",
    "* Each line represents a relationship between the two fields.\n",
    "* The side of the line diverging to three lines / arrows represents the **\"many\"** side of the relationship, while the side of the line converging to one arrow represents the **\"one\"** side of the relationship.\n",
    "* This file is available as `data/schema.png`.\n",
    "\n",
    "Occasionally people believe that when the data has a well-structured schema, then it's simple to proceed! *We'll put this assumption to the test.*\n",
    "\n",
    "Citation: Luo, N., Wang, Z., Blum, D. et al. A three-year dataset supporting research on building energy management and occupancy analytics. _Sci Data_ 9, 156 (2022). https://doi.org/10.1038/s41597-022-01257-x "
   ]
  },
  {
   "cell_type": "markdown",
   "metadata": {},
   "source": [
    "<img src=\"data/schema.png\">"
   ]
  },
  {
   "cell_type": "markdown",
   "metadata": {},
   "source": [
    "If you make any queries to explore the data, do not forget to add a LIMIT clause; LIMIT 10 is a good default to always add to the end of your queries. Otherwise, your connection may close as a result of trying to load excessively many rows. To explore the data within the JupyterNotebook, you may add a cell like so:\n",
    "```\n",
    "%%sql\n",
    "SELECT ... \n",
    "LIMIT 10;\n",
    "```\n",
    "In addition, for the entirety of the project, you may make as many CTEs as you'd like.\n"
   ]
  },
  {
   "cell_type": "markdown",
   "metadata": {},
   "source": [
    "## Logistics & Scoring Breakdown\n",
    "\n",
    "This is an **individual project**. However, you’re welcome to collaborate with any other student in the class as long as it’s within the academic honesty guidelines. Free-response questions (marked 'm' in the table below) are manually graded.\n",
    "\n",
    "Question | Points\n",
    "--- | ---\n",
    "1a\t| m: 1\n",
    "1b  | 1\n",
    "1c\t| 1\n",
    "1d\t| m: 2\n",
    "2a\t| 3\n",
    "2b\t| 1\n",
    "3a\t| m: 1\n",
    "3b\t| 1\n",
    "3c\t| 1\n",
    "3d  | m: 1\n",
    "3e  | 2\n",
    "4a\t| 2\n",
    "4b\t| 2\n",
    "4c\t| 3\n",
    "5a  | 1\n",
    "5b  | 1\n",
    "5c  | 3\n",
    "**Total** | 27\n",
    "\n",
    "**Grand Total:** 27 points (autograded: 22, manual: 5)"
   ]
  },
  {
   "cell_type": "code",
   "execution_count": 2,
   "metadata": {},
   "outputs": [],
   "source": [
    "# Run this cell to set up imports\n",
    "import numpy as np\n",
    "import pandas as pd"
   ]
  },
  {
   "cell_type": "code",
   "execution_count": 3,
   "metadata": {},
   "outputs": [],
   "source": [
    "%reload_ext sql\n",
    "%sql postgresql://jovyan@127.0.0.1:5432/postgres"
   ]
  },
  {
   "cell_type": "markdown",
   "metadata": {},
   "source": [
    "## Loading Up the Database\n",
    "To load the database, run the following cell."
   ]
  },
  {
   "cell_type": "code",
   "execution_count": 4,
   "metadata": {},
   "outputs": [
    {
     "name": "stdout",
     "output_type": "stream",
     "text": [
      " pg_terminate_backend \n",
      "----------------------\n",
      "(0 rows)\n",
      "\n",
      "DROP DATABASE\n",
      "CREATE DATABASE\n",
      "SET\n",
      "SET\n",
      "SET\n",
      "SET\n",
      "SET\n",
      " set_config \n",
      "------------\n",
      " \n",
      "(1 row)\n",
      "\n",
      "SET\n",
      "SET\n",
      "SET\n",
      "SET\n",
      "CREATE EXTENSION\n",
      "COMMENT\n",
      "CREATE EXTENSION\n",
      "COMMENT\n",
      "CREATE FUNCTION\n",
      "ALTER FUNCTION\n",
      "CREATE AGGREGATE\n",
      "ALTER AGGREGATE\n",
      "SET\n",
      "SET\n",
      "CREATE TABLE\n",
      "ALTER TABLE\n",
      "CREATE TABLE\n",
      "ALTER TABLE\n",
      "CREATE TABLE\n",
      "ALTER TABLE\n",
      "CREATE TABLE\n",
      "ALTER TABLE\n",
      "CREATE TABLE\n",
      "ALTER TABLE\n",
      "CREATE TABLE\n",
      "ALTER TABLE\n",
      "CREATE TABLE\n",
      "ALTER TABLE\n",
      "CREATE MATERIALIZED VIEW\n",
      "ALTER TABLE\n",
      "CREATE TABLE\n",
      "ALTER TABLE\n",
      "COPY 92\n",
      "COPY 102386\n",
      "COPY 100000\n",
      "COPY 381\n",
      "COPY 9509\n",
      "COPY 26183\n",
      "COPY 5276\n",
      "COPY 12\n",
      "ALTER TABLE\n",
      "ALTER TABLE\n",
      "ALTER TABLE\n",
      "REFRESH MATERIALIZED VIEW\n"
     ]
    }
   ],
   "source": [
    "# This cell sets up the database\n",
    "\n",
    "# first clean existing connections\n",
    "import subprocess\n",
    "call = subprocess.run([\"psql\", \"-h\", \"localhost\", \\\n",
    "                       \"-tAc\", \"SELECT 1 FROM pg_database WHERE datname='ucb_buildings'\", \"template1\"], \\\n",
    "                      stdout=subprocess.PIPE, text=True)\n",
    "if call.stdout == \"1\\n\":\n",
    "    !psql postgresql://localhost:5432/ucb_buildings -c 'SELECT pg_terminate_backend(pg_stat_activity.pid) FROM pg_stat_activity WHERE datname = current_database()  AND pid <> pg_backend_pid();'\n",
    "\n",
    "# then delete and recreate database\n",
    "!psql -h localhost -c 'DROP DATABASE IF EXISTS ucb_buildings'\n",
    "!psql -h localhost -c 'CREATE DATABASE ucb_buildings'\n",
    "!gunzip -c data/proj3.sql.gz | psql -h localhost -d ucb_buildings -f -"
   ]
  },
  {
   "cell_type": "markdown",
   "metadata": {},
   "source": [
    "Now, run the following cell to connect to the `ucb_buildings` database. There should be no errors after running the following cell."
   ]
  },
  {
   "cell_type": "code",
   "execution_count": 5,
   "metadata": {},
   "outputs": [
    {
     "data": {
      "text/html": [
       "<span style=\"None\">Connecting and switching to connection postgresql://jovyan@127.0.0.1:5432/ucb_buildings</span>"
      ],
      "text/plain": [
       "Connecting and switching to connection postgresql://jovyan@127.0.0.1:5432/ucb_buildings"
      ]
     },
     "metadata": {},
     "output_type": "display_data"
    }
   ],
   "source": [
    "%sql postgresql://jovyan@127.0.0.1:5432/ucb_buildings"
   ]
  },
  {
   "cell_type": "markdown",
   "metadata": {},
   "source": [
    "## Connect to the grader"
   ]
  },
  {
   "cell_type": "markdown",
   "metadata": {},
   "source": [
    "Run the following cell for grading purposes."
   ]
  },
  {
   "cell_type": "code",
   "execution_count": 6,
   "metadata": {},
   "outputs": [],
   "source": [
    "# Just run the following cell, no further action is needed.\n",
    "from data101_utils import GradingUtil\n",
    "grading_util = GradingUtil(\"proj3\")\n",
    "grading_util.prepare_autograder()"
   ]
  },
  {
   "cell_type": "markdown",
   "metadata": {},
   "source": [
    "<hr style=\"border: 5px solid #003262;\" />\n",
    "<hr style=\"border: 1px solid #fdb515;\" />\n"
   ]
  },
  {
   "cell_type": "markdown",
   "metadata": {
    "deletable": false,
    "editable": false
   },
   "source": [
    "<!-- BEGIN QUESTION -->\n",
    "\n",
    "## Question 1: Unboxing the Data\n",
    "\n",
    "### Question 1a\n",
    "\n",
    "As mentioned above, we are working with just one month of data. In the full database (which we don't have access to), tables like the `data` table have billions of rows. What do you notice about the design of the database schema above that helps support the large amount of data and minimize redundancy? Keep your response to at most three sentences.\n",
    "\n",
    "**Hint:** There is no need to examine any data here. What is a technique learned in lecture 16? Define that technique."
   ]
  },
  {
   "cell_type": "markdown",
   "metadata": {},
   "source": [
    "The design of the database schema is optimized for handling large volumes of data through \"normalization,\" a technique discussed in Lecture 16. Normalization involves organizing the columns (attributes) and tables (relations) of a database to minimize data redundancy and avoid undesirable characteristics like Insertion, Update, and Deletion Anomalies. This makes the database more efficient and scalable, particularly when dealing with tables containing billions of rows.\n",
    "\n"
   ]
  },
  {
   "cell_type": "markdown",
   "metadata": {
    "deletable": false,
    "editable": false
   },
   "source": [
    "### <!-- END QUESTION -->\n",
    "\n",
    "<br><br>\n",
    "\n",
    "---\n",
    "### Question 1b\n",
    "\n",
    "The diagram claims that `buildings_site_mapping` has a **many-to-many relationship** with `real_estate_metadata`. Let's validate that. \n",
    "\n",
    "Below is an example of the aggregate function `json_agg` being used with a table; you will need to do this in the next two parts. Note the necessary use of a `GROUP BY` to use `json_agg`, which aggregates values from the table and returns a single JSON array. [(Documentation)](https://www.postgresql.org/docs/9.5/functions-aggregate.html)"
   ]
  },
  {
   "cell_type": "code",
   "execution_count": 7,
   "metadata": {},
   "outputs": [
    {
     "data": {
      "text/html": [
       "<span style=\"None\">Running query in &#x27;postgresql://jovyan@127.0.0.1:5432/ucb_buildings&#x27;</span>"
      ],
      "text/plain": [
       "Running query in 'postgresql://jovyan@127.0.0.1:5432/ucb_buildings'"
      ]
     },
     "metadata": {},
     "output_type": "display_data"
    },
    {
     "data": {
      "text/html": [
       "<span style=\"color: green\">5 rows affected.</span>"
      ],
      "text/plain": [
       "5 rows affected."
      ]
     },
     "metadata": {},
     "output_type": "display_data"
    },
    {
     "data": {
      "text/html": [
       "<table>\n",
       "    <thead>\n",
       "        <tr>\n",
       "            <th>site</th>\n",
       "            <th>json_agg</th>\n",
       "        </tr>\n",
       "    </thead>\n",
       "    <tbody>\n",
       "        <tr>\n",
       "            <td>Sutardja Dai Hall</td>\n",
       "            <td>[{'site': 'Sutardja Dai Hall', 'building': 'SUTARDJA DAI'}]</td>\n",
       "        </tr>\n",
       "        <tr>\n",
       "            <td>Le Conte Hall</td>\n",
       "            <td>[{'site': 'Le Conte Hall', 'building': 'LE CONTE'}]</td>\n",
       "        </tr>\n",
       "        <tr>\n",
       "            <td>Hildebrand Hall</td>\n",
       "            <td>[{'site': 'Hildebrand Hall', 'building': 'HILDEBRA ND'}]</td>\n",
       "        </tr>\n",
       "        <tr>\n",
       "            <td>Stephens Hall</td>\n",
       "            <td>[{'site': 'Stephens Hall', 'building': 'STEPHENS'}]</td>\n",
       "        </tr>\n",
       "        <tr>\n",
       "            <td>2000 Carleton Street</td>\n",
       "            <td>[{'site': '2000 Carleton Street', 'building': 'CARLETO2 000'}]</td>\n",
       "        </tr>\n",
       "    </tbody>\n",
       "</table>"
      ],
      "text/plain": [
       "+----------------------+----------------------------------------------------------------+\n",
       "|         site         |                            json_agg                            |\n",
       "+----------------------+----------------------------------------------------------------+\n",
       "|  Sutardja Dai Hall   |  [{'site': 'Sutardja Dai Hall', 'building': 'SUTARDJA DAI'}]   |\n",
       "|    Le Conte Hall     |      [{'site': 'Le Conte Hall', 'building': 'LE CONTE'}]       |\n",
       "|   Hildebrand Hall    |    [{'site': 'Hildebrand Hall', 'building': 'HILDEBRA ND'}]    |\n",
       "|    Stephens Hall     |      [{'site': 'Stephens Hall', 'building': 'STEPHENS'}]       |\n",
       "| 2000 Carleton Street | [{'site': '2000 Carleton Street', 'building': 'CARLETO2 000'}] |\n",
       "+----------------------+----------------------------------------------------------------+"
      ]
     },
     "execution_count": 7,
     "metadata": {},
     "output_type": "execute_result"
    }
   ],
   "source": [
    "%%sql\n",
    "SELECT b.site, json_agg(b) from buildings_site_mapping b GROUP BY b.site LIMIT 5;"
   ]
  },
  {
   "cell_type": "markdown",
   "metadata": {},
   "source": [
    "Find the **distinct** values of `buildings_site_mapping.building` that match multiple tuples in `real_estate_metadata.building_name`, and for each such value of `buildings_site_mapping.building` return the matches as JSON via `json_agg(real_estate_metadata)`. Your output should contain the building and the `json_agg` in that order. **Order your final result by building ascending**.\n",
    "\n",
    "**Hint:** You should use a CTE to find the distinct buildings of `buildings_site_mapping` before applying necessary table joins."
   ]
  },
  {
   "cell_type": "code",
   "execution_count": 8,
   "metadata": {
    "tags": []
   },
   "outputs": [
    {
     "data": {
      "text/html": [
       "<span style=\"None\">Running query in &#x27;postgresql://jovyan@127.0.0.1:5432/ucb_buildings&#x27;</span>"
      ],
      "text/plain": [
       "Running query in 'postgresql://jovyan@127.0.0.1:5432/ucb_buildings'"
      ]
     },
     "metadata": {},
     "output_type": "display_data"
    },
    {
     "data": {
      "text/html": [
       "<span style=\"color: green\">5 rows affected.</span>"
      ],
      "text/plain": [
       "5 rows affected."
      ]
     },
     "metadata": {},
     "output_type": "display_data"
    }
   ],
   "source": [
    "%%sql --save query_1b result_1b <<\n",
    "WITH DistinctBuildings AS (\n",
    "    SELECT DISTINCT building\n",
    "    FROM buildings_site_mapping\n",
    ")\n",
    "\n",
    "SELECT bsm.building, json_agg(rem) \n",
    "FROM DistinctBuildings bsm\n",
    "JOIN real_estate_metadata rem ON bsm.building = rem.building_name\n",
    "GROUP BY bsm.building\n",
    "HAVING COUNT(rem.*) > 1\n",
    "ORDER BY bsm.building ASC;"
   ]
  },
  {
   "cell_type": "code",
   "execution_count": 9,
   "metadata": {
    "tags": []
   },
   "outputs": [
    {
     "data": {
      "text/html": [
       "<table>\n",
       "    <thead>\n",
       "        <tr>\n",
       "            <th>building</th>\n",
       "            <th>json_agg</th>\n",
       "        </tr>\n",
       "    </thead>\n",
       "    <tbody>\n",
       "        <tr>\n",
       "            <td>ALUMNI HOUSE</td>\n",
       "            <td>[{'location': 'BERKELEY', 'building': '1215', 'building_name': 'ALUMNI HOUSE', 'address': 'CORE C22A2M0PUS', 'city_name': 'BERKELEY', 'county': 'ALAMEDA', 'category': 'GENERAL', 'osfg': 15590, 'bldg_asf': 8719, 'levels': 2, 'year': '1954', 'owner': 'UC', 'mp_code': 'P', 'book_value': 106819}, {'location': 'IRVINE', 'building': '9207', 'building_name': 'ALUMNI HOUSE', 'address': 'CORE CAMPUS', 'city_name': 'IRVINE', 'county': 'ORANGE', 'category': 'GENERAL', 'osfg': 4027, 'bldg_asf': 2549, 'levels': 1, 'year': '1984', 'owner': 'UC', 'mp_code': 'P', 'book_value': 41981}, {'location': 'FRANCISC SOAN', 'building': '2032', 'building_name': 'ALUMNI HOUSE', 'address': 'PARNASS US AVE', 'city_name': 'FRANCISC OSAN', 'county': 'FRANCISC OSAN', 'category': 'HEALTH SCIENCE', 'osfg': 7217, 'bldg_asf': 5079, 'levels': 3, 'year': '1915', 'owner': 'UP', 'mp_code': 'P', 'book_value': 135923}]</td>\n",
       "        </tr>\n",
       "        <tr>\n",
       "            <td>CAMPBELL</td>\n",
       "            <td>[{'location': 'BERKELEY', 'building': '1027', 'building_name': 'CAMPBELL', 'address': 'CORE C28A5M0PUS', 'city_name': 'BERKELEY', 'county': 'ALAMEDA', 'category': 'GENERAL', 'osfg': 83373, 'bldg_asf': 50745, 'levels': 7, 'year': '2014', 'owner': 'UC', 'mp_code': 'P', 'book_value': 75256344.0}, {'location': 'LOS ANGELES', 'building': '4294', 'building_name': 'CAMPBELL', 'address': 'PORTOLA P11L8A1Z1A', 'city_name': 'LOS ANGELES', 'county': 'LOS ANGELES', 'category': 'GENERAL', 'osfg': 55401, 'bldg_asf': 32619, 'levels': 5, 'year': '1954', 'owner': 'UC', 'mp_code': 'P', 'book_value': 6247192.0}]</td>\n",
       "        </tr>\n",
       "        <tr>\n",
       "            <td>HERTZ</td>\n",
       "            <td>[{'location': 'BERKELEY', 'building': '1423', 'building_name': 'HERTZ', 'address': 'CORE CAMPUS', 'city_name': 'BERKELEY', 'county': 'ALAMEDA', 'category': 'GENERAL', 'osfg': 31362, 'bldg_asf': 13518, 'levels': 4, 'year': '1958', 'owner': 'UC', 'mp_code': 'P', 'book_value': 3491181.0}, {'location': 'DAVIS', 'building': '9454', 'building_name': 'HERTZ', 'address': '7000 EAST 2A4V0E0 LAKE', 'city_name': 'LIVERMOR E', 'county': 'ALAMEDA', 'category': 'GENERAL', 'osfg': 10904, 'bldg_asf': 8183, 'levels': 1, 'year': '1976', 'owner': 'UC', 'mp_code': 'P', 'book_value': 0}]</td>\n",
       "        </tr>\n",
       "        <tr>\n",
       "            <td>SOUTH</td>\n",
       "            <td>[{'location': 'BERKELEY', 'building': '1484', 'building_name': 'SOUTH', 'address': 'CORE CAMPUS', 'city_name': 'BERKELEY', 'county': 'ALAMEDA', 'category': 'GENERAL', 'osfg': 30401, 'bldg_asf': 15473, 'levels': 4, 'year': '1873', 'owner': 'UC', 'mp_code': 'P', 'book_value': 1426174.0}, {'location': 'DAVIS', 'building': '3275', 'building_name': 'SOUTH', 'address': 'CORE CAMPUS', 'city_name': 'DAVIS (YOLO)', 'county': 'YOLO', 'category': 'GENERAL', 'osfg': 26594, 'bldg_asf': 15323, 'levels': 4, 'year': '1912', 'owner': 'UC', 'mp_code': 'P', 'book_value': 3585399.0}]</td>\n",
       "        </tr>\n",
       "        <tr>\n",
       "            <td>SPROUL</td>\n",
       "            <td>[{'location': 'BERKELEY', 'building': '1210', 'building_name': 'SPROUL', 'address': 'CORE 2C6A0M0PUS', 'city_name': 'BERKELEY', 'county': 'ALAMEDA', 'category': 'GENERAL', 'osfg': 111197, 'bldg_asf': 66680, 'levels': 6, 'year': '1941', 'owner': 'UC', 'mp_code': 'P', 'book_value': 4278819.0}, {'location': 'DAVIS', 'building': '3815', 'building_name': 'SPROUL', 'address': 'CORE CAMPUS', 'city_name': 'DAVIS (YOLO)', 'county': 'YOLO', 'category': 'GENERAL', 'osfg': 53874, 'bldg_asf': 27913, 'levels': 10, 'year': '1963', 'owner': 'UC', 'mp_code': 'P', 'book_value': 1620880.0}, {'location': 'RIVERSIDE', 'building': 'P5523', 'building_name': 'SPROUL', 'address': 'CORE CAMPUS', 'city_name': 'RIVERSIDE', 'county': 'RIVERSIDE', 'category': 'GENERAL', 'osfg': 80988, 'bldg_asf': 45532, 'levels': 5, 'year': '1965', 'owner': 'UC', 'mp_code': 'P', 'book_value': 1296147.0}]</td>\n",
       "        </tr>\n",
       "    </tbody>\n",
       "</table>"
      ],
      "text/plain": [
       "+--------------+---------------------------------------------------------------------------------------------------------------------------------------------------------------------------------------------------------------------------------------------------------------------------------------------------------------------------------------------------------------------------------------------------------------------------------------------------------------------------------------------------------------------------------------------------------------------------------------------------------------------------------------------------------------------------------------------------------------------------------------------------------------------------------------------------------------------------------------------------------------------------------------------------------------------------+\n",
       "|   building   |                                                                                                                                                                                                                                                                                                                                                                                                                                                          json_agg                                                                                                                                                                                                                                                                                                                                                                                                                                                         |\n",
       "+--------------+---------------------------------------------------------------------------------------------------------------------------------------------------------------------------------------------------------------------------------------------------------------------------------------------------------------------------------------------------------------------------------------------------------------------------------------------------------------------------------------------------------------------------------------------------------------------------------------------------------------------------------------------------------------------------------------------------------------------------------------------------------------------------------------------------------------------------------------------------------------------------------------------------------------------------+\n",
       "| ALUMNI HOUSE | [{'location': 'BERKELEY', 'building': '1215', 'building_name': 'ALUMNI HOUSE', 'address': 'CORE C22A2M0PUS', 'city_name': 'BERKELEY', 'county': 'ALAMEDA', 'category': 'GENERAL', 'osfg': 15590, 'bldg_asf': 8719, 'levels': 2, 'year': '1954', 'owner': 'UC', 'mp_code': 'P', 'book_value': 106819}, {'location': 'IRVINE', 'building': '9207', 'building_name': 'ALUMNI HOUSE', 'address': 'CORE CAMPUS', 'city_name': 'IRVINE', 'county': 'ORANGE', 'category': 'GENERAL', 'osfg': 4027, 'bldg_asf': 2549, 'levels': 1, 'year': '1984', 'owner': 'UC', 'mp_code': 'P', 'book_value': 41981}, {'location': 'FRANCISC SOAN', 'building': '2032', 'building_name': 'ALUMNI HOUSE', 'address': 'PARNASS US AVE', 'city_name': 'FRANCISC OSAN', 'county': 'FRANCISC OSAN', 'category': 'HEALTH SCIENCE', 'osfg': 7217, 'bldg_asf': 5079, 'levels': 3, 'year': '1915', 'owner': 'UP', 'mp_code': 'P', 'book_value': 135923}] |\n",
       "|   CAMPBELL   |                                                                                                                                                  [{'location': 'BERKELEY', 'building': '1027', 'building_name': 'CAMPBELL', 'address': 'CORE C28A5M0PUS', 'city_name': 'BERKELEY', 'county': 'ALAMEDA', 'category': 'GENERAL', 'osfg': 83373, 'bldg_asf': 50745, 'levels': 7, 'year': '2014', 'owner': 'UC', 'mp_code': 'P', 'book_value': 75256344.0}, {'location': 'LOS ANGELES', 'building': '4294', 'building_name': 'CAMPBELL', 'address': 'PORTOLA P11L8A1Z1A', 'city_name': 'LOS ANGELES', 'county': 'LOS ANGELES', 'category': 'GENERAL', 'osfg': 55401, 'bldg_asf': 32619, 'levels': 5, 'year': '1954', 'owner': 'UC', 'mp_code': 'P', 'book_value': 6247192.0}]                                                                                                                                                 |\n",
       "|    HERTZ     |                                                                                                                                                               [{'location': 'BERKELEY', 'building': '1423', 'building_name': 'HERTZ', 'address': 'CORE CAMPUS', 'city_name': 'BERKELEY', 'county': 'ALAMEDA', 'category': 'GENERAL', 'osfg': 31362, 'bldg_asf': 13518, 'levels': 4, 'year': '1958', 'owner': 'UC', 'mp_code': 'P', 'book_value': 3491181.0}, {'location': 'DAVIS', 'building': '9454', 'building_name': 'HERTZ', 'address': '7000 EAST 2A4V0E0 LAKE', 'city_name': 'LIVERMOR E', 'county': 'ALAMEDA', 'category': 'GENERAL', 'osfg': 10904, 'bldg_asf': 8183, 'levels': 1, 'year': '1976', 'owner': 'UC', 'mp_code': 'P', 'book_value': 0}]                                                                                                                                                               |\n",
       "|    SOUTH     |                                                                                                                                                                 [{'location': 'BERKELEY', 'building': '1484', 'building_name': 'SOUTH', 'address': 'CORE CAMPUS', 'city_name': 'BERKELEY', 'county': 'ALAMEDA', 'category': 'GENERAL', 'osfg': 30401, 'bldg_asf': 15473, 'levels': 4, 'year': '1873', 'owner': 'UC', 'mp_code': 'P', 'book_value': 1426174.0}, {'location': 'DAVIS', 'building': '3275', 'building_name': 'SOUTH', 'address': 'CORE CAMPUS', 'city_name': 'DAVIS (YOLO)', 'county': 'YOLO', 'category': 'GENERAL', 'osfg': 26594, 'bldg_asf': 15323, 'levels': 4, 'year': '1912', 'owner': 'UC', 'mp_code': 'P', 'book_value': 3585399.0}]                                                                                                                                                                |\n",
       "|    SPROUL    |           [{'location': 'BERKELEY', 'building': '1210', 'building_name': 'SPROUL', 'address': 'CORE 2C6A0M0PUS', 'city_name': 'BERKELEY', 'county': 'ALAMEDA', 'category': 'GENERAL', 'osfg': 111197, 'bldg_asf': 66680, 'levels': 6, 'year': '1941', 'owner': 'UC', 'mp_code': 'P', 'book_value': 4278819.0}, {'location': 'DAVIS', 'building': '3815', 'building_name': 'SPROUL', 'address': 'CORE CAMPUS', 'city_name': 'DAVIS (YOLO)', 'county': 'YOLO', 'category': 'GENERAL', 'osfg': 53874, 'bldg_asf': 27913, 'levels': 10, 'year': '1963', 'owner': 'UC', 'mp_code': 'P', 'book_value': 1620880.0}, {'location': 'RIVERSIDE', 'building': 'P5523', 'building_name': 'SPROUL', 'address': 'CORE CAMPUS', 'city_name': 'RIVERSIDE', 'county': 'RIVERSIDE', 'category': 'GENERAL', 'osfg': 80988, 'bldg_asf': 45532, 'levels': 5, 'year': '1965', 'owner': 'UC', 'mp_code': 'P', 'book_value': 1296147.0}]          |\n",
       "+--------------+---------------------------------------------------------------------------------------------------------------------------------------------------------------------------------------------------------------------------------------------------------------------------------------------------------------------------------------------------------------------------------------------------------------------------------------------------------------------------------------------------------------------------------------------------------------------------------------------------------------------------------------------------------------------------------------------------------------------------------------------------------------------------------------------------------------------------------------------------------------------------------------------------------------------------+"
      ]
     },
     "execution_count": 9,
     "metadata": {},
     "output_type": "execute_result"
    }
   ],
   "source": [
    "# Do not delete/edit this cell!\n",
    "# You must run this cell before running the autograder.\n",
    "query_1b = %sqlcmd snippets query_1b\n",
    "grading_util.save_results(\"result_1b\", query_1b, result_1b)\n",
    "result_1b"
   ]
  },
  {
   "cell_type": "code",
   "execution_count": 10,
   "metadata": {
    "deletable": false,
    "editable": false
   },
   "outputs": [
    {
     "data": {
      "text/html": [
       "<p><strong><pre style='display: inline;'>q1b</pre></strong> passed! ✨</p>"
      ],
      "text/plain": [
       "q1b results: All test cases passed!"
      ]
     },
     "execution_count": 10,
     "metadata": {},
     "output_type": "execute_result"
    }
   ],
   "source": [
    "grader.check(\"q1b\")"
   ]
  },
  {
   "cell_type": "markdown",
   "metadata": {},
   "source": [
    "<br><br>\n",
    "\n",
    "---\n",
    "### Question 1c\n",
    "\n",
    "Now find examples of many matches in the opposite direction. For each distinct `real_estate_metadata.building_name` value, find the ones that have multiple matches in `buildings_site_mapping.building`, and for each return a `json_agg` of the multiple values for `buildings_site_mapping`. Your output should contain the building name and the `json_agg` in that order. **Order your final result by building name ascending.**\n",
    "\n",
    "**Hint:** You should use a CTE to find the distinct building names of `real_estate_metadata` before applying necessary table joins."
   ]
  },
  {
   "cell_type": "code",
   "execution_count": 14,
   "metadata": {
    "scrolled": true,
    "tags": []
   },
   "outputs": [
    {
     "data": {
      "text/html": [
       "<span style=\"None\">Running query in &#x27;postgresql://jovyan@127.0.0.1:5432/ucb_buildings&#x27;</span>"
      ],
      "text/plain": [
       "Running query in 'postgresql://jovyan@127.0.0.1:5432/ucb_buildings'"
      ]
     },
     "metadata": {},
     "output_type": "display_data"
    },
    {
     "data": {
      "text/html": [
       "<span style=\"color: green\">4 rows affected.</span>"
      ],
      "text/plain": [
       "4 rows affected."
      ]
     },
     "metadata": {},
     "output_type": "display_data"
    }
   ],
   "source": [
    "%%sql --save query_1c result_1c <<\n",
    "WITH DistinctBuildingNames AS (\n",
    "    SELECT DISTINCT building_name\n",
    "    FROM real_estate_metadata\n",
    ")\n",
    "\n",
    "SELECT rem.building_name, json_agg(bsm)\n",
    "FROM DistinctBuildingNames rem\n",
    "JOIN buildings_site_mapping bsm ON rem.building_name = bsm.building\n",
    "GROUP BY rem.building_name\n",
    "HAVING COUNT(bsm.*) > 1\n",
    "ORDER BY rem.building_name ASC;"
   ]
  },
  {
   "cell_type": "code",
   "execution_count": 15,
   "metadata": {
    "tags": []
   },
   "outputs": [
    {
     "data": {
      "text/html": [
       "<table>\n",
       "    <thead>\n",
       "        <tr>\n",
       "            <th>building_name</th>\n",
       "            <th>json_agg</th>\n",
       "        </tr>\n",
       "    </thead>\n",
       "    <tbody>\n",
       "        <tr>\n",
       "            <td>EDWARDS FLD</td>\n",
       "            <td>[{'site': 'Edwards Stadium West', 'building': 'EDWARDS FLD'}, {'site': 'Edwards Stadium East', 'building': 'EDWARDS FLD'}]</td>\n",
       "        </tr>\n",
       "        <tr>\n",
       "            <td>FAC CLUB</td>\n",
       "            <td>[{'site': 'Womens Faculty Club', 'building': 'FAC CLUB'}, {'site': \"Men's Faculty Club\", 'building': 'FAC CLUB'}]</td>\n",
       "        </tr>\n",
       "        <tr>\n",
       "            <td>HAAS STU BLD</td>\n",
       "            <td>[{'site': 'Haas School of Business', 'building': 'HAAS STU BLD'}, {'site': 'Haas School Student Services (Water)', 'building': 'HAAS STU BLD'}]</td>\n",
       "        </tr>\n",
       "        <tr>\n",
       "            <td>SIMON</td>\n",
       "            <td>[{'site': 'Boalt and Simon Hall', 'building': 'SIMON'}, {'site': 'Simpson Center', 'building': 'SIMON'}]</td>\n",
       "        </tr>\n",
       "    </tbody>\n",
       "</table>"
      ],
      "text/plain": [
       "+---------------+-------------------------------------------------------------------------------------------------------------------------------------------------+\n",
       "| building_name |                                                                     json_agg                                                                    |\n",
       "+---------------+-------------------------------------------------------------------------------------------------------------------------------------------------+\n",
       "|  EDWARDS FLD  |            [{'site': 'Edwards Stadium West', 'building': 'EDWARDS FLD'}, {'site': 'Edwards Stadium East', 'building': 'EDWARDS FLD'}]           |\n",
       "|    FAC CLUB   |                [{'site': 'Womens Faculty Club', 'building': 'FAC CLUB'}, {'site': \"Men's Faculty Club\", 'building': 'FAC CLUB'}]                |\n",
       "|  HAAS STU BLD | [{'site': 'Haas School of Business', 'building': 'HAAS STU BLD'}, {'site': 'Haas School Student Services (Water)', 'building': 'HAAS STU BLD'}] |\n",
       "|     SIMON     |                     [{'site': 'Boalt and Simon Hall', 'building': 'SIMON'}, {'site': 'Simpson Center', 'building': 'SIMON'}]                    |\n",
       "+---------------+-------------------------------------------------------------------------------------------------------------------------------------------------+"
      ]
     },
     "execution_count": 15,
     "metadata": {},
     "output_type": "execute_result"
    }
   ],
   "source": [
    "# Do not delete/edit this cell!\n",
    "# You must run this cell before running the autograder.\n",
    "query_1c = %sqlcmd snippets query_1c\n",
    "grading_util.save_results(\"result_1c\", query_1c, result_1c)\n",
    "result_1c"
   ]
  },
  {
   "cell_type": "code",
   "execution_count": 16,
   "metadata": {
    "deletable": false,
    "editable": false
   },
   "outputs": [
    {
     "data": {
      "text/html": [
       "<p><strong><pre style='display: inline;'>q1c</pre></strong> passed! ✨</p>"
      ],
      "text/plain": [
       "q1c results: All test cases passed!"
      ]
     },
     "execution_count": 16,
     "metadata": {},
     "output_type": "execute_result"
    }
   ],
   "source": [
    "grader.check(\"q1c\")"
   ]
  },
  {
   "cell_type": "markdown",
   "metadata": {
    "deletable": false,
    "editable": false
   },
   "source": [
    "<!-- BEGIN QUESTION -->\n",
    "\n",
    "<br><br>\n",
    "\n",
    "---\n",
    "### Question 1d\n",
    "\n",
    "Do you see any issues with the schema given? In particular, please address the two questions below:\n",
    "- Can you uniquely determine the building given the sensor data? Why? (**Hint:** given a row in the `data` table, can you determine a **uniquely** associated row in `real_estate_metadata` table? Your answer should draw insights from 1b.)\n",
    "- Could `buildings_site_mapping.building` be a valid foreign key pointing to `real_estate_metadata.building_name`? (**Hint:** think about the definition / constraints of a foreign key.)\n",
    "\n",
    "Please keep your response to **at most three sentences.**\n"
   ]
  },
  {
   "cell_type": "markdown",
   "metadata": {},
   "source": [
    "No, you cannot uniquely determine the building given the sensor data because the many-to-many relationship identified in question 1b implies that multiple entries in the real_estate_metadata table can correspond to a single building in the buildings_site_mapping table, preventing a unique association.\n",
    "\n",
    "No, buildings_site_mapping.building cannot be a valid foreign key pointing to real_estate_metadata.building_name because, as seen from the exercises, one building_name can correspond to multiple buildings, violating the foreign key constraint that requires each value in the referenced column (here, building_name) to be unique."
   ]
  },
  {
   "cell_type": "markdown",
   "metadata": {
    "deletable": false,
    "editable": false
   },
   "source": [
    "%sql SELECT COLUMN_NAME FROM INFORMATION_SCHEMA.COLUMNS WHERE TABLE_NAME = 'data';\n",
    "<!-- END QUESTION -->\n",
    "\n",
    "<br/><br/><br/>\n",
    "\n",
    "<hr style=\"border: 5px solid #003262;\" />\n",
    "<hr style=\"border: 1px solid #fdb515;\" />\n",
    "\n",
    "## Question 2: Looking for Outliers in the Readings\n",
    "Physical sensors, such as the ones responsible for generating this data, are notorious for occasionally producing crazy outliers. In this section, we will undergo some data cleaning to address these outliers.\n",
    "\n",
    "The readings from all different types of sensors are mixed together within this `data` table. This assortment of mixed readings will require some extra work to identify the outliers. Let's get started.\n",
    "\n",
    "### Question 2a: Outlier Detection\n",
    "\n",
    "Let's start with finding the outlying values *for each sensor id*. We'll define an outlier as an observation that is more than **3 Hampel X84 intervals** away from the median. See [lecture 14](https://docs.google.com/presentation/d/1vG53ZkZfwWm2Bz2QFCHcyB5ySuUod5ESYgRKz0qXqjk/edit?usp=sharing) for more.\n",
    "\n",
    "Create a view `labeled_data` that contains all of the columns in `data` and adds three additional columns on the far right ***for each sensor id***:\n",
    "  - `median` containing the median using `percentile_disc`\n",
    "  - `mad` containing the Median Absolute Deviation (MAD),\n",
    "  - `outlier` that contains `true` for the outlier readings and `false` for the rest. **Also,** for data points where the `mad` is 0, set this to `false`.\n",
    "\n",
    "**Hint:** You should use CTEs to first compute the median and MAD values. Feel free to create as many CTEs as you need to complete the objective. Our staff solution used 3."
   ]
  },
  {
   "cell_type": "code",
   "execution_count": 52,
   "metadata": {
    "tags": []
   },
   "outputs": [
    {
     "data": {
      "text/html": [
       "<span style=\"None\">Running query in &#x27;postgresql://jovyan@127.0.0.1:5432/ucb_buildings&#x27;</span>"
      ],
      "text/plain": [
       "Running query in 'postgresql://jovyan@127.0.0.1:5432/ucb_buildings'"
      ]
     },
     "metadata": {},
     "output_type": "display_data"
    },
    {
     "data": {
      "text/html": [
       "<span style=\"color: green\">100 rows affected.</span>"
      ],
      "text/plain": [
       "100 rows affected."
      ]
     },
     "metadata": {},
     "output_type": "display_data"
    }
   ],
   "source": [
    "%%sql --save query_2a result_2a <<\n",
    "CREATE OR REPLACE VIEW labeled_data AS\n",
    "WITH median_cte AS (\n",
    "    SELECT id, PERCENTILE_DISC(0.5) WITHIN GROUP (ORDER BY value) AS median \n",
    "    FROM data \n",
    "    GROUP BY id\n",
    "),\n",
    "mad_cte AS (\n",
    "    SELECT m.id, m.median, PERCENTILE_DISC(0.5) WITHIN GROUP (ORDER BY ABS(d.value - m.median)) AS mad \n",
    "    FROM data d JOIN median_cte m ON d.id = m.id \n",
    "GROUP BY m.id, m.median\n",
    "),\n",
    "outliers_cte AS (\n",
    "    SELECT d.id, d.time, d.value, m.median, m.mad,\n",
    "CASE\n",
    "    WHEN m.mad = 0 THEN False\n",
    "    WHEN ABS(d.value - m.median) > (3 * 1.4826 * m.mad) THEN True\n",
    "    ELSE False\n",
    "END AS outlier\n",
    "FROM data d JOIN mad_cte m ON d.id = m.id)\n",
    "SELECT d.*, o.median, o.mad, o.outlier FROM data d JOIN outliers_cte o ON d.id = o.id AND d.time = o.time;\n",
    "SELECT * FROM labeled_data WHERE outlier ORDER BY id, time LIMIT 100;"
   ]
  },
  {
   "cell_type": "code",
   "execution_count": 53,
   "metadata": {
    "tags": []
   },
   "outputs": [
    {
     "data": {
      "text/html": [
       "<table>\n",
       "    <thead>\n",
       "        <tr>\n",
       "            <th>time</th>\n",
       "            <th>id</th>\n",
       "            <th>value</th>\n",
       "            <th>median</th>\n",
       "            <th>mad</th>\n",
       "            <th>outlier</th>\n",
       "        </tr>\n",
       "    </thead>\n",
       "    <tbody>\n",
       "        <tr>\n",
       "            <td>2018-06-09 08:45:00+00:00</td>\n",
       "            <td>a47e9bd4-ab61-56d5-9e0e-2dce29a46dd3</td>\n",
       "            <td>98.7</td>\n",
       "            <td>37.2</td>\n",
       "            <td>12.5</td>\n",
       "            <td>True</td>\n",
       "        </tr>\n",
       "        <tr>\n",
       "            <td>2018-06-07 00:00:00+00:00</td>\n",
       "            <td>a481d4a8-44f6-5f63-b469-85571a018c6f</td>\n",
       "            <td>812.6</td>\n",
       "            <td>727.5</td>\n",
       "            <td>16.200000000000045</td>\n",
       "            <td>True</td>\n",
       "        </tr>\n",
       "        <tr>\n",
       "            <td>2018-06-07 18:00:00+00:00</td>\n",
       "            <td>a481d4a8-44f6-5f63-b469-85571a018c6f</td>\n",
       "            <td>807.3</td>\n",
       "            <td>727.5</td>\n",
       "            <td>16.200000000000045</td>\n",
       "            <td>True</td>\n",
       "        </tr>\n",
       "        <tr>\n",
       "            <td>2018-06-07 18:15:00+00:00</td>\n",
       "            <td>a481d4a8-44f6-5f63-b469-85571a018c6f</td>\n",
       "            <td>800.0</td>\n",
       "            <td>727.5</td>\n",
       "            <td>16.200000000000045</td>\n",
       "            <td>True</td>\n",
       "        </tr>\n",
       "        <tr>\n",
       "            <td>2018-06-07 18:30:00+00:00</td>\n",
       "            <td>a481d4a8-44f6-5f63-b469-85571a018c6f</td>\n",
       "            <td>819.5</td>\n",
       "            <td>727.5</td>\n",
       "            <td>16.200000000000045</td>\n",
       "            <td>True</td>\n",
       "        </tr>\n",
       "        <tr>\n",
       "            <td>2018-06-07 18:45:00+00:00</td>\n",
       "            <td>a481d4a8-44f6-5f63-b469-85571a018c6f</td>\n",
       "            <td>808.7</td>\n",
       "            <td>727.5</td>\n",
       "            <td>16.200000000000045</td>\n",
       "            <td>True</td>\n",
       "        </tr>\n",
       "        <tr>\n",
       "            <td>2018-06-07 19:15:00+00:00</td>\n",
       "            <td>a481d4a8-44f6-5f63-b469-85571a018c6f</td>\n",
       "            <td>811.1</td>\n",
       "            <td>727.5</td>\n",
       "            <td>16.200000000000045</td>\n",
       "            <td>True</td>\n",
       "        </tr>\n",
       "        <tr>\n",
       "            <td>2018-06-07 19:30:00+00:00</td>\n",
       "            <td>a481d4a8-44f6-5f63-b469-85571a018c6f</td>\n",
       "            <td>804.2</td>\n",
       "            <td>727.5</td>\n",
       "            <td>16.200000000000045</td>\n",
       "            <td>True</td>\n",
       "        </tr>\n",
       "        <tr>\n",
       "            <td>2018-06-07 19:45:00+00:00</td>\n",
       "            <td>a481d4a8-44f6-5f63-b469-85571a018c6f</td>\n",
       "            <td>810.9</td>\n",
       "            <td>727.5</td>\n",
       "            <td>16.200000000000045</td>\n",
       "            <td>True</td>\n",
       "        </tr>\n",
       "        <tr>\n",
       "            <td>2018-06-07 20:00:00+00:00</td>\n",
       "            <td>a481d4a8-44f6-5f63-b469-85571a018c6f</td>\n",
       "            <td>801.7</td>\n",
       "            <td>727.5</td>\n",
       "            <td>16.200000000000045</td>\n",
       "            <td>True</td>\n",
       "        </tr>\n",
       "    </tbody>\n",
       "</table>"
      ],
      "text/plain": [
       "+---------------------------+--------------------------------------+-------+--------+--------------------+---------+\n",
       "|            time           |                  id                  | value | median |        mad         | outlier |\n",
       "+---------------------------+--------------------------------------+-------+--------+--------------------+---------+\n",
       "| 2018-06-09 08:45:00+00:00 | a47e9bd4-ab61-56d5-9e0e-2dce29a46dd3 |  98.7 |  37.2  |        12.5        |   True  |\n",
       "| 2018-06-07 00:00:00+00:00 | a481d4a8-44f6-5f63-b469-85571a018c6f | 812.6 | 727.5  | 16.200000000000045 |   True  |\n",
       "| 2018-06-07 18:00:00+00:00 | a481d4a8-44f6-5f63-b469-85571a018c6f | 807.3 | 727.5  | 16.200000000000045 |   True  |\n",
       "| 2018-06-07 18:15:00+00:00 | a481d4a8-44f6-5f63-b469-85571a018c6f | 800.0 | 727.5  | 16.200000000000045 |   True  |\n",
       "| 2018-06-07 18:30:00+00:00 | a481d4a8-44f6-5f63-b469-85571a018c6f | 819.5 | 727.5  | 16.200000000000045 |   True  |\n",
       "| 2018-06-07 18:45:00+00:00 | a481d4a8-44f6-5f63-b469-85571a018c6f | 808.7 | 727.5  | 16.200000000000045 |   True  |\n",
       "| 2018-06-07 19:15:00+00:00 | a481d4a8-44f6-5f63-b469-85571a018c6f | 811.1 | 727.5  | 16.200000000000045 |   True  |\n",
       "| 2018-06-07 19:30:00+00:00 | a481d4a8-44f6-5f63-b469-85571a018c6f | 804.2 | 727.5  | 16.200000000000045 |   True  |\n",
       "| 2018-06-07 19:45:00+00:00 | a481d4a8-44f6-5f63-b469-85571a018c6f | 810.9 | 727.5  | 16.200000000000045 |   True  |\n",
       "| 2018-06-07 20:00:00+00:00 | a481d4a8-44f6-5f63-b469-85571a018c6f | 801.7 | 727.5  | 16.200000000000045 |   True  |\n",
       "+---------------------------+--------------------------------------+-------+--------+--------------------+---------+"
      ]
     },
     "execution_count": 53,
     "metadata": {},
     "output_type": "execute_result"
    }
   ],
   "source": [
    "# Do not delete/edit this cell!\n",
    "# You must run this cell before running the autograder.\n",
    "query_2a = %sqlcmd snippets query_2a\n",
    "grading_util.save_results(\"result_2a\", query_2a, result_2a)\n",
    "result_2a"
   ]
  },
  {
   "cell_type": "code",
   "execution_count": 54,
   "metadata": {
    "deletable": false,
    "editable": false
   },
   "outputs": [
    {
     "data": {
      "text/html": [
       "<p><strong><pre style='display: inline;'>q2a</pre></strong> passed! 🙌</p>"
      ],
      "text/plain": [
       "q2a results: All test cases passed!"
      ]
     },
     "execution_count": 54,
     "metadata": {},
     "output_type": "execute_result"
    }
   ],
   "source": [
    "grader.check(\"q2a\")"
   ]
  },
  {
   "cell_type": "markdown",
   "metadata": {},
   "source": [
    "<br><br>\n",
    "\n",
    "---\n",
    "\n",
    "### Question 2b: Outlier Handling (Winsorization)\n",
    "\n",
    "In this step, define a view `cleaned_data` containing all the columns of `labeled_data` and one additional column on the far right called `clean_value`. This column will contain a copy of `labeled_data.value` if that value is not an outlier. For outliers, it should contain the value Winsorized to the nearest outlier boundary value (3 Hampel X84 intervals from the median). If the MAD is 0, then the cleaned value should be unchanged (i.e., the same as the original value).\n",
    "\n",
    "To reiterate, we consider a value to be an outlier if it is more than (strictly greater than or strictly less than) 3 Hampel X84 intervals from the median. "
   ]
  },
  {
   "cell_type": "code",
   "execution_count": 55,
   "metadata": {
    "tags": []
   },
   "outputs": [
    {
     "data": {
      "text/html": [
       "<span style=\"None\">Running query in &#x27;postgresql://jovyan@127.0.0.1:5432/ucb_buildings&#x27;</span>"
      ],
      "text/plain": [
       "Running query in 'postgresql://jovyan@127.0.0.1:5432/ucb_buildings'"
      ]
     },
     "metadata": {},
     "output_type": "display_data"
    },
    {
     "data": {
      "text/html": [
       "<span style=\"color: green\">100 rows affected.</span>"
      ],
      "text/plain": [
       "100 rows affected."
      ]
     },
     "metadata": {},
     "output_type": "display_data"
    }
   ],
   "source": [
    "%%sql --save query_2b result_2b <<\n",
    "CREATE OR REPLACE VIEW cleaned_data AS\n",
    "SELECT *, \n",
    "    CASE WHEN mad = 0.00 THEN value\n",
    "    WHEN value < median AND outlier = true THEN median-3*1.4826*mad\n",
    "    WHEN value > median AND outlier = true THEN median+3*1.4826*mad\n",
    "    ELSE value\n",
    "    END as clean_value\n",
    "FROM labeled_data;\n",
    "SELECT * FROM cleaned_data WHERE outlier ORDER BY id, time LIMIT 100;"
   ]
  },
  {
   "cell_type": "code",
   "execution_count": 56,
   "metadata": {
    "tags": []
   },
   "outputs": [
    {
     "data": {
      "text/html": [
       "<table>\n",
       "    <thead>\n",
       "        <tr>\n",
       "            <th>time</th>\n",
       "            <th>id</th>\n",
       "            <th>value</th>\n",
       "            <th>median</th>\n",
       "            <th>mad</th>\n",
       "            <th>outlier</th>\n",
       "            <th>clean_value</th>\n",
       "        </tr>\n",
       "    </thead>\n",
       "    <tbody>\n",
       "        <tr>\n",
       "            <td>2018-06-09 08:45:00+00:00</td>\n",
       "            <td>a47e9bd4-ab61-56d5-9e0e-2dce29a46dd3</td>\n",
       "            <td>98.7</td>\n",
       "            <td>37.2</td>\n",
       "            <td>12.5</td>\n",
       "            <td>True</td>\n",
       "            <td>92.7975</td>\n",
       "        </tr>\n",
       "        <tr>\n",
       "            <td>2018-06-07 00:00:00+00:00</td>\n",
       "            <td>a481d4a8-44f6-5f63-b469-85571a018c6f</td>\n",
       "            <td>812.6</td>\n",
       "            <td>727.5</td>\n",
       "            <td>16.200000000000045</td>\n",
       "            <td>True</td>\n",
       "            <td>799.5543600000002</td>\n",
       "        </tr>\n",
       "        <tr>\n",
       "            <td>2018-06-07 18:00:00+00:00</td>\n",
       "            <td>a481d4a8-44f6-5f63-b469-85571a018c6f</td>\n",
       "            <td>807.3</td>\n",
       "            <td>727.5</td>\n",
       "            <td>16.200000000000045</td>\n",
       "            <td>True</td>\n",
       "            <td>799.5543600000002</td>\n",
       "        </tr>\n",
       "        <tr>\n",
       "            <td>2018-06-07 18:15:00+00:00</td>\n",
       "            <td>a481d4a8-44f6-5f63-b469-85571a018c6f</td>\n",
       "            <td>800.0</td>\n",
       "            <td>727.5</td>\n",
       "            <td>16.200000000000045</td>\n",
       "            <td>True</td>\n",
       "            <td>799.5543600000002</td>\n",
       "        </tr>\n",
       "        <tr>\n",
       "            <td>2018-06-07 18:30:00+00:00</td>\n",
       "            <td>a481d4a8-44f6-5f63-b469-85571a018c6f</td>\n",
       "            <td>819.5</td>\n",
       "            <td>727.5</td>\n",
       "            <td>16.200000000000045</td>\n",
       "            <td>True</td>\n",
       "            <td>799.5543600000002</td>\n",
       "        </tr>\n",
       "        <tr>\n",
       "            <td>2018-06-07 18:45:00+00:00</td>\n",
       "            <td>a481d4a8-44f6-5f63-b469-85571a018c6f</td>\n",
       "            <td>808.7</td>\n",
       "            <td>727.5</td>\n",
       "            <td>16.200000000000045</td>\n",
       "            <td>True</td>\n",
       "            <td>799.5543600000002</td>\n",
       "        </tr>\n",
       "        <tr>\n",
       "            <td>2018-06-07 19:15:00+00:00</td>\n",
       "            <td>a481d4a8-44f6-5f63-b469-85571a018c6f</td>\n",
       "            <td>811.1</td>\n",
       "            <td>727.5</td>\n",
       "            <td>16.200000000000045</td>\n",
       "            <td>True</td>\n",
       "            <td>799.5543600000002</td>\n",
       "        </tr>\n",
       "        <tr>\n",
       "            <td>2018-06-07 19:30:00+00:00</td>\n",
       "            <td>a481d4a8-44f6-5f63-b469-85571a018c6f</td>\n",
       "            <td>804.2</td>\n",
       "            <td>727.5</td>\n",
       "            <td>16.200000000000045</td>\n",
       "            <td>True</td>\n",
       "            <td>799.5543600000002</td>\n",
       "        </tr>\n",
       "        <tr>\n",
       "            <td>2018-06-07 19:45:00+00:00</td>\n",
       "            <td>a481d4a8-44f6-5f63-b469-85571a018c6f</td>\n",
       "            <td>810.9</td>\n",
       "            <td>727.5</td>\n",
       "            <td>16.200000000000045</td>\n",
       "            <td>True</td>\n",
       "            <td>799.5543600000002</td>\n",
       "        </tr>\n",
       "        <tr>\n",
       "            <td>2018-06-07 20:00:00+00:00</td>\n",
       "            <td>a481d4a8-44f6-5f63-b469-85571a018c6f</td>\n",
       "            <td>801.7</td>\n",
       "            <td>727.5</td>\n",
       "            <td>16.200000000000045</td>\n",
       "            <td>True</td>\n",
       "            <td>799.5543600000002</td>\n",
       "        </tr>\n",
       "    </tbody>\n",
       "</table>"
      ],
      "text/plain": [
       "+---------------------------+--------------------------------------+-------+--------+--------------------+---------+-------------------+\n",
       "|            time           |                  id                  | value | median |        mad         | outlier |    clean_value    |\n",
       "+---------------------------+--------------------------------------+-------+--------+--------------------+---------+-------------------+\n",
       "| 2018-06-09 08:45:00+00:00 | a47e9bd4-ab61-56d5-9e0e-2dce29a46dd3 |  98.7 |  37.2  |        12.5        |   True  |      92.7975      |\n",
       "| 2018-06-07 00:00:00+00:00 | a481d4a8-44f6-5f63-b469-85571a018c6f | 812.6 | 727.5  | 16.200000000000045 |   True  | 799.5543600000002 |\n",
       "| 2018-06-07 18:00:00+00:00 | a481d4a8-44f6-5f63-b469-85571a018c6f | 807.3 | 727.5  | 16.200000000000045 |   True  | 799.5543600000002 |\n",
       "| 2018-06-07 18:15:00+00:00 | a481d4a8-44f6-5f63-b469-85571a018c6f | 800.0 | 727.5  | 16.200000000000045 |   True  | 799.5543600000002 |\n",
       "| 2018-06-07 18:30:00+00:00 | a481d4a8-44f6-5f63-b469-85571a018c6f | 819.5 | 727.5  | 16.200000000000045 |   True  | 799.5543600000002 |\n",
       "| 2018-06-07 18:45:00+00:00 | a481d4a8-44f6-5f63-b469-85571a018c6f | 808.7 | 727.5  | 16.200000000000045 |   True  | 799.5543600000002 |\n",
       "| 2018-06-07 19:15:00+00:00 | a481d4a8-44f6-5f63-b469-85571a018c6f | 811.1 | 727.5  | 16.200000000000045 |   True  | 799.5543600000002 |\n",
       "| 2018-06-07 19:30:00+00:00 | a481d4a8-44f6-5f63-b469-85571a018c6f | 804.2 | 727.5  | 16.200000000000045 |   True  | 799.5543600000002 |\n",
       "| 2018-06-07 19:45:00+00:00 | a481d4a8-44f6-5f63-b469-85571a018c6f | 810.9 | 727.5  | 16.200000000000045 |   True  | 799.5543600000002 |\n",
       "| 2018-06-07 20:00:00+00:00 | a481d4a8-44f6-5f63-b469-85571a018c6f | 801.7 | 727.5  | 16.200000000000045 |   True  | 799.5543600000002 |\n",
       "+---------------------------+--------------------------------------+-------+--------+--------------------+---------+-------------------+"
      ]
     },
     "execution_count": 56,
     "metadata": {},
     "output_type": "execute_result"
    }
   ],
   "source": [
    "# Do not delete/edit this cell!\n",
    "# You must run this cell before running the autograder.\n",
    "query_2b = %sqlcmd snippets query_2b\n",
    "grading_util.save_results(\"result_2b\", query_2b, result_2b)\n",
    "result_2b"
   ]
  },
  {
   "cell_type": "code",
   "execution_count": 57,
   "metadata": {
    "deletable": false,
    "editable": false
   },
   "outputs": [
    {
     "data": {
      "text/html": [
       "<p><strong><pre style='display: inline;'>q2b</pre></strong> passed! 🙌</p>"
      ],
      "text/plain": [
       "q2b results: All test cases passed!"
      ]
     },
     "execution_count": 57,
     "metadata": {},
     "output_type": "execute_result"
    }
   ],
   "source": [
    "grader.check(\"q2b\")"
   ]
  },
  {
   "cell_type": "markdown",
   "metadata": {
    "deletable": false,
    "editable": false
   },
   "source": [
    "<!-- BEGIN QUESTION -->\n",
    "\n",
    "<br/><br/><br/>\n",
    "\n",
    "<hr style=\"border: 5px solid #003262;\" />\n",
    "<hr style=\"border: 1px solid #fdb515;\" />\n",
    "\n",
    "## Question 3: Entity Resolution\n",
    "\n",
    "### Question 3a\n",
    "There is a lot of mess in this dataset related to entity names. As a start, have a look at all of the distinct values in the `units` field of the `metadata` table. What do you notice about these values? Are there any duplicates? **Limit your response to one sentence.**\n"
   ]
  },
  {
   "cell_type": "markdown",
   "metadata": {},
   "source": [
    "\n",
    "The dataset contains numerous duplicates in the units field due to inconsistent capitalization and abbreviation, such as \"Lbs\" versus \"lbs,\" \"KWH\" versus \"kWh,\" and varied representations like \"V\" and \"Volts,\" alongside ambiguous terms like \"subinterval\" and \"test.\""
   ]
  },
  {
   "cell_type": "markdown",
   "metadata": {
    "deletable": false,
    "editable": false
   },
   "source": [
    "<!-- END QUESTION -->\n",
    "\n",
    "<br><br>\n",
    "\n",
    "---\n",
    "\n",
    "### Question 3b\n",
    "\n",
    "Sometimes entity resolution is as simple as a text transformation. For example, how many unique `units` values are there, and how many would there be if we ignored case (upper vs. lower case)? Your output should be a table with one row and two columns; the first column should contain the number of unique `units` values, and the second column should contain the number of unique `units` values if we ignored case. The two columns can have arbitrary names—we will not be checking column names.\n"
   ]
  },
  {
   "cell_type": "code",
   "execution_count": 59,
   "metadata": {
    "tags": []
   },
   "outputs": [
    {
     "data": {
      "text/html": [
       "<span style=\"None\">Running query in &#x27;postgresql://jovyan@127.0.0.1:5432/ucb_buildings&#x27;</span>"
      ],
      "text/plain": [
       "Running query in 'postgresql://jovyan@127.0.0.1:5432/ucb_buildings'"
      ]
     },
     "metadata": {},
     "output_type": "display_data"
    },
    {
     "data": {
      "text/html": [
       "<span style=\"color: green\">1 rows affected.</span>"
      ],
      "text/plain": [
       "1 rows affected."
      ]
     },
     "metadata": {},
     "output_type": "display_data"
    }
   ],
   "source": [
    "%%sql --save query_3b result_3b <<\n",
    "SELECT \n",
    "    COUNT(DISTINCT metadata.units) AS case_sensitive_count,\n",
    "    COUNT(DISTINCT LOWER(metadata.units)) AS case_insensitive_count\n",
    "FROM metadata;"
   ]
  },
  {
   "cell_type": "code",
   "execution_count": 60,
   "metadata": {
    "tags": []
   },
   "outputs": [
    {
     "data": {
      "text/html": [
       "<table>\n",
       "    <thead>\n",
       "        <tr>\n",
       "            <th>case_sensitive_count</th>\n",
       "            <th>case_insensitive_count</th>\n",
       "        </tr>\n",
       "    </thead>\n",
       "    <tbody>\n",
       "        <tr>\n",
       "            <td>34</td>\n",
       "            <td>29</td>\n",
       "        </tr>\n",
       "    </tbody>\n",
       "</table>"
      ],
      "text/plain": [
       "+----------------------+------------------------+\n",
       "| case_sensitive_count | case_insensitive_count |\n",
       "+----------------------+------------------------+\n",
       "|          34          |           29           |\n",
       "+----------------------+------------------------+"
      ]
     },
     "execution_count": 60,
     "metadata": {},
     "output_type": "execute_result"
    }
   ],
   "source": [
    "# Do not delete/edit this cell!\n",
    "# You must run this cell before running the autograder.\n",
    "query_3b = %sqlcmd snippets query_3b\n",
    "grading_util.save_results(\"result_3b\", query_3b, result_3b)\n",
    "result_3b"
   ]
  },
  {
   "cell_type": "code",
   "execution_count": 61,
   "metadata": {
    "deletable": false,
    "editable": false
   },
   "outputs": [
    {
     "data": {
      "text/html": [
       "<p><strong><pre style='display: inline;'>q3b</pre></strong> passed! 🍀</p>"
      ],
      "text/plain": [
       "q3b results: All test cases passed!"
      ]
     },
     "execution_count": 61,
     "metadata": {},
     "output_type": "execute_result"
    }
   ],
   "source": [
    "grader.check(\"q3b\")"
   ]
  },
  {
   "cell_type": "markdown",
   "metadata": {},
   "source": [
    "<br><br>\n",
    "\n",
    "---\n",
    "\n",
    "### Question 3c\n",
    "\n",
    "Arguably, we shouldn't care about these alternative unit labels, *as long as each sensor **class** uses a single value of `units` for all its sensor ids*. After all, maybe the capitalization means something to somebody!\n",
    "\n",
    "Write a SQL query that returns a **single row with one column** of value `true` if the condition (in italics above) holds, or a single row with one column of value `false` otherwise. This column can have an arbitrary name—we will not be checking its name. Please do not hard code this query—we reserve the right to penalize your score if you do so.\n",
    "\n",
    "**Hint:** You may find `ALL` to be useful here.\n",
    "\n"
   ]
  },
  {
   "cell_type": "code",
   "execution_count": 65,
   "metadata": {
    "tags": []
   },
   "outputs": [
    {
     "data": {
      "text/html": [
       "<span style=\"None\">Running query in &#x27;postgresql://jovyan@127.0.0.1:5432/ucb_buildings&#x27;</span>"
      ],
      "text/plain": [
       "Running query in 'postgresql://jovyan@127.0.0.1:5432/ucb_buildings'"
      ]
     },
     "metadata": {},
     "output_type": "display_data"
    },
    {
     "data": {
      "text/html": [
       "<span style=\"color: green\">1 rows affected.</span>"
      ],
      "text/plain": [
       "1 rows affected."
      ]
     },
     "metadata": {},
     "output_type": "display_data"
    }
   ],
   "source": [
    "%%sql --save query_3c result_3c <<\n",
    "WITH splitting as (\n",
    "    SELECT \n",
    "        split_part(class, '(', 1) as sensor_class, \n",
    "        substring(class from '\\((.*)\\)') as unit\n",
    "    FROM metadata\n",
    "),\n",
    "finalizing as (\n",
    "    SELECT sensor_class, \n",
    "        COUNT(DISTINCT unit) > 1 as has_multiple_units\n",
    "    FROM splitting\n",
    "    GROUP BY sensor_class\n",
    ")\n",
    "SELECT \n",
    "    NOT bool_or(has_multiple_units) as single_unit_per_class\n",
    "FROM finalizing;"
   ]
  },
  {
   "cell_type": "code",
   "execution_count": 66,
   "metadata": {
    "tags": []
   },
   "outputs": [
    {
     "data": {
      "text/html": [
       "<table>\n",
       "    <thead>\n",
       "        <tr>\n",
       "            <th>single_unit_per_class</th>\n",
       "        </tr>\n",
       "    </thead>\n",
       "    <tbody>\n",
       "        <tr>\n",
       "            <td>False</td>\n",
       "        </tr>\n",
       "    </tbody>\n",
       "</table>"
      ],
      "text/plain": [
       "+-----------------------+\n",
       "| single_unit_per_class |\n",
       "+-----------------------+\n",
       "|         False         |\n",
       "+-----------------------+"
      ]
     },
     "execution_count": 66,
     "metadata": {},
     "output_type": "execute_result"
    }
   ],
   "source": [
    "# Do not delete/edit this cell!\n",
    "# You must run this cell before running the autograder.\n",
    "query_3c = %sqlcmd snippets query_3c\n",
    "grading_util.save_results(\"result_3c\", query_3c, result_3c)\n",
    "result_3c"
   ]
  },
  {
   "cell_type": "code",
   "execution_count": 67,
   "metadata": {
    "deletable": false,
    "editable": false
   },
   "outputs": [
    {
     "data": {
      "text/html": [
       "<p><strong><pre style='display: inline;'>q3c</pre></strong> passed! ✨</p>"
      ],
      "text/plain": [
       "q3c results: All test cases passed!"
      ]
     },
     "execution_count": 67,
     "metadata": {},
     "output_type": "execute_result"
    }
   ],
   "source": [
    "grader.check(\"q3c\")"
   ]
  },
  {
   "cell_type": "markdown",
   "metadata": {
    "deletable": false,
    "editable": false
   },
   "source": [
    "<!-- BEGIN QUESTION -->\n",
    "\n",
    "<br><br>\n",
    "\n",
    "---\n",
    "\n",
    "### Question 3d\n",
    "\n",
    "Moving on, have a look at the `real_estate_metadata` table—starting with the distinct values in the `location` field! What do you notice about these values? Keep your response to at most two sentences.\n"
   ]
  },
  {
   "cell_type": "markdown",
   "metadata": {},
   "source": [
    "Typographical errors in the location field result in discrepancies and duplicates, preventing identical locations from matching correctly."
   ]
  },
  {
   "cell_type": "markdown",
   "metadata": {
    "deletable": false,
    "editable": false
   },
   "source": [
    "<!-- END QUESTION -->\n",
    "\n",
    "<br><br>\n",
    "\n",
    "---\n",
    "### Question 3e\n",
    "\n",
    "It turns out this `real_estate_metadata` table is the result of an [OCR scan](https://en.wikipedia.org/wiki/Optical_character_recognition). We will just focus on cleaning up the `location` column for the time being, and leave you to imagine the effort required to do a full cleanup of all columns.\n",
    "\n",
    "We have preloaded Postgres' extension packages for \"fuzzy\" string matching (`fuzzystrmatch`) and trigrams (`pg_trgm`) for you so that you can take advantage of some convenient utility functions. You can use any of the string functions in those packages if you'd like ([as documented here for fuzzystrmatch](https://www.postgresql.org/docs/current/fuzzystrmatch.html) or [here for pg_trgm](https://www.postgresql.org/docs/current/pgtrgm.html)).\n",
    "\n",
    "We also created a lookup table of standardized names, `uc_locations`.\n",
    "\n",
    "Now, using any of the string functions you like (or none at all!), write a SQL query that returns the columns `(building_name, address, location, clean_location)` where `clean_location` contains the best match from `uc_locations.loc_name`. We recommend taking a look at `levenshtein`, `word_similarity`, `metaphone`, but feel free to explore the different functions available. You may find that you can't clean up everything with the string functions, so your view may have to include some specific logic for cases in the data that have to be handled \"manually\". You can choose to do this question in whatever manner you wish as long as your query does not use `CREATE TABLE`, `INSERT INTO`, or `UPDATE`."
   ]
  },
  {
   "cell_type": "code",
   "execution_count": 68,
   "metadata": {
    "tags": []
   },
   "outputs": [
    {
     "data": {
      "text/html": [
       "<span style=\"None\">Running query in &#x27;postgresql://jovyan@127.0.0.1:5432/ucb_buildings&#x27;</span>"
      ],
      "text/plain": [
       "Running query in 'postgresql://jovyan@127.0.0.1:5432/ucb_buildings'"
      ]
     },
     "metadata": {},
     "output_type": "display_data"
    },
    {
     "data": {
      "text/html": [
       "<span style=\"color: green\">5276 rows affected.</span>"
      ],
      "text/plain": [
       "5276 rows affected."
      ]
     },
     "metadata": {},
     "output_type": "display_data"
    }
   ],
   "source": [
    "%%sql --save query_3e result_3e <<\n",
    "WITH meta_1 as (\n",
    "    SELECT location, building_name, address, METAPHONE(location, 7) as metaphone1\n",
    "    FROM real_estate_metadata\n",
    "),\n",
    "meta_2 as (\n",
    "    SELECT loc_name as cleaning, METAPHONE(loc_name, 7)\n",
    "    FROM uc_locations\n",
    "), \n",
    "cleaning as (\n",
    "    SELECT building_name, address, location, cleaning\n",
    "    FROM meta_1\n",
    "    LEFT JOIN meta_2 ON meta_1.metaphone1 = meta_2.metaphone\n",
    ")\n",
    "SELECT building_name, address, location,\n",
    "    CASE WHEN location = 'FRANCISC SOAN' THEN 'SAN FRANCISCO'\n",
    "    WHEN location = 'FRANCISC O' THEN 'SAN FRANCISCO'\n",
    "    WHEN location = 'FRANCISC OSAN' THEN 'SAN FRANCISCO'\n",
    "    WHEN location = 'SAN DSAIENG O' THEN 'SAN DIEGO' \n",
    "    ELSE cleaning END as clean_location\n",
    "FROM cleaning"
   ]
  },
  {
   "cell_type": "code",
   "execution_count": 69,
   "metadata": {
    "tags": []
   },
   "outputs": [
    {
     "data": {
      "text/html": [
       "<table>\n",
       "    <thead>\n",
       "        <tr>\n",
       "            <th>building_name</th>\n",
       "            <th>address</th>\n",
       "            <th>location</th>\n",
       "            <th>clean_location</th>\n",
       "        </tr>\n",
       "    </thead>\n",
       "    <tbody>\n",
       "        <tr>\n",
       "            <td>CLEARY</td>\n",
       "            <td>2424 CHANNING</td>\n",
       "            <td>BERKELEY</td>\n",
       "            <td>BERKELEY</td>\n",
       "        </tr>\n",
       "        <tr>\n",
       "            <td>WALNUT19 25</td>\n",
       "            <td>1925 WALNUT</td>\n",
       "            <td>BERKELEY</td>\n",
       "            <td>BERKELEY</td>\n",
       "        </tr>\n",
       "        <tr>\n",
       "            <td>ERCHLDE DCNTR</td>\n",
       "            <td>2339 HASTE</td>\n",
       "            <td>BERKELEY</td>\n",
       "            <td>BERKELEY</td>\n",
       "        </tr>\n",
       "        <tr>\n",
       "            <td>MRI MODLR II</td>\n",
       "            <td>CORE 2C1A5M4P-6U0S</td>\n",
       "            <td>BERKELEY</td>\n",
       "            <td>BERKELEY</td>\n",
       "        </tr>\n",
       "        <tr>\n",
       "            <td>UNIV 2154- 60</td>\n",
       "            <td>UNIVERSIT 2Y55</td>\n",
       "            <td>BERKELEY</td>\n",
       "            <td>BERKELEY</td>\n",
       "        </tr>\n",
       "        <tr>\n",
       "            <td>HAVENS</td>\n",
       "            <td>PANORAMI C25 W5 AY</td>\n",
       "            <td>BERKELEY</td>\n",
       "            <td>BERKELEY</td>\n",
       "        </tr>\n",
       "        <tr>\n",
       "            <td>HAVENS GR</td>\n",
       "            <td>PANORAMI 2C9 W99A Y</td>\n",
       "            <td>BERKELEY</td>\n",
       "            <td>BERKELEY</td>\n",
       "        </tr>\n",
       "        <tr>\n",
       "            <td>BOAT HOUSE</td>\n",
       "            <td>GLASCOC K STREET</td>\n",
       "            <td>BERKELEY</td>\n",
       "            <td>BERKELEY</td>\n",
       "        </tr>\n",
       "        <tr>\n",
       "            <td>BOAT EBRIGHT</td>\n",
       "            <td>303 DERBY AVENUE</td>\n",
       "            <td>BERKELEY</td>\n",
       "            <td>BERKELEY</td>\n",
       "        </tr>\n",
       "        <tr>\n",
       "            <td>BOAT SHED</td>\n",
       "            <td>303 DERBY AVENUE</td>\n",
       "            <td>BERKELEY</td>\n",
       "            <td>BERKELEY</td>\n",
       "        </tr>\n",
       "    </tbody>\n",
       "</table>"
      ],
      "text/plain": [
       "+---------------+---------------------+----------+----------------+\n",
       "| building_name |       address       | location | clean_location |\n",
       "+---------------+---------------------+----------+----------------+\n",
       "|     CLEARY    |    2424 CHANNING    | BERKELEY |    BERKELEY    |\n",
       "|  WALNUT19 25  |     1925 WALNUT     | BERKELEY |    BERKELEY    |\n",
       "| ERCHLDE DCNTR |      2339 HASTE     | BERKELEY |    BERKELEY    |\n",
       "|  MRI MODLR II |  CORE 2C1A5M4P-6U0S | BERKELEY |    BERKELEY    |\n",
       "| UNIV 2154- 60 |    UNIVERSIT 2Y55   | BERKELEY |    BERKELEY    |\n",
       "|     HAVENS    |  PANORAMI C25 W5 AY | BERKELEY |    BERKELEY    |\n",
       "|   HAVENS GR   | PANORAMI 2C9 W99A Y | BERKELEY |    BERKELEY    |\n",
       "|   BOAT HOUSE  |   GLASCOC K STREET  | BERKELEY |    BERKELEY    |\n",
       "|  BOAT EBRIGHT |   303 DERBY AVENUE  | BERKELEY |    BERKELEY    |\n",
       "|   BOAT SHED   |   303 DERBY AVENUE  | BERKELEY |    BERKELEY    |\n",
       "+---------------+---------------------+----------+----------------+"
      ]
     },
     "execution_count": 69,
     "metadata": {},
     "output_type": "execute_result"
    }
   ],
   "source": [
    "# Do not delete/edit this cell!\n",
    "# You must run this cell before running the autograder.\n",
    "query_3e = %sqlcmd snippets query_3e\n",
    "grading_util.save_results(\"result_3e\", query_3e, result_3e)\n",
    "result_3e"
   ]
  },
  {
   "cell_type": "code",
   "execution_count": 31,
   "metadata": {
    "deletable": false,
    "editable": false
   },
   "outputs": [
    {
     "data": {
      "text/html": [
       "<p><strong><pre style='display: inline;'>q3e</pre></strong> passed! 🌟</p>"
      ],
      "text/plain": [
       "q3e results: All test cases passed!"
      ]
     },
     "execution_count": 31,
     "metadata": {},
     "output_type": "execute_result"
    }
   ],
   "source": [
    "grader.check(\"q3e\")"
   ]
  },
  {
   "cell_type": "markdown",
   "metadata": {},
   "source": [
    "<br/><br/><br/>\n",
    "\n",
    "<hr style=\"border: 5px solid #003262;\" />\n",
    "<hr style=\"border: 1px solid #fdb515;\" />\n",
    "\n",
    "## Question 4: Interpolating Missing Data\n",
    "Real-world data, real-world problems. Our sensors should be reporting every 15 minutes, but you can be sure that we're missing some data. Here we will fix it. It's a bit more involved than what we looked at in class!\n",
    "\n",
    "### Question 4a: Finding missing readings\n",
    "In the `data` table, the `id` column identifies a unique sensor. Sensor readings should be recorded every 15 minutes from every sensor. Are we missing any readings, and if so which ones? We will focus on readings that are separated by at least 30 minutes or more; readings that are \\[0-30) minutes apart are considered to be fine.\n",
    "\n",
    "To answer this question you'll need to read up a bit on [SQL timestamps](https://www.postgresql.org/docs/current/datatype-datetime.html) and [Functions for manipulating datetime types](https://www.postgresql.org/docs/current/functions-datetime.html). Have a particular look at the following:\n",
    "- The [date_trunc](https://www.postgresql.org/docs/current/functions-datetime.html#FUNCTIONS-DATETIME-TRUNC) function will quantize times to the nearest unit of your choosing. For example, to round the `time` field to the nearest minute you can say `date_trunc('minute', time)`. **You'll need to quantize to minutes right away before you worry about missing readings.**\n",
    "- There are various ways to enter constant intervals of time as strings. For example, a 30 minute interval can be written as `interval '30 minutes'` or `'30 minutes'::interval`. See [date/time input](https://www.postgresql.org/docs/current/datatype-datetime.html#DATATYPE-INTERVAL-INPUT) for more info.\n",
    "- You can do arithmetic on date/time types [as documented here](https://www.postgresql.org/docs/current/functions-datetime.html#FUNCTIONS-DATETIME-TRUNC). That will handle all the weird periodicities of clocks and calendars for you. Pay attention to the input and output types of these functions!\n",
    "- Alternatively, the [EXTRACT](https://www.postgresql.org/docs/current/functions-datetime.html#FUNCTIONS-DATETIME-EXTRACT) function is sometimes handy. Note the special `EXTRACT(EPOCH FROM ...)` case. This converts a timestamp into an integer representing the number of seconds since midnight, 1/1/1970 (the dawn of [UNIX time](https://en.wikipedia.org/wiki/Unix_time)!)  You can do normal integer comparisons and arithmetic on the results.\n",
    "- You will need to use the [lag](https://www.geeksforgeeks.org/postgresql-lag-function/) function as the window function.\n",
    "\n",
    "\n",
    "Create a view called `gaps` that augments the `data` schema with three columns:\n",
    "- `lagtime` is the quantized time of the previous reading for that sensor (relative to the current row for a particular row)\n",
    "- `lagvalue` is the value of the previous reading for that sensor\n",
    "- `timediff` is the difference in quantized time between this reading and the previous reading\n",
    "\n",
    "The view should only contain rows where `timediff` is **greater than or equal to 30 minutes**."
   ]
  },
  {
   "cell_type": "markdown",
   "metadata": {},
   "source": [
    "\n"
   ]
  },
  {
   "cell_type": "code",
   "execution_count": 84,
   "metadata": {
    "tags": []
   },
   "outputs": [
    {
     "data": {
      "text/html": [
       "<span style=\"None\">Running query in &#x27;postgresql://jovyan@127.0.0.1:5432/ucb_buildings&#x27;</span>"
      ],
      "text/plain": [
       "Running query in 'postgresql://jovyan@127.0.0.1:5432/ucb_buildings'"
      ]
     },
     "metadata": {},
     "output_type": "display_data"
    },
    {
     "data": {
      "text/html": [
       "<span style=\"color: green\">10 rows affected.</span>"
      ],
      "text/plain": [
       "10 rows affected."
      ]
     },
     "metadata": {},
     "output_type": "display_data"
    }
   ],
   "source": [
    "%%sql --save query_4a result_4a <<\n",
    "CREATE OR REPLACE VIEW gaps AS\n",
    "WITH extracting as (\n",
    "    SELECT time, id, value, date_trunc('minute', LAG(time) OVER (PARTITION BY id ORDER BY time)) as lagtime, LAG(value) OVER (PARTITION BY id ORDER BY time) as lagvalue\n",
    "    FROM data\n",
    "    ORDER BY time, id\n",
    "),\n",
    "timediff as (\n",
    "    SELECT *, EXTRACT(EPOCH FROM time - lagtime) / 60 as timediff\n",
    "    FROM extracting\n",
    ")\n",
    "SELECT *\n",
    "FROM timediff\n",
    "WHERE timediff >= 30.00\n",
    ";\n",
    "SELECT * FROM gaps ORDER BY id, time LIMIT 10;"
   ]
  },
  {
   "cell_type": "code",
   "execution_count": 85,
   "metadata": {
    "tags": []
   },
   "outputs": [
    {
     "data": {
      "text/html": [
       "<table>\n",
       "    <thead>\n",
       "        <tr>\n",
       "            <th>time</th>\n",
       "            <th>id</th>\n",
       "            <th>value</th>\n",
       "            <th>lagtime</th>\n",
       "            <th>lagvalue</th>\n",
       "            <th>timediff</th>\n",
       "        </tr>\n",
       "    </thead>\n",
       "    <tbody>\n",
       "        <tr>\n",
       "            <td>2018-06-13 09:15:00+00:00</td>\n",
       "            <td>a3d47b1a-985e-5395-a6ee-719dad9b580f</td>\n",
       "            <td>0.056</td>\n",
       "            <td>2018-06-13 08:45:00+00:00</td>\n",
       "            <td>0.056</td>\n",
       "            <td>30.0000000000000000</td>\n",
       "        </tr>\n",
       "        <tr>\n",
       "            <td>2018-06-09 04:15:00+00:00</td>\n",
       "            <td>a3e8e405-0eed-59b6-8747-fe892a6f93de</td>\n",
       "            <td>280.8</td>\n",
       "            <td>2018-06-09 03:45:00+00:00</td>\n",
       "            <td>281.6</td>\n",
       "            <td>30.0000000000000000</td>\n",
       "        </tr>\n",
       "        <tr>\n",
       "            <td>2018-06-13 09:15:00+00:00</td>\n",
       "            <td>a46fb790-028c-5d17-a3e6-7d08daec0c03</td>\n",
       "            <td>281.46</td>\n",
       "            <td>2018-06-13 08:45:00+00:00</td>\n",
       "            <td>281.39</td>\n",
       "            <td>30.0000000000000000</td>\n",
       "        </tr>\n",
       "        <tr>\n",
       "            <td>2018-06-09 04:15:00+00:00</td>\n",
       "            <td>a470ac6d-d448-522b-9b74-8ed27f24de25</td>\n",
       "            <td>0.004</td>\n",
       "            <td>2018-06-09 03:45:00+00:00</td>\n",
       "            <td>0.006</td>\n",
       "            <td>30.0000000000000000</td>\n",
       "        </tr>\n",
       "        <tr>\n",
       "            <td>2018-06-07 00:45:02+00:00</td>\n",
       "            <td>a48e47ab-bbcd-5b39-aaaa-47fbaafe166e</td>\n",
       "            <td>27.273</td>\n",
       "            <td>2018-06-07 00:15:00+00:00</td>\n",
       "            <td>30.0</td>\n",
       "            <td>30.0333333333333333</td>\n",
       "        </tr>\n",
       "        <tr>\n",
       "            <td>2018-06-07 01:30:01+00:00</td>\n",
       "            <td>a48e47ab-bbcd-5b39-aaaa-47fbaafe166e</td>\n",
       "            <td>27.273</td>\n",
       "            <td>2018-06-07 01:00:00+00:00</td>\n",
       "            <td>23.077</td>\n",
       "            <td>30.0166666666666667</td>\n",
       "        </tr>\n",
       "        <tr>\n",
       "            <td>2018-06-07 17:45:02+00:00</td>\n",
       "            <td>a48e47ab-bbcd-5b39-aaaa-47fbaafe166e</td>\n",
       "            <td>21.429</td>\n",
       "            <td>2018-06-07 17:15:00+00:00</td>\n",
       "            <td>25.0</td>\n",
       "            <td>30.0333333333333333</td>\n",
       "        </tr>\n",
       "        <tr>\n",
       "            <td>2018-06-07 18:45:07+00:00</td>\n",
       "            <td>a48e47ab-bbcd-5b39-aaaa-47fbaafe166e</td>\n",
       "            <td>25.0</td>\n",
       "            <td>2018-06-07 18:15:00+00:00</td>\n",
       "            <td>30.0</td>\n",
       "            <td>30.1166666666666667</td>\n",
       "        </tr>\n",
       "        <tr>\n",
       "            <td>2018-06-07 19:15:03+00:00</td>\n",
       "            <td>a48e47ab-bbcd-5b39-aaaa-47fbaafe166e</td>\n",
       "            <td>20.0</td>\n",
       "            <td>2018-06-07 18:45:00+00:00</td>\n",
       "            <td>25.0</td>\n",
       "            <td>30.0500000000000000</td>\n",
       "        </tr>\n",
       "        <tr>\n",
       "            <td>2018-06-07 19:45:05+00:00</td>\n",
       "            <td>a48e47ab-bbcd-5b39-aaaa-47fbaafe166e</td>\n",
       "            <td>23.077</td>\n",
       "            <td>2018-06-07 19:15:00+00:00</td>\n",
       "            <td>20.0</td>\n",
       "            <td>30.0833333333333333</td>\n",
       "        </tr>\n",
       "    </tbody>\n",
       "</table>"
      ],
      "text/plain": [
       "+---------------------------+--------------------------------------+--------+---------------------------+----------+---------------------+\n",
       "|            time           |                  id                  | value  |          lagtime          | lagvalue |       timediff      |\n",
       "+---------------------------+--------------------------------------+--------+---------------------------+----------+---------------------+\n",
       "| 2018-06-13 09:15:00+00:00 | a3d47b1a-985e-5395-a6ee-719dad9b580f | 0.056  | 2018-06-13 08:45:00+00:00 |  0.056   | 30.0000000000000000 |\n",
       "| 2018-06-09 04:15:00+00:00 | a3e8e405-0eed-59b6-8747-fe892a6f93de | 280.8  | 2018-06-09 03:45:00+00:00 |  281.6   | 30.0000000000000000 |\n",
       "| 2018-06-13 09:15:00+00:00 | a46fb790-028c-5d17-a3e6-7d08daec0c03 | 281.46 | 2018-06-13 08:45:00+00:00 |  281.39  | 30.0000000000000000 |\n",
       "| 2018-06-09 04:15:00+00:00 | a470ac6d-d448-522b-9b74-8ed27f24de25 | 0.004  | 2018-06-09 03:45:00+00:00 |  0.006   | 30.0000000000000000 |\n",
       "| 2018-06-07 00:45:02+00:00 | a48e47ab-bbcd-5b39-aaaa-47fbaafe166e | 27.273 | 2018-06-07 00:15:00+00:00 |   30.0   | 30.0333333333333333 |\n",
       "| 2018-06-07 01:30:01+00:00 | a48e47ab-bbcd-5b39-aaaa-47fbaafe166e | 27.273 | 2018-06-07 01:00:00+00:00 |  23.077  | 30.0166666666666667 |\n",
       "| 2018-06-07 17:45:02+00:00 | a48e47ab-bbcd-5b39-aaaa-47fbaafe166e | 21.429 | 2018-06-07 17:15:00+00:00 |   25.0   | 30.0333333333333333 |\n",
       "| 2018-06-07 18:45:07+00:00 | a48e47ab-bbcd-5b39-aaaa-47fbaafe166e |  25.0  | 2018-06-07 18:15:00+00:00 |   30.0   | 30.1166666666666667 |\n",
       "| 2018-06-07 19:15:03+00:00 | a48e47ab-bbcd-5b39-aaaa-47fbaafe166e |  20.0  | 2018-06-07 18:45:00+00:00 |   25.0   | 30.0500000000000000 |\n",
       "| 2018-06-07 19:45:05+00:00 | a48e47ab-bbcd-5b39-aaaa-47fbaafe166e | 23.077 | 2018-06-07 19:15:00+00:00 |   20.0   | 30.0833333333333333 |\n",
       "+---------------------------+--------------------------------------+--------+---------------------------+----------+---------------------+"
      ]
     },
     "execution_count": 85,
     "metadata": {},
     "output_type": "execute_result"
    }
   ],
   "source": [
    "# Do not delete/edit this cell!\n",
    "# You must run this cell before running the autograder.\n",
    "query_4a = %sqlcmd snippets query_4a\n",
    "grading_util.save_results(\"result_4a\", query_4a, result_4a)\n",
    "result_4a"
   ]
  },
  {
   "cell_type": "code",
   "execution_count": 86,
   "metadata": {
    "deletable": false,
    "editable": false
   },
   "outputs": [
    {
     "data": {
      "text/html": [
       "<p><strong><pre style='display: inline;'>q4a</pre></strong> passed! 🙌</p>"
      ],
      "text/plain": [
       "q4a results: All test cases passed!"
      ]
     },
     "execution_count": 86,
     "metadata": {},
     "output_type": "execute_result"
    }
   ],
   "source": [
    "grader.check(\"q4a\")"
   ]
  },
  {
   "cell_type": "markdown",
   "metadata": {},
   "source": [
    "### Question 4b: Creating tuples for the missing readings\n",
    "Now we need to manufacture new tuples to fill in the gaps. For example, if you had a tuple from id `abc` timestamped at 1PM today and the next tuple in time from `abc` was timestamped at 1:45PM, you'll need to manufacture two new tuples with id `abc` and `NULL` values: one timestamped at 1:15PM and another timestamped at 1:30PM. We will worry about replacing the `NULL` values in the next step.\n",
    "\n",
    "To manufacture tuples not related to stored data in the database, we'll need to use a *table-valued function*. The table-valued function we want here is `generate_series` [(documented here)](https://www.postgresql.org/docs/current/functions-srf.html), which we will use to generate *and sequentially timestamp* the right number of tuples to match the number of tuples we found missing.\n",
    "\n",
    "To get a feel for `generate_series`, consider the following simple query that generates a table of integers with intervals of size 3 between them."
   ]
  },
  {
   "cell_type": "code",
   "execution_count": 87,
   "metadata": {},
   "outputs": [
    {
     "data": {
      "text/html": [
       "<span style=\"None\">Running query in &#x27;postgresql://jovyan@127.0.0.1:5432/ucb_buildings&#x27;</span>"
      ],
      "text/plain": [
       "Running query in 'postgresql://jovyan@127.0.0.1:5432/ucb_buildings'"
      ]
     },
     "metadata": {},
     "output_type": "display_data"
    },
    {
     "data": {
      "text/html": [
       "<span style=\"color: green\">4 rows affected.</span>"
      ],
      "text/plain": [
       "4 rows affected."
      ]
     },
     "metadata": {},
     "output_type": "display_data"
    },
    {
     "data": {
      "text/html": [
       "<table>\n",
       "    <thead>\n",
       "        <tr>\n",
       "            <th>generate_series</th>\n",
       "        </tr>\n",
       "    </thead>\n",
       "    <tbody>\n",
       "        <tr>\n",
       "            <td>1</td>\n",
       "        </tr>\n",
       "        <tr>\n",
       "            <td>4</td>\n",
       "        </tr>\n",
       "        <tr>\n",
       "            <td>7</td>\n",
       "        </tr>\n",
       "        <tr>\n",
       "            <td>10</td>\n",
       "        </tr>\n",
       "    </tbody>\n",
       "</table>"
      ],
      "text/plain": [
       "+-----------------+\n",
       "| generate_series |\n",
       "+-----------------+\n",
       "|        1        |\n",
       "|        4        |\n",
       "|        7        |\n",
       "|        10       |\n",
       "+-----------------+"
      ]
     },
     "execution_count": 87,
     "metadata": {},
     "output_type": "execute_result"
    }
   ],
   "source": [
    "%%sql\n",
    "SELECT *\n",
    "  FROM generate_series(1, 10, 3);"
   ]
  },
  {
   "cell_type": "markdown",
   "metadata": {},
   "source": [
    "Now, we can use `generate_series` in a `LATERAL JOIN` query: for each tuple on the left of the `LATERAL` it will produce a series based on the values of that tuple. So for example, we can generate 2 tuples for each tuple of `uc_locations` as follows:"
   ]
  },
  {
   "cell_type": "code",
   "execution_count": 88,
   "metadata": {},
   "outputs": [
    {
     "data": {
      "text/html": [
       "<span style=\"None\">Running query in &#x27;postgresql://jovyan@127.0.0.1:5432/ucb_buildings&#x27;</span>"
      ],
      "text/plain": [
       "Running query in 'postgresql://jovyan@127.0.0.1:5432/ucb_buildings'"
      ]
     },
     "metadata": {},
     "output_type": "display_data"
    },
    {
     "data": {
      "text/html": [
       "<span style=\"color: green\">24 rows affected.</span>"
      ],
      "text/plain": [
       "24 rows affected."
      ]
     },
     "metadata": {},
     "output_type": "display_data"
    },
    {
     "data": {
      "text/html": [
       "<table>\n",
       "    <thead>\n",
       "        <tr>\n",
       "            <th>loc_id</th>\n",
       "            <th>loc_name</th>\n",
       "            <th>length</th>\n",
       "            <th>newval</th>\n",
       "        </tr>\n",
       "    </thead>\n",
       "    <tbody>\n",
       "        <tr>\n",
       "            <td>1</td>\n",
       "            <td>AG FIELD STAT</td>\n",
       "            <td>13</td>\n",
       "            <td>13</td>\n",
       "        </tr>\n",
       "        <tr>\n",
       "            <td>1</td>\n",
       "            <td>AG FIELD STAT</td>\n",
       "            <td>13</td>\n",
       "            <td>15</td>\n",
       "        </tr>\n",
       "        <tr>\n",
       "            <td>2</td>\n",
       "            <td>BERKELEY</td>\n",
       "            <td>8</td>\n",
       "            <td>8</td>\n",
       "        </tr>\n",
       "        <tr>\n",
       "            <td>2</td>\n",
       "            <td>BERKELEY</td>\n",
       "            <td>8</td>\n",
       "            <td>10</td>\n",
       "        </tr>\n",
       "        <tr>\n",
       "            <td>3</td>\n",
       "            <td>DAVIS</td>\n",
       "            <td>5</td>\n",
       "            <td>5</td>\n",
       "        </tr>\n",
       "        <tr>\n",
       "            <td>3</td>\n",
       "            <td>DAVIS</td>\n",
       "            <td>5</td>\n",
       "            <td>7</td>\n",
       "        </tr>\n",
       "        <tr>\n",
       "            <td>4</td>\n",
       "            <td>IRVINE</td>\n",
       "            <td>6</td>\n",
       "            <td>6</td>\n",
       "        </tr>\n",
       "        <tr>\n",
       "            <td>4</td>\n",
       "            <td>IRVINE</td>\n",
       "            <td>6</td>\n",
       "            <td>8</td>\n",
       "        </tr>\n",
       "        <tr>\n",
       "            <td>5</td>\n",
       "            <td>LOS ANGELES</td>\n",
       "            <td>11</td>\n",
       "            <td>11</td>\n",
       "        </tr>\n",
       "        <tr>\n",
       "            <td>5</td>\n",
       "            <td>LOS ANGELES</td>\n",
       "            <td>11</td>\n",
       "            <td>13</td>\n",
       "        </tr>\n",
       "    </tbody>\n",
       "</table>\n",
       "<span style=\"font-style:italic;text-align:center;\">Truncated to <a href=\"https://jupysql.ploomber.io/en/latest/api/configuration.html#displaylimit\">displaylimit</a> of 10.</span>"
      ],
      "text/plain": [
       "+--------+---------------+--------+--------+\n",
       "| loc_id |    loc_name   | length | newval |\n",
       "+--------+---------------+--------+--------+\n",
       "|   1    | AG FIELD STAT |   13   |   13   |\n",
       "|   1    | AG FIELD STAT |   13   |   15   |\n",
       "|   2    |    BERKELEY   |   8    |   8    |\n",
       "|   2    |    BERKELEY   |   8    |   10   |\n",
       "|   3    |     DAVIS     |   5    |   5    |\n",
       "|   3    |     DAVIS     |   5    |   7    |\n",
       "|   4    |     IRVINE    |   6    |   6    |\n",
       "|   4    |     IRVINE    |   6    |   8    |\n",
       "|   5    |  LOS ANGELES  |   11   |   11   |\n",
       "|   5    |  LOS ANGELES  |   11   |   13   |\n",
       "+--------+---------------+--------+--------+\n",
       "Truncated to displaylimit of 10."
      ]
     },
     "execution_count": 88,
     "metadata": {},
     "output_type": "execute_result"
    }
   ],
   "source": [
    "%%sql\n",
    "SELECT loc_id, loc_name, length(loc_name), newval\n",
    "  FROM uc_locations u, \n",
    "       LATERAL generate_series(length(loc_name), length(loc_name) + 2, 2) AS newval;"
   ]
  },
  {
   "cell_type": "markdown",
   "metadata": {},
   "source": [
    "Notice how the 2 values it generates are the length of the `loc_name`, and the length + 2. You might want to play with the query above to make sure you understand the documentation for `generate_series` and `LATERAL`."
   ]
  },
  {
   "cell_type": "markdown",
   "metadata": {},
   "source": [
    "Ok, on to your task!\n",
    "\n",
    "Create a view `complete` that contains the tuples from `data` as well as new tuples that fill in any gaps greater than or equal to 30 minutes. Each gap should be filled by adding tuples in increments of 15 minutes from the *start* of the gap, **with `NULL` as the value**. You probably want to use your `gaps` view as well as `generate_series` to do this!\n",
    "\n",
    "**Hint:** the lower and upper bounds in generate_series (in pseudocode) should be `(lagtime + 15 minutes, time - 15 minutes)`."
   ]
  },
  {
   "cell_type": "code",
   "execution_count": 92,
   "metadata": {
    "scrolled": true,
    "tags": []
   },
   "outputs": [
    {
     "data": {
      "text/html": [
       "<span style=\"None\">Running query in &#x27;postgresql://jovyan@127.0.0.1:5432/ucb_buildings&#x27;</span>"
      ],
      "text/plain": [
       "Running query in 'postgresql://jovyan@127.0.0.1:5432/ucb_buildings'"
      ]
     },
     "metadata": {},
     "output_type": "display_data"
    },
    {
     "data": {
      "text/html": [
       "<span style=\"color: green\">100 rows affected.</span>"
      ],
      "text/plain": [
       "100 rows affected."
      ]
     },
     "metadata": {},
     "output_type": "display_data"
    }
   ],
   "source": [
    "%%sql --save query_4b result_4b <<\n",
    "CREATE OR REPLACE VIEW complete AS\n",
    "WITH gapping as (\n",
    "    SELECT *\n",
    "    FROM gaps, \n",
    "    LATERAL generate_series(lagtime + interval '15 minutes', time - interval '15 minutes', '15 minutes') as gaptime\n",
    ")\n",
    "SELECT time, id, value\n",
    "FROM data\n",
    "UNION ALL\n",
    "SELECT gaptime, id, NULL as value\n",
    "FROM gapping;\n",
    "SELECT * FROM complete ORDER BY id, time LIMIT 100;"
   ]
  },
  {
   "cell_type": "code",
   "execution_count": 93,
   "metadata": {
    "tags": []
   },
   "outputs": [
    {
     "data": {
      "text/html": [
       "<table>\n",
       "    <thead>\n",
       "        <tr>\n",
       "            <th>time</th>\n",
       "            <th>id</th>\n",
       "            <th>value</th>\n",
       "        </tr>\n",
       "    </thead>\n",
       "    <tbody>\n",
       "        <tr>\n",
       "            <td>2018-06-07 00:00:09+00:00</td>\n",
       "            <td>a3d3326f-20ab-5f1d-97c7-f3084df43f06</td>\n",
       "            <td>65085.99</td>\n",
       "        </tr>\n",
       "        <tr>\n",
       "            <td>2018-06-07 00:15:09+00:00</td>\n",
       "            <td>a3d3326f-20ab-5f1d-97c7-f3084df43f06</td>\n",
       "            <td>65086.16</td>\n",
       "        </tr>\n",
       "        <tr>\n",
       "            <td>2018-06-07 00:30:09+00:00</td>\n",
       "            <td>a3d3326f-20ab-5f1d-97c7-f3084df43f06</td>\n",
       "            <td>65086.35</td>\n",
       "        </tr>\n",
       "        <tr>\n",
       "            <td>2018-06-07 00:45:09+00:00</td>\n",
       "            <td>a3d3326f-20ab-5f1d-97c7-f3084df43f06</td>\n",
       "            <td>65086.52</td>\n",
       "        </tr>\n",
       "        <tr>\n",
       "            <td>2018-06-07 01:00:09+00:00</td>\n",
       "            <td>a3d3326f-20ab-5f1d-97c7-f3084df43f06</td>\n",
       "            <td>65086.71</td>\n",
       "        </tr>\n",
       "        <tr>\n",
       "            <td>2018-06-07 01:15:09+00:00</td>\n",
       "            <td>a3d3326f-20ab-5f1d-97c7-f3084df43f06</td>\n",
       "            <td>65086.89</td>\n",
       "        </tr>\n",
       "        <tr>\n",
       "            <td>2018-06-07 01:30:09+00:00</td>\n",
       "            <td>a3d3326f-20ab-5f1d-97c7-f3084df43f06</td>\n",
       "            <td>65087.07</td>\n",
       "        </tr>\n",
       "        <tr>\n",
       "            <td>2018-06-07 01:45:09+00:00</td>\n",
       "            <td>a3d3326f-20ab-5f1d-97c7-f3084df43f06</td>\n",
       "            <td>65087.25</td>\n",
       "        </tr>\n",
       "        <tr>\n",
       "            <td>2018-06-07 02:00:09+00:00</td>\n",
       "            <td>a3d3326f-20ab-5f1d-97c7-f3084df43f06</td>\n",
       "            <td>65087.43</td>\n",
       "        </tr>\n",
       "        <tr>\n",
       "            <td>2018-06-07 02:15:09+00:00</td>\n",
       "            <td>a3d3326f-20ab-5f1d-97c7-f3084df43f06</td>\n",
       "            <td>65087.62</td>\n",
       "        </tr>\n",
       "    </tbody>\n",
       "</table>"
      ],
      "text/plain": [
       "+---------------------------+--------------------------------------+----------+\n",
       "|            time           |                  id                  |  value   |\n",
       "+---------------------------+--------------------------------------+----------+\n",
       "| 2018-06-07 00:00:09+00:00 | a3d3326f-20ab-5f1d-97c7-f3084df43f06 | 65085.99 |\n",
       "| 2018-06-07 00:15:09+00:00 | a3d3326f-20ab-5f1d-97c7-f3084df43f06 | 65086.16 |\n",
       "| 2018-06-07 00:30:09+00:00 | a3d3326f-20ab-5f1d-97c7-f3084df43f06 | 65086.35 |\n",
       "| 2018-06-07 00:45:09+00:00 | a3d3326f-20ab-5f1d-97c7-f3084df43f06 | 65086.52 |\n",
       "| 2018-06-07 01:00:09+00:00 | a3d3326f-20ab-5f1d-97c7-f3084df43f06 | 65086.71 |\n",
       "| 2018-06-07 01:15:09+00:00 | a3d3326f-20ab-5f1d-97c7-f3084df43f06 | 65086.89 |\n",
       "| 2018-06-07 01:30:09+00:00 | a3d3326f-20ab-5f1d-97c7-f3084df43f06 | 65087.07 |\n",
       "| 2018-06-07 01:45:09+00:00 | a3d3326f-20ab-5f1d-97c7-f3084df43f06 | 65087.25 |\n",
       "| 2018-06-07 02:00:09+00:00 | a3d3326f-20ab-5f1d-97c7-f3084df43f06 | 65087.43 |\n",
       "| 2018-06-07 02:15:09+00:00 | a3d3326f-20ab-5f1d-97c7-f3084df43f06 | 65087.62 |\n",
       "+---------------------------+--------------------------------------+----------+"
      ]
     },
     "execution_count": 93,
     "metadata": {},
     "output_type": "execute_result"
    }
   ],
   "source": [
    "# Do not delete/edit this cell!\n",
    "# You must run this cell before running the autograder.\n",
    "query_4b = %sqlcmd snippets query_4b\n",
    "grading_util.save_results(\"result_4b\", query_4b, result_4b)\n",
    "result_4b"
   ]
  },
  {
   "cell_type": "code",
   "execution_count": 94,
   "metadata": {
    "deletable": false,
    "editable": false
   },
   "outputs": [
    {
     "data": {
      "text/html": [
       "<p><strong><pre style='display: inline;'>q4b</pre></strong> passed! ✨</p>"
      ],
      "text/plain": [
       "q4b results: All test cases passed!"
      ]
     },
     "execution_count": 94,
     "metadata": {},
     "output_type": "execute_result"
    }
   ],
   "source": [
    "grader.check(\"q4b\")"
   ]
  },
  {
   "cell_type": "markdown",
   "metadata": {},
   "source": [
    "### Question 4c: Linear Interpolation\n",
    "*Note: If you struggled with the previous subparts of this problem, you can use our table `complete_provided` instead of your `complete` table in this subpart.*\n",
    "\n",
    "Now, given the `complete` view or the `complete_provided` table, the remaining task is to do linear interpolation to fill in the missing values we manufactured in Step 2. We have code from **this semester's** Lecture 15 (Data Preparation IV) we can reuse here! In particular, your database already includes the UDA (User-Defined Aggregate) `coalesce_agg` we used in lecture (you can use it directly, there's no need to redefine it).\n",
    "\n",
    "But note that in Lecture 15's example of linear interpolation we had a field that was used to order *all* the records in the table. In contrast, here the ordering we care about is the series of `time` for each sensor `id` *independently*. You will need to make minor changes to adapt the linear interpolation code from class to work here.\n",
    "\n",
    "Create a view `likely_data` that contains all the tuples from `complete`, with an additional column called `interpolated` that contains a copy of `value` if it is non-NULL, otherwise an interpolated value based on linear interpolation **per sensor id over time**. Please **retain all additional columns created from forward and backward passes**. (There should be 10 columns in the view—the order of the columns does not matter.) The three cells below correspond to the forward, backward, and final passes from lecture."
   ]
  },
  {
   "cell_type": "code",
   "execution_count": 95,
   "metadata": {
    "tags": []
   },
   "outputs": [
    {
     "data": {
      "text/html": [
       "<span style=\"None\">Running query in &#x27;postgresql://jovyan@127.0.0.1:5432/ucb_buildings&#x27;</span>"
      ],
      "text/plain": [
       "Running query in 'postgresql://jovyan@127.0.0.1:5432/ucb_buildings'"
      ]
     },
     "metadata": {},
     "output_type": "display_data"
    },
    {
     "data": {
      "text/html": [
       "<table>\n",
       "    <thead>\n",
       "        <tr>\n",
       "        </tr>\n",
       "    </thead>\n",
       "    <tbody>\n",
       "    </tbody>\n",
       "</table>"
      ],
      "text/plain": [
       "++\n",
       "||\n",
       "++\n",
       "++"
      ]
     },
     "execution_count": 95,
     "metadata": {},
     "output_type": "execute_result"
    }
   ],
   "source": [
    "%%sql\n",
    "CREATE OR REPLACE VIEW forward AS\n",
    "SELECT *,\n",
    "    SUM(CASE WHEN value IS NULL THEN 0 ELSE 1 END) OVER (PARTITION BY id ORDER BY time) AS run,\n",
    "    coalesce_agg(value) OVER (PARTITION by id ORDER BY time) as run_start,\n",
    "    CASE WHEN value is NULL THEN lead(value, 1) OVER (PARTITION by id ORDER BY time) ELSE NULL END as nextval\n",
    "FROM complete;"
   ]
  },
  {
   "cell_type": "code",
   "execution_count": 96,
   "metadata": {
    "tags": []
   },
   "outputs": [
    {
     "data": {
      "text/html": [
       "<span style=\"None\">Running query in &#x27;postgresql://jovyan@127.0.0.1:5432/ucb_buildings&#x27;</span>"
      ],
      "text/plain": [
       "Running query in 'postgresql://jovyan@127.0.0.1:5432/ucb_buildings'"
      ]
     },
     "metadata": {},
     "output_type": "display_data"
    },
    {
     "data": {
      "text/html": [
       "<table>\n",
       "    <thead>\n",
       "        <tr>\n",
       "        </tr>\n",
       "    </thead>\n",
       "    <tbody>\n",
       "    </tbody>\n",
       "</table>"
      ],
      "text/plain": [
       "++\n",
       "||\n",
       "++\n",
       "++"
      ]
     },
     "execution_count": 96,
     "metadata": {},
     "output_type": "execute_result"
    }
   ],
   "source": [
    "%%sql\n",
    "CREATE OR REPLACE VIEW backward AS\n",
    "SELECT *,\n",
    "    CASE WHEN value IS NOT NULL THEN value\n",
    "    ELSE coalesce_agg(nextval) OVER (PARTITION BY id, run ORDER BY time DESC)\n",
    "    END as run_end,\n",
    "    count(*) OVER (PARTITION BY id, run) AS run_size,\n",
    "    count(*) OVER (PARTITION BY id, run ORDER BY time) AS run_rank\n",
    "FROM forward;"
   ]
  },
  {
   "cell_type": "code",
   "execution_count": 97,
   "metadata": {
    "tags": []
   },
   "outputs": [
    {
     "data": {
      "text/html": [
       "<span style=\"None\">Running query in &#x27;postgresql://jovyan@127.0.0.1:5432/ucb_buildings&#x27;</span>"
      ],
      "text/plain": [
       "Running query in 'postgresql://jovyan@127.0.0.1:5432/ucb_buildings'"
      ]
     },
     "metadata": {},
     "output_type": "display_data"
    },
    {
     "data": {
      "text/html": [
       "<span style=\"color: green\">100 rows affected.</span>"
      ],
      "text/plain": [
       "100 rows affected."
      ]
     },
     "metadata": {},
     "output_type": "display_data"
    }
   ],
   "source": [
    "%%sql --save query_4c result_4c <<\n",
    "CREATE OR REPLACE VIEW likely_data AS\n",
    "SELECT *, run_start + (run_rank-1)*((run_end-run_start)/(run_size)) as interpolated\n",
    "FROM backward\n",
    ";\n",
    "SELECT * FROM likely_data WHERE run_size > 2 ORDER BY id, time LIMIT 100;"
   ]
  },
  {
   "cell_type": "code",
   "execution_count": 98,
   "metadata": {
    "tags": []
   },
   "outputs": [
    {
     "data": {
      "text/html": [
       "<table>\n",
       "    <thead>\n",
       "        <tr>\n",
       "            <th>time</th>\n",
       "            <th>id</th>\n",
       "            <th>value</th>\n",
       "            <th>run</th>\n",
       "            <th>run_start</th>\n",
       "            <th>nextval</th>\n",
       "            <th>run_end</th>\n",
       "            <th>run_size</th>\n",
       "            <th>run_rank</th>\n",
       "            <th>interpolated</th>\n",
       "        </tr>\n",
       "    </thead>\n",
       "    <tbody>\n",
       "        <tr>\n",
       "            <td>2018-06-08 10:00:02+00:00</td>\n",
       "            <td>a49cd747-43c3-536d-b3ee-ec9c087b9317</td>\n",
       "            <td>0.0</td>\n",
       "            <td>137</td>\n",
       "            <td>0.0</td>\n",
       "            <td>None</td>\n",
       "            <td>0.0</td>\n",
       "            <td>3</td>\n",
       "            <td>1</td>\n",
       "            <td>0.0</td>\n",
       "        </tr>\n",
       "        <tr>\n",
       "            <td>2018-06-08 10:15:00+00:00</td>\n",
       "            <td>a49cd747-43c3-536d-b3ee-ec9c087b9317</td>\n",
       "            <td>None</td>\n",
       "            <td>137</td>\n",
       "            <td>0.0</td>\n",
       "            <td>None</td>\n",
       "            <td>0.0</td>\n",
       "            <td>3</td>\n",
       "            <td>2</td>\n",
       "            <td>0.0</td>\n",
       "        </tr>\n",
       "        <tr>\n",
       "            <td>2018-06-08 10:30:00+00:00</td>\n",
       "            <td>a49cd747-43c3-536d-b3ee-ec9c087b9317</td>\n",
       "            <td>None</td>\n",
       "            <td>137</td>\n",
       "            <td>0.0</td>\n",
       "            <td>0.0</td>\n",
       "            <td>0.0</td>\n",
       "            <td>3</td>\n",
       "            <td>3</td>\n",
       "            <td>0.0</td>\n",
       "        </tr>\n",
       "        <tr>\n",
       "            <td>2018-06-08 19:45:03+00:00</td>\n",
       "            <td>a49cd747-43c3-536d-b3ee-ec9c087b9317</td>\n",
       "            <td>0.0</td>\n",
       "            <td>174</td>\n",
       "            <td>0.0</td>\n",
       "            <td>None</td>\n",
       "            <td>0.0</td>\n",
       "            <td>3</td>\n",
       "            <td>1</td>\n",
       "            <td>0.0</td>\n",
       "        </tr>\n",
       "        <tr>\n",
       "            <td>2018-06-08 20:00:00+00:00</td>\n",
       "            <td>a49cd747-43c3-536d-b3ee-ec9c087b9317</td>\n",
       "            <td>None</td>\n",
       "            <td>174</td>\n",
       "            <td>0.0</td>\n",
       "            <td>None</td>\n",
       "            <td>0.0</td>\n",
       "            <td>3</td>\n",
       "            <td>2</td>\n",
       "            <td>0.0</td>\n",
       "        </tr>\n",
       "        <tr>\n",
       "            <td>2018-06-08 20:15:00+00:00</td>\n",
       "            <td>a49cd747-43c3-536d-b3ee-ec9c087b9317</td>\n",
       "            <td>None</td>\n",
       "            <td>174</td>\n",
       "            <td>0.0</td>\n",
       "            <td>0.0</td>\n",
       "            <td>0.0</td>\n",
       "            <td>3</td>\n",
       "            <td>3</td>\n",
       "            <td>0.0</td>\n",
       "        </tr>\n",
       "        <tr>\n",
       "            <td>2018-06-09 01:00:03+00:00</td>\n",
       "            <td>a49cd747-43c3-536d-b3ee-ec9c087b9317</td>\n",
       "            <td>0.0</td>\n",
       "            <td>193</td>\n",
       "            <td>0.0</td>\n",
       "            <td>None</td>\n",
       "            <td>0.0</td>\n",
       "            <td>3</td>\n",
       "            <td>1</td>\n",
       "            <td>0.0</td>\n",
       "        </tr>\n",
       "        <tr>\n",
       "            <td>2018-06-09 01:15:00+00:00</td>\n",
       "            <td>a49cd747-43c3-536d-b3ee-ec9c087b9317</td>\n",
       "            <td>None</td>\n",
       "            <td>193</td>\n",
       "            <td>0.0</td>\n",
       "            <td>None</td>\n",
       "            <td>0.0</td>\n",
       "            <td>3</td>\n",
       "            <td>2</td>\n",
       "            <td>0.0</td>\n",
       "        </tr>\n",
       "        <tr>\n",
       "            <td>2018-06-09 01:30:00+00:00</td>\n",
       "            <td>a49cd747-43c3-536d-b3ee-ec9c087b9317</td>\n",
       "            <td>None</td>\n",
       "            <td>193</td>\n",
       "            <td>0.0</td>\n",
       "            <td>0.0</td>\n",
       "            <td>0.0</td>\n",
       "            <td>3</td>\n",
       "            <td>3</td>\n",
       "            <td>0.0</td>\n",
       "        </tr>\n",
       "        <tr>\n",
       "            <td>2018-06-10 05:00:02+00:00</td>\n",
       "            <td>a49cd747-43c3-536d-b3ee-ec9c087b9317</td>\n",
       "            <td>0.0</td>\n",
       "            <td>304</td>\n",
       "            <td>0.0</td>\n",
       "            <td>None</td>\n",
       "            <td>0.0</td>\n",
       "            <td>3</td>\n",
       "            <td>1</td>\n",
       "            <td>0.0</td>\n",
       "        </tr>\n",
       "    </tbody>\n",
       "</table>"
      ],
      "text/plain": [
       "+---------------------------+--------------------------------------+-------+-----+-----------+---------+---------+----------+----------+--------------+\n",
       "|            time           |                  id                  | value | run | run_start | nextval | run_end | run_size | run_rank | interpolated |\n",
       "+---------------------------+--------------------------------------+-------+-----+-----------+---------+---------+----------+----------+--------------+\n",
       "| 2018-06-08 10:00:02+00:00 | a49cd747-43c3-536d-b3ee-ec9c087b9317 |  0.0  | 137 |    0.0    |   None  |   0.0   |    3     |    1     |     0.0      |\n",
       "| 2018-06-08 10:15:00+00:00 | a49cd747-43c3-536d-b3ee-ec9c087b9317 |  None | 137 |    0.0    |   None  |   0.0   |    3     |    2     |     0.0      |\n",
       "| 2018-06-08 10:30:00+00:00 | a49cd747-43c3-536d-b3ee-ec9c087b9317 |  None | 137 |    0.0    |   0.0   |   0.0   |    3     |    3     |     0.0      |\n",
       "| 2018-06-08 19:45:03+00:00 | a49cd747-43c3-536d-b3ee-ec9c087b9317 |  0.0  | 174 |    0.0    |   None  |   0.0   |    3     |    1     |     0.0      |\n",
       "| 2018-06-08 20:00:00+00:00 | a49cd747-43c3-536d-b3ee-ec9c087b9317 |  None | 174 |    0.0    |   None  |   0.0   |    3     |    2     |     0.0      |\n",
       "| 2018-06-08 20:15:00+00:00 | a49cd747-43c3-536d-b3ee-ec9c087b9317 |  None | 174 |    0.0    |   0.0   |   0.0   |    3     |    3     |     0.0      |\n",
       "| 2018-06-09 01:00:03+00:00 | a49cd747-43c3-536d-b3ee-ec9c087b9317 |  0.0  | 193 |    0.0    |   None  |   0.0   |    3     |    1     |     0.0      |\n",
       "| 2018-06-09 01:15:00+00:00 | a49cd747-43c3-536d-b3ee-ec9c087b9317 |  None | 193 |    0.0    |   None  |   0.0   |    3     |    2     |     0.0      |\n",
       "| 2018-06-09 01:30:00+00:00 | a49cd747-43c3-536d-b3ee-ec9c087b9317 |  None | 193 |    0.0    |   0.0   |   0.0   |    3     |    3     |     0.0      |\n",
       "| 2018-06-10 05:00:02+00:00 | a49cd747-43c3-536d-b3ee-ec9c087b9317 |  0.0  | 304 |    0.0    |   None  |   0.0   |    3     |    1     |     0.0      |\n",
       "+---------------------------+--------------------------------------+-------+-----+-----------+---------+---------+----------+----------+--------------+"
      ]
     },
     "execution_count": 98,
     "metadata": {},
     "output_type": "execute_result"
    }
   ],
   "source": [
    "# Do not delete/edit this cell!\n",
    "# You must run this cell before running the autograder.\n",
    "query_4c = %sqlcmd snippets query_4c\n",
    "grading_util.save_results(\"result_4c\", query_4c, result_4c)\n",
    "result_4c"
   ]
  },
  {
   "cell_type": "code",
   "execution_count": 44,
   "metadata": {
    "deletable": false,
    "editable": false
   },
   "outputs": [
    {
     "data": {
      "text/html": [
       "<p><strong><pre style='display: inline;'>q4c</pre></strong> passed! 🙌</p>"
      ],
      "text/plain": [
       "q4c results: All test cases passed!"
      ]
     },
     "execution_count": 44,
     "metadata": {},
     "output_type": "execute_result"
    }
   ],
   "source": [
    "grader.check(\"q4c\")"
   ]
  },
  {
   "cell_type": "markdown",
   "metadata": {},
   "source": [
    "## Question 5: Granularity Transforms\n",
    "In this question we will write a roll-up query on an ontology. This requires a bit of background explanation.\n",
    "\n",
    "## [Tutorial, read] \n",
    "\n",
    "### The Brick Ontology\n",
    "\n",
    "An ontology is a way of showing the properties of a subject area and how they are related, by defining a set of terms and relational expressions that represent the entities in that subject area. \n",
    "\n",
    "The [Software-Defined Buildings](http://sdb.cs.berkeley.edu/sdb/) research project at Berkeley has led the development of a standard ontology for building metadata called [Brick](https://docs.brickschema.org/intro.html) that is getting a fair bit of attention in the world of IoT. Like many ontologies, it is represented as triples `(subject, predicate, object)`. In our database, the Brick ontology has been stored in a table called `ontology`.\n",
    "\n",
    "### The `SubClassOf` Predicate and the `Sensor` Class\n",
    "\n",
    "We are interested in readings from different classes of sensor devices. More specifically, we are interested in rows from the `metadata` table whose `metadata.class` entry maps to an `ontology` subject $s$, and that subject is in an ontology tuple `(`$s$`, http://www.w3.org/2000/01/rdf-schema#subClassOf, https://brickschema.org/schema/Brick#Sensor)`. Then we know that the sensor in `metadata` belongs to a sub-class of `Sensor`. \n",
    "\n",
    "The diagram below shows a few of the `subject`s and `object`s from `ontology` in ovals. There is a dark arrow between two ovals if there is a corresponding row in `ontology`. The immediate sub-classes of `Sensor` in the diagram are shown in yellow; we'll call them \"Sensor children\".\n",
    "\n",
    "\n",
    "<img src=\"data/subClass.png\">\n",
    "\n",
    "This image is available as `data/subClass.png`, and can be made available full-screen for ease of access.\n",
    "\n",
    "### The `transitive_subClassOf` Relation\n",
    "\n",
    "The `transitive_subClassOf` materialized view is the set of edges that compose the ontology graph, i.e., all dark black and light green arrows on the diagram. It contains tuples of the form `(object, subject, hops, path)` where subject and object are connected transitively in `ontology` via one or more subClassOf predicates described above. `path` is a Postgres array type that shows the transitive path of class names through the ontology from subject to object, and `hops` is the length of that path. Run the next cell to see the first 4 rows of `transitive_subClassOf`:"
   ]
  },
  {
   "cell_type": "code",
   "execution_count": 45,
   "metadata": {},
   "outputs": [
    {
     "data": {
      "text/html": [
       "<span style=\"None\">Running query in &#x27;postgresql://jovyan@127.0.0.1:5432/ucb_buildings&#x27;</span>"
      ],
      "text/plain": [
       "Running query in 'postgresql://jovyan@127.0.0.1:5432/ucb_buildings'"
      ]
     },
     "metadata": {},
     "output_type": "display_data"
    },
    {
     "data": {
      "text/html": [
       "<span style=\"color: green\">4 rows affected.</span>"
      ],
      "text/plain": [
       "4 rows affected."
      ]
     },
     "metadata": {},
     "output_type": "display_data"
    },
    {
     "data": {
      "text/html": [
       "<table>\n",
       "    <thead>\n",
       "        <tr>\n",
       "            <th>object</th>\n",
       "            <th>subject</th>\n",
       "            <th>hops</th>\n",
       "            <th>path</th>\n",
       "        </tr>\n",
       "    </thead>\n",
       "    <tbody>\n",
       "        <tr>\n",
       "            <td><a href=https://brickschema.org/schema/Brick#Room>https://brickschema.org/schema/Brick#Room</a></td>\n",
       "            <td><a href=https://brickschema.org/schema/Brick#Ablutions_Room>https://brickschema.org/schema/Brick#Ablutions_Room</a></td>\n",
       "            <td>1</td>\n",
       "            <td>['https://brickschema.org/schema/Brick#Ablutions_Room', 'https://brickschema.org/schema/Brick#Room']</td>\n",
       "        </tr>\n",
       "        <tr>\n",
       "            <td>ub1bL18C21</td>\n",
       "            <td><a href=https://brickschema.org/schema/Brick#Ablutions_Room>https://brickschema.org/schema/Brick#Ablutions_Room</a></td>\n",
       "            <td>1</td>\n",
       "            <td>['https://brickschema.org/schema/Brick#Ablutions_Room', 'ub1bL18C21']</td>\n",
       "        </tr>\n",
       "        <tr>\n",
       "            <td><a href=https://brickschema.org/schema/Brick#Chiller>https://brickschema.org/schema/Brick#Chiller</a></td>\n",
       "            <td><a href=https://brickschema.org/schema/Brick#Absorption_Chiller>https://brickschema.org/schema/Brick#Absorption_Chiller</a></td>\n",
       "            <td>1</td>\n",
       "            <td>['https://brickschema.org/schema/Brick#Absorption_Chiller', 'https://brickschema.org/schema/Brick#Chiller']</td>\n",
       "        </tr>\n",
       "        <tr>\n",
       "            <td>ub1bL51C21</td>\n",
       "            <td><a href=https://brickschema.org/schema/Brick#Absorption_Chiller>https://brickschema.org/schema/Brick#Absorption_Chiller</a></td>\n",
       "            <td>1</td>\n",
       "            <td>['https://brickschema.org/schema/Brick#Absorption_Chiller', 'ub1bL51C21']</td>\n",
       "        </tr>\n",
       "    </tbody>\n",
       "</table>"
      ],
      "text/plain": [
       "+-------------------------------------------------------------------------------------------------------+-----------------------------------------------------------------------------------------------------------------------------+------+-------------------------------------------------------------------------------------------------------------+\n",
       "|                                                 object                                                |                                                           subject                                                           | hops |                                                     path                                                    |\n",
       "+-------------------------------------------------------------------------------------------------------+-----------------------------------------------------------------------------------------------------------------------------+------+-------------------------------------------------------------------------------------------------------------+\n",
       "|    <a href=https://brickschema.org/schema/Brick#Room>https://brickschema.org/schema/Brick#Room</a>    |     <a href=https://brickschema.org/schema/Brick#Ablutions_Room>https://brickschema.org/schema/Brick#Ablutions_Room</a>     |  1   |     ['https://brickschema.org/schema/Brick#Ablutions_Room', 'https://brickschema.org/schema/Brick#Room']    |\n",
       "|                                               ub1bL18C21                                              |     <a href=https://brickschema.org/schema/Brick#Ablutions_Room>https://brickschema.org/schema/Brick#Ablutions_Room</a>     |  1   |                    ['https://brickschema.org/schema/Brick#Ablutions_Room', 'ub1bL18C21']                    |\n",
       "| <a href=https://brickschema.org/schema/Brick#Chiller>https://brickschema.org/schema/Brick#Chiller</a> | <a href=https://brickschema.org/schema/Brick#Absorption_Chiller>https://brickschema.org/schema/Brick#Absorption_Chiller</a> |  1   | ['https://brickschema.org/schema/Brick#Absorption_Chiller', 'https://brickschema.org/schema/Brick#Chiller'] |\n",
       "|                                               ub1bL51C21                                              | <a href=https://brickschema.org/schema/Brick#Absorption_Chiller>https://brickschema.org/schema/Brick#Absorption_Chiller</a> |  1   |                  ['https://brickschema.org/schema/Brick#Absorption_Chiller', 'ub1bL51C21']                  |\n",
       "+-------------------------------------------------------------------------------------------------------+-----------------------------------------------------------------------------------------------------------------------------+------+-------------------------------------------------------------------------------------------------------------+"
      ]
     },
     "execution_count": 45,
     "metadata": {},
     "output_type": "execute_result"
    }
   ],
   "source": [
    "%sql SELECT * FROM transitive_subClassOf LIMIT 4;"
   ]
  },
  {
   "cell_type": "markdown",
   "metadata": {},
   "source": [
    "The `transitive_subClassOf` edge graph is also called a [transitive closure](https://en.wikipedia.org/wiki/Transitive_closure) of the `subClassOf` predicate, because it represents that subclasses of subclasses of classes are sensors, and so on.\n",
    "\n",
    "We have already materialized this view for you, but to clarify its structure, we formed transitive “chains” by joining ontology with itself. For example, we could have made the materialized view `transitive_2edge_subClassOf` with the below command:\n",
    "```sql\n",
    "CREATE MATERIALIZED VIEW transitive_2edge_subClassOf AS\n",
    "    SELECT o1.subject, o2.object \n",
    "      FROM ontology o1 INNER JOIN ontology o2 ON o1.object = o2.subject\n",
    "     WHERE o1.predicate = 'http://www.w3.org/2000/01/rdf-schema#subClassOf'\n",
    "       AND o2.predicate = 'http://www.w3.org/2000/01/rdf-schema#subClassOf';\n",
    "``` \n",
    "\n",
    "Extending this example, in order to compute edges of length 3 we would have needed to join 3 references to `ontology`, and so on. To form all chains of arbitrary length requires the use of a recursive query—something we haven't learned in this class. Again, we have already done this for you in the materialized view `transitive_subClassOf` that provides the result of that recursive query. \n",
    "\n",
    "*Just for fun: If you're curious about the recursive query that computes this view, you can issue the command `\\d+ transitive_subClassOf` to Postgres. You may also want to read the documentation for SQL's [WITH RECURSIVE](https://www.postgresql.org/docs/9.1/queries-with.html) clause as implemented in Postgres.*"
   ]
  },
  {
   "cell_type": "markdown",
   "metadata": {},
   "source": [
    "### Question 5a\n",
    "\n",
    "We want to check the graph properties of the `subClassOf` predicate. It would be confusing if the `subClassOf` predicate had cycles!\n",
    "\n",
    "Write a query on `transitive_subClassOf` to check for cycles. Ask yourself this: what property in `transitive_subClassOf` would be indicative of a cycle? Your query should return one row of one boolean column: `true` if the predicate has cycles, `false` otherwise.\n",
    "\n",
    "**Hint:** You may find `EXISTS` to be useful here."
   ]
  },
  {
   "cell_type": "code",
   "execution_count": 46,
   "metadata": {
    "tags": []
   },
   "outputs": [
    {
     "data": {
      "text/html": [
       "<span style=\"None\">Running query in &#x27;postgresql://jovyan@127.0.0.1:5432/ucb_buildings&#x27;</span>"
      ],
      "text/plain": [
       "Running query in 'postgresql://jovyan@127.0.0.1:5432/ucb_buildings'"
      ]
     },
     "metadata": {},
     "output_type": "display_data"
    },
    {
     "data": {
      "text/html": [
       "<span style=\"color: green\">1 rows affected.</span>"
      ],
      "text/plain": [
       "1 rows affected."
      ]
     },
     "metadata": {},
     "output_type": "display_data"
    }
   ],
   "source": [
    "%%sql --save query_5a result_5a <<\n",
    "SELECT EXISTS (\n",
    "  SELECT 1\n",
    "  FROM transitive_subClassOf\n",
    "  WHERE subject = object AND hops > 0\n",
    ") AS has_cycles;"
   ]
  },
  {
   "cell_type": "code",
   "execution_count": 47,
   "metadata": {
    "tags": []
   },
   "outputs": [
    {
     "data": {
      "text/html": [
       "<table>\n",
       "    <thead>\n",
       "        <tr>\n",
       "            <th>has_cycles</th>\n",
       "        </tr>\n",
       "    </thead>\n",
       "    <tbody>\n",
       "        <tr>\n",
       "            <td>False</td>\n",
       "        </tr>\n",
       "    </tbody>\n",
       "</table>"
      ],
      "text/plain": [
       "+------------+\n",
       "| has_cycles |\n",
       "+------------+\n",
       "|   False    |\n",
       "+------------+"
      ]
     },
     "execution_count": 47,
     "metadata": {},
     "output_type": "execute_result"
    }
   ],
   "source": [
    "# Do not delete/edit this cell!\n",
    "# You must run this cell before running the autograder.\n",
    "query_5a = %sqlcmd snippets query_5a\n",
    "grading_util.save_results(\"result_5a\", query_5a, result_5a)\n",
    "result_5a"
   ]
  },
  {
   "cell_type": "code",
   "execution_count": 48,
   "metadata": {
    "deletable": false,
    "editable": false
   },
   "outputs": [
    {
     "data": {
      "text/html": [
       "<p><strong><pre style='display: inline;'>q5a</pre></strong> passed! 🙌</p>"
      ],
      "text/plain": [
       "q5a results: All test cases passed!"
      ]
     },
     "execution_count": 48,
     "metadata": {},
     "output_type": "execute_result"
    }
   ],
   "source": [
    "grader.check(\"q5a\")"
   ]
  },
  {
   "cell_type": "markdown",
   "metadata": {},
   "source": [
    "### Question 5b\n",
    "\n",
    "Assuming it's not cyclic, the next question is whether the `subClassOf` predicate forms *tree-shaped* connections only. The signature of a tree is that each node has at most one outbound edge (pointing to its \"parent\"). If any node has multiple outbound edges, the predicate forms a more general directed acyclic graph (a DAG). So we are looking to see if each subject is in a `subClassOf` predicate *with at most one object* (the single parent in the tree). \n",
    "\n",
    "Write a query that returns `true` if *each* subject is in a `subClassOf` predicate with at most one object, and `false` otherwise.\n",
    "\n",
    "**Hint:** Refer to how we created `transitive_2edge_subClassOf` in the tutorial to see how we check if something is in a `subClassOf` predicate."
   ]
  },
  {
   "cell_type": "code",
   "execution_count": 49,
   "metadata": {
    "tags": []
   },
   "outputs": [
    {
     "data": {
      "text/html": [
       "<span style=\"None\">Running query in &#x27;postgresql://jovyan@127.0.0.1:5432/ucb_buildings&#x27;</span>"
      ],
      "text/plain": [
       "Running query in 'postgresql://jovyan@127.0.0.1:5432/ucb_buildings'"
      ]
     },
     "metadata": {},
     "output_type": "display_data"
    },
    {
     "data": {
      "text/html": [
       "<span style=\"color: green\">1 rows affected.</span>"
      ],
      "text/plain": [
       "1 rows affected."
      ]
     },
     "metadata": {},
     "output_type": "display_data"
    }
   ],
   "source": [
    "%%sql --save query_5b result_5b <<\n",
    "SELECT NOT EXISTS (\n",
    "  SELECT 1\n",
    "  FROM (\n",
    "    SELECT subject, COUNT(DISTINCT object) as parent_count\n",
    "    FROM transitive_subClassOf\n",
    "    GROUP BY subject\n",
    "    HAVING COUNT(DISTINCT object) > 1\n",
    "  ) as subquery\n",
    ") AS is_tree_shaped;"
   ]
  },
  {
   "cell_type": "code",
   "execution_count": 50,
   "metadata": {
    "scrolled": true,
    "tags": []
   },
   "outputs": [
    {
     "data": {
      "text/html": [
       "<table>\n",
       "    <thead>\n",
       "        <tr>\n",
       "            <th>is_tree_shaped</th>\n",
       "        </tr>\n",
       "    </thead>\n",
       "    <tbody>\n",
       "        <tr>\n",
       "            <td>False</td>\n",
       "        </tr>\n",
       "    </tbody>\n",
       "</table>"
      ],
      "text/plain": [
       "+----------------+\n",
       "| is_tree_shaped |\n",
       "+----------------+\n",
       "|     False      |\n",
       "+----------------+"
      ]
     },
     "execution_count": 50,
     "metadata": {},
     "output_type": "execute_result"
    }
   ],
   "source": [
    "# Do not delete/edit this cell!\n",
    "# You must run this cell before running the autograder.\n",
    "query_5b = %sqlcmd snippets query_5b\n",
    "grading_util.save_results(\"result_5b\", query_5b, result_5b)\n",
    "result_5b"
   ]
  },
  {
   "cell_type": "code",
   "execution_count": 51,
   "metadata": {
    "deletable": false,
    "editable": false
   },
   "outputs": [
    {
     "data": {
      "text/html": [
       "<p><strong><pre style='display: inline;'>q5b</pre></strong> passed! 🍀</p>"
      ],
      "text/plain": [
       "q5b results: All test cases passed!"
      ]
     },
     "execution_count": 51,
     "metadata": {},
     "output_type": "execute_result"
    }
   ],
   "source": [
    "grader.check(\"q5b\")"
   ]
  },
  {
   "cell_type": "markdown",
   "metadata": {},
   "source": [
    "### Question 5c\n",
    "\n",
    "Now that we understand the graph properties of the ontology, let's use the ontology to do a roll-up as intended. Remember from [lecture 13](https://docs.google.com/presentation/d/19Nsksm89k8NBap9rwINJJFJeZCDSmF-feM6o0mz868c/edit?usp=sharing) that a roll-up is transforming to coarser grain (e.g., go up in a hierarchy). We're interested in the number of unique sensor `id`s from `metadata` that are transitively in subclasses of each \"Sensor child\" class. To compute this, you will have to associate each `metadata.id` with a matching `brickclass` *(if there is one!)*, and use the `transitive_subClassOf` view to identify all \"Sensor children\" for which the matching `brickclass` is transitively in a `subClass`. (If the `subClass` predicate is a DAG, then each `id` should be counted for *all* the direct subclasses of `Sensor` that it's transitively underneath.)\n",
    "\n",
    "Write a query that returns tuples of the form `(sensor_child, count)` that returns for each \"Sensor child\" the count of **distinct** `metadata.id` entries that are subclasses of that \"Sensor child\" class. Only output tuples that have a matching `brickclass`.\n",
    "\n",
    "**Hints:**\n",
    "- It may be helpful to first create a CTE where you identify the unique sensor children\n",
    "\n",
    "Refer to `data/schema.png` for a refresher on the schema. This will be helpful to identify:\n",
    "- how you can associate sensors in `metadata` with a matching `brickclass` via `mapping`\n",
    "- how you can use the `transitive_subClassOf` view which has attributes `object` and `subject` just like `ontology` to match \"Sensor children\" with `brickclass`\n"
   ]
  },
  {
   "cell_type": "code",
   "execution_count": 109,
   "metadata": {
    "tags": []
   },
   "outputs": [
    {
     "data": {
      "text/html": [
       "<span style=\"None\">Running query in &#x27;postgresql://jovyan@127.0.0.1:5432/ucb_buildings&#x27;</span>"
      ],
      "text/plain": [
       "Running query in 'postgresql://jovyan@127.0.0.1:5432/ucb_buildings'"
      ]
     },
     "metadata": {},
     "output_type": "display_data"
    },
    {
     "name": "stderr",
     "output_type": "stream",
     "text": [
      "RuntimeError: (psycopg2.errors.UndefinedColumn) column mp.metadata_id does not exist\n",
      "LINE 9:     INNER JOIN mapping mp ON m.id = mp.metadata_id \n",
      "                                            ^\n",
      "\n",
      "[SQL: WITH SensorChildren AS (\n",
      "    SELECT DISTINCT subject AS sensor_child\n",
      "    FROM transitive_subClassOf\n",
      "    WHERE object = 'Sensor'\n",
      "),\n",
      "SensorIDsWithClass AS (\n",
      "    SELECT DISTINCT m.id, mp.brickclass\n",
      "    FROM metadata m\n",
      "    INNER JOIN mapping mp ON m.id = mp.metadata_id \n",
      ")\n",
      "SELECT sc.sensor_child, COUNT(DISTINCT sic.id) AS count\n",
      "FROM SensorChildren sc\n",
      "JOIN transitive_subClassOf tso ON sc.sensor_child = tso.object\n",
      "JOIN SensorIDsWithClass sic ON tso.subject = sic.brickclass\n",
      "GROUP BY sc.sensor_child;]\n",
      "(Background on this error at: https://sqlalche.me/e/20/f405)\n",
      "If you need help solving this issue, send us a message: https://ploomber.io/community\n"
     ]
    }
   ],
   "source": [
    "%%sql --save query_5c result_5c <<\n"
   ]
  },
  {
   "cell_type": "code",
   "execution_count": 108,
   "metadata": {
    "tags": []
   },
   "outputs": [
    {
     "ename": "NameError",
     "evalue": "name 'result_5c' is not defined",
     "output_type": "error",
     "traceback": [
      "\u001b[0;31m---------------------------------------------------------------------------\u001b[0m",
      "\u001b[0;31mNameError\u001b[0m                                 Traceback (most recent call last)",
      "Cell \u001b[0;32mIn[108], line 4\u001b[0m\n\u001b[1;32m      1\u001b[0m \u001b[38;5;66;03m# Do not delete/edit this cell!\u001b[39;00m\n\u001b[1;32m      2\u001b[0m \u001b[38;5;66;03m# You must run this cell before running the autograder.\u001b[39;00m\n\u001b[1;32m      3\u001b[0m query_5c \u001b[38;5;241m=\u001b[39m get_ipython()\u001b[38;5;241m.\u001b[39mrun_line_magic(\u001b[38;5;124m'\u001b[39m\u001b[38;5;124msqlcmd\u001b[39m\u001b[38;5;124m'\u001b[39m, \u001b[38;5;124m'\u001b[39m\u001b[38;5;124msnippets query_5c\u001b[39m\u001b[38;5;124m'\u001b[39m)\n\u001b[0;32m----> 4\u001b[0m grading_util\u001b[38;5;241m.\u001b[39msave_results(\u001b[38;5;124m\"\u001b[39m\u001b[38;5;124mresult_5c\u001b[39m\u001b[38;5;124m\"\u001b[39m, query_5c, \u001b[43mresult_5c\u001b[49m)\n\u001b[1;32m      5\u001b[0m result_5c\n",
      "\u001b[0;31mNameError\u001b[0m: name 'result_5c' is not defined"
     ]
    }
   ],
   "source": [
    "# Do not delete/edit this cell!\n",
    "# You must run this cell before running the autograder.\n",
    "query_5c = %sqlcmd snippets query_5c\n",
    "grading_util.save_results(\"result_5c\", query_5c, result_5c)\n",
    "result_5c"
   ]
  },
  {
   "cell_type": "code",
   "execution_count": null,
   "metadata": {
    "deletable": false,
    "editable": false
   },
   "outputs": [],
   "source": [
    "grader.check(\"q5c\")"
   ]
  },
  {
   "cell_type": "markdown",
   "metadata": {},
   "source": [
    "<hr style=\"border: 5px solid #003262;\" />\n",
    "<hr style=\"border: 1px solid #fdb515;\" />"
   ]
  },
  {
   "cell_type": "markdown",
   "metadata": {},
   "source": [
    "## Congratulations! You have finished Project 3.\n",
    "\n",
    "Run the following cell to zip and download the results of your queries. You will also need to run the export cell at the end of the notebook.\n",
    "\n",
    "**For submission on Gradescope, you will need to submit the `proj3.zip` file generated by the export cell.** Please ensure that your submission includes `proj3.pdf`.\n",
    "\n",
    "**Common submission issues:** You MUST submit the generated zip files (not folders) to the autograder. However, Safari is known to automatically unzip files upon downloading. You can fix this by going into Safari preferences, and deselect the box with the text \"Open safe files after downloading\" under the \"General\" tab. If you experience issues with downloading via clicking on the link, you can also navigate to the project 3 directory within JupyterHub (remove `proj3.ipynb` from the url), and manually download the generated zip files. Please post on Ed if you encounter any other submission issues."
   ]
  },
  {
   "cell_type": "code",
   "execution_count": null,
   "metadata": {},
   "outputs": [],
   "source": [
    "grading_util.prepare_submission_and_cleanup()  # builds results.zip"
   ]
  },
  {
   "cell_type": "markdown",
   "metadata": {
    "deletable": false,
    "editable": false
   },
   "source": [
    "---\n",
    "\n",
    "To double-check your work, the cell below will rerun all of the autograder tests."
   ]
  },
  {
   "cell_type": "code",
   "execution_count": null,
   "metadata": {
    "deletable": false,
    "editable": false
   },
   "outputs": [],
   "source": [
    "grader.check_all()"
   ]
  },
  {
   "cell_type": "markdown",
   "metadata": {
    "deletable": false,
    "editable": false
   },
   "source": [
    "## Submission\n",
    "\n",
    "Make sure you have run all cells in your notebook in order before running the cell below, so that all images/graphs appear in the output. The cell below will generate a zip file for you to submit. **Please save before exporting!**"
   ]
  },
  {
   "cell_type": "code",
   "execution_count": null,
   "metadata": {
    "deletable": false,
    "editable": false
   },
   "outputs": [],
   "source": [
    "# Save your notebook first, then run this cell to export your submission.\n",
    "grader.export(files=['results.zip'])"
   ]
  },
  {
   "cell_type": "markdown",
   "metadata": {},
   "source": [
    " "
   ]
  }
 ],
 "metadata": {
  "anaconda-cloud": {},
  "kernelspec": {
   "display_name": "Python 3 (ipykernel)",
   "language": "python",
   "name": "python3"
  },
  "language_info": {
   "codemirror_mode": {
    "name": "ipython",
    "version": 3
   },
   "file_extension": ".py",
   "mimetype": "text/x-python",
   "name": "python",
   "nbconvert_exporter": "python",
   "pygments_lexer": "ipython3",
   "version": "3.11.0"
  },
  "otter": {
   "OK_FORMAT": true,
   "tests": {
    "q1b": {
     "name": "q1b",
     "points": 1,
     "suites": [
      {
       "cases": [
        {
         "code": ">>> query_1b, result_1b_df = grading_util.load_results(\"result_1b\")\n>>> result_1b_df.shape == (5, 2)\nTrue",
         "hidden": false,
         "locked": false
        },
        {
         "code": ">>> query_1b, result_1b_df = grading_util.load_results(\"result_1b\")\n>>> len(str(result_1b_df.iloc[0, 1])) == 889\nTrue",
         "hidden": false,
         "locked": false
        }
       ],
       "scored": true,
       "setup": "",
       "teardown": "",
       "type": "doctest"
      }
     ]
    },
    "q1c": {
     "name": "q1c",
     "points": 1,
     "suites": [
      {
       "cases": [
        {
         "code": ">>> query_1c, result_1c_df = grading_util.load_results(\"result_1c\")\n>>> result_1c_df.shape == (4, 2)\nTrue",
         "hidden": false,
         "locked": false
        },
        {
         "code": ">>> query_1c, result_1c_df = grading_util.load_results(\"result_1c\")\n>>> len(str(result_1c_df.iloc[0, 1])) == 122\nTrue",
         "hidden": false,
         "locked": false
        }
       ],
       "scored": true,
       "setup": "",
       "teardown": "",
       "type": "doctest"
      }
     ]
    },
    "q2a": {
     "name": "q2a",
     "points": 3,
     "suites": [
      {
       "cases": [
        {
         "code": ">>> query_2a, result_2a_df = grading_util.load_results(\"result_2a\")\n>>> result_2a_df.shape == (100, 6)\nTrue",
         "hidden": false,
         "locked": false
        },
        {
         "code": ">>> query_2a, result_2a_df = grading_util.load_results(\"result_2a\")\n>>> result_2a_df.iloc[:50]['median'].sum() == 35684.7\nTrue",
         "hidden": false,
         "locked": false
        },
        {
         "code": ">>> query_2a, result_2a_df = grading_util.load_results(\"result_2a\")\n>>> np.isclose(result_2a_df.iloc[:50]['mad'].sum(), 806.3000000000022)\nTrue",
         "hidden": false,
         "locked": false
        }
       ],
       "scored": true,
       "setup": "",
       "teardown": "",
       "type": "doctest"
      }
     ]
    },
    "q2b": {
     "name": "q2b",
     "points": 1,
     "suites": [
      {
       "cases": [
        {
         "code": ">>> query_2b, result_2b_df = grading_util.load_results(\"result_2b\")\n>>> result_2b_df.shape == (100, 7)\nTrue",
         "hidden": false,
         "locked": false
        },
        {
         "code": ">>> query_2b, result_2b_df = grading_util.load_results(\"result_2b\")\n>>> np.isclose(result_2b_df.iloc[:50, -1].sum(), 39270.961140000014)\nTrue",
         "hidden": false,
         "locked": false
        }
       ],
       "scored": true,
       "setup": "",
       "teardown": "",
       "type": "doctest"
      }
     ]
    },
    "q3b": {
     "name": "q3b",
     "points": 1,
     "suites": [
      {
       "cases": [
        {
         "code": ">>> query_3b, result_3b_df = grading_util.load_results(\"result_3b\")\n>>> 0 <= result_3b_df.iloc[0, 0] <= 50\nTrue",
         "hidden": false,
         "locked": false
        },
        {
         "code": ">>> query_3b, result_3b_df = grading_util.load_results(\"result_3b\")\n>>> 0 <= result_3b_df.iloc[0, 1] <= 50\nTrue",
         "hidden": false,
         "locked": false
        }
       ],
       "scored": true,
       "setup": "",
       "teardown": "",
       "type": "doctest"
      }
     ]
    },
    "q3c": {
     "name": "q3c",
     "points": 1,
     "suites": [
      {
       "cases": [
        {
         "code": ">>> query_3c, result_3c_df = grading_util.load_results(\"result_3c\")\n>>> result_3c_df.iloc[0, 0] in [True, False]\nTrue",
         "hidden": false,
         "locked": false
        },
        {
         "code": ">>> query_3c, result_3c_df = grading_util.load_results(\"result_3c\")\n>>> result_3c_df.shape == (1, 1)\nTrue",
         "hidden": false,
         "locked": false
        }
       ],
       "scored": true,
       "setup": "",
       "teardown": "",
       "type": "doctest"
      }
     ]
    },
    "q3e": {
     "name": "q3e",
     "points": 2,
     "suites": [
      {
       "cases": [
        {
         "code": ">>> query_3e, result_3e_df = grading_util.load_results(\"result_3e\")\n>>> result_3e_df.sort_values(['clean_location', 'building_name', 'address']).shape == (5276, 4)\nTrue",
         "hidden": false,
         "locked": false
        },
        {
         "code": ">>> query_3e, result_3e_df = grading_util.load_results(\"result_3e\")\n>>> result_3e_df.sort_values(['clean_location', 'building_name', 'address'])['clean_location'].iloc[-1] == 'SYSTEMWIDE'\nTrue",
         "hidden": false,
         "locked": false
        },
        {
         "code": ">>> query_3e, result_3e_df = grading_util.load_results(\"result_3e\")\n>>> result_3e_df.sort_values(['clean_location', 'building_name', 'address'])['clean_location'].iloc[600] == 'BERKELEY'\nTrue",
         "hidden": false,
         "locked": false
        }
       ],
       "scored": true,
       "setup": "",
       "teardown": "",
       "type": "doctest"
      }
     ]
    },
    "q4a": {
     "name": "q4a",
     "points": 2,
     "suites": [
      {
       "cases": [
        {
         "code": ">>> query_4a, result_4a_df = grading_util.load_results(\"result_4a\")\n>>> result_4a_df.shape == (10, 6)\nTrue",
         "hidden": false,
         "locked": false
        },
        {
         "code": ">>> query_4a, result_4a_df = grading_util.load_results(\"result_4a\")\n>>> result_4a_df.iloc[:5]['lagvalue'].sum() == 593.052\nTrue",
         "hidden": false,
         "locked": false
        }
       ],
       "scored": true,
       "setup": "",
       "teardown": "",
       "type": "doctest"
      }
     ]
    },
    "q4b": {
     "name": "q4b",
     "points": 2,
     "suites": [
      {
       "cases": [
        {
         "code": ">>> query_4b, result_4b_df = grading_util.load_results(\"result_4b\")\n>>> result_4b_df.shape == (100, 3)\nTrue",
         "hidden": false,
         "locked": false
        },
        {
         "code": ">>> query_4b, result_4b_df = grading_util.load_results(\"result_4b\")\n>>> result_4b_df.iloc[:50]['value'].sum() == 3254484.79\nTrue",
         "hidden": false,
         "locked": false
        }
       ],
       "scored": true,
       "setup": "",
       "teardown": "",
       "type": "doctest"
      }
     ]
    },
    "q4c": {
     "name": "q4c",
     "points": 3,
     "suites": [
      {
       "cases": [
        {
         "code": ">>> query_4c, result_4c_df = grading_util.load_results(\"result_4c\")\n>>> result_4c_df.shape == (100, 10)\nTrue",
         "hidden": false,
         "locked": false
        },
        {
         "code": ">>> query_4c, result_4c_df = grading_util.load_results(\"result_4c\")\n>>> np.isclose(result_4c_df.iloc[:50]['interpolated'].sum(), 195.94525) or np.isclose(result_4c_df.iloc[:50]['interpolated'].sum(), 369.7514880904479)\nTrue",
         "hidden": false,
         "locked": false
        }
       ],
       "scored": true,
       "setup": "",
       "teardown": "",
       "type": "doctest"
      }
     ]
    },
    "q5a": {
     "name": "q5a",
     "points": 1,
     "suites": [
      {
       "cases": [
        {
         "code": ">>> query_5a, result_5a_df = grading_util.load_results(\"result_5a\")\n>>> result_5a_df.iloc[0, 0] in [True, False]\nTrue",
         "hidden": false,
         "locked": false
        }
       ],
       "scored": true,
       "setup": "",
       "teardown": "",
       "type": "doctest"
      }
     ]
    },
    "q5b": {
     "name": "q5b",
     "points": 1,
     "suites": [
      {
       "cases": [
        {
         "code": ">>> query_5b, result_5b_df = grading_util.load_results(\"result_5b\")\n>>> result_5b_df.iloc[0, 0] in [True, False]\nTrue",
         "hidden": false,
         "locked": false
        }
       ],
       "scored": true,
       "setup": "",
       "teardown": "",
       "type": "doctest"
      }
     ]
    },
    "q5c": {
     "name": "q5c",
     "points": 3,
     "suites": [
      {
       "cases": [
        {
         "code": ">>> query_5c, result_5c_df = grading_util.load_results(\"result_5c\")\n>>> result_5c_df.shape == (2, 2)\nTrue",
         "hidden": false,
         "locked": false
        },
        {
         "code": ">>> query_5c, result_5c_df = grading_util.load_results(\"result_5c\")\n>>> 0 <= result_5c_df.iloc[0, 1] <= 100\nTrue",
         "hidden": false,
         "locked": false
        },
        {
         "code": ">>> query_5c, result_5c_df = grading_util.load_results(\"result_5c\")\n>>> 3000 <= result_5c_df.iloc[1, 1] <= 4000\nTrue",
         "hidden": false,
         "locked": false
        }
       ],
       "scored": true,
       "setup": "",
       "teardown": "",
       "type": "doctest"
      }
     ]
    }
   }
  }
 },
 "nbformat": 4,
 "nbformat_minor": 4
}
